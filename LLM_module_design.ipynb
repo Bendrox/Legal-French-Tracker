{
 "cells": [
  {
   "cell_type": "code",
   "execution_count": 1,
   "metadata": {},
   "outputs": [
    {
     "ename": "ModuleNotFoundError",
     "evalue": "No module named 'credentials'",
     "output_type": "error",
     "traceback": [
      "\u001b[0;31m---------------------------------------------------------------------------\u001b[0m",
      "\u001b[0;31mModuleNotFoundError\u001b[0m                       Traceback (most recent call last)",
      "Cell \u001b[0;32mIn[1], line 3\u001b[0m\n\u001b[1;32m      1\u001b[0m \u001b[38;5;28;01mimport\u001b[39;00m \u001b[38;5;21;01mgetpass\u001b[39;00m\n\u001b[1;32m      2\u001b[0m \u001b[38;5;28;01mimport\u001b[39;00m \u001b[38;5;21;01mos\u001b[39;00m\n\u001b[0;32m----> 3\u001b[0m \u001b[38;5;28;01mfrom\u001b[39;00m \u001b[38;5;21;01mcredentials\u001b[39;00m \u001b[38;5;28;01mimport\u001b[39;00m \u001b[38;5;241m*\u001b[39m\n",
      "\u001b[0;31mModuleNotFoundError\u001b[0m: No module named 'credentials'"
     ]
    }
   ],
   "source": [
    "import getpass\n",
    "import os\n",
    "from credentials import *"
   ]
  },
  {
   "cell_type": "code",
   "execution_count": 44,
   "metadata": {},
   "outputs": [],
   "source": [
    "from langchain_openai import AzureChatOpenAI\n",
    "\n",
    "llm = AzureChatOpenAI(\n",
    "    azure_endpoint= Azure_OpenAI_OB_Endpoint ,\n",
    "    openai_api_version=\"2024-02-15-preview\",\n",
    "    model_name=\"gpt-4o\",\n",
    "    openai_api_key= Azure_OpenAI_OB_Key,\n",
    "    openai_api_type=\"azure\",\n",
    "    temperature=0,\n",
    "    deployment_name=\"gpt-4o-deploy\",\n",
    "    #streaming=True,\n",
    ")"
   ]
  },
  {
   "cell_type": "markdown",
   "metadata": {},
   "source": [
    "## 1 - Test"
   ]
  },
  {
   "cell_type": "code",
   "execution_count": 59,
   "metadata": {},
   "outputs": [],
   "source": [
    "from langchain_core.prompts import ChatPromptTemplate\n",
    "\n",
    "prompt = ChatPromptTemplate.from_messages(\n",
    "    [(\"system\",\n",
    "            \"\"\"Tu es un avocat et analyste juridique très expérimenté, tu as pour but d'analyser et commenter les changements \n",
    "            réglementaires de chaque article , tu trouveras ici l'ancienne et la nouvelle version de l'article que l on te donne. \n",
    "            Tu adopteras un language juridique précis. \n",
    "            Pour avoir du contexte , sache que ce texte est extrait du {code}\"\"\"),\n",
    "        (\"human\", \n",
    "            \"Voici l'ancienne version de l'article a analyser {old_version} et voici la nouvelle version du meme article {new_version}\")]\n",
    ")"
   ]
  },
  {
   "cell_type": "code",
   "execution_count": 57,
   "metadata": {},
   "outputs": [],
   "source": [
    "from langchain_core.output_parsers import StrOutputParser\n",
    "chain = prompt | llm | StrOutputParser()\n",
    "\n",
    "contenu_ancien = \"Les établissements de crédit, les sociétés de financement, les établissements de monnaie électronique qui fournissent des services de paiement, les établissements de paiement, les intermédiaires en opérations de banque et en services de paiement, les intermédiaires en financement participatif, les prestataires de services de financement participatif dans le cadre de leurs activités de facilitation d'octroi de prêts, les entreprises d'assurance dans le cadre de leur activité de prêts et les sociétés de gestion mentionnées au premier alinéa de l'article L. 519-2 qui recourent aux services d'intermédiaires en opérations de banque et en services de paiement doivent s'assurer que ceux-ci sont immatriculés conformément à l'article L. 519-3-1 . Les établissements de crédit, les sociétés de financement, les établissements de monnaie électronique qui fournissent des services de paiement, les établissements de paiement, les intermédiaires en financement participatif, les prestataires de services de financement participatif dans le cadre de leurs activités de facilitation d'octroi de prêts, les entreprises d'assurance dans le cadre de leur activité de prêts et les sociétés de gestion mentionnées au premier alinéa de l'article L. 519-2 qui recourent à des intermédiaires ressortissants d'un Etat membre de l'Union européenne ou d'un Etat partie à l'accord sur l'Espace économique européen autre que la France et exerçant sur le territoire français en régime de libre prestation de services ou de libre établissement s'assurent auprès de l'organisme qui tient le registre prévu au I de l'article L. 512-1 du code des assurances que ceux-ci ont effectué les formalités requises à l'article L. 519-9 du présent code.\"\n",
    "contenu_nouveau = \"Les établissements de crédit, les sociétés de financement, les établissements de monnaie électronique qui fournissent des services de paiement, les établissements de paiement, les intermédiaires en opérations de banque et en services de paiement, les intermédiaires en financement participatif, les entreprises d'assurance dans le cadre de leur activité de prêts et les sociétés de gestion mentionnées au premier alinéa de l'article L. 519-2 qui recourent aux services d'intermédiaires en opérations de banque et en services de paiement doivent s'assurer que ceux-ci sont immatriculés conformément à l'article L. 519-3-1 . Les établissements de crédit, les sociétés de financement, les établissements de monnaie électronique qui fournissent des services de paiement, les établissements de paiement, les intermédiaires en financement participatif, les entreprises d'assurance dans le cadre de leur activité de prêts et les sociétés de gestion mentionnées au premier alinéa de l'article L. 519-2 qui recourent à des intermédiaires ressortissants d'un Etat membre de l'Union européenne ou d'un Etat partie à l'accord sur l'Espace économique européen autre que la France et exerçant sur le territoire français en régime de libre prestation de services ou de libre établissement s'assurent auprès de l'organisme qui tient le registre prévu au I de l'article L. 512-1 du code des assurances que ceux-ci ont effectué les formalités requises à l'article L. 519-9 du présent code.\"\n",
    "llm_output = chain.invoke(\n",
    "    {\n",
    "        \"code\": \"Code monétaire et financier\",\n",
    "        \"old_version\": contenu_ancien,\n",
    "        \"new_version\": contenu_nouveau,\n",
    "        \"input\": \"I love programming.\",\n",
    "    }\n",
    ")"
   ]
  },
  {
   "cell_type": "code",
   "execution_count": 58,
   "metadata": {},
   "outputs": [
    {
     "name": "stdout",
     "output_type": "stream",
     "text": [
      "L'analyse des modifications apportées à l'article en question du Code monétaire et financier révèle une suppression notable. \n",
      "\n",
      "**Ancienne version :**\n",
      "L'ancienne version de l'article incluait les \"prestataires de services de financement participatif dans le cadre de leurs activités de facilitation d'octroi de prêts\" parmi les entités qui doivent s'assurer que les intermédiaires en opérations de banque et en services de paiement sont immatriculés conformément à l'article L. 519-3-1. De plus, cette catégorie était également mentionnée dans le contexte des intermédiaires ressortissants d'un État membre de l'Union européenne ou d'un État partie à l'accord sur l'Espace économique européen exerçant en France en régime de libre prestation de services ou de libre établissement.\n",
      "\n",
      "**Nouvelle version :**\n",
      "Dans la nouvelle version de l'article, la mention des \"prestataires de services de financement participatif dans le cadre de leurs activités de facilitation d'octroi de prêts\" a été supprimée. Ainsi, ces prestataires ne sont plus explicitement inclus dans les entités qui doivent vérifier l'immatriculation des intermédiaires en opérations de banque et en services de paiement, ni dans celles qui doivent s'assurer que les intermédiaires ressortissants d'un autre État membre de l'UE ou de l'EEE ont effectué les formalités requises.\n",
      "\n",
      "**Commentaire juridique :**\n",
      "La suppression de la mention des \"prestataires de services de financement participatif dans le cadre de leurs activités de facilitation d'octroi de prêts\" pourrait indiquer une volonté de simplification ou de clarification du cadre réglementaire applicable. Il est possible que ces prestataires soient désormais régis par des dispositions spécifiques distinctes, ou que leur inclusion dans cette liste ait été jugée redondante ou inappropriée.\n",
      "\n",
      "Cette modification pourrait également refléter une évolution dans la manière dont les autorités de régulation perçoivent le rôle et les obligations des prestataires de services de financement participatif. En l'absence de cette mention, il est crucial pour les entités concernées de vérifier si des dispositions spécifiques ont été introduites ailleurs dans le Code monétaire et financier ou dans d'autres textes réglementaires pour encadrer les obligations de ces prestataires.\n",
      "\n",
      "En conclusion, cette modification réduit la portée de l'article en excluant une catégorie spécifique de prestataires, ce qui pourrait avoir des implications sur les obligations de vérification et de conformité pour les établissements de crédit, les sociétés de financement, et autres entités mentionnées. Il est recommandé aux parties prenantes de consulter les textes réglementaires pertinents pour s'assurer de leur conformité avec les nouvelles exigences légales.\n"
     ]
    }
   ],
   "source": [
    "print(llm_output)"
   ]
  },
  {
   "cell_type": "markdown",
   "metadata": {},
   "source": [
    "## 2 - Function"
   ]
  },
  {
   "cell_type": "code",
   "execution_count": 64,
   "metadata": {},
   "outputs": [],
   "source": [
    "from langchain_core.prompts import ChatPromptTemplate\n",
    "from langchain_core.output_parsers import StrOutputParser\n",
    "\n",
    "def llm_legal_change_com(code, old_version, new_version): # \"Code monétaire et financier\"\n",
    "    \n",
    "\n",
    "    prompt = ChatPromptTemplate.from_messages([(\"system\",\n",
    "            \"\"\"Tu es un avocat et analyste juridique très expérimenté, tu as pour but d'analyser et commenter les changements \n",
    "            réglementaires de chaque article , tu trouveras ici l'ancienne et la nouvelle version de l'article que l on te donne. \n",
    "            Tu adopteras un language juridique précis. Tu n'inventeras rien et tu te baseras uniquement sur les données fournies\n",
    "            Pour avoir du contexte , sache que ce texte est extrait du {code}\"\"\"),\n",
    "        (\"human\", \n",
    "            \"Voici l'ancienne version de l'article a analyser {old_version} et voici la nouvelle version du meme article {new_version}\")])\n",
    "    \n",
    "    chain = prompt | llm | StrOutputParser()\n",
    "    \n",
    "    llm_output = chain.invoke({\n",
    "        \"code\": code,\n",
    "        \"old_version\": old_version,\n",
    "        \"new_version\": new_version})\n",
    "    \n",
    "    return print(llm_output)"
   ]
  },
  {
   "cell_type": "code",
   "execution_count": 65,
   "metadata": {},
   "outputs": [
    {
     "name": "stdout",
     "output_type": "stream",
     "text": [
      "L'analyse comparative des deux versions de l'article révèle une modification notable. La nouvelle version de l'article a supprimé une catégorie spécifique d'acteurs économiques, à savoir les \"prestataires de services de financement participatif dans le cadre de leurs activités de facilitation d'octroi de prêts\". \n",
      "\n",
      "Dans l'ancienne version, ces prestataires étaient explicitement mentionnés à deux reprises : \n",
      "1. Dans la liste des entités qui doivent s'assurer que les intermédiaires en opérations de banque et en services de paiement sont immatriculés conformément à l'article L. 519-3-1.\n",
      "2. Dans la liste des entités qui doivent s'assurer que les intermédiaires ressortissants d'un État membre de l'Union européenne ou d'un État partie à l'accord sur l'Espace économique européen ont effectué les formalités requises à l'article L. 519-9 du présent code.\n",
      "\n",
      "La suppression de cette catégorie dans la nouvelle version de l'article signifie que les prestataires de services de financement participatif dans le cadre de leurs activités de facilitation d'octroi de prêts ne sont plus soumis aux obligations de vérification d'immatriculation et de formalités requises par les articles L. 519-3-1 et L. 519-9 respectivement.\n",
      "\n",
      "Cette modification pourrait avoir plusieurs implications :\n",
      "1. **Réduction des obligations de conformité** : Les prestataires de services de financement participatif dans le cadre de leurs activités de facilitation d'octroi de prêts ne sont plus tenus de vérifier l'immatriculation des intermédiaires en opérations de banque et en services de paiement, ce qui pourrait alléger leurs obligations administratives et de conformité.\n",
      "2. **Impact sur la supervision et la régulation** : La suppression de cette obligation pourrait potentiellement affecter la supervision et la régulation de ces prestataires, en réduisant le contrôle exercé sur les intermédiaires avec lesquels ils collaborent.\n",
      "3. **Harmonisation réglementaire** : Cette modification pourrait être une tentative d'harmoniser les obligations réglementaires entre différents types d'acteurs économiques, en supprimant une exigence spécifique pour les prestataires de services de financement participatif.\n",
      "\n",
      "En conclusion, la nouvelle version de l'article simplifie les obligations de certains acteurs en matière de vérification d'immatriculation et de formalités, en excluant spécifiquement les prestataires de services de financement participatif dans le cadre de leurs activités de facilitation d'octroi de prêts. Cette modification pourrait avoir des répercussions sur la charge administrative de ces prestataires ainsi que sur le cadre de régulation et de supervision applicable.\n"
     ]
    }
   ],
   "source": [
    "llm_legal_change_com(\"Code monétaire et financier\", contenu_ancien, contenu_nouveau)"
   ]
  }
 ],
 "metadata": {
  "kernelspec": {
   "display_name": "Python 3.13.1 (env)",
   "language": "python",
   "name": "mon-env"
  },
  "language_info": {
   "codemirror_mode": {
    "name": "ipython",
    "version": 3
   },
   "file_extension": ".py",
   "mimetype": "text/x-python",
   "name": "python",
   "nbconvert_exporter": "python",
   "pygments_lexer": "ipython3",
   "version": "3.13.1"
  }
 },
 "nbformat": 4,
 "nbformat_minor": 2
}
