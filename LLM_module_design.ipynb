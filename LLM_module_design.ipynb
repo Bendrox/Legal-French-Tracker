{
 "cells": [
  {
   "cell_type": "code",
   "execution_count": 38,
   "metadata": {},
   "outputs": [],
   "source": [
    "import getpass\n",
    "import os\n",
    "from credentials import *"
   ]
  },
  {
   "cell_type": "code",
   "execution_count": 39,
   "metadata": {},
   "outputs": [],
   "source": [
    "from langchain_openai import AzureChatOpenAI\n",
    "\n",
    "llm = AzureChatOpenAI(\n",
    "    azure_endpoint= Azure_OpenAI_OB_Endpoint ,\n",
    "    openai_api_version=\"2024-02-15-preview\",\n",
    "    model_name=\"gpt-4o\",\n",
    "    openai_api_key= Azure_OpenAI_OB_Key,\n",
    "    openai_api_type=\"azure\",\n",
    "    temperature=0,\n",
    "    deployment_name=\"gpt-4o-deploy\",\n",
    "    #streaming=True,\n",
    ")"
   ]
  },
  {
   "cell_type": "markdown",
   "metadata": {},
   "source": [
    "## 1 - Test"
   ]
  },
  {
   "cell_type": "code",
   "execution_count": 40,
   "metadata": {},
   "outputs": [],
   "source": [
    "from langchain_core.prompts import ChatPromptTemplate\n",
    "\n",
    "prompt = ChatPromptTemplate.from_messages(\n",
    "    [(\"system\",\n",
    "            \"\"\"Tu es un avocat et analyste juridique très expérimenté, tu as pour but d'analyser et commenter les changements \n",
    "            réglementaires de chaque article , tu trouveras ici l'ancienne et la nouvelle version de l'article que l on te donne. \n",
    "            Tu adopteras un language juridique précis. \n",
    "            Pour avoir du contexte , sache que ce texte est extrait du {code}\"\"\"),\n",
    "        (\"human\", \n",
    "            \"Voici l'ancienne version de l'article a analyser {old_version} et voici la nouvelle version du meme article {new_version}\")]\n",
    ")"
   ]
  },
  {
   "cell_type": "code",
   "execution_count": 41,
   "metadata": {},
   "outputs": [],
   "source": [
    "from langchain_core.output_parsers import StrOutputParser\n",
    "chain = prompt | llm | StrOutputParser()\n",
    "\n",
    "contenu_ancien = \"Les établissements de crédit, les sociétés de financement, les établissements de monnaie électronique qui fournissent des services de paiement, les établissements de paiement, les intermédiaires en opérations de banque et en services de paiement, les intermédiaires en financement participatif, les prestataires de services de financement participatif dans le cadre de leurs activités de facilitation d'octroi de prêts, les entreprises d'assurance dans le cadre de leur activité de prêts et les sociétés de gestion mentionnées au premier alinéa de l'article L. 519-2 qui recourent aux services d'intermédiaires en opérations de banque et en services de paiement doivent s'assurer que ceux-ci sont immatriculés conformément à l'article L. 519-3-1 . Les établissements de crédit, les sociétés de financement, les établissements de monnaie électronique qui fournissent des services de paiement, les établissements de paiement, les intermédiaires en financement participatif, les prestataires de services de financement participatif dans le cadre de leurs activités de facilitation d'octroi de prêts, les entreprises d'assurance dans le cadre de leur activité de prêts et les sociétés de gestion mentionnées au premier alinéa de l'article L. 519-2 qui recourent à des intermédiaires ressortissants d'un Etat membre de l'Union européenne ou d'un Etat partie à l'accord sur l'Espace économique européen autre que la France et exerçant sur le territoire français en régime de libre prestation de services ou de libre établissement s'assurent auprès de l'organisme qui tient le registre prévu au I de l'article L. 512-1 du code des assurances que ceux-ci ont effectué les formalités requises à l'article L. 519-9 du présent code.\"\n",
    "contenu_nouveau = \"Les établissements de crédit, les sociétés de financement, les établissements de monnaie électronique qui fournissent des services de paiement, les établissements de paiement, les intermédiaires en opérations de banque et en services de paiement, les intermédiaires en financement participatif, les entreprises d'assurance dans le cadre de leur activité de prêts et les sociétés de gestion mentionnées au premier alinéa de l'article L. 519-2 qui recourent aux services d'intermédiaires en opérations de banque et en services de paiement doivent s'assurer que ceux-ci sont immatriculés conformément à l'article L. 519-3-1 . Les établissements de crédit, les sociétés de financement, les établissements de monnaie électronique qui fournissent des services de paiement, les établissements de paiement, les intermédiaires en financement participatif, les entreprises d'assurance dans le cadre de leur activité de prêts et les sociétés de gestion mentionnées au premier alinéa de l'article L. 519-2 qui recourent à des intermédiaires ressortissants d'un Etat membre de l'Union européenne ou d'un Etat partie à l'accord sur l'Espace économique européen autre que la France et exerçant sur le territoire français en régime de libre prestation de services ou de libre établissement s'assurent auprès de l'organisme qui tient le registre prévu au I de l'article L. 512-1 du code des assurances que ceux-ci ont effectué les formalités requises à l'article L. 519-9 du présent code.\"\n",
    "llm_output = chain.invoke(\n",
    "    {\n",
    "        \"code\": \"Code monétaire et financier\",\n",
    "        \"old_version\": contenu_ancien,\n",
    "        \"new_version\": contenu_nouveau,\n",
    "        \"input\": \"I love programming.\",\n",
    "    }\n",
    ")"
   ]
  },
  {
   "cell_type": "code",
   "execution_count": 42,
   "metadata": {},
   "outputs": [
    {
     "name": "stdout",
     "output_type": "stream",
     "text": [
      "L'analyse des modifications apportées à l'article du Code monétaire et financier révèle une suppression notable. En effet, la nouvelle version de l'article a éliminé toute mention des \"prestataires de services de financement participatif dans le cadre de leurs activités de facilitation d'octroi de prêts\". \n",
      "\n",
      "### Ancienne Version\n",
      "L'ancienne version de l'article incluait explicitement les \"prestataires de services de financement participatif dans le cadre de leurs activités de facilitation d'octroi de prêts\" parmi les entités qui doivent s'assurer que les intermédiaires en opérations de banque et en services de paiement sont immatriculés conformément à l'article L. 519-3-1. De plus, ces prestataires étaient également mentionnés dans le contexte des intermédiaires ressortissants d'un État membre de l'Union européenne ou d'un État partie à l'accord sur l'Espace économique européen exerçant en France en régime de libre prestation de services ou de libre établissement.\n",
      "\n",
      "### Nouvelle Version\n",
      "La nouvelle version de l'article a supprimé toute référence aux \"prestataires de services de financement participatif dans le cadre de leurs activités de facilitation d'octroi de prêts\". Par conséquent, ces prestataires ne sont plus explicitement tenus de vérifier l'immatriculation des intermédiaires en opérations de banque et en services de paiement conformément à l'article L. 519-3-1, ni de s'assurer que les intermédiaires ressortissants d'un autre État membre de l'UE ou de l'EEE ont effectué les formalités requises à l'article L. 519-9.\n",
      "\n",
      "### Commentaire Juridique\n",
      "La suppression de cette catégorie de prestataires pourrait avoir plusieurs implications. D'une part, cela pourrait simplifier les obligations de vérification pour les autres entités mentionnées, en réduisant le nombre de catégories de prestataires soumis à ces exigences. D'autre part, cela pourrait soulever des questions sur la régulation et la supervision des activités de financement participatif, notamment en ce qui concerne la protection des consommateurs et la prévention des risques financiers.\n",
      "\n",
      "Il est également possible que cette modification reflète une évolution dans la manière dont les activités de financement participatif sont réglementées, peut-être en raison de nouvelles législations ou de changements dans les pratiques du marché. Il serait pertinent de vérifier si des dispositions spécifiques ont été introduites ailleurs dans le Code monétaire et financier ou dans d'autres textes législatifs pour encadrer ces activités.\n",
      "\n",
      "En conclusion, la modification de cet article semble viser à clarifier et potentiellement à alléger les obligations de certaines entités en matière de vérification de l'immatriculation des intermédiaires, tout en soulevant des questions sur la régulation des prestataires de services de financement participatif.\n"
     ]
    }
   ],
   "source": [
    "print(llm_output)"
   ]
  },
  {
   "cell_type": "markdown",
   "metadata": {},
   "source": [
    "## 2 - Function"
   ]
  },
  {
   "cell_type": "code",
   "execution_count": 87,
   "metadata": {},
   "outputs": [],
   "source": [
    "from langchain_core.prompts import ChatPromptTemplate\n",
    "from langchain_core.output_parsers import StrOutputParser\n",
    "\n",
    "def llm_legal_change_com_v1(old_version, new_version): # \"Code monétaire et financier\"\n",
    "    \n",
    "\n",
    "    prompt = ChatPromptTemplate.from_messages([(\"system\",\n",
    "            \"\"\"Tu es un avocat et analyste juridique très expérimenté, tu as pour but d'analyser et commenter les changements \n",
    "            réglementaires de chaque article , tu trouveras ici l'ancienne et la nouvelle version de l'article que l on te donne. \n",
    "            Tu adopteras un language juridique précis. Tu n'inventeras rien et tu te baseras uniquement sur les données fournies.\n",
    "            Inutile de reciter les textes fournis, tu ne retourneras que ton analyse.\n",
    "            \"\"\"),\n",
    "        (\"human\", \n",
    "            \"Voici l'ancienne version de l'article a analyser {old_version} et voici la nouvelle version du meme article {new_version}\")])\n",
    "    \n",
    "    chain = prompt | llm | StrOutputParser()\n",
    "    \n",
    "    llm_output = chain.invoke({\n",
    "        \"old_version\": old_version,\n",
    "        \"new_version\": new_version})\n",
    "    \n",
    "    return llm_output"
   ]
  },
  {
   "cell_type": "code",
   "execution_count": 88,
   "metadata": {},
   "outputs": [
    {
     "data": {
      "text/plain": [
       "'L\\'analyse des modifications apportées à l\\'article révèle une suppression notable. Dans la nouvelle version de l\\'article, les \"prestataires de services de financement participatif dans le cadre de leurs activités de facilitation d\\'octroi de prêts\" ont été omis. \\n\\nCette suppression peut avoir plusieurs implications réglementaires et pratiques :\\n\\n1. **Réduction du champ d\\'application** : La nouvelle version de l\\'article réduit le champ d\\'application en excluant explicitement les prestataires de services de financement participatif dans le cadre de leurs activités de facilitation d\\'octroi de prêts. Cela pourrait signifier que ces prestataires ne sont plus soumis aux mêmes obligations de vérification d\\'immatriculation que les autres entités mentionnées.\\n\\n2. **Simplification réglementaire** : En retirant cette catégorie spécifique, le législateur pourrait viser une simplification des obligations réglementaires pour les établissements de crédit, sociétés de financement, et autres entités mentionnées. Cela pourrait alléger les procédures administratives et de conformité pour ces entités.\\n\\n3. **Impact sur les prestataires de services de financement participatif** : Les prestataires de services de financement participatif pourraient désormais être soumis à un régime différent ou à des obligations distinctes, ce qui nécessiterait une analyse plus approfondie des autres dispositions légales et réglementaires qui leur sont applicables.\\n\\n4. **Clarté et précision** : La suppression de cette catégorie pourrait également viser à clarifier et à préciser les obligations des entités mentionnées, en évitant toute ambiguïté sur les types de prestataires concernés par les exigences d\\'immatriculation.\\n\\nEn conclusion, la modification principale apportée à l\\'article consiste en la suppression des \"prestataires de services de financement participatif dans le cadre de leurs activités de facilitation d\\'octroi de prêts\" des entités soumises aux obligations de vérification d\\'immatriculation. Cette modification pourrait avoir des implications significatives en termes de champ d\\'application, simplification réglementaire, et clarté des obligations.'"
      ]
     },
     "execution_count": 88,
     "metadata": {},
     "output_type": "execute_result"
    }
   ],
   "source": [
    "llm_legal_change_com_v1(contenu_ancien, contenu_nouveau)"
   ]
  },
  {
   "cell_type": "markdown",
   "metadata": {},
   "source": [
    "## 3 - Data prep"
   ]
  },
  {
   "cell_type": "code",
   "execution_count": 46,
   "metadata": {},
   "outputs": [],
   "source": [
    "import pandas as pd\n",
    "AML5_modifs= pd.read_excel(\"/Users/oussa/Desktop/Github_perso/3 - Legal FR Tracker/data_output/Output_AML_5.xlsx\")"
   ]
  },
  {
   "cell_type": "code",
   "execution_count": 48,
   "metadata": {},
   "outputs": [],
   "source": [
    "# Filter on AML text\n",
    "AML5_modifs =  AML5_modifs[AML5_modifs['Titre Article Modificateur'].str.contains(\"n°2020-1544\")| AML5_modifs['Titre Article Modificateur'].str.contains(\"n°2020-115\") ]"
   ]
  },
  {
   "cell_type": "code",
   "execution_count": 54,
   "metadata": {},
   "outputs": [
    {
     "data": {
      "text/plain": [
       "array(['Ordonnance n°2020-1544 du 9 décembre 2020 - art. 1',\n",
       "       'Ordonnance n°2020-1544 du 9 décembre 2020 - art. 2',\n",
       "       'Ordonnance n°2020-1544 du 9 décembre 2020 - art. 3',\n",
       "       'Ordonnance n°2020-1544 du 9 décembre 2020 - art. 4',\n",
       "       'Ordonnance n°2020-1544 du 9 décembre 2020 - art. 7',\n",
       "       'Ordonnance n°2020-1544 du 9 décembre 2020 - art. 8',\n",
       "       'Ordonnance n°2020-1544 du 9 décembre 2020 - art. 9',\n",
       "       'Ordonnance n°2020-1544 du 9 décembre 2020 - art. 10',\n",
       "       'Ordonnance n°2020-115 du 12 février 2020 - art. 1',\n",
       "       'Ordonnance n°2020-115 du 12 février 2020 - art. 2',\n",
       "       'Ordonnance n°2020-115 du 12 février 2020 - art. 3',\n",
       "       'Ordonnance n°2020-115 du 12 février 2020 - art. 4',\n",
       "       'Ordonnance n°2020-115 du 12 février 2020 - art. 5',\n",
       "       'Ordonnance n°2020-115 du 12 février 2020 - art. 6',\n",
       "       'Ordonnance n°2020-115 du 12 février 2020 - art. 7',\n",
       "       'Ordonnance n°2020-115 du 12 février 2020 - art. 8',\n",
       "       'Ordonnance n°2020-115 du 12 février 2020 - art. 9',\n",
       "       'Ordonnance n°2020-115 du 12 février 2020 - art. 10',\n",
       "       'Ordonnance n°2020-115 du 12 février 2020 - art. 11',\n",
       "       'Ordonnance n°2020-115 du 12 février 2020 - art. 17'], dtype=object)"
      ]
     },
     "execution_count": 54,
     "metadata": {},
     "output_type": "execute_result"
    }
   ],
   "source": [
    "#check results\n",
    "AML5_modifs['Titre Article Modificateur'].unique()"
   ]
  },
  {
   "cell_type": "code",
   "execution_count": 49,
   "metadata": {},
   "outputs": [
    {
     "data": {
      "text/plain": [
       "array(['OK change'], dtype=object)"
      ]
     },
     "execution_count": 49,
     "metadata": {},
     "output_type": "execute_result"
    }
   ],
   "source": [
    "# Keep only changed articles in their content\n",
    "AML5_modifs = AML5_modifs[AML5_modifs['Compare contenu'] ==\"OK change\"]\n",
    "AML5_modifs['Compare contenu'].unique()"
   ]
  },
  {
   "cell_type": "code",
   "execution_count": 50,
   "metadata": {},
   "outputs": [],
   "source": [
    "# Delete KO in Old and new articles\n",
    "AML5_modifs = AML5_modifs[~AML5_modifs['Contenu_Ancien_Article'].str.contains(\"KO\", na=False)]\n",
    "AML5_modifs = AML5_modifs[~AML5_modifs['Contenu_Nouv_Vers_Article'].str.contains(\"KO\", na=False)]"
   ]
  },
  {
   "cell_type": "code",
   "execution_count": 56,
   "metadata": {},
   "outputs": [
    {
     "data": {
      "text/plain": [
       "54"
      ]
     },
     "execution_count": 56,
     "metadata": {},
     "output_type": "execute_result"
    }
   ],
   "source": [
    "len(AML5_modifs)"
   ]
  },
  {
   "cell_type": "markdown",
   "metadata": {},
   "source": [
    "## 5 - Apply\n"
   ]
  },
  {
   "cell_type": "code",
   "execution_count": null,
   "metadata": {},
   "outputs": [],
   "source": [
    "#   AML5_modifs\n",
    "#   llm_legal_change_com()"
   ]
  },
  {
   "cell_type": "code",
   "execution_count": 67,
   "metadata": {},
   "outputs": [],
   "source": [
    "AML5_modifs_select = AML5_modifs.iloc[:10]"
   ]
  },
  {
   "cell_type": "code",
   "execution_count": 84,
   "metadata": {},
   "outputs": [],
   "source": [
    "AML5_modifs_select['LLM_Change_Analysis_1'] = AML5_modifs_select.apply(\n",
    "    lambda row: llm_legal_change_com_v1(row['Contenu_Ancien_Article'], row['Contenu_Nouv_Vers_Article']), \n",
    "    axis=1\n",
    ")"
   ]
  },
  {
   "cell_type": "code",
   "execution_count": 86,
   "metadata": {},
   "outputs": [],
   "source": [
    "AML5_modifs_select.to_excel(\"output_llm_change_analysis.xlsx\")"
   ]
  }
 ],
 "metadata": {
  "kernelspec": {
   "display_name": "Python 3.13.1 (env)",
   "language": "python",
   "name": "mon-env"
  },
  "language_info": {
   "codemirror_mode": {
    "name": "ipython",
    "version": 3
   },
   "file_extension": ".py",
   "mimetype": "text/x-python",
   "name": "python",
   "nbconvert_exporter": "python",
   "pygments_lexer": "ipython3",
   "version": "3.13.1"
  }
 },
 "nbformat": 4,
 "nbformat_minor": 2
}
