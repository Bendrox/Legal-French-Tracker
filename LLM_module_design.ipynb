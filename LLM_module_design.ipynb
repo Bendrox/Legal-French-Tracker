{
 "cells": [
  {
   "cell_type": "code",
   "execution_count": 3,
   "metadata": {},
   "outputs": [],
   "source": [
    "import getpass\n",
    "import os\n",
    "from credentials import *"
   ]
  },
  {
   "cell_type": "code",
   "execution_count": 4,
   "metadata": {},
   "outputs": [],
   "source": [
    "from langchain_openai import AzureChatOpenAI\n",
    "\n",
    "llm = AzureChatOpenAI(\n",
    "    azure_endpoint= Azure_OpenAI_OB_Endpoint ,\n",
    "    openai_api_version=\"2024-02-15-preview\",\n",
    "    model_name=\"gpt-4o\",\n",
    "    openai_api_key= Azure_OpenAI_OB_Key,\n",
    "    openai_api_type=\"azure\",\n",
    "    temperature=0,\n",
    "    deployment_name=\"gpt-4o-deploy\",\n",
    "    #streaming=True,\n",
    ")"
   ]
  },
  {
   "cell_type": "markdown",
   "metadata": {},
   "source": [
    "## 1 - Test"
   ]
  },
  {
   "cell_type": "code",
   "execution_count": 5,
   "metadata": {},
   "outputs": [],
   "source": [
    "from langchain_core.prompts import ChatPromptTemplate\n",
    "\n",
    "prompt = ChatPromptTemplate.from_messages(\n",
    "    [(\"system\",\n",
    "            \"\"\"Tu es un avocat et analyste juridique très expérimenté, tu as pour but d'analyser et commenter les changements \n",
    "            réglementaires de chaque article , tu trouveras ici l'ancienne et la nouvelle version de l'article que l on te donne. \n",
    "            Tu adopteras un language juridique précis. \n",
    "            Pour avoir du contexte , sache que ce texte est extrait du {code}\"\"\"),\n",
    "        (\"human\", \n",
    "            \"Voici l'ancienne version de l'article a analyser {old_version} et voici la nouvelle version du meme article {new_version}\")]\n",
    ")"
   ]
  },
  {
   "cell_type": "code",
   "execution_count": 6,
   "metadata": {},
   "outputs": [],
   "source": [
    "from langchain_core.output_parsers import StrOutputParser\n",
    "chain = prompt | llm | StrOutputParser()\n",
    "\n",
    "contenu_ancien = \"Les établissements de crédit, les sociétés de financement, les établissements de monnaie électronique qui fournissent des services de paiement, les établissements de paiement, les intermédiaires en opérations de banque et en services de paiement, les intermédiaires en financement participatif, les prestataires de services de financement participatif dans le cadre de leurs activités de facilitation d'octroi de prêts, les entreprises d'assurance dans le cadre de leur activité de prêts et les sociétés de gestion mentionnées au premier alinéa de l'article L. 519-2 qui recourent aux services d'intermédiaires en opérations de banque et en services de paiement doivent s'assurer que ceux-ci sont immatriculés conformément à l'article L. 519-3-1 . Les établissements de crédit, les sociétés de financement, les établissements de monnaie électronique qui fournissent des services de paiement, les établissements de paiement, les intermédiaires en financement participatif, les prestataires de services de financement participatif dans le cadre de leurs activités de facilitation d'octroi de prêts, les entreprises d'assurance dans le cadre de leur activité de prêts et les sociétés de gestion mentionnées au premier alinéa de l'article L. 519-2 qui recourent à des intermédiaires ressortissants d'un Etat membre de l'Union européenne ou d'un Etat partie à l'accord sur l'Espace économique européen autre que la France et exerçant sur le territoire français en régime de libre prestation de services ou de libre établissement s'assurent auprès de l'organisme qui tient le registre prévu au I de l'article L. 512-1 du code des assurances que ceux-ci ont effectué les formalités requises à l'article L. 519-9 du présent code.\"\n",
    "contenu_nouveau = \"Les établissements de crédit, les sociétés de financement, les établissements de monnaie électronique qui fournissent des services de paiement, les établissements de paiement, les intermédiaires en opérations de banque et en services de paiement, les intermédiaires en financement participatif, les entreprises d'assurance dans le cadre de leur activité de prêts et les sociétés de gestion mentionnées au premier alinéa de l'article L. 519-2 qui recourent aux services d'intermédiaires en opérations de banque et en services de paiement doivent s'assurer que ceux-ci sont immatriculés conformément à l'article L. 519-3-1 . Les établissements de crédit, les sociétés de financement, les établissements de monnaie électronique qui fournissent des services de paiement, les établissements de paiement, les intermédiaires en financement participatif, les entreprises d'assurance dans le cadre de leur activité de prêts et les sociétés de gestion mentionnées au premier alinéa de l'article L. 519-2 qui recourent à des intermédiaires ressortissants d'un Etat membre de l'Union européenne ou d'un Etat partie à l'accord sur l'Espace économique européen autre que la France et exerçant sur le territoire français en régime de libre prestation de services ou de libre établissement s'assurent auprès de l'organisme qui tient le registre prévu au I de l'article L. 512-1 du code des assurances que ceux-ci ont effectué les formalités requises à l'article L. 519-9 du présent code.\"\n",
    "llm_output = chain.invoke(\n",
    "    {\n",
    "        \"code\": \"Code monétaire et financier\",\n",
    "        \"old_version\": contenu_ancien,\n",
    "        \"new_version\": contenu_nouveau,\n",
    "        \"input\": \"I love programming.\",\n",
    "    }\n",
    ")"
   ]
  },
  {
   "cell_type": "code",
   "execution_count": 7,
   "metadata": {},
   "outputs": [
    {
     "name": "stdout",
     "output_type": "stream",
     "text": [
      "L'analyse des modifications apportées à l'article en question du Code monétaire et financier révèle une suppression notable. \n",
      "\n",
      "**Ancienne version :**\n",
      "L'ancienne version de l'article incluait les \"prestataires de services de financement participatif dans le cadre de leurs activités de facilitation d'octroi de prêts\" parmi les entités qui doivent s'assurer que les intermédiaires en opérations de banque et en services de paiement sont immatriculés conformément à l'article L. 519-3-1. De plus, cette catégorie était également mentionnée dans le contexte des intermédiaires ressortissants d'un État membre de l'Union européenne ou d'un État partie à l'accord sur l'Espace économique européen exerçant en France en régime de libre prestation de services ou de libre établissement.\n",
      "\n",
      "**Nouvelle version :**\n",
      "Dans la nouvelle version de l'article, la mention des \"prestataires de services de financement participatif dans le cadre de leurs activités de facilitation d'octroi de prêts\" a été supprimée. Ainsi, ces prestataires ne sont plus explicitement inclus dans les entités qui doivent vérifier l'immatriculation des intermédiaires en opérations de banque et en services de paiement, ni dans celles qui doivent s'assurer que les intermédiaires ressortissants d'un autre État membre de l'UE ou de l'EEE ont effectué les formalités requises.\n",
      "\n",
      "**Commentaire juridique :**\n",
      "La suppression de la mention des \"prestataires de services de financement participatif dans le cadre de leurs activités de facilitation d'octroi de prêts\" pourrait indiquer une volonté de simplification ou de clarification du cadre réglementaire applicable. Il est possible que ces prestataires soient désormais régis par des dispositions spécifiques distinctes ou que leur inclusion dans cet article ait été jugée redondante ou inappropriée.\n",
      "\n",
      "Cette modification pourrait également refléter une évolution dans la manière dont les activités de financement participatif sont encadrées, potentiellement en réponse à des évolutions du marché ou à des retours d'expérience sur l'application de la réglementation précédente.\n",
      "\n",
      "En conclusion, la nouvelle version de l'article allège le texte en supprimant une catégorie spécifique de prestataires, ce qui pourrait avoir des implications sur la manière dont ces entités doivent se conformer aux exigences d'immatriculation et de vérification des formalités. Il serait pertinent de vérifier si des dispositions spécifiques ont été introduites ailleurs dans le Code monétaire et financier pour ces prestataires de services de financement participatif.\n"
     ]
    }
   ],
   "source": [
    "print(llm_output)"
   ]
  },
  {
   "cell_type": "markdown",
   "metadata": {},
   "source": [
    "## 2 - Function"
   ]
  },
  {
   "cell_type": "code",
   "execution_count": 8,
   "metadata": {},
   "outputs": [],
   "source": [
    "from langchain_core.prompts import ChatPromptTemplate\n",
    "from langchain_core.output_parsers import StrOutputParser"
   ]
  },
  {
   "cell_type": "code",
   "execution_count": 9,
   "metadata": {},
   "outputs": [],
   "source": [
    "def llm_legal_change_com_v1(old_version, new_version): \n",
    "    prompt = ChatPromptTemplate.from_messages([(\"system\",\n",
    "            \"\"\"\n",
    "            Tu es un avocat et analyste juridique très expérimenté, tu as pour but d'analyser et de commenter les changements \n",
    "            réglementaires de chaque article , tu trouveras ici l'ancienne et la nouvelle version de l'article que l on te donne. \n",
    "            Tu adopteras un language juridique précis. Tu n'inventeras rien et tu te baseras uniquement sur les données fournies.\n",
    "            Si tu ne sais pas ou tu ne comprends pas , dis le. \n",
    "            Inutile de reciter les textes fournis, tu ne retourneras que ton analyse.\n",
    "            \"\"\"),\n",
    "        (\"human\", \n",
    "            \"Voici l'ancienne version de l'article a analyser {old_version} et voici la nouvelle version du meme article {new_version}\")])\n",
    "    \n",
    "    chain = prompt | llm | StrOutputParser()\n",
    "    \n",
    "    llm_output = chain.invoke({\n",
    "        \"old_version\": old_version,\n",
    "        \"new_version\": new_version})\n",
    "    \n",
    "    return llm_output"
   ]
  },
  {
   "cell_type": "code",
   "execution_count": 10,
   "metadata": {},
   "outputs": [],
   "source": [
    "# Amélioration prompt avec o1\n",
    "def llm_legal_change_com_v2(old_version, new_version): \n",
    "    prompt = ChatPromptTemplate.from_messages([(\"system\",                                  \n",
    "        \"\"\"\n",
    "\tTu es un avocat et analyste juridique très expérimenté. \n",
    "    Ta mission consiste à examiner et commenter les évolutions réglementaires d’un article de loi en comparant sa version \n",
    "    antérieure avec sa version révisée.\n",
    "\n",
    "\tConsignes :\n",
    "\t1.\tUtilise un langage juridique précis.\n",
    "\t2.\tBase-toi uniquement sur les informations fournies, sans inventer ni extrapoler.\n",
    "\t3.\tSi tu ne comprends pas un point ou si les informations sont insuffisantes, signale-le clairement.\n",
    "\t4.\tNe récite pas le texte en intégralité : concentre-toi sur l’analyse et la comparaison.\n",
    "\n",
    "\tContenu à analyser :\n",
    "\t•\tAncienne version : {old_version}\n",
    "\t•\tNouvelle version : {new_version}\n",
    "\n",
    "\tObjectif :\n",
    "    Produis un commentaire juridique concis, en mettant en évidence les principaux changements, leur portée et leurs éventuelles conséquences. N’inclus dans ta réponse que l’analyse finale.\n",
    "\n",
    "            \"\"\")])\n",
    "    \n",
    "    chain = prompt | llm | StrOutputParser()\n",
    "    \n",
    "    llm_output = chain.invoke({\n",
    "        \"old_version\": old_version,\n",
    "        \"new_version\": new_version})\n",
    "    \n",
    "    return llm_output"
   ]
  },
  {
   "cell_type": "code",
   "execution_count": 11,
   "metadata": {},
   "outputs": [],
   "source": [
    "# Amélioration prompt avec o1 + intération\n",
    "def llm_legal_change_com_v3(old_version, new_version): \n",
    "    prompt = ChatPromptTemplate.from_messages([(\"system\",                                  \n",
    "        \"\"\"\n",
    "\tTu es un avocat et analyste juridique très expérimenté. \n",
    " \tTa mission consiste à examiner et commenter les évolutions réglementaires  \n",
    "  \td’un article de loi en comparant sa version antérieure avec sa version révisée.\n",
    "\n",
    "\tConsignes :\n",
    "\t1.\tUtilise un langage juridique précis.\n",
    "\t2.\tBase-toi uniquement sur les informations fournies, sans inventer ni extrapoler.\n",
    "\t3.\tSi tu ne comprends pas un point ou si les informations sont insuffisantes, signale-le clairement.\n",
    "\t4.\tNe récite pas le texte en intégralité: concentre-toi sur l’analyse et la comparaison.\n",
    "\n",
    "\tContenu à analyser :\n",
    "\t\t•\tAncienne version : {old_version}\n",
    "\t\t•\tNouvelle version : {new_version}\n",
    "\n",
    "\tObjectif :\n",
    " \t\tProduis un commentaire juridique concis, en mettant en évidence les principaux changements, leur portée et leurs éventuelles conséquences. \n",
    "\t\tN’inclus dans ta réponse que l’analyse finale.\n",
    "            \"\"\")])\n",
    "    \n",
    "    chain = prompt | llm | StrOutputParser()\n",
    "    \n",
    "    llm_output = chain.invoke({\n",
    "        \"old_version\": old_version,\n",
    "        \"new_version\": new_version})\n",
    "    \n",
    "    return llm_output"
   ]
  },
  {
   "cell_type": "markdown",
   "metadata": {},
   "source": [
    "## 3 - Data prep"
   ]
  },
  {
   "cell_type": "code",
   "execution_count": 12,
   "metadata": {},
   "outputs": [],
   "source": [
    "import pandas as pd\n",
    "AML5_modifs= pd.read_excel(\"/Users/oussa/Desktop/Github_perso/3 - Legal FR Tracker/data_output/Output_AML_5.xlsx\")"
   ]
  },
  {
   "cell_type": "code",
   "execution_count": 13,
   "metadata": {},
   "outputs": [],
   "source": [
    "# Filter on AML text\n",
    "AML5_modifs =  AML5_modifs[AML5_modifs['Titre Article Modificateur'].str.contains(\"n°2020-1544\")| AML5_modifs['Titre Article Modificateur'].str.contains(\"n°2020-115\") ]"
   ]
  },
  {
   "cell_type": "code",
   "execution_count": 14,
   "metadata": {},
   "outputs": [
    {
     "data": {
      "text/plain": [
       "array(['Ordonnance n°2020-1544 du 9 décembre 2020 - art. 1',\n",
       "       'Ordonnance n°2020-1544 du 9 décembre 2020 - art. 2',\n",
       "       'Ordonnance n°2020-1544 du 9 décembre 2020 - art. 3',\n",
       "       'Ordonnance n°2020-1544 du 9 décembre 2020 - art. 4',\n",
       "       'Ordonnance n°2020-1544 du 9 décembre 2020 - art. 5',\n",
       "       'Ordonnance n°2020-1544 du 9 décembre 2020 - art. 6',\n",
       "       'Ordonnance n°2020-1544 du 9 décembre 2020 - art. 7',\n",
       "       'Ordonnance n°2020-1544 du 9 décembre 2020 - art. 8',\n",
       "       'Ordonnance n°2020-1544 du 9 décembre 2020 - art. 9',\n",
       "       'Ordonnance n°2020-1544 du 9 décembre 2020 - art. 10',\n",
       "       'Ordonnance n°2020-1544 du 9 décembre 2020 - art. 11',\n",
       "       'Ordonnance n°2020-115 du 12 février 2020 - art. 1',\n",
       "       'Ordonnance n°2020-115 du 12 février 2020 - art. 2',\n",
       "       'Ordonnance n°2020-115 du 12 février 2020 - art. 3',\n",
       "       'Ordonnance n°2020-115 du 12 février 2020 - art. 4',\n",
       "       'Ordonnance n°2020-115 du 12 février 2020 - art. 5',\n",
       "       'Ordonnance n°2020-115 du 12 février 2020 - art. 6',\n",
       "       'Ordonnance n°2020-115 du 12 février 2020 - art. 7',\n",
       "       'Ordonnance n°2020-115 du 12 février 2020 - art. 8',\n",
       "       'Ordonnance n°2020-115 du 12 février 2020 - art. 9',\n",
       "       'Ordonnance n°2020-115 du 12 février 2020 - art. 10',\n",
       "       'Ordonnance n°2020-115 du 12 février 2020 - art. 11',\n",
       "       'Ordonnance n°2020-115 du 12 février 2020 - art. 17',\n",
       "       'Ordonnance n°2020-115 du 12 février 2020 - art. 18 (M)'],\n",
       "      dtype=object)"
      ]
     },
     "execution_count": 14,
     "metadata": {},
     "output_type": "execute_result"
    }
   ],
   "source": [
    "#check results\n",
    "AML5_modifs['Titre Article Modificateur'].unique()"
   ]
  },
  {
   "cell_type": "code",
   "execution_count": 15,
   "metadata": {},
   "outputs": [
    {
     "data": {
      "text/plain": [
       "array(['OK change'], dtype=object)"
      ]
     },
     "execution_count": 15,
     "metadata": {},
     "output_type": "execute_result"
    }
   ],
   "source": [
    "# Keep only changed articles in their content\n",
    "AML5_modifs = AML5_modifs[AML5_modifs['Compare contenu'] ==\"OK change\"]\n",
    "AML5_modifs['Compare contenu'].unique()"
   ]
  },
  {
   "cell_type": "code",
   "execution_count": 16,
   "metadata": {},
   "outputs": [],
   "source": [
    "# Delete KO in Old and new articles\n",
    "AML5_modifs = AML5_modifs[~AML5_modifs['Contenu_Ancien_Article'].str.contains(\"KO\", na=False)]\n",
    "AML5_modifs = AML5_modifs[~AML5_modifs['Contenu_Nouv_Vers_Article'].str.contains(\"KO\", na=False)]"
   ]
  },
  {
   "cell_type": "code",
   "execution_count": 17,
   "metadata": {},
   "outputs": [
    {
     "data": {
      "text/plain": [
       "54"
      ]
     },
     "execution_count": 17,
     "metadata": {},
     "output_type": "execute_result"
    }
   ],
   "source": [
    "len(AML5_modifs)"
   ]
  },
  {
   "cell_type": "markdown",
   "metadata": {},
   "source": [
    "## 4 - Apply function for each row"
   ]
  },
  {
   "cell_type": "code",
   "execution_count": 18,
   "metadata": {},
   "outputs": [],
   "source": [
    "#   AML5_modifs\n",
    "#   llm_legal_change_com()"
   ]
  },
  {
   "cell_type": "code",
   "execution_count": 19,
   "metadata": {},
   "outputs": [],
   "source": [
    "AML5_modifs_select = AML5_modifs.iloc[:10]"
   ]
  },
  {
   "cell_type": "markdown",
   "metadata": {},
   "source": [
    "### 4.1 - Application fonction 1"
   ]
  },
  {
   "cell_type": "code",
   "execution_count": 20,
   "metadata": {},
   "outputs": [
    {
     "name": "stderr",
     "output_type": "stream",
     "text": [
      "/var/folders/ty/2g_hgfks4nl_84mz496fmn600000gn/T/ipykernel_68977/819962179.py:1: SettingWithCopyWarning: \n",
      "A value is trying to be set on a copy of a slice from a DataFrame.\n",
      "Try using .loc[row_indexer,col_indexer] = value instead\n",
      "\n",
      "See the caveats in the documentation: https://pandas.pydata.org/pandas-docs/stable/user_guide/indexing.html#returning-a-view-versus-a-copy\n",
      "  AML5_modifs_select['LLM_Change_Analysis_1'] = AML5_modifs_select.apply(\n"
     ]
    }
   ],
   "source": [
    "AML5_modifs_select['LLM_Change_Analysis_1'] = AML5_modifs_select.apply(\n",
    "    lambda row: llm_legal_change_com_v1(row['Contenu_Ancien_Article'], row['Contenu_Nouv_Vers_Article']), \n",
    "    axis=1)"
   ]
  },
  {
   "cell_type": "code",
   "execution_count": 21,
   "metadata": {},
   "outputs": [],
   "source": [
    "AML5_modifs_select.to_excel(\"data_output_ipynb/output_llm_change_analysis_v1.xlsx\")"
   ]
  },
  {
   "cell_type": "markdown",
   "metadata": {},
   "source": [
    "### 4.2 - Application fonction 2"
   ]
  },
  {
   "cell_type": "code",
   "execution_count": 22,
   "metadata": {},
   "outputs": [
    {
     "name": "stderr",
     "output_type": "stream",
     "text": [
      "/var/folders/ty/2g_hgfks4nl_84mz496fmn600000gn/T/ipykernel_68977/2587971769.py:1: SettingWithCopyWarning: \n",
      "A value is trying to be set on a copy of a slice from a DataFrame.\n",
      "Try using .loc[row_indexer,col_indexer] = value instead\n",
      "\n",
      "See the caveats in the documentation: https://pandas.pydata.org/pandas-docs/stable/user_guide/indexing.html#returning-a-view-versus-a-copy\n",
      "  AML5_modifs_select['LLM_Change_Analysis_2'] = AML5_modifs_select.apply(\n"
     ]
    }
   ],
   "source": [
    "AML5_modifs_select['LLM_Change_Analysis_2'] = AML5_modifs_select.apply( \n",
    "        lambda row: llm_legal_change_com_v2(row['Contenu_Ancien_Article'], row['Contenu_Nouv_Vers_Article']), axis=1 ) "
   ]
  },
  {
   "cell_type": "code",
   "execution_count": 23,
   "metadata": {},
   "outputs": [],
   "source": [
    "AML5_modifs_select.to_excel(\"data_output_ipynb/output_llm_change_analysis_v2.xlsx\")"
   ]
  },
  {
   "cell_type": "markdown",
   "metadata": {},
   "source": [
    "### 4.3 - Application fonction 3"
   ]
  },
  {
   "cell_type": "code",
   "execution_count": 24,
   "metadata": {},
   "outputs": [
    {
     "name": "stderr",
     "output_type": "stream",
     "text": [
      "/var/folders/ty/2g_hgfks4nl_84mz496fmn600000gn/T/ipykernel_68977/2334415541.py:1: SettingWithCopyWarning: \n",
      "A value is trying to be set on a copy of a slice from a DataFrame.\n",
      "Try using .loc[row_indexer,col_indexer] = value instead\n",
      "\n",
      "See the caveats in the documentation: https://pandas.pydata.org/pandas-docs/stable/user_guide/indexing.html#returning-a-view-versus-a-copy\n",
      "  AML5_modifs_select['LLM_Change_Analysis_3'] = AML5_modifs_select.apply(\n"
     ]
    }
   ],
   "source": [
    "AML5_modifs_select['LLM_Change_Analysis_3'] = AML5_modifs_select.apply( \n",
    "        lambda row: llm_legal_change_com_v3(row['Contenu_Ancien_Article'], row['Contenu_Nouv_Vers_Article']), axis=1 ) "
   ]
  },
  {
   "cell_type": "code",
   "execution_count": 25,
   "metadata": {},
   "outputs": [],
   "source": [
    "AML5_modifs_select.to_excel(\"data_output_ipynb/output_llm_change_analysis_v3.xlsx\")"
   ]
  },
  {
   "cell_type": "markdown",
   "metadata": {},
   "source": [
    "## 5 - Summarize"
   ]
  },
  {
   "cell_type": "code",
   "execution_count": 30,
   "metadata": {},
   "outputs": [],
   "source": [
    "all_llm_analysis = AML5_modifs_select['LLM_Change_Analysis_3'] "
   ]
  },
  {
   "cell_type": "code",
   "execution_count": 31,
   "metadata": {},
   "outputs": [],
   "source": [
    "all_llm_analysis = all_llm_analysis.to_string()"
   ]
  },
  {
   "cell_type": "code",
   "execution_count": 43,
   "metadata": {},
   "outputs": [],
   "source": [
    "text_variable = AML5_modifs_select['LLM_Change_Analysis_3'].str.cat()"
   ]
  },
  {
   "cell_type": "code",
   "execution_count": 44,
   "metadata": {},
   "outputs": [
    {
     "data": {
      "text/plain": [
       "'L\\'analyse des modifications apportées à l\\'article de loi révèle plusieurs changements significatifs entre l\\'ancienne et la nouvelle version. Voici les principaux points de comparaison et leurs implications :\\n\\n1. **Suppression de certaines obligations spécifiques** :\\n   - La nouvelle version a supprimé plusieurs obligations détaillées qui étaient imposées aux prestataires de services, notamment celles relatives à la sécurité et au contrôle interne, à la gestion des conflits d\\'intérêts, et à la résilience et sécurité des systèmes informatiques. Ces obligations étaient énumérées dans les points 5° et 6° de l\\'ancienne version.\\n   - La suppression de ces obligations pourrait alléger la charge administrative et opérationnelle des prestataires, mais elle pourrait également réduire le niveau de protection et de sécurité offert aux clients.\\n\\n2. **Simplification des exigences de conformité** :\\n   - La nouvelle version a également supprimé les exigences détaillées concernant la conclusion de conventions avec les clients, la politique de conservation, la restitution des actifs numériques, la ségrégation des détentions, et l\\'usage des actifs numériques ou des clés cryptographiques. Ces exigences étaient spécifiées dans le point 6° de l\\'ancienne version.\\n   - Cette simplification pourrait faciliter l\\'entrée sur le marché pour les nouveaux prestataires, mais elle pourrait aussi diminuer la transparence et la sécurité des transactions pour les clients.\\n\\n3. **Maintien des vérifications essentielles par l\\'AMF** :\\n   - Les vérifications par l\\'Autorité des marchés financiers (AMF) concernant l\\'honorabilité et la compétence des dirigeants, la gestion saine et prudente, et la conformité aux obligations de lutte contre le blanchiment des capitaux et le financement du terrorisme sont maintenues dans la nouvelle version.\\n   - Cela assure que les prestataires continuent de respecter des standards élevés en matière de gouvernance et de conformité, malgré la simplification des autres obligations.\\n\\n4. **Clarification des conditions de radiation** :\\n   - Les conditions de radiation des prestataires par l\\'AMF sont restées inchangées, mais la nouvelle version a supprimé la mention de la suspension d\\'enregistrement en cas de menace grave et imminente pour la stabilité du marché des actifs numériques.\\n   - Cette suppression pourrait limiter la capacité de l\\'AMF à intervenir rapidement en cas de risques systémiques, ce qui pourrait avoir des implications pour la stabilité du marché.\\n\\n5. **Maintien de la coopération entre l\\'AMF et l\\'ACPR** :\\n   - La nouvelle version continue de prévoir la coopération entre l\\'AMF et l\\'Autorité de contrôle prudentiel et de résolution (ACPR) pour l\\'enregistrement des prestataires, ce qui est crucial pour une supervision efficace et coordonnée du secteur.\\n\\nEn conclusion, les modifications apportées à l\\'article de loi semblent viser une simplification des obligations imposées aux prestataires de services, ce qui pourrait encourager l\\'innovation et l\\'entrée de nouveaux acteurs sur le marché. Cependant, cette simplification pourrait également réduire certaines garanties de sécurité et de transparence pour les clients. Il sera important de surveiller l\\'impact de ces changements sur la stabilité et la confiance dans le marché des actifs numériques.La comparaison entre l\\'ancienne et la nouvelle version de l\\'article de loi révèle plusieurs modifications notables.\\n\\n1. **Réduction de la portée réglementaire** :\\n   - **Ancienne version** : La réglementation s\\'appliquait aux prestataires de services mentionnés aux 1° à 4° de l\\'article L. 54-10-2 ainsi qu\\'aux services sur crypto-actifs au sens du règlement (UE) 2023/1114.\\n   - **Nouvelle version** : La référence aux services sur crypto-actifs au sens du règlement (UE) 2023/1114 a été supprimée. Désormais, la réglementation ne s\\'applique qu\\'aux prestataires de services mentionnés aux 1° à 4° de l\\'article L. 54-10-2.\\n\\n2. **Simplification des exigences d\\'enregistrement** :\\n   - **Ancienne version** : Les prestataires devaient être enregistrés par l\\'Autorité des marchés financiers ou autorisés à fournir des services sur crypto-actifs conformément à l\\'article 59 du règlement (UE) 2023/1114.\\n   - **Nouvelle version** : La mention de l\\'autorisation conformément à l\\'article 59 du règlement (UE) 2023/1114 a été supprimée. Désormais, seule l\\'enregistrement par l\\'Autorité des marchés financiers est requis.\\n\\n3. **Clarification des interdictions** :\\n   - **Ancienne version** : Il était interdit à toute personne non enregistrée ou autorisée d\\'utiliser des dénominations ou procédés laissant croire qu\\'elle était enregistrée ou autorisée.\\n   - **Nouvelle version** : L\\'interdiction est spécifiquement dirigée contre les personnes n\\'ayant pas la qualité de prestataire des services mentionnés aux 1° et 4° de l\\'article L. 54-10-2, sans mention de l\\'autorisation.\\n\\n**Portée et conséquences** :\\n- **Portée** : La nouvelle version restreint le champ d\\'application de la réglementation en supprimant la référence aux services sur crypto-actifs définis par le règlement européen. Cela pourrait réduire la complexité réglementaire pour les prestataires de services sur crypto-actifs.\\n- **Conséquences** : La simplification des exigences d\\'enregistrement pourrait faciliter l\\'entrée sur le marché pour les nouveaux prestataires, tout en maintenant une certaine rigueur par l\\'obligation d\\'enregistrement auprès de l\\'Autorité des marchés financiers. Cependant, la suppression de la référence au règlement européen pourrait entraîner des divergences dans l\\'application des normes entre les juridictions nationales et européennes.\\n\\nEn conclusion, la révision de l\\'article de loi semble viser une simplification et une clarification des exigences pour les prestataires de services, tout en réduisant la portée de la réglementation aux seuls services mentionnés dans l\\'article L. 54-10-2.L\\'analyse des versions antérieure et révisée de l\\'article de loi révèle plusieurs modifications notables, principalement de nature technique et de précision, qui peuvent avoir des implications significatives pour les prestataires de services sur actifs numériques.\\n\\n1. **Autorité de vérification de la sécurité des systèmes d\\'information** :\\n   - **Ancienne version** : L\\'Autorité des marchés financiers (AMF) pouvait solliciter l\\'avis de l\\'autorité mentionnée à l\\'article L. 2321-1 du code de la défense.\\n   - **Nouvelle version** : L\\'AMF peut solliciter l\\'avis de l\\'autorité nationale en charge de la sécurité des systèmes d\\'information.\\n   - **Conséquence** : Cette modification clarifie et potentiellement élargit le champ des autorités compétentes pour la vérification de la sécurité des systèmes d\\'information, ce qui pourrait renforcer la rigueur des contrôles.\\n\\n2. **Seuil de détention de capital ou de droits de vote** :\\n   - **Ancienne version** : Les personnes physiques détenant plus de 10 % du capital ou des droits de vote du prestataire doivent justifier de leur honorabilité et compétence.\\n   - **Nouvelle version** : Ce seuil est porté à plus de 25 %.\\n   - **Conséquence** : Cette augmentation du seuil pourrait réduire le nombre de personnes soumises à cette exigence, simplifiant ainsi la gestion pour les prestataires tout en concentrant les obligations de justification sur les détenteurs de parts plus significatives.\\n\\n3. **Terminologie et précision linguistique** :\\n   - **Ancienne version** : Utilisation de termes comme \"l\\'autorité mentionnée à l\\'article L. 2321-1 du code de la défense\".\\n   - **Nouvelle version** : Utilisation de termes plus génériques et précis comme \"l\\'autorité nationale en charge de la sécurité des systèmes d\\'information\".\\n   - **Conséquence** : Cette modification améliore la clarté et la compréhension du texte, facilitant ainsi son application pratique.\\n\\n4. **Autres ajustements mineurs** :\\n   - Les autres sections de l\\'article restent largement inchangées, avec des ajustements mineurs de formulation qui n\\'affectent pas substantiellement les obligations des prestataires.\\n\\nEn conclusion, les modifications apportées à cet article de loi visent principalement à clarifier et à préciser certaines dispositions, tout en ajustant les seuils de détention de capital ou de droits de vote pour les obligations de justification. Ces changements devraient améliorer la clarté réglementaire et potentiellement alléger certaines obligations administratives pour les prestataires, tout en maintenant un cadre rigoureux pour la sécurité et la transparence des services sur actifs numériques.L\\'analyse des modifications apportées à l\\'article en question révèle un changement notable dans la portée des personnes concernées par l\\'interdiction de tenir des comptes ou livrets d\\'épargne anonymes. \\n\\nDans l\\'ancienne version, l\\'interdiction s\\'appliquait aux personnes mentionnées aux 1° à 7° de l\\'article L. 561-2. La nouvelle version étend cette interdiction aux personnes mentionnées aux 1° à 7° bis du même article. \\n\\nCe changement implique une extension du champ d\\'application de la réglementation. L\\'ajout du \"7° bis\" suggère que de nouvelles catégories de personnes ou entités ont été incluses dans l\\'article L. 561-2, ce qui pourrait être le résultat d\\'une révision législative visant à renforcer les mesures de lutte contre le blanchiment d\\'argent et le financement du terrorisme. \\n\\nLes conséquences de cette modification sont significatives : davantage de personnes ou entités sont désormais soumises à l\\'interdiction de tenir des comptes ou livrets d\\'épargne anonymes, ce qui pourrait améliorer la traçabilité des transactions financières et renforcer la transparence du système financier. \\n\\nCependant, sans le texte complet de l\\'article L. 561-2, il est difficile de déterminer précisément quelles nouvelles catégories sont concernées par cette extension. Il serait donc nécessaire de consulter l\\'article L. 561-2 dans sa version actuelle pour une analyse plus détaillée.La révision de l\\'article de loi en question introduit plusieurs modifications notables, principalement dans la section I et l\\'ajout d\\'une nouvelle section III.\\n\\n1. **Section I :**\\n   - **Extension des entités concernées :** La nouvelle version inclut les personnes mentionnées aux 1° à 7° bis et au 7° quater de l\\'article L. 561-2, alors que l\\'ancienne version se limitait aux 1° à 7°. Cette extension élargit le champ des entités soumises à l\\'obligation de déclaration.\\n   - **Suppression de certaines références spécifiques :** La nouvelle version omet les références détaillées aux compagnies financières holding, entreprises mères de sociétés de financement, etc., présentes dans l\\'ancienne version. Cela simplifie le texte mais pourrait réduire la clarté sur les entités spécifiques concernées.\\n\\n2. **Section II :**\\n   - **Maintien des dispositions :** Les dispositions de la section II restent globalement inchangées entre les deux versions. Elles continuent de régir les échanges d\\'informations au sein des réseaux ou structures d\\'exercice professionnel, avec les mêmes conditions de protection des données et de lutte contre le blanchiment et le financement du terrorisme.\\n\\n3. **Ajout de la Section III :**\\n   - **Nouvelle disposition :** La nouvelle version introduit une section III qui permet aux entreprises mères de groupes mentionnées au I de l\\'article L. 561-33 d\\'accéder aux informations relatives aux déclarations prévues à l\\'article L. 561-15. Cette disposition est conditionnée par l\\'établissement des entreprises mères dans des États membres de l\\'UE, de l\\'EEE ou des pays tiers imposant des obligations équivalentes.\\n   - **Conditions d\\'accès :** Les informations doivent être nécessaires pour la mise en œuvre des obligations prévues à l\\'article L. 561-33 ou des obligations équivalentes locales, et le traitement des informations doit garantir un niveau de protection suffisant des droits et libertés fondamentaux.\\n\\n**Portée et conséquences :**\\n- **Élargissement du champ d\\'application :** L\\'inclusion de nouvelles entités dans la section I et l\\'introduction de la section III élargissent le champ d\\'application de la loi, renforçant ainsi le cadre de lutte contre le blanchiment de capitaux et le financement du terrorisme.\\n- **Simplification et clarification :** La suppression de certaines références spécifiques dans la section I peut simplifier la compréhension du texte, bien que cela puisse également réduire la précision concernant les entités concernées.\\n- **Renforcement de la surveillance :** La nouvelle section III permet une meilleure surveillance et coordination au sein des groupes, en particulier pour les entreprises mères, ce qui pourrait améliorer l\\'efficacité des mesures de lutte contre le blanchiment et le financement du terrorisme.\\n\\nEn conclusion, les modifications apportées visent à renforcer et clarifier le cadre réglementaire, tout en élargissant le champ des entités soumises aux obligations de déclaration et en améliorant la coordination au sein des groupes.L\\'analyse des évolutions réglementaires entre l\\'ancienne et la nouvelle version de l\\'article de loi révèle plusieurs modifications significatives.\\n\\n1. **Changements dans les références législatives** :\\n   - **Ancienne version** : Les articles L. 54-10-1 à L. 54-10-5 et L. 572-23 à L. 572-26 sont applicables en Nouvelle-Calédonie selon la loi n° 2019-486 du 22 mai 2019.\\n   - **Nouvelle version** : Les articles L. 54-10-1 et L. 54-10-2 restent sous la loi n° 2019-486, mais les articles L. 54-10-3 à L. 54-10-5 sont désormais régis par l\\'ordonnance n° 2020-1544 du 9 décembre 2020. De même, l\\'article L. 572-24 est également soumis à cette ordonnance, tandis que les articles L. 572-23, L. 572-25 et L. 572-26 restent sous la loi n° 2019-486.\\n\\n2. **Adaptations spécifiques pour la Nouvelle-Calédonie** :\\n   - **Ancienne version** : Seule une adaptation est mentionnée, remplaçant \"la Banque de France\" par \"l\\'Institut d\\'émission d\\'outre-mer\" pour l\\'application du dernier alinéa de l\\'article L. 54-10-5.\\n   - **Nouvelle version** : Plusieurs adaptations sont introduites :\\n     1. Suppression de certaines mentions dans l\\'article L. 54-10-3 concernant l\\'Union européenne.\\n     2. Remplacement des références aux règlements européens par des références locales dans les articles L. 54-10-3 et L. 54-10-5.\\n     3. Substitution des références au code de commerce par des dispositions locales équivalentes pour les articles L. 54-10-3 et L. 54-10-5.\\n     4. Conversion des montants en euros en francs CFP pour l\\'article L. 572-23.\\n     5. Conversion des montants en euros en francs CFP pour l\\'article L. 572-26.\\n\\n**Portée et conséquences** :\\n- **Références législatives** : L\\'introduction de l\\'ordonnance n° 2020-1544 pour certains articles indique un renforcement du cadre de la lutte contre le blanchiment de capitaux et le financement du terrorisme, ce qui pourrait impliquer des obligations supplémentaires pour les acteurs concernés en Nouvelle-Calédonie.\\n- **Adaptations spécifiques** : Les nombreuses adaptations montrent une volonté d\\'harmoniser les dispositions législatives avec les réalités locales de la Nouvelle-Calédonie, notamment en matière de régulation financière et de conversion monétaire. Cela pourrait faciliter l\\'application des lois tout en respectant les spécificités économiques et juridiques locales.\\n\\nEn conclusion, les modifications apportées visent à actualiser et renforcer le cadre législatif applicable en Nouvelle-Calédonie, tout en assurant une meilleure adéquation avec les contextes locaux et les nouvelles exigences internationales en matière de lutte contre le blanchiment de capitaux et le financement du terrorisme.L\\'analyse des modifications apportées à l\\'article de loi révèle plusieurs ajustements notables entre l\\'ancienne et la nouvelle version. Voici les principaux changements, leur portée et leurs éventuelles conséquences :\\n\\n1. **Références aux textes législatifs et réglementaires** :\\n   - La nouvelle version a supprimé les références spécifiques à certaines lois et ordonnances, notamment celles résultant de la loi n° 2021-1308 du 8 octobre 2021 et de l\\'ordonnance n° 2021-958 du 19 juillet 2021. Cela simplifie la lecture et l\\'application de l\\'article en se concentrant sur les textes pertinents et actuels.\\n\\n2. **Applicabilité des articles** :\\n   - Les articles L. 561-2, L. 561-7, L. 561-14 et L. 561-20 sont désormais applicables dans leur rédaction résultant de l\\'ordonnance n° 2020-1544 du 9 décembre 2020. Cela uniformise les dispositions applicables en Nouvelle-Calédonie avec celles relatives aux actifs numériques, renforçant ainsi le cadre de lutte contre le blanchiment de capitaux et le financement du terrorisme.\\n\\n3. **Suppression de certaines dispositions** :\\n   - La suppression du point 7° du III, qui concernait l\\'application de l\\'article L. 561-31-2, indique une simplification ou une révision des adaptations locales nécessaires pour la Nouvelle-Calédonie. Cela pourrait réduire les complexités administratives et juridiques.\\n\\n4. **Adaptations locales** :\\n   - Les adaptations locales restent largement inchangées, avec des références aux autorités et organismes locaux compétents pour remplacer les entités métropolitaines. Cela assure que les dispositions légales sont pertinentes et applicables dans le contexte spécifique de la Nouvelle-Calédonie.\\n\\n5. **Références aux règlements européens** :\\n   - Les modifications consistent principalement en la suppression des références aux règlements européens et à certaines directives, ce qui reflète une adaptation aux réalités locales et une moindre dépendance aux textes européens. Cela pourrait avoir des implications sur la coopération internationale et l\\'alignement avec les standards européens.\\n\\n6. **Valeurs monétaires** :\\n   - Les valeurs monétaires exprimées en euros continuent d\\'être remplacées par leur contre-valeur en francs CFP, ce qui est une adaptation nécessaire pour la monnaie locale.\\n\\n7. **Transmissions d\\'informations fiscales** :\\n   - Les dispositions relatives à la transmission d\\'informations fiscales à l\\'administration fiscale de la Nouvelle-Calédonie et au procureur de la République restent inchangées, assurant ainsi la continuité dans la lutte contre la fraude fiscale.\\n\\nEn conclusion, les modifications apportées visent principalement à simplifier et à actualiser les références législatives et réglementaires, tout en maintenant les adaptations nécessaires pour la Nouvelle-Calédonie. Ces changements devraient faciliter l\\'application des dispositions légales locales tout en renforçant le cadre de lutte contre le blanchiment de capitaux et le financement du terrorisme.L\\'analyse des modifications apportées à l\\'article de loi révèle plusieurs ajustements notables entre l\\'ancienne et la nouvelle version. Voici les principaux changements, leur portée et leurs éventuelles conséquences :\\n\\n1. **Références législatives et ordonnances** :\\n   - La nouvelle version a supprimé les références spécifiques à certaines lois et ordonnances, notamment la loi n° 2021-1308 du 8 octobre 2021 et l\\'ordonnance n° 2021-958 du 19 juillet 2021. Cela simplifie la structure de l\\'article en réduisant les renvois à des textes législatifs spécifiques, ce qui peut faciliter la compréhension et l\\'application des dispositions.\\n\\n2. **Applicabilité des articles** :\\n   - Les articles L. 561-2, L. 561-7, L. 561-14 et L. 561-20 sont désormais applicables dans leur rédaction résultant de l\\'ordonnance n° 2020-1544 du 9 décembre 2020. Cela uniformise les références et pourrait indiquer une volonté de consolider les textes applicables en Polynésie française.\\n\\n3. **Suppression de certaines dispositions** :\\n   - Le point 7° du III a été supprimé dans la nouvelle version. Cette suppression pourrait indiquer une simplification ou une clarification des dispositions applicables, bien que l\\'impact exact de cette suppression ne soit pas immédiatement clair sans le contexte précis de ce point.\\n\\n4. **Adaptations locales** :\\n   - Les adaptations locales restent largement inchangées, mais la suppression de certaines références aux règlements européens et aux traités de l\\'Union européenne (notamment les articles 75 et 215 du traité sur le fonctionnement de l\\'Union européenne) pourrait indiquer une volonté de renforcer l\\'autonomie législative de la Polynésie française en matière de lutte contre le blanchiment de capitaux et le financement du terrorisme.\\n\\n5. **Valeurs monétaires** :\\n   - Les valeurs monétaires exprimées en euros continuent d\\'être remplacées par leur contre-valeur en francs CFP, ce qui est cohérent avec la nécessité d\\'adapter les montants aux réalités économiques locales.\\n\\n6. **Références aux autorités locales** :\\n   - Les références aux autorités locales exerçant le pouvoir de contrôle et de sanction sur certaines professions sont maintenues, ce qui souligne l\\'importance de l\\'adaptation des dispositions législatives aux structures locales de gouvernance.\\n\\nEn conclusion, les modifications apportées visent principalement à simplifier et à clarifier les dispositions applicables en Polynésie française, tout en renforçant l\\'autonomie locale. La suppression de certaines références législatives et la consolidation des textes applicables pourraient faciliter l\\'application de la loi et améliorer la lutte contre le blanchiment de capitaux et le financement du terrorisme dans ce territoire.L\\'analyse des évolutions réglementaires entre l\\'ancienne et la nouvelle version de l\\'article de loi applicable aux îles Wallis et Futuna révèle plusieurs modifications significatives.\\n\\n1. **Changements dans les références législatives** :\\n   - **Ancienne version** : Les articles L. 54-10-1 à L. 54-10-5 et L. 572-23 à L. 572-26 étaient tous issus de la loi n° 2019-486 du 22 mai 2019 relative à la croissance et la transformation des entreprises.\\n   - **Nouvelle version** : Les articles L. 54-10-1 et L. 54-10-2 restent issus de la loi n° 2019-486, mais les articles L. 54-10-3 à L. 54-10-5 sont désormais issus de l\\'ordonnance n° 2020-1544 du 9 décembre 2020, qui renforce le cadre de la lutte contre le blanchiment de capitaux et le financement du terrorisme applicable aux actifs numériques. De même, l\\'article L. 572-24 est maintenant issu de cette ordonnance, tandis que les articles L. 572-23, L. 572-25 et L. 572-26 restent issus de la loi n° 2019-486.\\n\\n2. **Modifications spécifiques pour l\\'application locale** :\\n   - **Ancienne version** : Seule une modification était prévue, remplaçant les mots \"la Banque de France\" par \"l\\'Institut d\\'émission d\\'outre-mer\" pour l\\'application du dernier alinéa de l\\'article L. 54-10-5.\\n   - **Nouvelle version** : Plusieurs modifications spécifiques sont introduites :\\n     - Pour l\\'article L. 54-10-3, suppression des mots \"ou dans un autre Etat membre de l\\'Union européenne ou partie à l\\'accord sur l\\'Espace économique européen\" et du sixième alinéa.\\n     - Pour les articles L. 54-10-3 et L. 54-10-5, remplacement des références aux règlements européens par une référence à l\\'article L. 713-16.\\n     - Pour l\\'article L. 572-23, les montants en euros sont convertis en francs CFP (15 000 euros deviennent 1 790 000 francs CFP et 30 000 euros deviennent 3 580 000 francs CFP).\\n     - Pour l\\'article L. 572-26, le montant de 7 500 euros est converti en 895 000 francs CFP.\\n\\n**Portée et conséquences** :\\n- **Références législatives** : L\\'introduction de l\\'ordonnance n° 2020-1544 pour certains articles indique une mise à jour du cadre législatif pour inclure des mesures plus récentes et spécifiques à la lutte contre le blanchiment de capitaux et le financement du terrorisme, ce qui reflète une adaptation aux évolutions réglementaires internationales.\\n- **Modifications spécifiques** : Les ajustements pour l\\'application locale, notamment les conversions monétaires en francs CFP, montrent une volonté d\\'adapter les dispositions législatives aux réalités économiques et monétaires des îles Wallis et Futuna. La suppression de certaines références à l\\'Union européenne et l\\'ajustement des références aux règlements européens indiquent une adaptation nécessaire pour un territoire non membre de l\\'UE.\\n\\nEn conclusion, ces modifications visent à actualiser et adapter le cadre législatif applicable aux îles Wallis et Futuna, en tenant compte des évolutions récentes en matière de régulation financière et de lutte contre le blanchiment de capitaux et le financement du terrorisme, tout en ajustant les dispositions aux spécificités locales.L\\'analyse des modifications apportées à l\\'article de loi révèle plusieurs ajustements notables, principalement dans la structure et les références législatives, sans toutefois altérer fondamentalement le cadre réglementaire existant.\\n\\n1. **Suppression de Références à des Lois Spécifiques**:\\n   - La nouvelle version omet les références spécifiques à la loi n° 2021-1308 du 8 octobre 2021, à l\\'ordonnance n° 2021-958 du 19 juillet 2021, et à la loi n° 2021-1109 du 24 août 2021. Cela pourrait indiquer une volonté de simplifier le texte en supprimant des références redondantes ou obsolètes.\\n\\n2. **Harmonisation des Références**:\\n   - Les articles L. 561-2, L. 561-7, L. 561-14 et L. 561-20 sont désormais applicables dans leur rédaction résultant de l\\'ordonnance n° 2020-1544 du 9 décembre 2020, ce qui uniformise les références législatives et peut faciliter l\\'application et la compréhension du texte.\\n\\n3. **Clarification des Dispositions Applicables**:\\n   - La nouvelle version clarifie les articles applicables en supprimant certaines références spécifiques et en consolidant les articles applicables dans leur rédaction résultant de diverses ordonnances. Cela peut améliorer la lisibilité et la cohérence du texte.\\n\\n4. **Maintien des Dispositions Spécifiques aux Îles Wallis et Futuna**:\\n   - Les adaptations spécifiques pour les îles Wallis et Futuna, telles que les conversions monétaires en francs CFP et les références à des dispositions locales, sont maintenues. Cela assure que les particularités locales continuent d\\'être prises en compte.\\n\\n5. **Suppression de Références à l\\'Union Européenne**:\\n   - Plusieurs références à l\\'Union Européenne et à l\\'Espace Économique Européen sont supprimées, ce qui pourrait refléter une volonté de rendre le texte plus pertinent pour le contexte local des îles Wallis et Futuna, où ces références peuvent être moins applicables.\\n\\n6. **Simplification des Dispositions de Gel des Avoirs**:\\n   - Les modifications apportées aux articles relatifs au gel des avoirs et aux mesures restrictives européennes simplifient les références en les remplaçant par des termes plus généraux. Cela pourrait faciliter l\\'application de ces dispositions sans nécessiter de renvois constants à des règlements européens spécifiques.\\n\\nEn conclusion, les modifications apportées visent principalement à simplifier et à clarifier le texte, en supprimant des références spécifiques et en harmonisant les dispositions applicables. Ces changements devraient améliorer la lisibilité et l\\'application du texte, tout en maintenant les adaptations nécessaires pour les îles Wallis et Futuna.'"
      ]
     },
     "execution_count": 44,
     "metadata": {},
     "output_type": "execute_result"
    }
   ],
   "source": [
    "text_variable"
   ]
  }
 ],
 "metadata": {
  "kernelspec": {
   "display_name": "Python 3.13.1 (env)",
   "language": "python",
   "name": "mon-env"
  },
  "language_info": {
   "codemirror_mode": {
    "name": "ipython",
    "version": 3
   },
   "file_extension": ".py",
   "mimetype": "text/x-python",
   "name": "python",
   "nbconvert_exporter": "python",
   "pygments_lexer": "ipython3",
   "version": "3.13.1"
  }
 },
 "nbformat": 4,
 "nbformat_minor": 2
}
