{
 "cells": [
  {
   "cell_type": "code",
   "execution_count": 46,
   "metadata": {},
   "outputs": [],
   "source": [
    "import getpass\n",
    "import os\n",
    "from credentials import *\n",
    "import tiktoken"
   ]
  },
  {
   "cell_type": "code",
   "execution_count": 4,
   "metadata": {},
   "outputs": [],
   "source": [
    "from langchain_openai import AzureChatOpenAI\n",
    "\n",
    "llm = AzureChatOpenAI(\n",
    "    azure_endpoint= Azure_OpenAI_OB_Endpoint ,\n",
    "    openai_api_version=\"2024-02-15-preview\",\n",
    "    model_name=\"gpt-4o\",\n",
    "    openai_api_key= Azure_OpenAI_OB_Key,\n",
    "    openai_api_type=\"azure\",\n",
    "    temperature=0,\n",
    "    deployment_name=\"gpt-4o-deploy\",\n",
    "    #streaming=True,\n",
    ")"
   ]
  },
  {
   "cell_type": "code",
   "execution_count": 47,
   "metadata": {},
   "outputs": [
    {
     "name": "stdout",
     "output_type": "stream",
     "text": [
      "Nombre de tokens : 10\n"
     ]
    }
   ],
   "source": [
    "import tiktoken\n",
    "\n",
    "def count_tokens(text, model=\"gpt-4o\"):\n",
    "    # Obtenir l'encodage en fonction du modèle\n",
    "    try:\n",
    "        encoding = tiktoken.encoding_for_model(model)\n",
    "    except KeyError:\n",
    "        # Si le modèle n'est pas pris en charge, utilisez un encodage par défaut\n",
    "        encoding = tiktoken.get_encoding(\"cl100k_base\")\n",
    "    \n",
    "    # Convertir le texte en tokens\n",
    "    tokens = encoding.encode(text)\n",
    "    \n",
    "    # Retourner le nombre de tokens\n",
    "    return len(tokens)\n",
    "\n",
    "# Exemple d'utilisation\n",
    "my_text = \"Voici un exemple de texte que nous voulons analyser.\"\n",
    "token_count = count_tokens(my_text, model=\"gpt-4o\")\n",
    "print(f\"Nombre de tokens : {token_count}\")"
   ]
  },
  {
   "cell_type": "markdown",
   "metadata": {},
   "source": [
    "## 1 - Test"
   ]
  },
  {
   "cell_type": "code",
   "execution_count": 5,
   "metadata": {},
   "outputs": [],
   "source": [
    "from langchain_core.prompts import ChatPromptTemplate\n",
    "\n",
    "prompt = ChatPromptTemplate.from_messages(\n",
    "    [(\"system\",\n",
    "            \"\"\"Tu es un avocat et analyste juridique très expérimenté, tu as pour but d'analyser et commenter les changements \n",
    "            réglementaires de chaque article , tu trouveras ici l'ancienne et la nouvelle version de l'article que l on te donne. \n",
    "            Tu adopteras un language juridique précis. \n",
    "            Pour avoir du contexte , sache que ce texte est extrait du {code}\"\"\"),\n",
    "        (\"human\", \n",
    "            \"Voici l'ancienne version de l'article a analyser {old_version} et voici la nouvelle version du meme article {new_version}\")]\n",
    ")"
   ]
  },
  {
   "cell_type": "code",
   "execution_count": 6,
   "metadata": {},
   "outputs": [],
   "source": [
    "from langchain_core.output_parsers import StrOutputParser\n",
    "chain = prompt | llm | StrOutputParser()\n",
    "\n",
    "contenu_ancien = \"Les établissements de crédit, les sociétés de financement, les établissements de monnaie électronique qui fournissent des services de paiement, les établissements de paiement, les intermédiaires en opérations de banque et en services de paiement, les intermédiaires en financement participatif, les prestataires de services de financement participatif dans le cadre de leurs activités de facilitation d'octroi de prêts, les entreprises d'assurance dans le cadre de leur activité de prêts et les sociétés de gestion mentionnées au premier alinéa de l'article L. 519-2 qui recourent aux services d'intermédiaires en opérations de banque et en services de paiement doivent s'assurer que ceux-ci sont immatriculés conformément à l'article L. 519-3-1 . Les établissements de crédit, les sociétés de financement, les établissements de monnaie électronique qui fournissent des services de paiement, les établissements de paiement, les intermédiaires en financement participatif, les prestataires de services de financement participatif dans le cadre de leurs activités de facilitation d'octroi de prêts, les entreprises d'assurance dans le cadre de leur activité de prêts et les sociétés de gestion mentionnées au premier alinéa de l'article L. 519-2 qui recourent à des intermédiaires ressortissants d'un Etat membre de l'Union européenne ou d'un Etat partie à l'accord sur l'Espace économique européen autre que la France et exerçant sur le territoire français en régime de libre prestation de services ou de libre établissement s'assurent auprès de l'organisme qui tient le registre prévu au I de l'article L. 512-1 du code des assurances que ceux-ci ont effectué les formalités requises à l'article L. 519-9 du présent code.\"\n",
    "contenu_nouveau = \"Les établissements de crédit, les sociétés de financement, les établissements de monnaie électronique qui fournissent des services de paiement, les établissements de paiement, les intermédiaires en opérations de banque et en services de paiement, les intermédiaires en financement participatif, les entreprises d'assurance dans le cadre de leur activité de prêts et les sociétés de gestion mentionnées au premier alinéa de l'article L. 519-2 qui recourent aux services d'intermédiaires en opérations de banque et en services de paiement doivent s'assurer que ceux-ci sont immatriculés conformément à l'article L. 519-3-1 . Les établissements de crédit, les sociétés de financement, les établissements de monnaie électronique qui fournissent des services de paiement, les établissements de paiement, les intermédiaires en financement participatif, les entreprises d'assurance dans le cadre de leur activité de prêts et les sociétés de gestion mentionnées au premier alinéa de l'article L. 519-2 qui recourent à des intermédiaires ressortissants d'un Etat membre de l'Union européenne ou d'un Etat partie à l'accord sur l'Espace économique européen autre que la France et exerçant sur le territoire français en régime de libre prestation de services ou de libre établissement s'assurent auprès de l'organisme qui tient le registre prévu au I de l'article L. 512-1 du code des assurances que ceux-ci ont effectué les formalités requises à l'article L. 519-9 du présent code.\"\n",
    "llm_output = chain.invoke(\n",
    "    {\n",
    "        \"code\": \"Code monétaire et financier\",\n",
    "        \"old_version\": contenu_ancien,\n",
    "        \"new_version\": contenu_nouveau,\n",
    "        \"input\": \"I love programming.\",\n",
    "    }\n",
    ")"
   ]
  },
  {
   "cell_type": "code",
   "execution_count": 7,
   "metadata": {},
   "outputs": [
    {
     "name": "stdout",
     "output_type": "stream",
     "text": [
      "L'analyse des modifications apportées à l'article en question du Code monétaire et financier révèle une suppression notable. \n",
      "\n",
      "**Ancienne version :**\n",
      "L'ancienne version de l'article incluait les \"prestataires de services de financement participatif dans le cadre de leurs activités de facilitation d'octroi de prêts\" parmi les entités qui doivent s'assurer que les intermédiaires en opérations de banque et en services de paiement sont immatriculés conformément à l'article L. 519-3-1. De plus, cette catégorie était également mentionnée dans le contexte des intermédiaires ressortissants d'un État membre de l'Union européenne ou d'un État partie à l'accord sur l'Espace économique européen exerçant en France en régime de libre prestation de services ou de libre établissement.\n",
      "\n",
      "**Nouvelle version :**\n",
      "Dans la nouvelle version de l'article, la mention des \"prestataires de services de financement participatif dans le cadre de leurs activités de facilitation d'octroi de prêts\" a été supprimée. Ainsi, ces prestataires ne sont plus explicitement inclus dans les entités qui doivent vérifier l'immatriculation des intermédiaires en opérations de banque et en services de paiement, ni dans celles qui doivent s'assurer que les intermédiaires ressortissants d'un autre État membre de l'UE ou de l'EEE ont effectué les formalités requises.\n",
      "\n",
      "**Commentaire juridique :**\n",
      "La suppression de la mention des \"prestataires de services de financement participatif dans le cadre de leurs activités de facilitation d'octroi de prêts\" pourrait indiquer une volonté de simplification ou de clarification du cadre réglementaire applicable. Il est possible que ces prestataires soient désormais régis par des dispositions spécifiques distinctes ou que leur inclusion dans cet article ait été jugée redondante ou inappropriée.\n",
      "\n",
      "Cette modification pourrait également refléter une évolution dans la manière dont les activités de financement participatif sont encadrées, potentiellement en réponse à des évolutions du marché ou à des retours d'expérience sur l'application de la réglementation précédente.\n",
      "\n",
      "En conclusion, la nouvelle version de l'article allège le texte en supprimant une catégorie spécifique de prestataires, ce qui pourrait avoir des implications sur la manière dont ces entités doivent se conformer aux exigences d'immatriculation et de vérification des formalités. Il serait pertinent de vérifier si des dispositions spécifiques ont été introduites ailleurs dans le Code monétaire et financier pour ces prestataires de services de financement participatif.\n"
     ]
    }
   ],
   "source": [
    "print(llm_output)"
   ]
  },
  {
   "cell_type": "markdown",
   "metadata": {},
   "source": [
    "## 2 - Function"
   ]
  },
  {
   "cell_type": "code",
   "execution_count": 8,
   "metadata": {},
   "outputs": [],
   "source": [
    "from langchain_core.prompts import ChatPromptTemplate\n",
    "from langchain_core.output_parsers import StrOutputParser"
   ]
  },
  {
   "cell_type": "code",
   "execution_count": 9,
   "metadata": {},
   "outputs": [],
   "source": [
    "def llm_legal_change_com_v1(old_version, new_version): \n",
    "    prompt = ChatPromptTemplate.from_messages([(\"system\",\n",
    "            \"\"\"\n",
    "            Tu es un avocat et analyste juridique très expérimenté, tu as pour but d'analyser et de commenter les changements \n",
    "            réglementaires de chaque article , tu trouveras ici l'ancienne et la nouvelle version de l'article que l on te donne. \n",
    "            Tu adopteras un language juridique précis. Tu n'inventeras rien et tu te baseras uniquement sur les données fournies.\n",
    "            Si tu ne sais pas ou tu ne comprends pas , dis le. \n",
    "            Inutile de reciter les textes fournis, tu ne retourneras que ton analyse.\n",
    "            \"\"\"),\n",
    "        (\"human\", \n",
    "            \"Voici l'ancienne version de l'article a analyser {old_version} et voici la nouvelle version du meme article {new_version}\")])\n",
    "    \n",
    "    chain = prompt | llm | StrOutputParser()\n",
    "    \n",
    "    llm_output = chain.invoke({\n",
    "        \"old_version\": old_version,\n",
    "        \"new_version\": new_version})\n",
    "    \n",
    "    return llm_output"
   ]
  },
  {
   "cell_type": "code",
   "execution_count": 10,
   "metadata": {},
   "outputs": [],
   "source": [
    "# Amélioration prompt avec o1\n",
    "def llm_legal_change_com_v2(old_version, new_version): \n",
    "    prompt = ChatPromptTemplate.from_messages([(\"system\",                                  \n",
    "        \"\"\"\n",
    "\tTu es un avocat et analyste juridique très expérimenté. \n",
    "    Ta mission consiste à examiner et commenter les évolutions réglementaires d’un article de loi en comparant sa version \n",
    "    antérieure avec sa version révisée.\n",
    "\n",
    "\tConsignes :\n",
    "\t1.\tUtilise un langage juridique précis.\n",
    "\t2.\tBase-toi uniquement sur les informations fournies, sans inventer ni extrapoler.\n",
    "\t3.\tSi tu ne comprends pas un point ou si les informations sont insuffisantes, signale-le clairement.\n",
    "\t4.\tNe récite pas le texte en intégralité : concentre-toi sur l’analyse et la comparaison.\n",
    "\n",
    "\tContenu à analyser :\n",
    "\t•\tAncienne version : {old_version}\n",
    "\t•\tNouvelle version : {new_version}\n",
    "\n",
    "\tObjectif :\n",
    "    Produis un commentaire juridique concis, en mettant en évidence les principaux changements, leur portée et leurs éventuelles conséquences. N’inclus dans ta réponse que l’analyse finale.\n",
    "\n",
    "            \"\"\")])\n",
    "    \n",
    "    chain = prompt | llm | StrOutputParser()\n",
    "    \n",
    "    llm_output = chain.invoke({\n",
    "        \"old_version\": old_version,\n",
    "        \"new_version\": new_version})\n",
    "    \n",
    "    return llm_output"
   ]
  },
  {
   "cell_type": "code",
   "execution_count": 49,
   "metadata": {},
   "outputs": [],
   "source": []
  },
  {
   "cell_type": "markdown",
   "metadata": {},
   "source": [
    "## 3 - Data prep"
   ]
  },
  {
   "cell_type": "code",
   "execution_count": 12,
   "metadata": {},
   "outputs": [],
   "source": [
    "import pandas as pd\n",
    "AML5_modifs= pd.read_excel(\"/Users/oussa/Desktop/Github_perso/3 - Legal FR Tracker/data_output/Output_AML_5.xlsx\")"
   ]
  },
  {
   "cell_type": "code",
   "execution_count": 13,
   "metadata": {},
   "outputs": [],
   "source": [
    "# Filter on AML text\n",
    "AML5_modifs =  AML5_modifs[AML5_modifs['Titre Article Modificateur'].str.contains(\"n°2020-1544\")| AML5_modifs['Titre Article Modificateur'].str.contains(\"n°2020-115\") ]"
   ]
  },
  {
   "cell_type": "code",
   "execution_count": 14,
   "metadata": {},
   "outputs": [
    {
     "data": {
      "text/plain": [
       "array(['Ordonnance n°2020-1544 du 9 décembre 2020 - art. 1',\n",
       "       'Ordonnance n°2020-1544 du 9 décembre 2020 - art. 2',\n",
       "       'Ordonnance n°2020-1544 du 9 décembre 2020 - art. 3',\n",
       "       'Ordonnance n°2020-1544 du 9 décembre 2020 - art. 4',\n",
       "       'Ordonnance n°2020-1544 du 9 décembre 2020 - art. 5',\n",
       "       'Ordonnance n°2020-1544 du 9 décembre 2020 - art. 6',\n",
       "       'Ordonnance n°2020-1544 du 9 décembre 2020 - art. 7',\n",
       "       'Ordonnance n°2020-1544 du 9 décembre 2020 - art. 8',\n",
       "       'Ordonnance n°2020-1544 du 9 décembre 2020 - art. 9',\n",
       "       'Ordonnance n°2020-1544 du 9 décembre 2020 - art. 10',\n",
       "       'Ordonnance n°2020-1544 du 9 décembre 2020 - art. 11',\n",
       "       'Ordonnance n°2020-115 du 12 février 2020 - art. 1',\n",
       "       'Ordonnance n°2020-115 du 12 février 2020 - art. 2',\n",
       "       'Ordonnance n°2020-115 du 12 février 2020 - art. 3',\n",
       "       'Ordonnance n°2020-115 du 12 février 2020 - art. 4',\n",
       "       'Ordonnance n°2020-115 du 12 février 2020 - art. 5',\n",
       "       'Ordonnance n°2020-115 du 12 février 2020 - art. 6',\n",
       "       'Ordonnance n°2020-115 du 12 février 2020 - art. 7',\n",
       "       'Ordonnance n°2020-115 du 12 février 2020 - art. 8',\n",
       "       'Ordonnance n°2020-115 du 12 février 2020 - art. 9',\n",
       "       'Ordonnance n°2020-115 du 12 février 2020 - art. 10',\n",
       "       'Ordonnance n°2020-115 du 12 février 2020 - art. 11',\n",
       "       'Ordonnance n°2020-115 du 12 février 2020 - art. 17',\n",
       "       'Ordonnance n°2020-115 du 12 février 2020 - art. 18 (M)'],\n",
       "      dtype=object)"
      ]
     },
     "execution_count": 14,
     "metadata": {},
     "output_type": "execute_result"
    }
   ],
   "source": [
    "#check results\n",
    "AML5_modifs['Titre Article Modificateur'].unique()"
   ]
  },
  {
   "cell_type": "code",
   "execution_count": 15,
   "metadata": {},
   "outputs": [
    {
     "data": {
      "text/plain": [
       "array(['OK change'], dtype=object)"
      ]
     },
     "execution_count": 15,
     "metadata": {},
     "output_type": "execute_result"
    }
   ],
   "source": [
    "# Keep only changed articles in their content\n",
    "AML5_modifs = AML5_modifs[AML5_modifs['Compare contenu'] ==\"OK change\"]\n",
    "AML5_modifs['Compare contenu'].unique()"
   ]
  },
  {
   "cell_type": "code",
   "execution_count": 16,
   "metadata": {},
   "outputs": [],
   "source": [
    "# Delete KO in Old and new articles\n",
    "AML5_modifs = AML5_modifs[~AML5_modifs['Contenu_Ancien_Article'].str.contains(\"KO\", na=False)]\n",
    "AML5_modifs = AML5_modifs[~AML5_modifs['Contenu_Nouv_Vers_Article'].str.contains(\"KO\", na=False)]"
   ]
  },
  {
   "cell_type": "code",
   "execution_count": 17,
   "metadata": {},
   "outputs": [
    {
     "data": {
      "text/plain": [
       "54"
      ]
     },
     "execution_count": 17,
     "metadata": {},
     "output_type": "execute_result"
    }
   ],
   "source": [
    "len(AML5_modifs)"
   ]
  },
  {
   "cell_type": "markdown",
   "metadata": {},
   "source": [
    "## 4 - Apply function for each row"
   ]
  },
  {
   "cell_type": "code",
   "execution_count": 18,
   "metadata": {},
   "outputs": [],
   "source": [
    "#   AML5_modifs\n",
    "#   llm_legal_change_com()"
   ]
  },
  {
   "cell_type": "code",
   "execution_count": 19,
   "metadata": {},
   "outputs": [],
   "source": [
    "AML5_modifs_select = AML5_modifs.iloc[:10]"
   ]
  },
  {
   "cell_type": "markdown",
   "metadata": {},
   "source": [
    "### 4.1 - Application fonction 1"
   ]
  },
  {
   "cell_type": "code",
   "execution_count": 20,
   "metadata": {},
   "outputs": [
    {
     "name": "stderr",
     "output_type": "stream",
     "text": [
      "/var/folders/ty/2g_hgfks4nl_84mz496fmn600000gn/T/ipykernel_68977/819962179.py:1: SettingWithCopyWarning: \n",
      "A value is trying to be set on a copy of a slice from a DataFrame.\n",
      "Try using .loc[row_indexer,col_indexer] = value instead\n",
      "\n",
      "See the caveats in the documentation: https://pandas.pydata.org/pandas-docs/stable/user_guide/indexing.html#returning-a-view-versus-a-copy\n",
      "  AML5_modifs_select['LLM_Change_Analysis_1'] = AML5_modifs_select.apply(\n"
     ]
    }
   ],
   "source": [
    "AML5_modifs_select['LLM_Change_Analysis_1'] = AML5_modifs_select.apply(\n",
    "    lambda row: llm_legal_change_com_v1(row['Contenu_Ancien_Article'], row['Contenu_Nouv_Vers_Article']), \n",
    "    axis=1)"
   ]
  },
  {
   "cell_type": "code",
   "execution_count": 21,
   "metadata": {},
   "outputs": [],
   "source": [
    "AML5_modifs_select.to_excel(\"data_output_ipynb/output_llm_change_analysis_v1.xlsx\")"
   ]
  },
  {
   "cell_type": "markdown",
   "metadata": {},
   "source": [
    "### 4.2 - Application fonction 2"
   ]
  },
  {
   "cell_type": "code",
   "execution_count": 22,
   "metadata": {},
   "outputs": [
    {
     "name": "stderr",
     "output_type": "stream",
     "text": [
      "/var/folders/ty/2g_hgfks4nl_84mz496fmn600000gn/T/ipykernel_68977/2587971769.py:1: SettingWithCopyWarning: \n",
      "A value is trying to be set on a copy of a slice from a DataFrame.\n",
      "Try using .loc[row_indexer,col_indexer] = value instead\n",
      "\n",
      "See the caveats in the documentation: https://pandas.pydata.org/pandas-docs/stable/user_guide/indexing.html#returning-a-view-versus-a-copy\n",
      "  AML5_modifs_select['LLM_Change_Analysis_2'] = AML5_modifs_select.apply(\n"
     ]
    }
   ],
   "source": [
    "AML5_modifs_select['LLM_Change_Analysis_2'] = AML5_modifs_select.apply( \n",
    "        lambda row: llm_legal_change_com_v2(row['Contenu_Ancien_Article'], row['Contenu_Nouv_Vers_Article']), axis=1 ) "
   ]
  },
  {
   "cell_type": "code",
   "execution_count": 23,
   "metadata": {},
   "outputs": [],
   "source": [
    "AML5_modifs_select.to_excel(\"data_output_ipynb/output_llm_change_analysis_v2.xlsx\")"
   ]
  },
  {
   "cell_type": "markdown",
   "metadata": {},
   "source": [
    "### 4.3 - Application fonction 3"
   ]
  },
  {
   "cell_type": "code",
   "execution_count": 24,
   "metadata": {},
   "outputs": [
    {
     "name": "stderr",
     "output_type": "stream",
     "text": [
      "/var/folders/ty/2g_hgfks4nl_84mz496fmn600000gn/T/ipykernel_68977/2334415541.py:1: SettingWithCopyWarning: \n",
      "A value is trying to be set on a copy of a slice from a DataFrame.\n",
      "Try using .loc[row_indexer,col_indexer] = value instead\n",
      "\n",
      "See the caveats in the documentation: https://pandas.pydata.org/pandas-docs/stable/user_guide/indexing.html#returning-a-view-versus-a-copy\n",
      "  AML5_modifs_select['LLM_Change_Analysis_3'] = AML5_modifs_select.apply(\n"
     ]
    }
   ],
   "source": [
    "AML5_modifs_select['LLM_Change_Analysis_3'] = AML5_modifs_select.apply( \n",
    "        lambda row: llm_legal_change_com_v3(row['Contenu_Ancien_Article'], row['Contenu_Nouv_Vers_Article']), axis=1 ) "
   ]
  },
  {
   "cell_type": "code",
   "execution_count": 25,
   "metadata": {},
   "outputs": [],
   "source": [
    "AML5_modifs_select.to_excel(\"data_output_ipynb/output_llm_change_analysis_v3.xlsx\")"
   ]
  },
  {
   "cell_type": "markdown",
   "metadata": {},
   "source": [
    "## 5 - Summarize"
   ]
  },
  {
   "cell_type": "code",
   "execution_count": 30,
   "metadata": {},
   "outputs": [],
   "source": [
    "all_llm_analysis = AML5_modifs_select['LLM_Change_Analysis_3'] "
   ]
  },
  {
   "cell_type": "code",
   "execution_count": 31,
   "metadata": {},
   "outputs": [],
   "source": [
    "all_llm_analysis = all_llm_analysis.to_string()"
   ]
  },
  {
   "cell_type": "code",
   "execution_count": 43,
   "metadata": {},
   "outputs": [],
   "source": [
    "text_variable = AML5_modifs_select['LLM_Change_Analysis_3'].str.cat()\n",
    "text_variable"
   ]
  },
  {
   "cell_type": "code",
   "execution_count": 48,
   "metadata": {},
   "outputs": [
    {
     "name": "stdout",
     "output_type": "stream",
     "text": [
      "Nombre de tokens : 6025\n"
     ]
    }
   ],
   "source": [
    "token_count = count_tokens(text_variable, model=\"gpt-4o\")\n",
    "print(f\"Nombre de tokens : {token_count}\")"
   ]
  },
  {
   "cell_type": "code",
   "execution_count": null,
   "metadata": {},
   "outputs": [],
   "source": [
    "# Amélioration prompt avec o1 + intération\n",
    "def wrap_up(text_to_summarize): \n",
    "    prompt = ChatPromptTemplate.from_messages([(\"system\",                                  \n",
    "        \"\"\"\n",
    "\t\tTu es un avocat et analyste juridique très expérimenté.\n",
    "\t\tTa mission consiste à produire un résumé global des analyses réalisées sur les évolutions réglementaires de plusieurs articles de \n",
    "  \t\tloi en comparant leurs versions antérieures et révisées.\n",
    "\n",
    "\tConsignes :\n",
    "\t1.\tUtilise un langage juridique précis, clair et synthétique.\n",
    "\t2.\tAppuie-toi uniquement sur les analyses fournies pour chaque article. Ne fais aucune supposition ou extrapolation.\n",
    "\t3.\tRegroupe et hiérarchise les informations :\n",
    "\t•\tIdentifie les thématiques ou tendances communes (par exemple : renforcement des obligations, simplification de procédures, etc.).\n",
    "\t•\tMets en évidence les changements les plus significatifs et leur impact global.\n",
    "\t4.\tSi certaines analyses révèlent des ambiguïtés ou des manques d’informations, mentionne-les brièvement.\n",
    "\n",
    "\tObjectif :\n",
    " \t\tFournis un résumé synthétique mettant en lumière les évolutions majeures, les implications globales, et les tendances observées \n",
    "   \t\tà travers les différents articles. Structure ta réponse de manière organisée (par exemple : par thématique ou par impact).\n",
    "     \n",
    "    Voici le text a résumer : {text_to_summarize}\n",
    "            \"\"\")])\n",
    "    \n",
    "    chain = prompt | llm | StrOutputParser()\n",
    "    \n",
    "    llm_output = chain.invoke({\n",
    "        \"text_to_summarize\": text_to_summarize})\n",
    "    \n",
    "    return llm_output"
   ]
  },
  {
   "cell_type": "code",
   "execution_count": null,
   "metadata": {},
   "outputs": [],
   "source": [
    "summary = wrap_up(text_to_summarize)"
   ]
  }
 ],
 "metadata": {
  "kernelspec": {
   "display_name": "Python 3.13.1 (env)",
   "language": "python",
   "name": "mon-env"
  },
  "language_info": {
   "codemirror_mode": {
    "name": "ipython",
    "version": 3
   },
   "file_extension": ".py",
   "mimetype": "text/x-python",
   "name": "python",
   "nbconvert_exporter": "python",
   "pygments_lexer": "ipython3",
   "version": "3.13.1"
  }
 },
 "nbformat": 4,
 "nbformat_minor": 2
}
