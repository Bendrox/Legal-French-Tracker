{
 "cells": [
  {
   "cell_type": "code",
   "execution_count": 46,
   "metadata": {},
   "outputs": [],
   "source": [
    "import getpass\n",
    "import os\n",
    "from credentials import *\n",
    "import tiktoken"
   ]
  },
  {
   "cell_type": "code",
   "execution_count": 4,
   "metadata": {},
   "outputs": [],
   "source": [
    "from langchain_openai import AzureChatOpenAI\n",
    "\n",
    "llm = AzureChatOpenAI(\n",
    "    azure_endpoint= Azure_OpenAI_OB_Endpoint ,\n",
    "    openai_api_version=\"2024-02-15-preview\",\n",
    "    model_name=\"gpt-4o\",\n",
    "    openai_api_key= Azure_OpenAI_OB_Key,\n",
    "    openai_api_type=\"azure\",\n",
    "    temperature=0,\n",
    "    deployment_name=\"gpt-4o-deploy\",\n",
    "    #streaming=True,\n",
    ")"
   ]
  },
  {
   "cell_type": "code",
   "execution_count": 47,
   "metadata": {},
   "outputs": [
    {
     "name": "stdout",
     "output_type": "stream",
     "text": [
      "Nombre de tokens : 10\n"
     ]
    }
   ],
   "source": [
    "import tiktoken\n",
    "\n",
    "def count_tokens(text, model=\"gpt-4o\"):\n",
    "    # Obtenir l'encodage en fonction du modèle\n",
    "    try:\n",
    "        encoding = tiktoken.encoding_for_model(model)\n",
    "    except KeyError:\n",
    "        # Si le modèle n'est pas pris en charge, utilisez un encodage par défaut\n",
    "        encoding = tiktoken.get_encoding(\"cl100k_base\")\n",
    "    \n",
    "    # Convertir le texte en tokens\n",
    "    tokens = encoding.encode(text)\n",
    "    \n",
    "    # Retourner le nombre de tokens\n",
    "    return len(tokens)\n",
    "\n",
    "# Exemple d'utilisation\n",
    "my_text = \"Voici un exemple de texte que nous voulons analyser.\"\n",
    "token_count = count_tokens(my_text, model=\"gpt-4o\")\n",
    "print(f\"Nombre de tokens : {token_count}\")"
   ]
  },
  {
   "cell_type": "markdown",
   "metadata": {},
   "source": [
    "## 1 - Test"
   ]
  },
  {
   "cell_type": "code",
   "execution_count": 5,
   "metadata": {},
   "outputs": [],
   "source": [
    "from langchain_core.prompts import ChatPromptTemplate\n",
    "\n",
    "prompt = ChatPromptTemplate.from_messages(\n",
    "    [(\"system\",\n",
    "            \"\"\"Tu es un avocat et analyste juridique très expérimenté, tu as pour but d'analyser et commenter les changements \n",
    "            réglementaires de chaque article , tu trouveras ici l'ancienne et la nouvelle version de l'article que l on te donne. \n",
    "            Tu adopteras un language juridique précis. \n",
    "            Pour avoir du contexte , sache que ce texte est extrait du {code}\"\"\"),\n",
    "        (\"human\", \n",
    "            \"Voici l'ancienne version de l'article a analyser {old_version} et voici la nouvelle version du meme article {new_version}\")]\n",
    ")"
   ]
  },
  {
   "cell_type": "code",
   "execution_count": 6,
   "metadata": {},
   "outputs": [],
   "source": [
    "from langchain_core.output_parsers import StrOutputParser\n",
    "chain = prompt | llm | StrOutputParser()\n",
    "\n",
    "contenu_ancien = \"Les établissements de crédit, les sociétés de financement, les établissements de monnaie électronique qui fournissent des services de paiement, les établissements de paiement, les intermédiaires en opérations de banque et en services de paiement, les intermédiaires en financement participatif, les prestataires de services de financement participatif dans le cadre de leurs activités de facilitation d'octroi de prêts, les entreprises d'assurance dans le cadre de leur activité de prêts et les sociétés de gestion mentionnées au premier alinéa de l'article L. 519-2 qui recourent aux services d'intermédiaires en opérations de banque et en services de paiement doivent s'assurer que ceux-ci sont immatriculés conformément à l'article L. 519-3-1 . Les établissements de crédit, les sociétés de financement, les établissements de monnaie électronique qui fournissent des services de paiement, les établissements de paiement, les intermédiaires en financement participatif, les prestataires de services de financement participatif dans le cadre de leurs activités de facilitation d'octroi de prêts, les entreprises d'assurance dans le cadre de leur activité de prêts et les sociétés de gestion mentionnées au premier alinéa de l'article L. 519-2 qui recourent à des intermédiaires ressortissants d'un Etat membre de l'Union européenne ou d'un Etat partie à l'accord sur l'Espace économique européen autre que la France et exerçant sur le territoire français en régime de libre prestation de services ou de libre établissement s'assurent auprès de l'organisme qui tient le registre prévu au I de l'article L. 512-1 du code des assurances que ceux-ci ont effectué les formalités requises à l'article L. 519-9 du présent code.\"\n",
    "contenu_nouveau = \"Les établissements de crédit, les sociétés de financement, les établissements de monnaie électronique qui fournissent des services de paiement, les établissements de paiement, les intermédiaires en opérations de banque et en services de paiement, les intermédiaires en financement participatif, les entreprises d'assurance dans le cadre de leur activité de prêts et les sociétés de gestion mentionnées au premier alinéa de l'article L. 519-2 qui recourent aux services d'intermédiaires en opérations de banque et en services de paiement doivent s'assurer que ceux-ci sont immatriculés conformément à l'article L. 519-3-1 . Les établissements de crédit, les sociétés de financement, les établissements de monnaie électronique qui fournissent des services de paiement, les établissements de paiement, les intermédiaires en financement participatif, les entreprises d'assurance dans le cadre de leur activité de prêts et les sociétés de gestion mentionnées au premier alinéa de l'article L. 519-2 qui recourent à des intermédiaires ressortissants d'un Etat membre de l'Union européenne ou d'un Etat partie à l'accord sur l'Espace économique européen autre que la France et exerçant sur le territoire français en régime de libre prestation de services ou de libre établissement s'assurent auprès de l'organisme qui tient le registre prévu au I de l'article L. 512-1 du code des assurances que ceux-ci ont effectué les formalités requises à l'article L. 519-9 du présent code.\"\n",
    "llm_output = chain.invoke(\n",
    "    {\n",
    "        \"code\": \"Code monétaire et financier\",\n",
    "        \"old_version\": contenu_ancien,\n",
    "        \"new_version\": contenu_nouveau,\n",
    "        \"input\": \"I love programming.\",\n",
    "    }\n",
    ")"
   ]
  },
  {
   "cell_type": "code",
   "execution_count": 7,
   "metadata": {},
   "outputs": [
    {
     "name": "stdout",
     "output_type": "stream",
     "text": [
      "L'analyse des modifications apportées à l'article en question du Code monétaire et financier révèle une suppression notable. \n",
      "\n",
      "**Ancienne version :**\n",
      "L'ancienne version de l'article incluait les \"prestataires de services de financement participatif dans le cadre de leurs activités de facilitation d'octroi de prêts\" parmi les entités qui doivent s'assurer que les intermédiaires en opérations de banque et en services de paiement sont immatriculés conformément à l'article L. 519-3-1. De plus, cette catégorie était également mentionnée dans le contexte des intermédiaires ressortissants d'un État membre de l'Union européenne ou d'un État partie à l'accord sur l'Espace économique européen exerçant en France en régime de libre prestation de services ou de libre établissement.\n",
      "\n",
      "**Nouvelle version :**\n",
      "Dans la nouvelle version de l'article, la mention des \"prestataires de services de financement participatif dans le cadre de leurs activités de facilitation d'octroi de prêts\" a été supprimée. Ainsi, ces prestataires ne sont plus explicitement inclus dans les entités qui doivent vérifier l'immatriculation des intermédiaires en opérations de banque et en services de paiement, ni dans celles qui doivent s'assurer que les intermédiaires ressortissants d'un autre État membre de l'UE ou de l'EEE ont effectué les formalités requises.\n",
      "\n",
      "**Commentaire juridique :**\n",
      "La suppression de la mention des \"prestataires de services de financement participatif dans le cadre de leurs activités de facilitation d'octroi de prêts\" pourrait indiquer une volonté de simplification ou de clarification du cadre réglementaire applicable. Il est possible que ces prestataires soient désormais régis par des dispositions spécifiques distinctes ou que leur inclusion dans cet article ait été jugée redondante ou inappropriée.\n",
      "\n",
      "Cette modification pourrait également refléter une évolution dans la manière dont les activités de financement participatif sont encadrées, potentiellement en réponse à des évolutions du marché ou à des retours d'expérience sur l'application de la réglementation précédente.\n",
      "\n",
      "En conclusion, la nouvelle version de l'article allège le texte en supprimant une catégorie spécifique de prestataires, ce qui pourrait avoir des implications sur la manière dont ces entités doivent se conformer aux exigences d'immatriculation et de vérification des formalités. Il serait pertinent de vérifier si des dispositions spécifiques ont été introduites ailleurs dans le Code monétaire et financier pour ces prestataires de services de financement participatif.\n"
     ]
    }
   ],
   "source": [
    "print(llm_output)"
   ]
  },
  {
   "cell_type": "markdown",
   "metadata": {},
   "source": [
    "## 2 - Function"
   ]
  },
  {
   "cell_type": "code",
   "execution_count": 8,
   "metadata": {},
   "outputs": [],
   "source": [
    "from langchain_core.prompts import ChatPromptTemplate\n",
    "from langchain_core.output_parsers import StrOutputParser"
   ]
  },
  {
   "cell_type": "code",
   "execution_count": 9,
   "metadata": {},
   "outputs": [],
   "source": [
    "def llm_legal_change_com_v1(old_version, new_version): \n",
    "    prompt = ChatPromptTemplate.from_messages([(\"system\",\n",
    "            \"\"\"\n",
    "            Tu es un avocat et analyste juridique très expérimenté, tu as pour but d'analyser et de commenter les changements \n",
    "            réglementaires de chaque article , tu trouveras ici l'ancienne et la nouvelle version de l'article que l on te donne. \n",
    "            Tu adopteras un language juridique précis. Tu n'inventeras rien et tu te baseras uniquement sur les données fournies.\n",
    "            Si tu ne sais pas ou tu ne comprends pas , dis le. \n",
    "            Inutile de reciter les textes fournis, tu ne retourneras que ton analyse.\n",
    "            \"\"\"),\n",
    "        (\"human\", \n",
    "            \"Voici l'ancienne version de l'article a analyser {old_version} et voici la nouvelle version du meme article {new_version}\")])\n",
    "    \n",
    "    chain = prompt | llm | StrOutputParser()\n",
    "    \n",
    "    llm_output = chain.invoke({\n",
    "        \"old_version\": old_version,\n",
    "        \"new_version\": new_version})\n",
    "    \n",
    "    return llm_output"
   ]
  },
  {
   "cell_type": "code",
   "execution_count": 10,
   "metadata": {},
   "outputs": [],
   "source": [
    "# Amélioration prompt avec o1\n",
    "def llm_legal_change_com_v2(old_version, new_version): \n",
    "    prompt = ChatPromptTemplate.from_messages([(\"system\",                                  \n",
    "        \"\"\"\n",
    "\tTu es un avocat et analyste juridique très expérimenté. \n",
    "    Ta mission consiste à examiner et commenter les évolutions réglementaires d’un article de loi en comparant sa version \n",
    "    antérieure avec sa version révisée.\n",
    "\n",
    "\tConsignes :\n",
    "\t1.\tUtilise un langage juridique précis.\n",
    "\t2.\tBase-toi uniquement sur les informations fournies, sans inventer ni extrapoler.\n",
    "\t3.\tSi tu ne comprends pas un point ou si les informations sont insuffisantes, signale-le clairement.\n",
    "\t4.\tNe récite pas le texte en intégralité : concentre-toi sur l’analyse et la comparaison.\n",
    "\n",
    "\tContenu à analyser :\n",
    "\t•\tAncienne version : {old_version}\n",
    "\t•\tNouvelle version : {new_version}\n",
    "\n",
    "\tObjectif :\n",
    "    Produis un commentaire juridique concis, en mettant en évidence les principaux changements, leur portée et leurs éventuelles conséquences. N’inclus dans ta réponse que l’analyse finale.\n",
    "\n",
    "            \"\"\")])\n",
    "    \n",
    "    chain = prompt | llm | StrOutputParser()\n",
    "    \n",
    "    llm_output = chain.invoke({\n",
    "        \"old_version\": old_version,\n",
    "        \"new_version\": new_version})\n",
    "    \n",
    "    return llm_output"
   ]
  },
  {
   "cell_type": "code",
   "execution_count": 49,
   "metadata": {},
   "outputs": [],
   "source": []
  },
  {
   "cell_type": "markdown",
   "metadata": {},
   "source": [
    "## 3 - Data prep"
   ]
  },
  {
   "cell_type": "code",
   "execution_count": 12,
   "metadata": {},
   "outputs": [],
   "source": [
    "import pandas as pd\n",
    "AML5_modifs= pd.read_excel(\"/Users/oussa/Desktop/Github_perso/3 - Legal FR Tracker/data_output/Output_AML_5.xlsx\")"
   ]
  },
  {
   "cell_type": "code",
   "execution_count": 13,
   "metadata": {},
   "outputs": [],
   "source": [
    "# Filter on AML text\n",
    "AML5_modifs =  AML5_modifs[AML5_modifs['Titre Article Modificateur'].str.contains(\"n°2020-1544\")| AML5_modifs['Titre Article Modificateur'].str.contains(\"n°2020-115\") ]"
   ]
  },
  {
   "cell_type": "code",
   "execution_count": 14,
   "metadata": {},
   "outputs": [
    {
     "data": {
      "text/plain": [
       "array(['Ordonnance n°2020-1544 du 9 décembre 2020 - art. 1',\n",
       "       'Ordonnance n°2020-1544 du 9 décembre 2020 - art. 2',\n",
       "       'Ordonnance n°2020-1544 du 9 décembre 2020 - art. 3',\n",
       "       'Ordonnance n°2020-1544 du 9 décembre 2020 - art. 4',\n",
       "       'Ordonnance n°2020-1544 du 9 décembre 2020 - art. 5',\n",
       "       'Ordonnance n°2020-1544 du 9 décembre 2020 - art. 6',\n",
       "       'Ordonnance n°2020-1544 du 9 décembre 2020 - art. 7',\n",
       "       'Ordonnance n°2020-1544 du 9 décembre 2020 - art. 8',\n",
       "       'Ordonnance n°2020-1544 du 9 décembre 2020 - art. 9',\n",
       "       'Ordonnance n°2020-1544 du 9 décembre 2020 - art. 10',\n",
       "       'Ordonnance n°2020-1544 du 9 décembre 2020 - art. 11',\n",
       "       'Ordonnance n°2020-115 du 12 février 2020 - art. 1',\n",
       "       'Ordonnance n°2020-115 du 12 février 2020 - art. 2',\n",
       "       'Ordonnance n°2020-115 du 12 février 2020 - art. 3',\n",
       "       'Ordonnance n°2020-115 du 12 février 2020 - art. 4',\n",
       "       'Ordonnance n°2020-115 du 12 février 2020 - art. 5',\n",
       "       'Ordonnance n°2020-115 du 12 février 2020 - art. 6',\n",
       "       'Ordonnance n°2020-115 du 12 février 2020 - art. 7',\n",
       "       'Ordonnance n°2020-115 du 12 février 2020 - art. 8',\n",
       "       'Ordonnance n°2020-115 du 12 février 2020 - art. 9',\n",
       "       'Ordonnance n°2020-115 du 12 février 2020 - art. 10',\n",
       "       'Ordonnance n°2020-115 du 12 février 2020 - art. 11',\n",
       "       'Ordonnance n°2020-115 du 12 février 2020 - art. 17',\n",
       "       'Ordonnance n°2020-115 du 12 février 2020 - art. 18 (M)'],\n",
       "      dtype=object)"
      ]
     },
     "execution_count": 14,
     "metadata": {},
     "output_type": "execute_result"
    }
   ],
   "source": [
    "#check results\n",
    "AML5_modifs['Titre Article Modificateur'].unique()"
   ]
  },
  {
   "cell_type": "code",
   "execution_count": 15,
   "metadata": {},
   "outputs": [
    {
     "data": {
      "text/plain": [
       "array(['OK change'], dtype=object)"
      ]
     },
     "execution_count": 15,
     "metadata": {},
     "output_type": "execute_result"
    }
   ],
   "source": [
    "# Keep only changed articles in their content\n",
    "AML5_modifs = AML5_modifs[AML5_modifs['Compare contenu'] ==\"OK change\"]\n",
    "AML5_modifs['Compare contenu'].unique()"
   ]
  },
  {
   "cell_type": "code",
   "execution_count": 16,
   "metadata": {},
   "outputs": [],
   "source": [
    "# Delete KO in Old and new articles\n",
    "AML5_modifs = AML5_modifs[~AML5_modifs['Contenu_Ancien_Article'].str.contains(\"KO\", na=False)]\n",
    "AML5_modifs = AML5_modifs[~AML5_modifs['Contenu_Nouv_Vers_Article'].str.contains(\"KO\", na=False)]"
   ]
  },
  {
   "cell_type": "code",
   "execution_count": 17,
   "metadata": {},
   "outputs": [
    {
     "data": {
      "text/plain": [
       "54"
      ]
     },
     "execution_count": 17,
     "metadata": {},
     "output_type": "execute_result"
    }
   ],
   "source": [
    "len(AML5_modifs)"
   ]
  },
  {
   "cell_type": "markdown",
   "metadata": {},
   "source": [
    "## 4 - Apply function for each row"
   ]
  },
  {
   "cell_type": "code",
   "execution_count": 18,
   "metadata": {},
   "outputs": [],
   "source": [
    "#   AML5_modifs\n",
    "#   llm_legal_change_com()"
   ]
  },
  {
   "cell_type": "code",
   "execution_count": 19,
   "metadata": {},
   "outputs": [],
   "source": [
    "AML5_modifs_select = AML5_modifs.iloc[:10]"
   ]
  },
  {
   "cell_type": "markdown",
   "metadata": {},
   "source": [
    "### 4.1 - Application fonction 1"
   ]
  },
  {
   "cell_type": "code",
   "execution_count": 20,
   "metadata": {},
   "outputs": [
    {
     "name": "stderr",
     "output_type": "stream",
     "text": [
      "/var/folders/ty/2g_hgfks4nl_84mz496fmn600000gn/T/ipykernel_68977/819962179.py:1: SettingWithCopyWarning: \n",
      "A value is trying to be set on a copy of a slice from a DataFrame.\n",
      "Try using .loc[row_indexer,col_indexer] = value instead\n",
      "\n",
      "See the caveats in the documentation: https://pandas.pydata.org/pandas-docs/stable/user_guide/indexing.html#returning-a-view-versus-a-copy\n",
      "  AML5_modifs_select['LLM_Change_Analysis_1'] = AML5_modifs_select.apply(\n"
     ]
    }
   ],
   "source": [
    "AML5_modifs_select['LLM_Change_Analysis_1'] = AML5_modifs_select.apply(\n",
    "    lambda row: llm_legal_change_com_v1(row['Contenu_Ancien_Article'], row['Contenu_Nouv_Vers_Article']), \n",
    "    axis=1)"
   ]
  },
  {
   "cell_type": "code",
   "execution_count": 21,
   "metadata": {},
   "outputs": [],
   "source": [
    "AML5_modifs_select.to_excel(\"data_output_ipynb/output_llm_change_analysis_v1.xlsx\")"
   ]
  },
  {
   "cell_type": "markdown",
   "metadata": {},
   "source": [
    "### 4.2 - Application fonction 2"
   ]
  },
  {
   "cell_type": "code",
   "execution_count": 22,
   "metadata": {},
   "outputs": [
    {
     "name": "stderr",
     "output_type": "stream",
     "text": [
      "/var/folders/ty/2g_hgfks4nl_84mz496fmn600000gn/T/ipykernel_68977/2587971769.py:1: SettingWithCopyWarning: \n",
      "A value is trying to be set on a copy of a slice from a DataFrame.\n",
      "Try using .loc[row_indexer,col_indexer] = value instead\n",
      "\n",
      "See the caveats in the documentation: https://pandas.pydata.org/pandas-docs/stable/user_guide/indexing.html#returning-a-view-versus-a-copy\n",
      "  AML5_modifs_select['LLM_Change_Analysis_2'] = AML5_modifs_select.apply(\n"
     ]
    }
   ],
   "source": [
    "AML5_modifs_select['LLM_Change_Analysis_2'] = AML5_modifs_select.apply( \n",
    "        lambda row: llm_legal_change_com_v2(row['Contenu_Ancien_Article'], row['Contenu_Nouv_Vers_Article']), axis=1 ) "
   ]
  },
  {
   "cell_type": "code",
   "execution_count": 23,
   "metadata": {},
   "outputs": [],
   "source": [
    "AML5_modifs_select.to_excel(\"data_output_ipynb/output_llm_change_analysis_v2.xlsx\")"
   ]
  },
  {
   "cell_type": "markdown",
   "metadata": {},
   "source": [
    "### 4.3 - Application fonction 3"
   ]
  },
  {
   "cell_type": "code",
   "execution_count": 24,
   "metadata": {},
   "outputs": [
    {
     "name": "stderr",
     "output_type": "stream",
     "text": [
      "/var/folders/ty/2g_hgfks4nl_84mz496fmn600000gn/T/ipykernel_68977/2334415541.py:1: SettingWithCopyWarning: \n",
      "A value is trying to be set on a copy of a slice from a DataFrame.\n",
      "Try using .loc[row_indexer,col_indexer] = value instead\n",
      "\n",
      "See the caveats in the documentation: https://pandas.pydata.org/pandas-docs/stable/user_guide/indexing.html#returning-a-view-versus-a-copy\n",
      "  AML5_modifs_select['LLM_Change_Analysis_3'] = AML5_modifs_select.apply(\n"
     ]
    }
   ],
   "source": [
    "AML5_modifs_select['LLM_Change_Analysis_3'] = AML5_modifs_select.apply( \n",
    "        lambda row: llm_legal_change_com_v3(row['Contenu_Ancien_Article'], row['Contenu_Nouv_Vers_Article']), axis=1 ) "
   ]
  },
  {
   "cell_type": "code",
   "execution_count": 25,
   "metadata": {},
   "outputs": [],
   "source": [
    "AML5_modifs_select.to_excel(\"data_output_ipynb/output_llm_change_analysis_v3.xlsx\")"
   ]
  },
  {
   "cell_type": "markdown",
   "metadata": {},
   "source": [
    "## 5 - Summarize"
   ]
  },
  {
   "cell_type": "code",
   "execution_count": 30,
   "metadata": {},
   "outputs": [],
   "source": [
    "all_llm_analysis = AML5_modifs_select['LLM_Change_Analysis_3'] "
   ]
  },
  {
   "cell_type": "code",
   "execution_count": 31,
   "metadata": {},
   "outputs": [],
   "source": [
    "all_llm_analysis = all_llm_analysis.to_string()"
   ]
  },
  {
   "cell_type": "code",
   "execution_count": 43,
   "metadata": {},
   "outputs": [],
   "source": [
    "text_variable = AML5_modifs_select['LLM_Change_Analysis_3'].str.cat()\n",
    "text_variable"
   ]
  },
  {
   "cell_type": "code",
   "execution_count": 48,
   "metadata": {},
   "outputs": [
    {
     "name": "stdout",
     "output_type": "stream",
     "text": [
      "Nombre de tokens : 6025\n"
     ]
    }
   ],
   "source": [
    "token_count = count_tokens(text_variable, model=\"gpt-4o\")\n",
    "print(f\"Nombre de tokens : {token_count}\")"
   ]
  },
  {
   "cell_type": "markdown",
   "metadata": {},
   "source": [
    "### 5.1 - Simple summarize"
   ]
  },
  {
   "cell_type": "code",
   "execution_count": 57,
   "metadata": {},
   "outputs": [],
   "source": [
    "# Amélioration prompt avec o1 + intération\n",
    "def wrap_up_simple(text_to_summarize): \n",
    "    prompt = ChatPromptTemplate.from_messages([(\"system\",                                  \n",
    "        \"\"\"\n",
    "\t\tTu es un avocat et analyste juridique très expérimenté.\n",
    "\t\tTa mission consiste à produire un résumé global des analyses réalisées sur les évolutions réglementaires de plusieurs articles de \n",
    "  \t\tloi en comparant leurs versions antérieures et révisées.\n",
    "\n",
    "\tConsignes :\n",
    "\t1.\tUtilise un langage juridique précis, clair et synthétique.\n",
    "\t2.\tAppuie-toi uniquement sur les analyses fournies pour chaque article. Ne fais aucune supposition ou extrapolation.\n",
    "\t3.\tRegroupe et hiérarchise les informations :\n",
    "\t•\tIdentifie les thématiques ou tendances communes (par exemple : renforcement des obligations, simplification de procédures, etc.).\n",
    "\t•\tMets en évidence les changements les plus significatifs et leur impact global.\n",
    "\t4.\tSi certaines analyses révèlent des ambiguïtés ou des manques d’informations, mentionne-les brièvement.\n",
    "\n",
    "\tObjectif :\n",
    " \t\tFournis un résumé synthétique mettant en lumière les évolutions majeures, les implications globales, et les tendances observées \n",
    "   \t\tà travers les différents articles. Structure ta réponse de manière organisée (par exemple : par thématique ou par impact).\n",
    "     \n",
    "    Voici le text a résumer : {text_to_summarize}\n",
    "            \"\"\")])\n",
    "    \n",
    "    chain = prompt | llm | StrOutputParser()\n",
    "    \n",
    "    llm_output = chain.invoke({\n",
    "        \"text_to_summarize\": text_to_summarize})\n",
    "    \n",
    "    return llm_output"
   ]
  },
  {
   "cell_type": "code",
   "execution_count": 58,
   "metadata": {},
   "outputs": [],
   "source": [
    "summary_simple = wrap_up_simple(text_variable)\n"
   ]
  },
  {
   "cell_type": "code",
   "execution_count": 59,
   "metadata": {},
   "outputs": [
    {
     "name": "stdout",
     "output_type": "stream",
     "text": [
      "### Résumé des Évolutions Réglementaires\n",
      "\n",
      "#### Thématiques et Tendances Communes\n",
      "\n",
      "1. **Suppression et Simplification des Obligations**\n",
      "   - **Suppression de certaines obligations spécifiques** : Les nouvelles versions des articles de loi ont supprimé plusieurs obligations détaillées imposées aux prestataires de services, notamment en matière de sécurité, de gestion des conflits d'intérêts, et de résilience des systèmes informatiques. Cette suppression pourrait alléger la charge administrative et opérationnelle des prestataires, mais elle pourrait également réduire le niveau de protection et de sécurité offert aux clients.\n",
      "   - **Simplification des exigences de conformité** : Les exigences détaillées concernant la conclusion de conventions avec les clients, la politique de conservation, la restitution des actifs numériques, et l'usage des clés cryptographiques ont été supprimées. Cette simplification pourrait faciliter l'entrée sur le marché pour les nouveaux prestataires, mais elle pourrait aussi diminuer la transparence et la sécurité des transactions pour les clients.\n",
      "\n",
      "2. **Maintien et Clarification des Vérifications et Obligations Essentielles**\n",
      "   - **Maintien des vérifications essentielles par l'AMF** : Les vérifications par l'Autorité des marchés financiers (AMF) concernant l'honorabilité et la compétence des dirigeants, la gestion saine et prudente, et la conformité aux obligations de lutte contre le blanchiment des capitaux et le financement du terrorisme sont maintenues. Cela assure que les prestataires continuent de respecter des standards élevés en matière de gouvernance et de conformité.\n",
      "   - **Clarification des conditions de radiation** : Les conditions de radiation des prestataires par l'AMF sont restées inchangées, mais la mention de la suspension d'enregistrement en cas de menace grave et imminente pour la stabilité du marché des actifs numériques a été supprimée. Cette suppression pourrait limiter la capacité de l'AMF à intervenir rapidement en cas de risques systémiques.\n",
      "\n",
      "3. **Réduction de la Portée Réglementaire**\n",
      "   - **Réduction de la portée réglementaire** : La nouvelle version restreint le champ d'application de la réglementation en supprimant la référence aux services sur crypto-actifs définis par le règlement européen. Cela pourrait réduire la complexité réglementaire pour les prestataires de services sur crypto-actifs.\n",
      "   - **Simplification des exigences d'enregistrement** : La mention de l'autorisation conformément à l'article 59 du règlement (UE) 2023/1114 a été supprimée. Désormais, seule l'enregistrement par l'AMF est requis, ce qui pourrait faciliter l'entrée sur le marché pour les nouveaux prestataires.\n",
      "\n",
      "4. **Adaptations et Clarifications Techniques**\n",
      "   - **Autorité de vérification de la sécurité des systèmes d'information** : La nouvelle version permet à l'AMF de solliciter l'avis de l'autorité nationale en charge de la sécurité des systèmes d'information, clarifiant et potentiellement élargissant le champ des autorités compétentes pour la vérification de la sécurité des systèmes d'information.\n",
      "   - **Seuil de détention de capital ou de droits de vote** : Le seuil de détention de capital ou de droits de vote nécessitant une justification d'honorabilité et de compétence a été porté de 10 % à 25 %, réduisant ainsi le nombre de personnes soumises à cette exigence.\n",
      "\n",
      "#### Implications Globales\n",
      "\n",
      "1. **Encouragement de l'Innovation et de l'Entrée de Nouveaux Acteurs**\n",
      "   - La simplification des obligations et des exigences de conformité pourrait encourager l'innovation et l'entrée de nouveaux acteurs sur le marché des actifs numériques. Cependant, cette simplification pourrait également réduire certaines garanties de sécurité et de transparence pour les clients.\n",
      "\n",
      "2. **Maintien de Standards Élevés de Gouvernance et de Conformité**\n",
      "   - Le maintien des vérifications essentielles par l'AMF et la coopération entre l'AMF et l'ACPR assurent que les prestataires continuent de respecter des standards élevés en matière de gouvernance et de conformité, malgré la simplification des autres obligations.\n",
      "\n",
      "3. **Adaptation aux Réalités Locales et Internationales**\n",
      "   - Les modifications apportées aux articles de loi applicables en Nouvelle-Calédonie, Polynésie française, et îles Wallis et Futuna montrent une volonté d'harmoniser les dispositions législatives avec les réalités locales, notamment en matière de régulation financière et de conversion monétaire. Cela pourrait faciliter l'application des lois tout en respectant les spécificités économiques et juridiques locales.\n",
      "\n",
      "#### Ambiguïtés et Manques d’Informations\n",
      "\n",
      "- Certaines analyses révèlent des ambiguïtés ou des manques d’informations, notamment concernant les nouvelles catégories de personnes ou entités incluses dans les articles révisés. Il serait nécessaire de consulter les textes complets des articles pour une analyse plus détaillée et précise.\n",
      "\n",
      "### Conclusion\n",
      "\n",
      "Les modifications apportées aux articles de loi visent principalement à simplifier et à clarifier les obligations imposées aux prestataires de services, tout en maintenant des standards élevés de gouvernance et de conformité. Ces changements devraient encourager l'innovation et l'entrée de nouveaux acteurs sur le marché, tout en assurant une meilleure adéquation avec les contextes locaux et les nouvelles exigences internationales en matière de lutte contre le blanchiment de capitaux et le financement du terrorisme.\n"
     ]
    }
   ],
   "source": [
    "print(summary_simple)"
   ]
  },
  {
   "cell_type": "markdown",
   "metadata": {},
   "source": [
    "### 5.2 - Custum summarize"
   ]
  },
  {
   "cell_type": "code",
   "execution_count": 61,
   "metadata": {},
   "outputs": [],
   "source": [
    "# Amélioration prompt avec o1 + intération\n",
    "def wrap_up_multi(text_to_summarize, audience: str, detail_level:str): \n",
    "    # audience: “professionnel” ou “tout public”\n",
    "    # detail_level: “succinct” ou “détaillé”\n",
    "    prompt = ChatPromptTemplate.from_messages([(\"system\",                                  \n",
    "        \"\"\"\n",
    "\t\tPrompt amélioré avec niveaux de détail et public cible :\n",
    "\n",
    "\t\tTu es un avocat et analyste juridique très expérimenté.\n",
    "\t\tTa mission consiste à produire un résumé global des analyses réalisées sur les évolutions réglementaires de plusieurs articles de \n",
    "  \t\tloi en comparant leurs versions antérieures et révisées.\n",
    "\n",
    "\tConsignes générales :\n",
    "\t1.\tUtilise un langage juridique précis et adapté au public cible défini par la variable {audience} :\n",
    "\t•\tSi {audience} est “professionnel”, adopte un ton technique et détaillé.\n",
    "\t•\tSi {audience} est “tout public”, simplifie les termes juridiques pour les rendre accessibles tout en conservant leur précision.\n",
    " \n",
    "\t2.\tAjuste la longueur et le niveau de détail du résumé en fonction de la variable {detail_level} :\n",
    "\t•\tSi {detail_level} est “succinct”, concentre-toi uniquement sur les points clés et les impacts majeurs.\n",
    "\t•\tSi {detail_level} est “détaillé”, développe davantage les analyses, en incluant des exemples ou des explications supplémentaires lorsque pertinent.\n",
    " \n",
    "\t3.\tRegroupe et hiérarchise les informations :\n",
    "\t•\tIdentifie les thématiques ou tendances communes (par exemple : renforcement des obligations, simplification de procédures, etc.).\n",
    "\t•\tMets en évidence les changements les plus significatifs et leur impact global.\n",
    "\t4.\tSi certaines analyses révèlent des ambiguïtés ou des manques d’informations, mentionne-les brièvement.\n",
    "\n",
    "\tVariables :\n",
    "\t•\tNiveau de détail : {detail_level} (valeurs possibles : “succinct” ou “détaillé”)\n",
    "\t•\tPublic cible : {audience} (valeurs possibles : “professionnel” ou “tout public”)\n",
    "\n",
    "\tObjectif :\n",
    "\t\tFournis un résumé synthétique ou détaillé, selon le niveau demandé, mettant en lumière les évolutions majeures, \n",
    "  \t\tles implications globales, et les tendances observées à travers les différents articles. Structure ta réponse de manière organisée \n",
    "    \t(par exemple : par thématique ou par impact).\n",
    "    \n",
    "    Voici le text  : {text_to_summarize}\n",
    "            \"\"\")])\n",
    "    \n",
    "    chain = prompt | llm | StrOutputParser()\n",
    "    \n",
    "    llm_output = chain.invoke({\n",
    "        \"text_to_summarize\": text_to_summarize})\n",
    "    \n",
    "    return llm_output"
   ]
  },
  {
   "cell_type": "code",
   "execution_count": 64,
   "metadata": {},
   "outputs": [
    {
     "ename": "KeyError",
     "evalue": "\"Input to ChatPromptTemplate is missing variables {'audience', 'detail_level'}.  Expected: ['audience', 'detail_level', 'text_to_summarize'] Received: ['text_to_summarize']\\nNote: if you intended {audience} to be part of the string and not a variable, please escape it with double curly braces like: '{{audience}}'.\\nFor troubleshooting, visit: https://python.langchain.com/docs/troubleshooting/errors/INVALID_PROMPT_INPUT \"",
     "output_type": "error",
     "traceback": [
      "\u001b[0;31m---------------------------------------------------------------------------\u001b[0m",
      "\u001b[0;31mKeyError\u001b[0m                                  Traceback (most recent call last)",
      "Cell \u001b[0;32mIn[64], line 1\u001b[0m\n\u001b[0;32m----> 1\u001b[0m resuult_multi \u001b[38;5;241m=\u001b[39m \u001b[43mwrap_up_multi\u001b[49m\u001b[43m(\u001b[49m\u001b[43mtext_variable\u001b[49m\u001b[43m,\u001b[49m\u001b[43m \u001b[49m\u001b[38;5;124;43m'\u001b[39;49m\u001b[38;5;124;43mprofessionnel\u001b[39;49m\u001b[38;5;124;43m'\u001b[39;49m\u001b[43m,\u001b[49m\u001b[43m \u001b[49m\u001b[38;5;124;43m'\u001b[39;49m\u001b[38;5;124;43msuccinct\u001b[39;49m\u001b[38;5;124;43m'\u001b[39;49m\u001b[43m)\u001b[49m\n",
      "Cell \u001b[0;32mIn[61], line 41\u001b[0m, in \u001b[0;36mwrap_up_multi\u001b[0;34m(text_to_summarize, audience, detail_level)\u001b[0m\n\u001b[1;32m      5\u001b[0m     prompt \u001b[38;5;241m=\u001b[39m ChatPromptTemplate\u001b[38;5;241m.\u001b[39mfrom_messages([(\u001b[38;5;124m\"\u001b[39m\u001b[38;5;124msystem\u001b[39m\u001b[38;5;124m\"\u001b[39m,                                  \n\u001b[1;32m      6\u001b[0m \u001b[38;5;250m        \u001b[39m\u001b[38;5;124;03m\"\"\"\u001b[39;00m\n\u001b[1;32m      7\u001b[0m \u001b[38;5;124;03m\t\tPrompt amélioré avec niveaux de détail et public cible :\u001b[39;00m\n\u001b[0;32m   (...)\u001b[0m\n\u001b[1;32m     36\u001b[0m \u001b[38;5;124;03m    Voici le text  : {text_to_summarize}\u001b[39;00m\n\u001b[1;32m     37\u001b[0m \u001b[38;5;124;03m            \"\"\"\u001b[39;00m)])\n\u001b[1;32m     39\u001b[0m     chain \u001b[38;5;241m=\u001b[39m prompt \u001b[38;5;241m|\u001b[39m llm \u001b[38;5;241m|\u001b[39m StrOutputParser()\n\u001b[0;32m---> 41\u001b[0m     llm_output \u001b[38;5;241m=\u001b[39m \u001b[43mchain\u001b[49m\u001b[38;5;241;43m.\u001b[39;49m\u001b[43minvoke\u001b[49m\u001b[43m(\u001b[49m\u001b[43m{\u001b[49m\n\u001b[1;32m     42\u001b[0m \u001b[43m        \u001b[49m\u001b[38;5;124;43m\"\u001b[39;49m\u001b[38;5;124;43mtext_to_summarize\u001b[39;49m\u001b[38;5;124;43m\"\u001b[39;49m\u001b[43m:\u001b[49m\u001b[43m \u001b[49m\u001b[43mtext_to_summarize\u001b[49m\u001b[43m}\u001b[49m\u001b[43m)\u001b[49m\n\u001b[1;32m     44\u001b[0m     \u001b[38;5;28;01mreturn\u001b[39;00m llm_output\n",
      "File \u001b[0;32m~/Desktop/Github_perso/3 - Legal FR Tracker/venv/lib/python3.13/site-packages/langchain_core/runnables/base.py:3020\u001b[0m, in \u001b[0;36mRunnableSequence.invoke\u001b[0;34m(self, input, config, **kwargs)\u001b[0m\n\u001b[1;32m   3018\u001b[0m context\u001b[38;5;241m.\u001b[39mrun(_set_config_context, config)\n\u001b[1;32m   3019\u001b[0m \u001b[38;5;28;01mif\u001b[39;00m i \u001b[38;5;241m==\u001b[39m \u001b[38;5;241m0\u001b[39m:\n\u001b[0;32m-> 3020\u001b[0m     \u001b[38;5;28minput\u001b[39m \u001b[38;5;241m=\u001b[39m \u001b[43mcontext\u001b[49m\u001b[38;5;241;43m.\u001b[39;49m\u001b[43mrun\u001b[49m\u001b[43m(\u001b[49m\u001b[43mstep\u001b[49m\u001b[38;5;241;43m.\u001b[39;49m\u001b[43minvoke\u001b[49m\u001b[43m,\u001b[49m\u001b[43m \u001b[49m\u001b[38;5;28;43minput\u001b[39;49m\u001b[43m,\u001b[49m\u001b[43m \u001b[49m\u001b[43mconfig\u001b[49m\u001b[43m,\u001b[49m\u001b[43m \u001b[49m\u001b[38;5;241;43m*\u001b[39;49m\u001b[38;5;241;43m*\u001b[39;49m\u001b[43mkwargs\u001b[49m\u001b[43m)\u001b[49m\n\u001b[1;32m   3021\u001b[0m \u001b[38;5;28;01melse\u001b[39;00m:\n\u001b[1;32m   3022\u001b[0m     \u001b[38;5;28minput\u001b[39m \u001b[38;5;241m=\u001b[39m context\u001b[38;5;241m.\u001b[39mrun(step\u001b[38;5;241m.\u001b[39minvoke, \u001b[38;5;28minput\u001b[39m, config)\n",
      "File \u001b[0;32m~/Desktop/Github_perso/3 - Legal FR Tracker/venv/lib/python3.13/site-packages/langchain_core/prompts/base.py:208\u001b[0m, in \u001b[0;36mBasePromptTemplate.invoke\u001b[0;34m(self, input, config, **kwargs)\u001b[0m\n\u001b[1;32m    206\u001b[0m \u001b[38;5;28;01mif\u001b[39;00m \u001b[38;5;28mself\u001b[39m\u001b[38;5;241m.\u001b[39mtags:\n\u001b[1;32m    207\u001b[0m     config[\u001b[38;5;124m\"\u001b[39m\u001b[38;5;124mtags\u001b[39m\u001b[38;5;124m\"\u001b[39m] \u001b[38;5;241m=\u001b[39m config[\u001b[38;5;124m\"\u001b[39m\u001b[38;5;124mtags\u001b[39m\u001b[38;5;124m\"\u001b[39m] \u001b[38;5;241m+\u001b[39m \u001b[38;5;28mself\u001b[39m\u001b[38;5;241m.\u001b[39mtags\n\u001b[0;32m--> 208\u001b[0m \u001b[38;5;28;01mreturn\u001b[39;00m \u001b[38;5;28;43mself\u001b[39;49m\u001b[38;5;241;43m.\u001b[39;49m\u001b[43m_call_with_config\u001b[49m\u001b[43m(\u001b[49m\n\u001b[1;32m    209\u001b[0m \u001b[43m    \u001b[49m\u001b[38;5;28;43mself\u001b[39;49m\u001b[38;5;241;43m.\u001b[39;49m\u001b[43m_format_prompt_with_error_handling\u001b[49m\u001b[43m,\u001b[49m\n\u001b[1;32m    210\u001b[0m \u001b[43m    \u001b[49m\u001b[38;5;28;43minput\u001b[39;49m\u001b[43m,\u001b[49m\n\u001b[1;32m    211\u001b[0m \u001b[43m    \u001b[49m\u001b[43mconfig\u001b[49m\u001b[43m,\u001b[49m\n\u001b[1;32m    212\u001b[0m \u001b[43m    \u001b[49m\u001b[43mrun_type\u001b[49m\u001b[38;5;241;43m=\u001b[39;49m\u001b[38;5;124;43m\"\u001b[39;49m\u001b[38;5;124;43mprompt\u001b[39;49m\u001b[38;5;124;43m\"\u001b[39;49m\u001b[43m,\u001b[49m\n\u001b[1;32m    213\u001b[0m \u001b[43m    \u001b[49m\u001b[43mserialized\u001b[49m\u001b[38;5;241;43m=\u001b[39;49m\u001b[38;5;28;43mself\u001b[39;49m\u001b[38;5;241;43m.\u001b[39;49m\u001b[43m_serialized\u001b[49m\u001b[43m,\u001b[49m\n\u001b[1;32m    214\u001b[0m \u001b[43m\u001b[49m\u001b[43m)\u001b[49m\n",
      "File \u001b[0;32m~/Desktop/Github_perso/3 - Legal FR Tracker/venv/lib/python3.13/site-packages/langchain_core/runnables/base.py:1925\u001b[0m, in \u001b[0;36mRunnable._call_with_config\u001b[0;34m(self, func, input, config, run_type, serialized, **kwargs)\u001b[0m\n\u001b[1;32m   1921\u001b[0m     context \u001b[38;5;241m=\u001b[39m copy_context()\n\u001b[1;32m   1922\u001b[0m     context\u001b[38;5;241m.\u001b[39mrun(_set_config_context, child_config)\n\u001b[1;32m   1923\u001b[0m     output \u001b[38;5;241m=\u001b[39m cast(\n\u001b[1;32m   1924\u001b[0m         Output,\n\u001b[0;32m-> 1925\u001b[0m         \u001b[43mcontext\u001b[49m\u001b[38;5;241;43m.\u001b[39;49m\u001b[43mrun\u001b[49m\u001b[43m(\u001b[49m\n\u001b[1;32m   1926\u001b[0m \u001b[43m            \u001b[49m\u001b[43mcall_func_with_variable_args\u001b[49m\u001b[43m,\u001b[49m\u001b[43m  \u001b[49m\u001b[38;5;66;43;03m# type: ignore[arg-type]\u001b[39;49;00m\n\u001b[1;32m   1927\u001b[0m \u001b[43m            \u001b[49m\u001b[43mfunc\u001b[49m\u001b[43m,\u001b[49m\u001b[43m  \u001b[49m\u001b[38;5;66;43;03m# type: ignore[arg-type]\u001b[39;49;00m\n\u001b[1;32m   1928\u001b[0m \u001b[43m            \u001b[49m\u001b[38;5;28;43minput\u001b[39;49m\u001b[43m,\u001b[49m\u001b[43m  \u001b[49m\u001b[38;5;66;43;03m# type: ignore[arg-type]\u001b[39;49;00m\n\u001b[1;32m   1929\u001b[0m \u001b[43m            \u001b[49m\u001b[43mconfig\u001b[49m\u001b[43m,\u001b[49m\n\u001b[1;32m   1930\u001b[0m \u001b[43m            \u001b[49m\u001b[43mrun_manager\u001b[49m\u001b[43m,\u001b[49m\n\u001b[1;32m   1931\u001b[0m \u001b[43m            \u001b[49m\u001b[38;5;241;43m*\u001b[39;49m\u001b[38;5;241;43m*\u001b[39;49m\u001b[43mkwargs\u001b[49m\u001b[43m,\u001b[49m\n\u001b[1;32m   1932\u001b[0m \u001b[43m        \u001b[49m\u001b[43m)\u001b[49m,\n\u001b[1;32m   1933\u001b[0m     )\n\u001b[1;32m   1934\u001b[0m \u001b[38;5;28;01mexcept\u001b[39;00m \u001b[38;5;167;01mBaseException\u001b[39;00m \u001b[38;5;28;01mas\u001b[39;00m e:\n\u001b[1;32m   1935\u001b[0m     run_manager\u001b[38;5;241m.\u001b[39mon_chain_error(e)\n",
      "File \u001b[0;32m~/Desktop/Github_perso/3 - Legal FR Tracker/venv/lib/python3.13/site-packages/langchain_core/runnables/config.py:396\u001b[0m, in \u001b[0;36mcall_func_with_variable_args\u001b[0;34m(func, input, config, run_manager, **kwargs)\u001b[0m\n\u001b[1;32m    394\u001b[0m \u001b[38;5;28;01mif\u001b[39;00m run_manager \u001b[38;5;129;01mis\u001b[39;00m \u001b[38;5;129;01mnot\u001b[39;00m \u001b[38;5;28;01mNone\u001b[39;00m \u001b[38;5;129;01mand\u001b[39;00m accepts_run_manager(func):\n\u001b[1;32m    395\u001b[0m     kwargs[\u001b[38;5;124m\"\u001b[39m\u001b[38;5;124mrun_manager\u001b[39m\u001b[38;5;124m\"\u001b[39m] \u001b[38;5;241m=\u001b[39m run_manager\n\u001b[0;32m--> 396\u001b[0m \u001b[38;5;28;01mreturn\u001b[39;00m \u001b[43mfunc\u001b[49m\u001b[43m(\u001b[49m\u001b[38;5;28;43minput\u001b[39;49m\u001b[43m,\u001b[49m\u001b[43m \u001b[49m\u001b[38;5;241;43m*\u001b[39;49m\u001b[38;5;241;43m*\u001b[39;49m\u001b[43mkwargs\u001b[49m\u001b[43m)\u001b[49m\n",
      "File \u001b[0;32m~/Desktop/Github_perso/3 - Legal FR Tracker/venv/lib/python3.13/site-packages/langchain_core/prompts/base.py:182\u001b[0m, in \u001b[0;36mBasePromptTemplate._format_prompt_with_error_handling\u001b[0;34m(self, inner_input)\u001b[0m\n\u001b[1;32m    181\u001b[0m \u001b[38;5;28;01mdef\u001b[39;00m \u001b[38;5;21m_format_prompt_with_error_handling\u001b[39m(\u001b[38;5;28mself\u001b[39m, inner_input: \u001b[38;5;28mdict\u001b[39m) \u001b[38;5;241m-\u001b[39m\u001b[38;5;241m>\u001b[39m PromptValue:\n\u001b[0;32m--> 182\u001b[0m     _inner_input \u001b[38;5;241m=\u001b[39m \u001b[38;5;28;43mself\u001b[39;49m\u001b[38;5;241;43m.\u001b[39;49m\u001b[43m_validate_input\u001b[49m\u001b[43m(\u001b[49m\u001b[43minner_input\u001b[49m\u001b[43m)\u001b[49m\n\u001b[1;32m    183\u001b[0m     \u001b[38;5;28;01mreturn\u001b[39;00m \u001b[38;5;28mself\u001b[39m\u001b[38;5;241m.\u001b[39mformat_prompt(\u001b[38;5;241m*\u001b[39m\u001b[38;5;241m*\u001b[39m_inner_input)\n",
      "File \u001b[0;32m~/Desktop/Github_perso/3 - Legal FR Tracker/venv/lib/python3.13/site-packages/langchain_core/prompts/base.py:176\u001b[0m, in \u001b[0;36mBasePromptTemplate._validate_input\u001b[0;34m(self, inner_input)\u001b[0m\n\u001b[1;32m    170\u001b[0m     example_key \u001b[38;5;241m=\u001b[39m missing\u001b[38;5;241m.\u001b[39mpop()\n\u001b[1;32m    171\u001b[0m     msg \u001b[38;5;241m+\u001b[39m\u001b[38;5;241m=\u001b[39m (\n\u001b[1;32m    172\u001b[0m         \u001b[38;5;124mf\u001b[39m\u001b[38;5;124m\"\u001b[39m\u001b[38;5;130;01m\\n\u001b[39;00m\u001b[38;5;124mNote: if you intended \u001b[39m\u001b[38;5;130;01m{{\u001b[39;00m\u001b[38;5;132;01m{\u001b[39;00mexample_key\u001b[38;5;132;01m}\u001b[39;00m\u001b[38;5;130;01m}}\u001b[39;00m\u001b[38;5;124m to be part of the string\u001b[39m\u001b[38;5;124m\"\u001b[39m\n\u001b[1;32m    173\u001b[0m         \u001b[38;5;124m\"\u001b[39m\u001b[38;5;124m and not a variable, please escape it with double curly braces like: \u001b[39m\u001b[38;5;124m\"\u001b[39m\n\u001b[1;32m    174\u001b[0m         \u001b[38;5;124mf\u001b[39m\u001b[38;5;124m\"\u001b[39m\u001b[38;5;124m'\u001b[39m\u001b[38;5;130;01m{{\u001b[39;00m\u001b[38;5;130;01m{{\u001b[39;00m\u001b[38;5;132;01m{\u001b[39;00mexample_key\u001b[38;5;132;01m}\u001b[39;00m\u001b[38;5;130;01m}}\u001b[39;00m\u001b[38;5;130;01m}}\u001b[39;00m\u001b[38;5;124m'\u001b[39m\u001b[38;5;124m.\u001b[39m\u001b[38;5;124m\"\u001b[39m\n\u001b[1;32m    175\u001b[0m     )\n\u001b[0;32m--> 176\u001b[0m     \u001b[38;5;28;01mraise\u001b[39;00m \u001b[38;5;167;01mKeyError\u001b[39;00m(\n\u001b[1;32m    177\u001b[0m         create_message(message\u001b[38;5;241m=\u001b[39mmsg, error_code\u001b[38;5;241m=\u001b[39mErrorCode\u001b[38;5;241m.\u001b[39mINVALID_PROMPT_INPUT)\n\u001b[1;32m    178\u001b[0m     )\n\u001b[1;32m    179\u001b[0m \u001b[38;5;28;01mreturn\u001b[39;00m inner_input\n",
      "\u001b[0;31mKeyError\u001b[0m: \"Input to ChatPromptTemplate is missing variables {'audience', 'detail_level'}.  Expected: ['audience', 'detail_level', 'text_to_summarize'] Received: ['text_to_summarize']\\nNote: if you intended {audience} to be part of the string and not a variable, please escape it with double curly braces like: '{{audience}}'.\\nFor troubleshooting, visit: https://python.langchain.com/docs/troubleshooting/errors/INVALID_PROMPT_INPUT \""
     ]
    }
   ],
   "source": [
    "resuult_multi = wrap_up_multi(text_variable, 'professionnel', 'succinct')"
   ]
  }
 ],
 "metadata": {
  "kernelspec": {
   "display_name": "Python 3.13.1 (env)",
   "language": "python",
   "name": "mon-env"
  },
  "language_info": {
   "codemirror_mode": {
    "name": "ipython",
    "version": 3
   },
   "file_extension": ".py",
   "mimetype": "text/x-python",
   "name": "python",
   "nbconvert_exporter": "python",
   "pygments_lexer": "ipython3",
   "version": "3.13.1"
  }
 },
 "nbformat": 4,
 "nbformat_minor": 2
}
