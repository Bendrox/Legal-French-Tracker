{
 "cells": [
  {
   "cell_type": "code",
   "execution_count": null,
   "metadata": {},
   "outputs": [],
   "source": [
    "import getpass\n",
    "import os\n",
    "from credentials import *"
   ]
  },
  {
   "cell_type": "code",
   "execution_count": 2,
   "metadata": {},
   "outputs": [],
   "source": [
    "from langchain_openai import AzureChatOpenAI\n",
    "\n",
    "llm = AzureChatOpenAI(\n",
    "    azure_endpoint= Azure_OpenAI_OB_Endpoint ,\n",
    "    openai_api_version=\"2024-02-15-preview\",\n",
    "    model_name=\"gpt-4o\",\n",
    "    openai_api_key= Azure_OpenAI_OB_Key,\n",
    "    openai_api_type=\"azure\",\n",
    "    temperature=0,\n",
    "    deployment_name=\"gpt-4o-deploy\",\n",
    "    #streaming=True,\n",
    ")"
   ]
  },
  {
   "cell_type": "markdown",
   "metadata": {},
   "source": [
    "## 1 - Test"
   ]
  },
  {
   "cell_type": "code",
   "execution_count": 3,
   "metadata": {},
   "outputs": [],
   "source": [
    "from langchain_core.prompts import ChatPromptTemplate\n",
    "\n",
    "prompt = ChatPromptTemplate.from_messages(\n",
    "    [(\"system\",\n",
    "            \"\"\"Tu es un avocat et analyste juridique très expérimenté, tu as pour but d'analyser et commenter les changements \n",
    "            réglementaires de chaque article , tu trouveras ici l'ancienne et la nouvelle version de l'article que l on te donne. \n",
    "            Tu adopteras un language juridique précis. \n",
    "            Pour avoir du contexte , sache que ce texte est extrait du {code}\"\"\"),\n",
    "        (\"human\", \n",
    "            \"Voici l'ancienne version de l'article a analyser {old_version} et voici la nouvelle version du meme article {new_version}\")]\n",
    ")"
   ]
  },
  {
   "cell_type": "code",
   "execution_count": 4,
   "metadata": {},
   "outputs": [],
   "source": [
    "from langchain_core.output_parsers import StrOutputParser\n",
    "chain = prompt | llm | StrOutputParser()\n",
    "\n",
    "contenu_ancien = \"Les établissements de crédit, les sociétés de financement, les établissements de monnaie électronique qui fournissent des services de paiement, les établissements de paiement, les intermédiaires en opérations de banque et en services de paiement, les intermédiaires en financement participatif, les prestataires de services de financement participatif dans le cadre de leurs activités de facilitation d'octroi de prêts, les entreprises d'assurance dans le cadre de leur activité de prêts et les sociétés de gestion mentionnées au premier alinéa de l'article L. 519-2 qui recourent aux services d'intermédiaires en opérations de banque et en services de paiement doivent s'assurer que ceux-ci sont immatriculés conformément à l'article L. 519-3-1 . Les établissements de crédit, les sociétés de financement, les établissements de monnaie électronique qui fournissent des services de paiement, les établissements de paiement, les intermédiaires en financement participatif, les prestataires de services de financement participatif dans le cadre de leurs activités de facilitation d'octroi de prêts, les entreprises d'assurance dans le cadre de leur activité de prêts et les sociétés de gestion mentionnées au premier alinéa de l'article L. 519-2 qui recourent à des intermédiaires ressortissants d'un Etat membre de l'Union européenne ou d'un Etat partie à l'accord sur l'Espace économique européen autre que la France et exerçant sur le territoire français en régime de libre prestation de services ou de libre établissement s'assurent auprès de l'organisme qui tient le registre prévu au I de l'article L. 512-1 du code des assurances que ceux-ci ont effectué les formalités requises à l'article L. 519-9 du présent code.\"\n",
    "contenu_nouveau = \"Les établissements de crédit, les sociétés de financement, les établissements de monnaie électronique qui fournissent des services de paiement, les établissements de paiement, les intermédiaires en opérations de banque et en services de paiement, les intermédiaires en financement participatif, les entreprises d'assurance dans le cadre de leur activité de prêts et les sociétés de gestion mentionnées au premier alinéa de l'article L. 519-2 qui recourent aux services d'intermédiaires en opérations de banque et en services de paiement doivent s'assurer que ceux-ci sont immatriculés conformément à l'article L. 519-3-1 . Les établissements de crédit, les sociétés de financement, les établissements de monnaie électronique qui fournissent des services de paiement, les établissements de paiement, les intermédiaires en financement participatif, les entreprises d'assurance dans le cadre de leur activité de prêts et les sociétés de gestion mentionnées au premier alinéa de l'article L. 519-2 qui recourent à des intermédiaires ressortissants d'un Etat membre de l'Union européenne ou d'un Etat partie à l'accord sur l'Espace économique européen autre que la France et exerçant sur le territoire français en régime de libre prestation de services ou de libre établissement s'assurent auprès de l'organisme qui tient le registre prévu au I de l'article L. 512-1 du code des assurances que ceux-ci ont effectué les formalités requises à l'article L. 519-9 du présent code.\"\n",
    "llm_output = chain.invoke(\n",
    "    {\n",
    "        \"code\": \"Code monétaire et financier\",\n",
    "        \"old_version\": contenu_ancien,\n",
    "        \"new_version\": contenu_nouveau,\n",
    "        \"input\": \"I love programming.\",\n",
    "    }\n",
    ")"
   ]
  },
  {
   "cell_type": "code",
   "execution_count": 5,
   "metadata": {},
   "outputs": [
    {
     "name": "stdout",
     "output_type": "stream",
     "text": [
      "L'analyse des modifications apportées à l'article du Code monétaire et financier révèle une suppression notable. La nouvelle version de l'article a omis la mention des \"prestataires de services de financement participatif dans le cadre de leurs activités de facilitation d'octroi de prêts\" dans les deux alinéas.\n",
      "\n",
      "**Ancienne version :**\n",
      "1. Les établissements de crédit, les sociétés de financement, les établissements de monnaie électronique qui fournissent des services de paiement, les établissements de paiement, les intermédiaires en opérations de banque et en services de paiement, les intermédiaires en financement participatif, les prestataires de services de financement participatif dans le cadre de leurs activités de facilitation d'octroi de prêts, les entreprises d'assurance dans le cadre de leur activité de prêts et les sociétés de gestion mentionnées au premier alinéa de l'article L. 519-2 qui recourent aux services d'intermédiaires en opérations de banque et en services de paiement doivent s'assurer que ceux-ci sont immatriculés conformément à l'article L. 519-3-1.\n",
      "2. Les établissements de crédit, les sociétés de financement, les établissements de monnaie électronique qui fournissent des services de paiement, les établissements de paiement, les intermédiaires en financement participatif, les prestataires de services de financement participatif dans le cadre de leurs activités de facilitation d'octroi de prêts, les entreprises d'assurance dans le cadre de leur activité de prêts et les sociétés de gestion mentionnées au premier alinéa de l'article L. 519-2 qui recourent à des intermédiaires ressortissants d'un Etat membre de l'Union européenne ou d'un Etat partie à l'accord sur l'Espace économique européen autre que la France et exerçant sur le territoire français en régime de libre prestation de services ou de libre établissement s'assurent auprès de l'organisme qui tient le registre prévu au I de l'article L. 512-1 du code des assurances que ceux-ci ont effectué les formalités requises à l'article L. 519-9 du présent code.\n",
      "\n",
      "**Nouvelle version :**\n",
      "1. Les établissements de crédit, les sociétés de financement, les établissements de monnaie électronique qui fournissent des services de paiement, les établissements de paiement, les intermédiaires en opérations de banque et en services de paiement, les intermédiaires en financement participatif, les entreprises d'assurance dans le cadre de leur activité de prêts et les sociétés de gestion mentionnées au premier alinéa de l'article L. 519-2 qui recourent aux services d'intermédiaires en opérations de banque et en services de paiement doivent s'assurer que ceux-ci sont immatriculés conformément à l'article L. 519-3-1.\n",
      "2. Les établissements de crédit, les sociétés de financement, les établissements de monnaie électronique qui fournissent des services de paiement, les établissements de paiement, les intermédiaires en financement participatif, les entreprises d'assurance dans le cadre de leur activité de prêts et les sociétés de gestion mentionnées au premier alinéa de l'article L. 519-2 qui recourent à des intermédiaires ressortissants d'un Etat membre de l'Union européenne ou d'un Etat partie à l'accord sur l'Espace économique européen autre que la France et exerçant sur le territoire français en régime de libre prestation de services ou de libre établissement s'assurent auprès de l'organisme qui tient le registre prévu au I de l'article L. 512-1 du code des assurances que ceux-ci ont effectué les formalités requises à l'article L. 519-9 du présent code.\n",
      "\n",
      "**Commentaire juridique :**\n",
      "La suppression des \"prestataires de services de financement participatif dans le cadre de leurs activités de facilitation d'octroi de prêts\" dans la nouvelle version de l'article pourrait indiquer une volonté de simplification ou une révision de la portée des obligations de vérification d'immatriculation. Cette modification pourrait avoir des implications sur la régulation et la supervision des activités de financement participatif, en particulier celles qui facilitent l'octroi de prêts. Les entités concernées par cette suppression ne sont plus explicitement mentionnées, ce qui pourrait potentiellement réduire la charge administrative pour les établissements de crédit, les sociétés de financement, et autres entités énumérées, mais pourrait aussi soulever des questions sur la protection des consommateurs et la transparence dans le secteur du financement participatif. Il serait pertinent de vérifier si cette suppression est compensée par des dispositions spécifiques ailleurs dans le Code monétaire et financier ou dans d'autres régulations applicables.\n"
     ]
    }
   ],
   "source": [
    "print(llm_output)"
   ]
  },
  {
   "cell_type": "markdown",
   "metadata": {},
   "source": [
    "## 2 - Function"
   ]
  },
  {
   "cell_type": "code",
   "execution_count": 6,
   "metadata": {},
   "outputs": [],
   "source": [
    "from langchain_core.prompts import ChatPromptTemplate\n",
    "from langchain_core.output_parsers import StrOutputParser\n",
    "\n",
    "def llm_legal_change_com(code, old_version, new_version): # \"Code monétaire et financier\"\n",
    "    \n",
    "\n",
    "    prompt = ChatPromptTemplate.from_messages([(\"system\",\n",
    "            \"\"\"Tu es un avocat et analyste juridique très expérimenté, tu as pour but d'analyser et commenter les changements \n",
    "            réglementaires de chaque article , tu trouveras ici l'ancienne et la nouvelle version de l'article que l on te donne. \n",
    "            Tu adopteras un language juridique précis. Tu n'inventeras rien et tu te baseras uniquement sur les données fournies\n",
    "            Pour avoir du contexte , sache que ce texte est extrait du {code}\"\"\"),\n",
    "        (\"human\", \n",
    "            \"Voici l'ancienne version de l'article a analyser {old_version} et voici la nouvelle version du meme article {new_version}\")])\n",
    "    \n",
    "    chain = prompt | llm | StrOutputParser()\n",
    "    \n",
    "    llm_output = chain.invoke({\n",
    "        \"code\": code,\n",
    "        \"old_version\": old_version,\n",
    "        \"new_version\": new_version})\n",
    "    \n",
    "    return print(llm_output)"
   ]
  },
  {
   "cell_type": "code",
   "execution_count": 7,
   "metadata": {},
   "outputs": [
    {
     "name": "stdout",
     "output_type": "stream",
     "text": [
      "L'analyse comparative des deux versions de l'article révèle une modification notable. La nouvelle version de l'article a supprimé une catégorie spécifique d'acteurs économiques, à savoir les \"prestataires de services de financement participatif dans le cadre de leurs activités de facilitation d'octroi de prêts\". \n",
      "\n",
      "Dans l'ancienne version, ces prestataires étaient explicitement mentionnés à deux reprises :\n",
      "1. Dans la liste des entités qui doivent s'assurer que les intermédiaires en opérations de banque et en services de paiement sont immatriculés conformément à l'article L. 519-3-1.\n",
      "2. Dans la liste des entités qui doivent s'assurer que les intermédiaires ressortissants d'un État membre de l'Union européenne ou d'un État partie à l'accord sur l'Espace économique européen ont effectué les formalités requises à l'article L. 519-9 du présent code.\n",
      "\n",
      "La suppression de cette catégorie dans la nouvelle version de l'article signifie que les prestataires de services de financement participatif dans le cadre de leurs activités de facilitation d'octroi de prêts ne sont plus soumis aux obligations de vérification d'immatriculation et de formalités requises par les articles L. 519-3-1 et L. 519-9 respectivement.\n",
      "\n",
      "Cette modification pourrait avoir plusieurs implications :\n",
      "1. **Réduction des obligations de conformité** : Les prestataires de services de financement participatif dans le cadre de leurs activités de facilitation d'octroi de prêts ne sont plus tenus de s'assurer que les intermédiaires en opérations de banque et en services de paiement sont immatriculés, ce qui pourrait simplifier leurs obligations de conformité.\n",
      "2. **Impact sur la supervision et la régulation** : La suppression de cette catégorie pourrait affecter la supervision et la régulation de ces prestataires, potentiellement réduisant le contrôle exercé sur leurs activités.\n",
      "3. **Clarification ou omission** : Il est possible que cette modification vise à clarifier le champ d'application de l'article en excluant une catégorie spécifique d'acteurs, ou qu'il s'agisse d'une omission qui pourrait nécessiter une correction future.\n",
      "\n",
      "En conclusion, la principale modification entre les deux versions de l'article est la suppression des \"prestataires de services de financement participatif dans le cadre de leurs activités de facilitation d'octroi de prêts\" des entités soumises aux obligations de vérification d'immatriculation et de formalités. Cette modification pourrait simplifier les obligations de conformité pour ces prestataires, mais pourrait également avoir des implications sur la régulation et la supervision de leurs activités.\n"
     ]
    }
   ],
   "source": [
    "llm_legal_change_com(\"Code monétaire et financier\", contenu_ancien, contenu_nouveau)"
   ]
  },
  {
   "cell_type": "markdown",
   "metadata": {},
   "source": [
    "## 3 - Data import\n"
   ]
  },
  {
   "cell_type": "code",
   "execution_count": 8,
   "metadata": {},
   "outputs": [],
   "source": [
    "import pandas as pd"
   ]
  },
  {
   "cell_type": "code",
   "execution_count": 12,
   "metadata": {},
   "outputs": [],
   "source": [
    "AML5_modifs= pd.read_excel(\"/Users/oussa/Desktop/Github_perso/3 - Legal FR Tracker/data_output/Output_AML_5.xlsx\")"
   ]
  },
  {
   "cell_type": "code",
   "execution_count": 14,
   "metadata": {},
   "outputs": [
    {
     "data": {
      "text/plain": [
       "Index(['Année', 'Version du', 'Date de début cible d'entrée en vigueur',\n",
       "       'Est la dernière version', 'ID Article Modificateur',\n",
       "       'Titre Article Modificateur', 'Nature Article Modificateur',\n",
       "       'Date de début cible Article Modificateur',\n",
       "       'Action Article Modificateur', 'ID Parent', 'Nom Parent', 'CID Parent',\n",
       "       'ID Article Cible', 'Titre Article Cible',\n",
       "       'Date de début (Article Cible)', 'Date de fin (Article Cible)',\n",
       "       'Contenu_Ancien_Article', 'Contenu_Nouv_Vers_Article',\n",
       "       'Compare contenu'],\n",
       "      dtype='object')"
      ]
     },
     "execution_count": 14,
     "metadata": {},
     "output_type": "execute_result"
    }
   ],
   "source": [
    "AML5_modifs.columns"
   ]
  },
  {
   "cell_type": "code",
   "execution_count": 16,
   "metadata": {},
   "outputs": [],
   "source": [
    "AML5_modifs = AML5_modifs[AML5_modifs['Compare contenu'] ==\"OK change\"]\n",
    "AML5_modifs['Compare contenu'].unique()"
   ]
  }
 ],
 "metadata": {
  "kernelspec": {
   "display_name": "Python 3.13.1 (env)",
   "language": "python",
   "name": "mon-env"
  },
  "language_info": {
   "codemirror_mode": {
    "name": "ipython",
    "version": 3
   },
   "file_extension": ".py",
   "mimetype": "text/x-python",
   "name": "python",
   "nbconvert_exporter": "python",
   "pygments_lexer": "ipython3",
   "version": "3.13.1"
  }
 },
 "nbformat": 4,
 "nbformat_minor": 2
}
