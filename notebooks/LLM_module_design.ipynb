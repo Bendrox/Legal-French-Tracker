{
 "cells": [
  {
   "cell_type": "markdown",
   "metadata": {},
   "source": [
    "# I. LLM expériementation :\n"
   ]
  },
  {
   "cell_type": "code",
   "execution_count": 10,
   "metadata": {},
   "outputs": [],
   "source": [
    "import getpass\n",
    "import os\n",
    "import tiktoken\n",
    "import sys"
   ]
  },
  {
   "cell_type": "code",
   "execution_count": 11,
   "metadata": {},
   "outputs": [],
   "source": [
    "sys.path.append(\"..\")  # Ajoute le dossier parent\n",
    "from credentials import Azure_OpenAI_OB_Endpoint, Azure_OpenAI_OB_Key"
   ]
  },
  {
   "cell_type": "code",
   "execution_count": 12,
   "metadata": {},
   "outputs": [],
   "source": [
    "from langchain_openai import AzureChatOpenAI\n",
    "\n",
    "llm = AzureChatOpenAI(\n",
    "    azure_endpoint= Azure_OpenAI_OB_Endpoint ,\n",
    "    openai_api_version=\"2024-02-15-preview\",\n",
    "    model_name=\"gpt-4o\",\n",
    "    openai_api_key= Azure_OpenAI_OB_Key,\n",
    "    openai_api_type=\"azure\",\n",
    "    temperature=0,\n",
    "    deployment_name=\"gpt-4o-deploy\",\n",
    "    #streaming=True,\n",
    ")"
   ]
  },
  {
   "cell_type": "code",
   "execution_count": 13,
   "metadata": {},
   "outputs": [
    {
     "name": "stdout",
     "output_type": "stream",
     "text": [
      "Nombre de tokens : 10\n"
     ]
    }
   ],
   "source": [
    "import tiktoken\n",
    "\n",
    "def count_tokens(text, model=\"gpt-4o\"):\n",
    "    # Obtenir l'encodage en fonction du modèle\n",
    "    try:\n",
    "        encoding = tiktoken.encoding_for_model(model)\n",
    "    except KeyError:\n",
    "        # Si le modèle n'est pas pris en charge, utilisez un encodage par défaut\n",
    "        encoding = tiktoken.get_encoding(\"cl100k_base\")\n",
    "    \n",
    "    # Convertir le texte en tokens\n",
    "    tokens = encoding.encode(text)\n",
    "    \n",
    "    # Retourner le nombre de tokens\n",
    "    return len(tokens)\n",
    "\n",
    "# Exemple d'utilisation\n",
    "my_text = \"Voici un exemple de texte que nous voulons analyser.\"\n",
    "token_count = count_tokens(my_text, model=\"gpt-4o\")\n",
    "print(f\"Nombre de tokens : {token_count}\")"
   ]
  },
  {
   "cell_type": "code",
   "execution_count": 14,
   "metadata": {},
   "outputs": [],
   "source": [
    "from langchain_community.callbacks.manager import get_openai_callback"
   ]
  },
  {
   "cell_type": "code",
   "execution_count": 15,
   "metadata": {},
   "outputs": [
    {
     "name": "stdout",
     "output_type": "stream",
     "text": [
      "Tokens Used: 31\n",
      "\tPrompt Tokens: 11\n",
      "\t\tPrompt Tokens Cached: 0\n",
      "\tCompletion Tokens: 20\n",
      "\t\tReasoning Tokens: 0\n",
      "Successful Requests: 1\n",
      "Total Cost (USD): $0.00035499999999999996\n"
     ]
    }
   ],
   "source": [
    "with get_openai_callback() as cb:\n",
    "    result = llm.invoke(\"Tell me a joke\")\n",
    "    print(cb)"
   ]
  },
  {
   "cell_type": "markdown",
   "metadata": {},
   "source": [
    "## 1 - Test"
   ]
  },
  {
   "cell_type": "code",
   "execution_count": 16,
   "metadata": {},
   "outputs": [],
   "source": [
    "from langchain_core.prompts import ChatPromptTemplate\n",
    "\n",
    "prompt = ChatPromptTemplate.from_messages(\n",
    "    [(\"system\",\n",
    "            \"\"\"Tu es un avocat et analyste juridique très expérimenté, tu as pour but d'analyser et commenter les changements \n",
    "            réglementaires de chaque article , tu trouveras ici l'ancienne et la nouvelle version de l'article que l on te donne. \n",
    "            Tu adopteras un language juridique précis. \n",
    "            Pour avoir du contexte , sache que ce texte est extrait du {code}\"\"\"),\n",
    "        (\"human\", \n",
    "            \"Voici l'ancienne version de l'article a analyser {old_version} et voici la nouvelle version du meme article {new_version}\")]\n",
    ")"
   ]
  },
  {
   "cell_type": "code",
   "execution_count": 17,
   "metadata": {},
   "outputs": [],
   "source": [
    "from langchain_core.output_parsers import StrOutputParser\n",
    "chain = prompt | llm | StrOutputParser()\n",
    "\n",
    "contenu_ancien = \"Les établissements de crédit, les sociétés de financement, les établissements de monnaie électronique qui fournissent des services de paiement, les établissements de paiement, les intermédiaires en opérations de banque et en services de paiement, les intermédiaires en financement participatif, les prestataires de services de financement participatif dans le cadre de leurs activités de facilitation d'octroi de prêts, les entreprises d'assurance dans le cadre de leur activité de prêts et les sociétés de gestion mentionnées au premier alinéa de l'article L. 519-2 qui recourent aux services d'intermédiaires en opérations de banque et en services de paiement doivent s'assurer que ceux-ci sont immatriculés conformément à l'article L. 519-3-1 . Les établissements de crédit, les sociétés de financement, les établissements de monnaie électronique qui fournissent des services de paiement, les établissements de paiement, les intermédiaires en financement participatif, les prestataires de services de financement participatif dans le cadre de leurs activités de facilitation d'octroi de prêts, les entreprises d'assurance dans le cadre de leur activité de prêts et les sociétés de gestion mentionnées au premier alinéa de l'article L. 519-2 qui recourent à des intermédiaires ressortissants d'un Etat membre de l'Union européenne ou d'un Etat partie à l'accord sur l'Espace économique européen autre que la France et exerçant sur le territoire français en régime de libre prestation de services ou de libre établissement s'assurent auprès de l'organisme qui tient le registre prévu au I de l'article L. 512-1 du code des assurances que ceux-ci ont effectué les formalités requises à l'article L. 519-9 du présent code.\"\n",
    "contenu_nouveau = \"Les établissements de crédit, les sociétés de financement, les établissements de monnaie électronique qui fournissent des services de paiement, les établissements de paiement, les intermédiaires en opérations de banque et en services de paiement, les intermédiaires en financement participatif, les entreprises d'assurance dans le cadre de leur activité de prêts et les sociétés de gestion mentionnées au premier alinéa de l'article L. 519-2 qui recourent aux services d'intermédiaires en opérations de banque et en services de paiement doivent s'assurer que ceux-ci sont immatriculés conformément à l'article L. 519-3-1 . Les établissements de crédit, les sociétés de financement, les établissements de monnaie électronique qui fournissent des services de paiement, les établissements de paiement, les intermédiaires en financement participatif, les entreprises d'assurance dans le cadre de leur activité de prêts et les sociétés de gestion mentionnées au premier alinéa de l'article L. 519-2 qui recourent à des intermédiaires ressortissants d'un Etat membre de l'Union européenne ou d'un Etat partie à l'accord sur l'Espace économique européen autre que la France et exerçant sur le territoire français en régime de libre prestation de services ou de libre établissement s'assurent auprès de l'organisme qui tient le registre prévu au I de l'article L. 512-1 du code des assurances que ceux-ci ont effectué les formalités requises à l'article L. 519-9 du présent code.\"\n",
    "llm_output = chain.invoke(\n",
    "    {\n",
    "        \"code\": \"Code monétaire et financier\",\n",
    "        \"old_version\": contenu_ancien,\n",
    "        \"new_version\": contenu_nouveau,\n",
    "        \"input\": \"I love programming.\",\n",
    "    }\n",
    ")"
   ]
  },
  {
   "cell_type": "code",
   "execution_count": 18,
   "metadata": {},
   "outputs": [
    {
     "name": "stdout",
     "output_type": "stream",
     "text": [
      "L'analyse des modifications apportées à l'article du Code monétaire et financier révèle une suppression notable. La nouvelle version de l'article a omis la mention des \"prestataires de services de financement participatif dans le cadre de leurs activités de facilitation d'octroi de prêts\" dans les deux alinéas.\n",
      "\n",
      "**Ancienne version :**\n",
      "1. Les établissements de crédit, les sociétés de financement, les établissements de monnaie électronique qui fournissent des services de paiement, les établissements de paiement, les intermédiaires en opérations de banque et en services de paiement, les intermédiaires en financement participatif, les prestataires de services de financement participatif dans le cadre de leurs activités de facilitation d'octroi de prêts, les entreprises d'assurance dans le cadre de leur activité de prêts et les sociétés de gestion mentionnées au premier alinéa de l'article L. 519-2 qui recourent aux services d'intermédiaires en opérations de banque et en services de paiement doivent s'assurer que ceux-ci sont immatriculés conformément à l'article L. 519-3-1.\n",
      "2. Les établissements de crédit, les sociétés de financement, les établissements de monnaie électronique qui fournissent des services de paiement, les établissements de paiement, les intermédiaires en financement participatif, les prestataires de services de financement participatif dans le cadre de leurs activités de facilitation d'octroi de prêts, les entreprises d'assurance dans le cadre de leur activité de prêts et les sociétés de gestion mentionnées au premier alinéa de l'article L. 519-2 qui recourent à des intermédiaires ressortissants d'un Etat membre de l'Union européenne ou d'un Etat partie à l'accord sur l'Espace économique européen autre que la France et exerçant sur le territoire français en régime de libre prestation de services ou de libre établissement s'assurent auprès de l'organisme qui tient le registre prévu au I de l'article L. 512-1 du code des assurances que ceux-ci ont effectué les formalités requises à l'article L. 519-9 du présent code.\n",
      "\n",
      "**Nouvelle version :**\n",
      "1. Les établissements de crédit, les sociétés de financement, les établissements de monnaie électronique qui fournissent des services de paiement, les établissements de paiement, les intermédiaires en opérations de banque et en services de paiement, les intermédiaires en financement participatif, les entreprises d'assurance dans le cadre de leur activité de prêts et les sociétés de gestion mentionnées au premier alinéa de l'article L. 519-2 qui recourent aux services d'intermédiaires en opérations de banque et en services de paiement doivent s'assurer que ceux-ci sont immatriculés conformément à l'article L. 519-3-1.\n",
      "2. Les établissements de crédit, les sociétés de financement, les établissements de monnaie électronique qui fournissent des services de paiement, les établissements de paiement, les intermédiaires en financement participatif, les entreprises d'assurance dans le cadre de leur activité de prêts et les sociétés de gestion mentionnées au premier alinéa de l'article L. 519-2 qui recourent à des intermédiaires ressortissants d'un Etat membre de l'Union européenne ou d'un Etat partie à l'accord sur l'Espace économique européen autre que la France et exerçant sur le territoire français en régime de libre prestation de services ou de libre établissement s'assurent auprès de l'organisme qui tient le registre prévu au I de l'article L. 512-1 du code des assurances que ceux-ci ont effectué les formalités requises à l'article L. 519-9 du présent code.\n",
      "\n",
      "**Commentaire juridique :**\n",
      "La suppression des \"prestataires de services de financement participatif dans le cadre de leurs activités de facilitation d'octroi de prêts\" dans la nouvelle version de l'article pourrait indiquer une volonté de simplification ou de clarification du champ d'application de l'article. Cette modification pourrait également refléter un changement dans la réglementation applicable à ces prestataires spécifiques, les excluant désormais des obligations d'immatriculation et de vérification mentionnées dans cet article. Il est essentiel de vérifier si cette suppression est compensée par des dispositions spécifiques ailleurs dans le Code monétaire et financier ou dans une autre réglementation applicable aux prestataires de services de financement participatif.\n"
     ]
    }
   ],
   "source": [
    "print(llm_output)"
   ]
  },
  {
   "cell_type": "markdown",
   "metadata": {},
   "source": [
    "## 2 - Function"
   ]
  },
  {
   "cell_type": "code",
   "execution_count": 19,
   "metadata": {},
   "outputs": [],
   "source": [
    "def llm_legal_change_com_v1(old_version, new_version): \n",
    "    prompt = ChatPromptTemplate.from_messages([(\"system\",\n",
    "            \"\"\"\n",
    "            Tu es un avocat et analyste juridique très expérimenté, tu as pour but d'analyser et de commenter les changements \n",
    "            réglementaires de chaque article , tu trouveras ici l'ancienne et la nouvelle version de l'article que l on te donne. \n",
    "            Tu adopteras un language juridique précis. Tu n'inventeras rien et tu te baseras uniquement sur les données fournies.\n",
    "            Si tu ne sais pas ou tu ne comprends pas , dis le. \n",
    "            Inutile de reciter les textes fournis, tu ne retourneras que ton analyse.\n",
    "            \"\"\"),\n",
    "        (\"human\", \n",
    "            \"Voici l'ancienne version de l'article a analyser {old_version} et voici la nouvelle version du meme article {new_version}\")])\n",
    "    \n",
    "    chain = prompt | llm | StrOutputParser()\n",
    "    \n",
    "    llm_output = chain.invoke({\n",
    "        \"old_version\": old_version,\n",
    "        \"new_version\": new_version})\n",
    "    \n",
    "    return llm_output"
   ]
  },
  {
   "cell_type": "code",
   "execution_count": 20,
   "metadata": {},
   "outputs": [],
   "source": [
    "# Amélioration prompt avec o1\n",
    "def llm_legal_change_com_v2(old_version, new_version): \n",
    "    prompt = ChatPromptTemplate.from_messages([(\"system\",                                  \n",
    "        \"\"\"\n",
    "\tTu es un avocat et analyste juridique très expérimenté. \n",
    "    Ta mission consiste à examiner et commenter les évolutions réglementaires d’un article de loi en comparant sa version \n",
    "    antérieure avec sa version révisée.\n",
    "\n",
    "\tConsignes :\n",
    "\t1.\tUtilise un langage juridique précis.\n",
    "\t2.\tBase-toi uniquement sur les informations fournies, sans inventer ni extrapoler.\n",
    "\t3.\tSi tu ne comprends pas un point ou si les informations sont insuffisantes, signale-le clairement.\n",
    "\t4.\tNe récite pas le texte en intégralité : concentre-toi sur l’analyse et la comparaison.\n",
    "\n",
    "\tContenu à analyser :\n",
    "\t•\tAncienne version : {old_version}\n",
    "\t•\tNouvelle version : {new_version}\n",
    "\n",
    "\tObjectif :\n",
    "    Produis un commentaire juridique concis, en mettant en évidence les principaux changements, leur portée et leurs éventuelles conséquences. N’inclus dans ta réponse que l’analyse finale.\n",
    "\n",
    "            \"\"\")])\n",
    "    \n",
    "    chain = prompt | llm | StrOutputParser()\n",
    "    \n",
    "    llm_output = chain.invoke({\n",
    "        \"old_version\": old_version,\n",
    "        \"new_version\": new_version})\n",
    "    \n",
    "    return llm_output"
   ]
  },
  {
   "cell_type": "code",
   "execution_count": 21,
   "metadata": {},
   "outputs": [],
   "source": [
    "# Amélioration prompt avec o1\n",
    "def llm_legal_change_com_v3(old_version, new_version): \n",
    "    prompt = ChatPromptTemplate.from_messages([(\"system\",                                  \n",
    "        \"\"\"\n",
    "\tTu es un avocat et analyste juridique très expérimenté. \n",
    "    Ta mission consiste à examiner et commenter les évolutions réglementaires d’un article de loi en comparant sa version \n",
    "    antérieure avec sa version révisée.\n",
    "\n",
    "\tConsignes :\n",
    "\t1.\tUtilise un langage juridique précis.\n",
    "\t2.\tBase-toi uniquement sur les informations fournies, sans inventer ni extrapoler.\n",
    "\t3.\tSi tu ne comprends pas un point ou si les informations sont insuffisantes, signale-le clairement.\n",
    "\t4.\tNe récite pas le texte en intégralité : concentre-toi sur l’analyse et la comparaison.\n",
    "\n",
    "\tContenu à analyser :\n",
    "\t•\tAncienne version : {old_version}\n",
    "\t•\tNouvelle version : {new_version}\n",
    "\n",
    "\tObjectif :\n",
    "    Produis un commentaire juridique concis, en mettant en évidence les principaux changements, leur portée et leurs éventuelles conséquences. N’inclus dans ta réponse que l’analyse finale.\n",
    "\n",
    "            \"\"\")])\n",
    "    \n",
    "    chain = prompt | llm | StrOutputParser()\n",
    "    \n",
    "    llm_output = chain.invoke({\n",
    "        \"old_version\": old_version,\n",
    "        \"new_version\": new_version})\n",
    "    \n",
    "    return llm_output"
   ]
  },
  {
   "cell_type": "markdown",
   "metadata": {},
   "source": [
    "## 3 - Data prep"
   ]
  },
  {
   "cell_type": "code",
   "execution_count": 22,
   "metadata": {},
   "outputs": [],
   "source": [
    "import pandas as pd\n",
    "AML5_modifs= pd.read_excel(\"/Users/oussa/Desktop/Github_perso/Legal_FR_Tracker/data_output/Legifrance_DB_TrackChange.xlsx\")"
   ]
  },
  {
   "cell_type": "code",
   "execution_count": 23,
   "metadata": {},
   "outputs": [],
   "source": [
    "# Filter on AML text\n",
    "AML5_modifs =  AML5_modifs[AML5_modifs['Titre Article Modificateur'].str.contains(\"n°2020-1544\")| AML5_modifs['Titre Article Modificateur'].str.contains(\"n°2020-115\") ]"
   ]
  },
  {
   "cell_type": "code",
   "execution_count": 24,
   "metadata": {},
   "outputs": [
    {
     "data": {
      "text/plain": [
       "array(['Ordonnance n°2020-1544 du 9 décembre 2020 - art. 1',\n",
       "       'Ordonnance n°2020-1544 du 9 décembre 2020 - art. 2',\n",
       "       'Ordonnance n°2020-1544 du 9 décembre 2020 - art. 3',\n",
       "       'Ordonnance n°2020-1544 du 9 décembre 2020 - art. 4',\n",
       "       'Ordonnance n°2020-1544 du 9 décembre 2020 - art. 5',\n",
       "       'Ordonnance n°2020-1544 du 9 décembre 2020 - art. 6',\n",
       "       'Ordonnance n°2020-1544 du 9 décembre 2020 - art. 7',\n",
       "       'Ordonnance n°2020-1544 du 9 décembre 2020 - art. 8',\n",
       "       'Ordonnance n°2020-1544 du 9 décembre 2020 - art. 9',\n",
       "       'Ordonnance n°2020-1544 du 9 décembre 2020 - art. 10',\n",
       "       'Ordonnance n°2020-1544 du 9 décembre 2020 - art. 11',\n",
       "       'Ordonnance n°2020-115 du 12 février 2020 - art. 1',\n",
       "       'Ordonnance n°2020-115 du 12 février 2020 - art. 2',\n",
       "       'Ordonnance n°2020-115 du 12 février 2020 - art. 3',\n",
       "       'Ordonnance n°2020-115 du 12 février 2020 - art. 4',\n",
       "       'Ordonnance n°2020-115 du 12 février 2020 - art. 5',\n",
       "       'Ordonnance n°2020-115 du 12 février 2020 - art. 6',\n",
       "       'Ordonnance n°2020-115 du 12 février 2020 - art. 7',\n",
       "       'Ordonnance n°2020-115 du 12 février 2020 - art. 8',\n",
       "       'Ordonnance n°2020-115 du 12 février 2020 - art. 9',\n",
       "       'Ordonnance n°2020-115 du 12 février 2020 - art. 10',\n",
       "       'Ordonnance n°2020-115 du 12 février 2020 - art. 11',\n",
       "       'Ordonnance n°2020-115 du 12 février 2020 - art. 17',\n",
       "       'Ordonnance n°2020-115 du 12 février 2020 - art. 18 (M)'],\n",
       "      dtype=object)"
      ]
     },
     "execution_count": 24,
     "metadata": {},
     "output_type": "execute_result"
    }
   ],
   "source": [
    "#check results\n",
    "AML5_modifs['Titre Article Modificateur'].unique()"
   ]
  },
  {
   "cell_type": "code",
   "execution_count": 25,
   "metadata": {},
   "outputs": [
    {
     "data": {
      "text/plain": [
       "array(['OK change'], dtype=object)"
      ]
     },
     "execution_count": 25,
     "metadata": {},
     "output_type": "execute_result"
    }
   ],
   "source": [
    "# Keep only changed articles in their content\n",
    "AML5_modifs = AML5_modifs[AML5_modifs['Compare contenu'] ==\"OK change\"]\n",
    "AML5_modifs['Compare contenu'].unique()"
   ]
  },
  {
   "cell_type": "code",
   "execution_count": 26,
   "metadata": {},
   "outputs": [],
   "source": [
    "# Delete KO in Old and new articles\n",
    "AML5_modifs = AML5_modifs[~AML5_modifs['Contenu_Ancien_Article'].str.contains(\"KO\", na=False)]\n",
    "AML5_modifs = AML5_modifs[~AML5_modifs['Contenu_Nouv_Vers_Article'].str.contains(\"KO\", na=False)]"
   ]
  },
  {
   "cell_type": "code",
   "execution_count": 27,
   "metadata": {},
   "outputs": [
    {
     "data": {
      "text/plain": [
       "58"
      ]
     },
     "execution_count": 27,
     "metadata": {},
     "output_type": "execute_result"
    }
   ],
   "source": [
    "len(AML5_modifs)"
   ]
  },
  {
   "cell_type": "markdown",
   "metadata": {},
   "source": [
    "## 4 - Apply function for each row"
   ]
  },
  {
   "cell_type": "code",
   "execution_count": 28,
   "metadata": {},
   "outputs": [],
   "source": [
    "#   AML5_modifs\n",
    "#   llm_legal_change_com()"
   ]
  },
  {
   "cell_type": "code",
   "execution_count": 29,
   "metadata": {},
   "outputs": [],
   "source": [
    "AML5_modifs_select = AML5_modifs.iloc[:10]"
   ]
  },
  {
   "cell_type": "markdown",
   "metadata": {},
   "source": [
    "### 4.1 - Application fonction 1"
   ]
  },
  {
   "cell_type": "code",
   "execution_count": 30,
   "metadata": {},
   "outputs": [
    {
     "name": "stderr",
     "output_type": "stream",
     "text": [
      "/var/folders/ty/2g_hgfks4nl_84mz496fmn600000gn/T/ipykernel_78117/819962179.py:1: SettingWithCopyWarning: \n",
      "A value is trying to be set on a copy of a slice from a DataFrame.\n",
      "Try using .loc[row_indexer,col_indexer] = value instead\n",
      "\n",
      "See the caveats in the documentation: https://pandas.pydata.org/pandas-docs/stable/user_guide/indexing.html#returning-a-view-versus-a-copy\n",
      "  AML5_modifs_select['LLM_Change_Analysis_1'] = AML5_modifs_select.apply(\n"
     ]
    }
   ],
   "source": [
    "AML5_modifs_select['LLM_Change_Analysis_1'] = AML5_modifs_select.apply(\n",
    "    lambda row: llm_legal_change_com_v1(row['Contenu_Ancien_Article'], row['Contenu_Nouv_Vers_Article']), \n",
    "    axis=1)"
   ]
  },
  {
   "cell_type": "code",
   "execution_count": 31,
   "metadata": {},
   "outputs": [],
   "source": [
    "AML5_modifs_select.to_excel(\"/Users/oussa/Desktop/Github_perso/Legal_FR_Tracker/data_output_ipynb/output_llm_change_analysis_v1.xlsx\")"
   ]
  },
  {
   "cell_type": "markdown",
   "metadata": {},
   "source": [
    "### 4.2 - Application fonction 2"
   ]
  },
  {
   "cell_type": "code",
   "execution_count": 32,
   "metadata": {},
   "outputs": [
    {
     "name": "stderr",
     "output_type": "stream",
     "text": [
      "/var/folders/ty/2g_hgfks4nl_84mz496fmn600000gn/T/ipykernel_78117/2587971769.py:1: SettingWithCopyWarning: \n",
      "A value is trying to be set on a copy of a slice from a DataFrame.\n",
      "Try using .loc[row_indexer,col_indexer] = value instead\n",
      "\n",
      "See the caveats in the documentation: https://pandas.pydata.org/pandas-docs/stable/user_guide/indexing.html#returning-a-view-versus-a-copy\n",
      "  AML5_modifs_select['LLM_Change_Analysis_2'] = AML5_modifs_select.apply(\n"
     ]
    }
   ],
   "source": [
    "AML5_modifs_select['LLM_Change_Analysis_2'] = AML5_modifs_select.apply( \n",
    "        lambda row: llm_legal_change_com_v2(row['Contenu_Ancien_Article'], row['Contenu_Nouv_Vers_Article']), axis=1 ) "
   ]
  },
  {
   "cell_type": "code",
   "execution_count": 33,
   "metadata": {},
   "outputs": [],
   "source": [
    "AML5_modifs_select.to_excel(\"/Users/oussa/Desktop/Github_perso/Legal_FR_Tracker/data_output_ipynb/output_llm_change_analysis_v2.xlsx\")"
   ]
  },
  {
   "cell_type": "markdown",
   "metadata": {},
   "source": [
    "### 4.3 - Application fonction 3"
   ]
  },
  {
   "cell_type": "code",
   "execution_count": 34,
   "metadata": {},
   "outputs": [
    {
     "name": "stderr",
     "output_type": "stream",
     "text": [
      "/var/folders/ty/2g_hgfks4nl_84mz496fmn600000gn/T/ipykernel_78117/2334415541.py:1: SettingWithCopyWarning: \n",
      "A value is trying to be set on a copy of a slice from a DataFrame.\n",
      "Try using .loc[row_indexer,col_indexer] = value instead\n",
      "\n",
      "See the caveats in the documentation: https://pandas.pydata.org/pandas-docs/stable/user_guide/indexing.html#returning-a-view-versus-a-copy\n",
      "  AML5_modifs_select['LLM_Change_Analysis_3'] = AML5_modifs_select.apply(\n"
     ]
    }
   ],
   "source": [
    "AML5_modifs_select['LLM_Change_Analysis_3'] = AML5_modifs_select.apply( \n",
    "        lambda row: llm_legal_change_com_v3(row['Contenu_Ancien_Article'], row['Contenu_Nouv_Vers_Article']), axis=1 ) "
   ]
  },
  {
   "cell_type": "code",
   "execution_count": 35,
   "metadata": {},
   "outputs": [],
   "source": [
    "AML5_modifs_select.to_excel(\"/Users/oussa/Desktop/Github_perso/Legal_FR_Tracker/data_output_ipynb/output_llm_change_analysis_v3.xlsx\")"
   ]
  },
  {
   "cell_type": "markdown",
   "metadata": {},
   "source": [
    "## 5 - Summarize"
   ]
  },
  {
   "cell_type": "code",
   "execution_count": 36,
   "metadata": {},
   "outputs": [],
   "source": [
    "all_llm_analysis = AML5_modifs_select['LLM_Change_Analysis_3'] "
   ]
  },
  {
   "cell_type": "code",
   "execution_count": 37,
   "metadata": {},
   "outputs": [],
   "source": [
    "all_llm_analysis = all_llm_analysis.to_string()"
   ]
  },
  {
   "cell_type": "code",
   "execution_count": 38,
   "metadata": {},
   "outputs": [
    {
     "data": {
      "text/plain": [
       "'L\\'analyse des versions antérieure et révisée de l\\'article de loi révèle plusieurs modifications notables :\\n\\n1. **Suppression de certaines obligations spécifiques** :\\n   - La nouvelle version a supprimé les obligations détaillées concernant les dispositifs de sécurité, de contrôle interne, de gestion des conflits d\\'intérêts, et de systèmes informatiques résilients et sécurisés (ancien 5°).\\n   - Les obligations spécifiques aux prestataires fournissant le service mentionné au 1° de l\\'article L. 54-10-2, telles que la conclusion de conventions avec les clients, l\\'établissement d\\'une politique de conservation, la restitution des actifs numériques, la ségrégation des détentions, et l\\'usage des actifs numériques, ont également été supprimées (ancien 6°).\\n\\n2. **Clarification des obligations de lutte contre le blanchiment et le financement du terrorisme** :\\n   - La nouvelle version maintient les exigences de conformité en matière de lutte contre le blanchiment des capitaux et le financement du terrorisme, mais simplifie la rédaction en supprimant les références détaillées aux articles spécifiques du code monétaire et financier.\\n\\n3. **Suppression des exigences de communication et de gestion des réclamations** :\\n   - Les obligations de communication d\\'informations claires, exactes et non trompeuses, d\\'avertissement des risques associés aux actifs numériques, de publication des politiques tarifaires, et de gestion des réclamations des clients ont été supprimées.\\n\\n4. **Simplification de la procédure de suspension et de radiation** :\\n   - La nouvelle version a supprimé la disposition permettant à l\\'Autorité des marchés financiers (AMF) de suspendre d\\'office l\\'enregistrement d\\'un prestataire en cas de menace grave et imminente pour la stabilité du marché des actifs numériques.\\n   - Les conditions de radiation restent similaires, mais la nouvelle version a supprimé la mention spécifique de la procédure d\\'avis conforme de l\\'Autorité de contrôle prudentiel et de résolution (ACPR) pour la radiation.\\n\\n5. **Maintien des obligations de déclaration et de publication** :\\n   - Les obligations de déclaration auprès de l\\'AMF en cas de modification affectant le respect des obligations et la publication de la liste des prestataires enregistrés par l\\'AMF sont maintenues.\\n\\n**Portée et conséquences** :\\n- **Simplification et allègement des obligations** : La nouvelle version allège les obligations des prestataires en supprimant plusieurs exigences spécifiques, ce qui pourrait réduire la charge administrative et les coûts de conformité pour les prestataires.\\n- **Maintien des exigences essentielles** : Les exigences essentielles en matière de lutte contre le blanchiment des capitaux et le financement du terrorisme sont maintenues, ce qui continue de garantir un certain niveau de sécurité et de conformité.\\n- **Impact sur la protection des clients** : La suppression des obligations de communication d\\'informations et de gestion des réclamations pourrait avoir un impact sur la protection des clients, en réduisant la transparence et les recours disponibles pour les clients en cas de litige.\\n\\nEn conclusion, la révision de l\\'article de loi semble viser à simplifier le cadre réglementaire pour les prestataires de services tout en maintenant les exigences essentielles de conformité, mais elle pourrait également réduire certaines protections pour les clients.L\\'analyse des versions antérieure et révisée de l\\'article de loi révèle plusieurs modifications notables.\\n\\nPremièrement, la nouvelle version a supprimé toute référence au règlement (UE) 2023/1114 du Parlement européen et du Conseil du 31 mai 2023 sur les marchés de crypto-actifs. Cette suppression simplifie le texte en se concentrant uniquement sur les services mentionnés aux 1° à 4° de l\\'article L. 54-10-2, sans faire référence aux services sur crypto-actifs définis par le règlement européen.\\n\\nDeuxièmement, la nouvelle version omet la mention de l\\'autorisation de fournir des services sur crypto-actifs conformément à l\\'article 59 du règlement (UE) 2023/1114. Désormais, l\\'exigence se limite à l\\'enregistrement préalable par l\\'Autorité des marchés financiers (AMF), ce qui pourrait indiquer une volonté de centraliser et de simplifier le processus de régulation sous l\\'égide de l\\'AMF.\\n\\nTroisièmement, la nouvelle version restreint l\\'interdiction d\\'utiliser une dénomination, une raison sociale, une publicité ou tout autre procédé laissant croire à une qualité enregistrée ou autorisée uniquement aux prestataires des services mentionnés aux 1° et 4° de l\\'article L. 54-10-2. L\\'ancienne version s\\'appliquait à toute personne n\\'ayant pas la qualité de prestataire des services enregistré ou autorisé, ce qui était plus large.\\n\\nEn termes de portée et de conséquences, ces modifications semblent viser à clarifier et à simplifier le cadre réglementaire applicable aux prestataires de services sur crypto-actifs, en réduisant les références croisées avec le droit européen et en recentrant les exigences sur l\\'enregistrement par l\\'AMF. Cela pourrait potentiellement faciliter la compréhension et la mise en conformité pour les acteurs du marché, tout en maintenant des mesures de protection contre les pratiques trompeuses.L\\'analyse des versions antérieure et révisée de l\\'article de loi révèle plusieurs modifications notables, principalement de nature technique et de précision, qui peuvent avoir des implications significatives pour les prestataires de services sur actifs numériques.\\n\\n1. **Modification de l\\'autorité consultative** :\\n   - **Ancienne version** : L\\'Autorité des marchés financiers (AMF) pouvait solliciter l\\'avis de l\\'autorité mentionnée à l\\'article L. 2321-1 du code de la défense.\\n   - **Nouvelle version** : L\\'AMF peut solliciter l\\'avis de l\\'autorité nationale en charge de la sécurité des systèmes d\\'information.\\n   - **Conséquence** : Cette modification précise l\\'autorité compétente en matière de sécurité des systèmes d\\'information, ce qui pourrait améliorer la clarté et l\\'efficacité des consultations.\\n\\n2. **Seuil de détention de capital ou de droits de vote** :\\n   - **Ancienne version** : Les personnes physiques détenant plus de 10 % du capital ou des droits de vote du prestataire devaient justifier de leur honorabilité et compétence.\\n   - **Nouvelle version** : Ce seuil est porté à plus de 25 %.\\n   - **Conséquence** : Cette augmentation du seuil pourrait réduire le nombre de personnes soumises à cette exigence, potentiellement simplifiant la gestion administrative pour les prestataires tout en concentrant les contrôles sur les détenteurs de parts plus significatives.\\n\\n3. **Terminologie et précision linguistique** :\\n   - **Ancienne version** : Utilisation de termes comme \"l\\'autorité mentionnée à l\\'article L. 2321-1 du code de la défense\".\\n   - **Nouvelle version** : Utilisation de termes plus précis comme \"l\\'autorité nationale en charge de la sécurité des systèmes d\\'information\".\\n   - **Conséquence** : Une terminologie plus précise peut réduire les ambiguïtés et améliorer la compréhension et l\\'application des dispositions légales.\\n\\n4. **Autres ajustements mineurs** :\\n   - Les autres modifications sont principalement des ajustements de formulation et de structure, sans changement substantiel des obligations des prestataires.\\n\\nEn conclusion, les modifications apportées à l\\'article de loi visent principalement à clarifier et à préciser certaines dispositions, notamment en ce qui concerne les autorités compétentes et les seuils de détention de capital. Ces ajustements devraient améliorer la clarté réglementaire et potentiellement alléger certaines obligations administratives pour les prestataires, tout en maintenant un cadre rigoureux pour la sécurité et la transparence des services sur actifs numériques.L\\'analyse des versions antérieure et révisée de l\\'article de loi révèle une modification spécifique dans la référence aux personnes concernées. L\\'ancienne version mentionne les personnes aux 1° à 7° de l\\'article L. 561-2, tandis que la nouvelle version étend cette référence aux personnes aux 1° à 7° bis du même article.\\n\\nLe principal changement réside donc dans l\\'inclusion des personnes visées par le 7° bis, qui n\\'étaient pas couvertes par la version antérieure. Cette extension pourrait indiquer une volonté législative d\\'élargir le champ des entités ou individus soumis à l\\'interdiction de tenir des comptes ou livrets d\\'épargne anonymes. \\n\\nLa portée de cette modification est significative, car elle renforce les mesures de transparence et de lutte contre le blanchiment d\\'argent et le financement du terrorisme en incluant un groupe supplémentaire de personnes ou entités dans les obligations de non-anonymat des comptes et livrets d\\'épargne. Les conséquences pratiques de cette révision pourraient impliquer une mise en conformité accrue pour les nouvelles entités concernées, nécessitant des ajustements dans leurs pratiques de gestion des comptes et livrets d\\'épargne.L\\'analyse des modifications apportées à l\\'article de loi révèle plusieurs changements notables, tant sur le fond que sur la forme, qui méritent une attention particulière.\\n\\n1. **Suppression de certaines catégories** :\\n   - La nouvelle version a supprimé les prestataires de services sur crypto-actifs (ancien 1° quater) et les prestataires de services autorisés à fournir des services sur crypto-actifs conformément à l\\'article 59 du règlement (UE) 2023/1114 (ancien 7° bis b et 7° quater b). Cette suppression pourrait indiquer une révision de la réglementation applicable à ces entités ou une intégration de ces dispositions dans d\\'autres textes législatifs.\\n\\n2. **Ajout et modification de catégories** :\\n   - Les émetteurs de jetons ayant obtenu le visa mentionné à l\\'article L. 552-4 (nouveau 7° ter) ont été ajoutés. Cela reflète une adaptation aux évolutions technologiques et aux nouvelles formes de financement.\\n   - Les conseillers en investissements participatifs ont été explicitement mentionnés (nouveau 6°), ce qui clarifie leur inclusion dans les obligations prévues par les sections 2 à 7 du chapitre.\\n\\n3. **Réorganisation et clarification** :\\n   - La nouvelle version a réorganisé certaines catégories pour une meilleure lisibilité. Par exemple, les références aux articles du code monétaire et financier ont été mises à jour et clarifiées.\\n   - Les références aux articles L. 721-7 et L. 721-18 du code monétaire et financier ont été remplacées par L. 711-2 et L. 712-4 respectivement, ce qui pourrait indiquer une mise à jour des numérotations ou une correction d\\'erreurs antérieures.\\n\\n4. **Suppression de certaines entités** :\\n   - Les gestionnaires de crédits (ancien 20°) ont été supprimés de la liste des personnes assujetties. Cela pourrait signifier une révision de leur statut réglementaire ou une exclusion de leurs obligations spécifiques.\\n\\n5. **Harmonisation et simplification** :\\n   - La nouvelle version a supprimé certaines redondances et simplifié la rédaction. Par exemple, les mentions spécifiques aux succursales des établissements de crédit, de paiement et de monnaie électronique ont été consolidées pour éviter les répétitions.\\n\\n**Portée et conséquences** :\\n- **Portée** : Les modifications apportées visent principalement à clarifier et à simplifier la liste des entités assujetties aux obligations prévues par les sections 2 à 7 du chapitre. Elles reflètent également une adaptation aux évolutions technologiques et réglementaires, notamment en ce qui concerne les crypto-actifs et les nouvelles formes de financement.\\n- **Conséquences** : Les entités nouvellement incluses ou explicitement mentionnées devront se conformer aux obligations prévues, ce qui pourrait entraîner des ajustements opérationnels et de conformité. La suppression de certaines catégories pourrait alléger les obligations pour les entités concernées, mais pourrait également nécessiter une réévaluation de leur statut réglementaire.\\n\\nEn conclusion, les modifications apportées à cet article de loi montrent une volonté de modernisation et de clarification des obligations réglementaires, tout en s\\'adaptant aux évolutions du secteur financier et technologique.L\\'analyse des versions antérieure et révisée de l\\'article de loi révèle plusieurs modifications notables.\\n\\n1. **Extension des entités concernées** :\\n   - **Ancienne version** : Les entités mentionnées incluaient les personnes des 1° à 7° de l\\'article L. 561-2, ainsi que diverses compagnies financières holding, entreprises mères de sociétés de financement, etc.\\n   - **Nouvelle version** : Les entités concernées sont étendues pour inclure les personnes des 1° à 7° bis et au 7° quater de l\\'article L. 561-2. Cette extension élargit le champ des entités soumises aux obligations de déclaration et de partage d\\'informations.\\n\\n2. **Suppression de références spécifiques** :\\n   - **Ancienne version** : Faisait référence à des articles spécifiques du code des assurances, du code de la mutualité et du code de la sécurité sociale.\\n   - **Nouvelle version** : Ces références spécifiques ont été supprimées, simplifiant ainsi le texte et potentiellement élargissant l\\'application à un plus grand nombre d\\'entités sans les restrictions des articles spécifiques.\\n\\n3. **Ajout d\\'un nouveau paragraphe (III)** :\\n   - **Nouvelle version** : Introduit un nouveau paragraphe III qui permet aux entreprises mères de groupes mentionnées au I de l\\'article L. 561-33 d\\'accéder aux informations relatives aux déclarations prévues à l\\'article L. 561-15. Cette disposition est conditionnée par l\\'établissement de ces entreprises mères dans un État membre de l\\'Union européenne, un État partie à l\\'accord sur l\\'Espace économique européen, ou un pays tiers imposant des obligations équivalentes en matière de lutte contre le blanchiment de capitaux et le financement du terrorisme. Cela renforce la transparence et la coordination au sein des groupes internationaux.\\n\\n4. **Conditions de traitement des informations** :\\n   - Les conditions de traitement des informations (a, b, c, d) restent globalement inchangées entre les deux versions, garantissant que les informations échangées sont nécessaires, utilisées exclusivement à des fins de lutte contre le blanchiment et le financement du terrorisme, et que leur traitement garantit un niveau de protection suffisant de la vie privée et des libertés fondamentales.\\n\\n**Portée et conséquences** :\\n- **Élargissement du champ d\\'application** : L\\'inclusion des nouvelles catégories d\\'entités et la suppression des références spécifiques permettent une application plus large et potentiellement plus uniforme des obligations de déclaration.\\n- **Renforcement de la transparence intra-groupe** : Le nouveau paragraphe III améliore la transparence et la coordination au sein des groupes internationaux, facilitant ainsi la mise en œuvre des obligations de lutte contre le blanchiment et le financement du terrorisme.\\n- **Simplification et clarification** : La suppression des références spécifiques et l\\'ajout de nouvelles catégories d\\'entités simplifient le texte et clarifient les obligations des entités concernées.\\n\\nEn conclusion, la version révisée de l\\'article de loi apporte des modifications significatives visant à élargir le champ d\\'application, renforcer la transparence et la coordination au sein des groupes internationaux, tout en maintenant des garanties strictes pour la protection des données personnelles.L\\'analyse des versions antérieure et révisée de l\\'article de loi révèle une modification spécifique et ciblée. La version révisée a supprimé la référence explicite aux \"prestataires de services sur crypto-actifs au sens règlement (UE) 2023/1114 du Parlement européen et du Conseil du 31 mai 2023 sur les marchés de crypto-actifs\". \\n\\nCette suppression a pour effet de restreindre le champ d\\'application de l\\'article. Désormais, seules les personnes exerçant la profession de prestataire des services mentionnés aux 1° à 4° de l\\'article L. 54-10-2 sont visées par les sanctions prévues à l\\'article L. 571-4 en cas de non-réponse aux demandes d\\'informations de l\\'Autorité des marchés financiers, d\\'obstruction à sa mission de contrôle ou de communication de renseignements inexacts.\\n\\nLa portée de cette modification est significative. En excluant les prestataires de services sur crypto-actifs, le législateur semble vouloir recentrer les obligations de coopération et de transparence sur un périmètre plus restreint de prestataires de services financiers traditionnels. Cela pourrait avoir pour conséquence de réduire la pression réglementaire sur les acteurs du marché des crypto-actifs, tout en maintenant des exigences strictes pour les autres prestataires de services financiers.\\n\\nEn conclusion, cette révision législative simplifie et clarifie le champ d\\'application de l\\'article, en excluant explicitement les prestataires de services sur crypto-actifs, ce qui pourrait avoir des implications importantes pour la régulation et la supervision de ces acteurs par l\\'Autorité des marchés financiers.L\\'analyse des versions antérieure et révisée de l\\'article de loi révèle plusieurs modifications significatives.\\n\\n1. **Changements dans les articles applicables et leurs sources législatives** :\\n   - **Ancienne version** : Les articles L. 54-10-1 à L. 54-10-5 et L. 572-23 à L. 572-26 étaient applicables en Nouvelle-Calédonie, tous issus de la loi n° 2019-486 du 22 mai 2019 relative à la croissance et la transformation des entreprises.\\n   - **Nouvelle version** : Les articles L. 54-10-1 et L. 54-10-2 restent issus de la loi n° 2019-486. Cependant, les articles L. 54-10-3 à L. 54-10-5 sont désormais issus de l\\'ordonnance n° 2020-1544 du 9 décembre 2020, qui renforce le cadre de la lutte contre le blanchiment de capitaux et le financement du terrorisme applicable aux actifs numériques. De plus, l\\'article L. 572-24 est également issu de cette ordonnance, tandis que les articles L. 572-23, L. 572-25 et L. 572-26 restent issus de la loi n° 2019-486.\\n\\n2. **Modifications spécifiques pour l\\'application locale** :\\n   - **Ancienne version** : Seule une modification était prévue, remplaçant les mots \"la Banque de France\" par \"l\\'Institut d\\'émission d\\'outre-mer\" pour l\\'application du dernier alinéa de l\\'article L. 54-10-5.\\n   - **Nouvelle version** : Plusieurs modifications spécifiques sont introduites :\\n     1. Suppression de certaines mentions dans l\\'article L. 54-10-3 concernant l\\'Union européenne.\\n     2. Remplacement des références aux règlements européens par des références locales pour les articles L. 54-10-3 et L. 54-10-5.\\n     3. Adaptation des références au code de commerce par des dispositions locales équivalentes pour les articles L. 54-10-3 et L. 54-10-5.\\n     4. Conversion des montants en euros en francs CFP pour l\\'article L. 572-23.\\n     5. Conversion des montants en euros en francs CFP pour l\\'article L. 572-26.\\n\\n**Portée et conséquences** :\\n- **Adaptation législative** : La nouvelle version montre une adaptation plus fine et détaillée des dispositions législatives pour leur application en Nouvelle-Calédonie, en tenant compte des spécificités locales et des nouvelles réglementations européennes.\\n- **Renforcement de la lutte contre le blanchiment** : L\\'intégration de l\\'ordonnance n° 2020-1544 dans les articles L. 54-10-3 à L. 54-10-5 et L. 572-24 indique un renforcement des mesures contre le blanchiment de capitaux et le financement du terrorisme, ce qui pourrait avoir des implications importantes pour les acteurs économiques locaux.\\n- **Clarté et précision** : Les conversions monétaires et les adaptations des références législatives locales visent à clarifier et à rendre plus précises les dispositions applicables, facilitant ainsi leur mise en œuvre et leur compréhension par les parties concernées.\\n\\nEn conclusion, la révision de cet article de loi introduit des ajustements significatifs pour aligner les dispositions législatives avec les réalités locales de la Nouvelle-Calédonie, tout en intégrant des mesures renforcées de lutte contre le blanchiment de capitaux et le financement du terrorisme.L\\'analyse des modifications entre l\\'ancienne et la nouvelle version de l\\'article de loi révèle plusieurs ajustements notables, principalement dans la section I. Voici les principaux changements et leurs implications :\\n\\n1. **Références aux textes législatifs et ordonnances** :\\n   - La nouvelle version a supprimé les références spécifiques à la loi n° 2021-1308 du 8 octobre 2021 et à l\\'ordonnance n° 2021-958 du 19 juillet 2021. Désormais, les articles L. 561-2, L. 561-7, L. 561-14 et L. 561-20 sont applicables dans leur rédaction résultant de l\\'ordonnance n° 2020-1544 du 9 décembre 2020.\\n   - Les articles L. 561-36, L. 561-36-2, L. 561-36-3, L. 561-37, L. 561-38, L. 562-3 à L. 562-9, L. 562-11, L. 562-12 et L. 574-3 restent applicables dans leur rédaction résultant de l\\'ordonnance n° 2020-1342 du 4 novembre 2020.\\n\\n2. **Suppression de certaines dispositions** :\\n   - Le point 7° du III a été supprimé dans la nouvelle version. Ce point concernait les modifications spécifiques pour l\\'application de l\\'article L. 561-31-2 en Nouvelle-Calédonie.\\n\\n3. **Clarification et simplification** :\\n   - La nouvelle version a simplifié certaines références et supprimé des mentions redondantes ou spécifiques à l\\'Union européenne, notamment en ce qui concerne les règlements européens et les dispositions relatives à l\\'espace économique européen.\\n   - Les références aux règlements européens portant mesures restrictives ont été remplacées par des références aux règlements européens mentionnés à l\\'article L. 713-16.\\n\\n4. **Conséquences pratiques** :\\n   - La suppression de certaines références et la simplification des textes peuvent faciliter l\\'application locale des dispositions législatives en Nouvelle-Calédonie.\\n   - La suppression du point 7° du III pourrait indiquer une volonté de réduire la complexité ou de recentrer les adaptations locales sur des points jugés plus pertinents.\\n\\nEn conclusion, les modifications apportées visent principalement à simplifier et clarifier les dispositions applicables en Nouvelle-Calédonie, tout en supprimant certaines références spécifiques à l\\'Union européenne. Ces ajustements devraient permettre une application plus cohérente et moins complexe des textes législatifs dans ce territoire.L\\'analyse des modifications apportées à l\\'article de loi révèle plusieurs ajustements notables, principalement dans la mise à jour des références législatives et la suppression de certaines dispositions spécifiques. Voici les principaux changements et leurs implications :\\n\\n1. **Références législatives mises à jour** :\\n   - Les articles L. 561-2, L. 561-7, L. 561-14 et L. 561-20 sont désormais applicables dans leur rédaction résultant de l\\'ordonnance n° 2020-1544 du 9 décembre 2020, ce qui renforce le cadre de la lutte contre le blanchiment de capitaux et le financement du terrorisme pour les actifs numériques.\\n   - Les articles L. 561-36, L. 561-36-2, L. 561-36-3, L. 561-37, L. 561-38, L. 562-3 à L. 562-9, L. 562-11, L. 562-12 et L. 574-3 sont applicables dans leur rédaction résultant de l\\'ordonnance n° 2020-1342 du 4 novembre 2020, renforçant le dispositif de gel des avoirs et d\\'interdiction de mise à disposition.\\n\\n2. **Suppression de certaines dispositions** :\\n   - Le point 7° du III, qui faisait référence à l\\'application de l\\'article L. 561-31-2, a été supprimé. Cela pourrait indiquer une simplification ou une réorganisation des dispositions relatives à la fraude fiscale.\\n\\n3. **Clarifications et adaptations locales** :\\n   - Les références aux règlements européens portant mesures restrictives pris en application des articles 75 ou 215 du traité sur le fonctionnement de l\\'Union européenne ont été remplacées par des références aux règlements européens mentionnés à l\\'article L. 713-16. Cela vise à harmoniser les termes utilisés et à clarifier les références pour une meilleure application locale.\\n   - Les adaptations spécifiques pour la Polynésie française, telles que la conversion des montants en euros en francs CFP et les références aux autorités locales compétentes, ont été maintenues, assurant ainsi la pertinence et l\\'applicabilité des dispositions dans le contexte local.\\n\\n4. **Suppression de certaines références européennes** :\\n   - Plusieurs références à des règlements européens et à des dispositions spécifiques à l\\'Union européenne ont été supprimées, ce qui pourrait simplifier la législation applicable en Polynésie française et éviter des conflits de juridiction ou des incohérences.\\n\\nEn conclusion, les modifications apportées visent principalement à mettre à jour les références législatives, à supprimer des dispositions spécifiques pour simplifier la législation, et à adapter les termes et références pour une meilleure application locale en Polynésie française. Ces changements devraient améliorer la clarté et l\\'efficacité de la lutte contre le blanchiment de capitaux et le financement du terrorisme dans ce territoire.'"
      ]
     },
     "execution_count": 38,
     "metadata": {},
     "output_type": "execute_result"
    }
   ],
   "source": [
    "text_variable = AML5_modifs_select['LLM_Change_Analysis_3'].str.cat()\n",
    "text_variable"
   ]
  },
  {
   "cell_type": "code",
   "execution_count": 39,
   "metadata": {},
   "outputs": [
    {
     "name": "stdout",
     "output_type": "stream",
     "text": [
      "Nombre de tokens : 5535\n"
     ]
    }
   ],
   "source": [
    "token_count = count_tokens(text_variable, model=\"gpt-4o\")\n",
    "print(f\"Nombre de tokens : {token_count}\")"
   ]
  },
  {
   "cell_type": "markdown",
   "metadata": {},
   "source": [
    "### 5.1 - Simple summarize"
   ]
  },
  {
   "cell_type": "code",
   "execution_count": 40,
   "metadata": {},
   "outputs": [],
   "source": [
    "# Amélioration prompt avec o1 + intération\n",
    "def wrap_up_simple(text_to_summarize): \n",
    "    prompt = ChatPromptTemplate.from_messages([(\"system\",                                  \n",
    "        \"\"\"\n",
    "\t\tTu es un avocat et analyste juridique très expérimenté.\n",
    "\t\tTa mission consiste à produire un résumé global des analyses réalisées sur les évolutions réglementaires de plusieurs articles de \n",
    "  \t\tloi en comparant leurs versions antérieures et révisées.\n",
    "\n",
    "\tConsignes :\n",
    "\t1.\tUtilise un langage juridique précis, clair et synthétique.\n",
    "\t2.\tAppuie-toi uniquement sur les analyses fournies pour chaque article. Ne fais aucune supposition ou extrapolation.\n",
    "\t3.\tRegroupe et hiérarchise les informations :\n",
    "\t•\tIdentifie les thématiques ou tendances communes (par exemple : renforcement des obligations, simplification de procédures, etc.).\n",
    "\t•\tMets en évidence les changements les plus significatifs et leur impact global.\n",
    "\t4.\tSi certaines analyses révèlent des ambiguïtés ou des manques d’informations, mentionne-les brièvement.\n",
    "\n",
    "\tObjectif :\n",
    " \t\tFournis un résumé synthétique mettant en lumière les évolutions majeures, les implications globales, et les tendances observées \n",
    "   \t\tà travers les différents articles. Structure ta réponse de manière organisée (par exemple : par thématique ou par impact).\n",
    "     \n",
    "    Voici le text a résumer : {text_to_summarize}\n",
    "            \"\"\")])\n",
    "    \n",
    "    chain = prompt | llm | StrOutputParser()\n",
    "    \n",
    "    llm_output = chain.invoke({\n",
    "        \"text_to_summarize\": text_to_summarize})\n",
    "    \n",
    "    return llm_output"
   ]
  },
  {
   "cell_type": "code",
   "execution_count": 41,
   "metadata": {},
   "outputs": [],
   "source": [
    "# Amélioration prompt avec o1 + intération\n",
    "def wrap_up_simple(text_to_summarize): \n",
    "    prompt = ChatPromptTemplate.from_messages([(\"system\",                                  \n",
    "        \"\"\"\n",
    "\t\tTu es un avocat et analyste juridique très expérimenté.\n",
    "\t\tTa mission consiste à produire un résumé global des analyses réalisées sur les évolutions réglementaires de plusieurs articles de \n",
    "  \t\tloi en comparant leurs versions antérieures et révisées.\n",
    "\n",
    "\tConsignes :\n",
    "\t1.\tUtilise un langage juridique précis, clair et synthétique.\n",
    "\t2.\tAppuie-toi uniquement sur les analyses fournies pour chaque article. Ne fais aucune supposition ou extrapolation.\n",
    "\t3.\tRegroupe et hiérarchise les informations :\n",
    "\t•\tIdentifie les thématiques ou tendances communes (par exemple : renforcement des obligations, simplification de procédures, etc.).\n",
    "\t•\tMets en évidence les changements les plus significatifs et leur impact global.\n",
    "\t4.\tSi certaines analyses révèlent des ambiguïtés ou des manques d’informations, mentionne-les brièvement.\n",
    "\n",
    "\tObjectif :\n",
    " \t\tFournis un résumé synthétique mettant en lumière les évolutions majeures, les implications globales, et les tendances observées \n",
    "   \t\tà travers les différents articles. Structure ta réponse de manière organisée (par exemple : par thématique ou par impact).\n",
    "     \n",
    "    Voici le text a résumer : {text_to_summarize}\n",
    "            \"\"\")])\n",
    "    \n",
    "    chain = prompt | llm | StrOutputParser()\n",
    "    \n",
    "    llm_output = chain.invoke({\n",
    "        \"text_to_summarize\": text_to_summarize})\n",
    "    \n",
    "    return llm_output"
   ]
  },
  {
   "cell_type": "code",
   "execution_count": 42,
   "metadata": {},
   "outputs": [
    {
     "name": "stdout",
     "output_type": "stream",
     "text": [
      "### Résumé des Évolutions Réglementaires\n",
      "\n",
      "#### Thématiques et Tendances Communes\n",
      "\n",
      "1. **Simplification et Allègement des Obligations**\n",
      "   - **Suppression de certaines obligations spécifiques** : Les nouvelles versions des articles de loi ont supprimé plusieurs obligations détaillées concernant les dispositifs de sécurité, de contrôle interne, de gestion des conflits d'intérêts, et de systèmes informatiques résilients et sécurisés. Les obligations spécifiques aux prestataires fournissant certains services, telles que la conclusion de conventions avec les clients et la restitution des actifs numériques, ont également été supprimées.\n",
      "   - **Simplification de la procédure de suspension et de radiation** : La nouvelle version a supprimé la disposition permettant à l'Autorité des marchés financiers (AMF) de suspendre d'office l'enregistrement d'un prestataire en cas de menace grave et imminente pour la stabilité du marché des actifs numériques.\n",
      "\n",
      "2. **Clarification et Précision des Dispositions**\n",
      "   - **Clarification des obligations de lutte contre le blanchiment et le financement du terrorisme** : Les exigences de conformité en matière de lutte contre le blanchiment des capitaux et le financement du terrorisme sont maintenues, mais la rédaction a été simplifiée en supprimant les références détaillées aux articles spécifiques du code monétaire et financier.\n",
      "   - **Modification de l'autorité consultative** : L'AMF peut désormais solliciter l'avis de l'autorité nationale en charge de la sécurité des systèmes d'information, précisant ainsi l'autorité compétente en matière de sécurité des systèmes d'information.\n",
      "\n",
      "3. **Adaptation aux Évolutions Technologiques et Réglementaires**\n",
      "   - **Références aux textes législatifs et ordonnances mises à jour** : Les articles applicables ont été mis à jour pour refléter les nouvelles législations et ordonnances, notamment celles renforçant le cadre de la lutte contre le blanchiment de capitaux et le financement du terrorisme pour les actifs numériques.\n",
      "   - **Ajout et modification de catégories** : Les émetteurs de jetons ayant obtenu le visa mentionné à l'article L. 552-4 ont été ajoutés, reflétant une adaptation aux nouvelles formes de financement.\n",
      "\n",
      "#### Changements Significatifs et Impact Global\n",
      "\n",
      "1. **Réduction de la Charge Administrative et des Coûts de Conformité**\n",
      "   - La suppression de plusieurs obligations spécifiques et la simplification des procédures de suspension et de radiation allègent la charge administrative et les coûts de conformité pour les prestataires de services.\n",
      "\n",
      "2. **Maintien des Exigences Essentielles de Conformité**\n",
      "   - Les exigences essentielles en matière de lutte contre le blanchiment des capitaux et le financement du terrorisme sont maintenues, garantissant un certain niveau de sécurité et de conformité.\n",
      "\n",
      "3. **Impact sur la Protection des Clients**\n",
      "   - La suppression des obligations de communication d'informations claires et de gestion des réclamations pourrait réduire la transparence et les recours disponibles pour les clients en cas de litige.\n",
      "\n",
      "4. **Élargissement du Champ d'Application et Renforcement de la Transparence**\n",
      "   - L'inclusion de nouvelles catégories d'entités et la suppression de références spécifiques permettent une application plus large et potentiellement plus uniforme des obligations de déclaration.\n",
      "   - Le nouveau paragraphe III améliore la transparence et la coordination au sein des groupes internationaux, facilitant ainsi la mise en œuvre des obligations de lutte contre le blanchiment et le financement du terrorisme.\n",
      "\n",
      "#### Ambiguïtés et Manques d’Informations\n",
      "\n",
      "- **Suppression de Références Européennes** : La suppression de certaines références aux règlements européens pourrait simplifier la législation applicable, mais pourrait également créer des ambiguïtés quant à l'application des normes européennes dans certains territoires.\n",
      "- **Réorganisation et Clarification** : Bien que la réorganisation des catégories et la clarification des termes visent à améliorer la compréhension, certaines modifications pourraient nécessiter des ajustements opérationnels et de conformité pour les entités concernées.\n",
      "\n",
      "### Conclusion\n",
      "\n",
      "Les révisions des articles de loi montrent une volonté de simplification et de clarification du cadre réglementaire, tout en maintenant les exigences essentielles de conformité. Les modifications apportées visent à réduire la charge administrative pour les prestataires, à adapter les dispositions aux évolutions technologiques et réglementaires, et à renforcer la transparence et la coordination au sein des groupes internationaux. Toutefois, ces changements pourraient également réduire certaines protections pour les clients et nécessiter des ajustements pour les entités nouvellement incluses ou explicitement mentionnées.\n"
     ]
    }
   ],
   "source": [
    "summary_simple = wrap_up_simple(text_variable)\n",
    "print(summary_simple)"
   ]
  },
  {
   "cell_type": "markdown",
   "metadata": {},
   "source": [
    "### 5.2 - Custum summarize"
   ]
  },
  {
   "cell_type": "code",
   "execution_count": 43,
   "metadata": {},
   "outputs": [],
   "source": [
    "# Amélioration prompt avec o1 + intération\n",
    "def wrap_up_multi(text_to_summarize, audience: str, detail_level:str): \n",
    "    # audience: “professionnel” ou “tout public”\n",
    "    # detail_level: “succinct” ou “détaillé”\n",
    "    prompt = ChatPromptTemplate.from_messages([(\"system\",                                  \n",
    "        \"\"\"\n",
    "\t\tPrompt amélioré avec niveaux de détail et public cible :\n",
    "\n",
    "\t\tTu es un avocat et analyste juridique très expérimenté.\n",
    "\t\tTa mission consiste à produire un résumé global des analyses réalisées sur les évolutions réglementaires de plusieurs articles de \n",
    "  \t\tloi en comparant leurs versions antérieures et révisées.\n",
    "\n",
    "\tConsignes générales :\n",
    "\t1.\tUtilise un langage juridique précis et adapté au public cible défini par la variable {audience} :\n",
    "\t•\tSi {audience} est “professionnel”, adopte un ton technique et détaillé.\n",
    "\t•\tSi {audience} est “tout public”, simplifie les termes juridiques pour les rendre accessibles tout en conservant leur précision.\n",
    " \n",
    "\t2.\tAjuste la longueur et le niveau de détail du résumé en fonction de la variable {detail_level} :\n",
    "\t•\tSi {detail_level} est “succinct”, concentre-toi uniquement sur les points clés et les impacts majeurs.\n",
    "\t•\tSi {detail_level} est “détaillé”, développe davantage les analyses, en incluant des exemples ou des explications supplémentaires lorsque pertinent.\n",
    " \n",
    "\t3.\tRegroupe et hiérarchise les informations :\n",
    "\t•\tIdentifie les thématiques ou tendances communes (par exemple : renforcement des obligations, simplification de procédures, etc.).\n",
    "\t•\tMets en évidence les changements les plus significatifs et leur impact global.\n",
    "\t4.\tSi certaines analyses révèlent des ambiguïtés ou des manques d’informations, mentionne-les brièvement.\n",
    "\n",
    "\tVariables :\n",
    "\t•\tNiveau de détail : {detail_level} (valeurs possibles : “succinct” ou “détaillé”)\n",
    "\t•\tPublic cible : {audience} (valeurs possibles : “professionnel” ou “tout public”)\n",
    "\n",
    "\tObjectif :\n",
    "\t\tFournis un résumé synthétique ou détaillé, selon le niveau demandé, mettant en lumière les évolutions majeures, \n",
    "  \t\tles implications globales, et les tendances observées à travers les différents articles. Structure ta réponse de manière organisée \n",
    "    \t(par exemple : par thématique ou par impact).\n",
    "    \n",
    "    Voici le text  : {text_to_summarize}\n",
    "            \"\"\")])\n",
    "    \n",
    "    chain = prompt | llm | StrOutputParser()\n",
    "    \n",
    "    llm_output = chain.invoke({\n",
    "        \"text_to_summarize\": text_to_summarize,\n",
    "        \"audience\": audience,\n",
    "        \"detail_level\": detail_level})\n",
    "    \n",
    "    return llm_output"
   ]
  },
  {
   "cell_type": "code",
   "execution_count": 44,
   "metadata": {},
   "outputs": [],
   "source": [
    "resuult_multi = wrap_up_multi(text_variable, 'professionnel', 'succinct')"
   ]
  },
  {
   "cell_type": "code",
   "execution_count": 47,
   "metadata": {},
   "outputs": [
    {
     "data": {
      "text/plain": [
       "str"
      ]
     },
     "execution_count": 47,
     "metadata": {},
     "output_type": "execute_result"
    }
   ],
   "source": [
    "type(resuult_multi)"
   ]
  },
  {
   "cell_type": "code",
   "execution_count": 50,
   "metadata": {},
   "outputs": [],
   "source": [
    "text_file = open(\"/Users/oussa/Desktop/Github_perso/Legal_FR_Tracker/data_output_ipynb/Output_summary_proXsuc.txt\", \"w\")\n",
    "text_file.write(resuult_multi)\n",
    "text_file.close()"
   ]
  },
  {
   "cell_type": "code",
   "execution_count": 46,
   "metadata": {},
   "outputs": [
    {
     "name": "stdout",
     "output_type": "stream",
     "text": [
      "### Résumé des Évolutions Réglementaires des Articles de Loi\n",
      "\n",
      "#### Variables\n",
      "- **Niveau de détail** : détaillé\n",
      "- **Public cible** : professionnel\n",
      "\n",
      "#### Introduction\n",
      "L'analyse des versions antérieure et révisée de plusieurs articles de loi révèle des modifications significatives visant à simplifier, clarifier et adapter les obligations réglementaires pour les prestataires de services, notamment dans le domaine des actifs numériques. Ces changements ont des implications importantes pour la conformité, la transparence et la protection des clients.\n",
      "\n",
      "#### Thématiques et Tendances Communes\n",
      "\n",
      "1. **Suppression de certaines obligations spécifiques**\n",
      "   - **Ancienne version** : Obligations détaillées concernant les dispositifs de sécurité, de contrôle interne, de gestion des conflits d'intérêts, et de systèmes informatiques résilients et sécurisés.\n",
      "   - **Nouvelle version** : Suppression de ces obligations, ainsi que celles spécifiques aux prestataires fournissant des services mentionnés au 1° de l'article L. 54-10-2.\n",
      "   - **Impact** : Réduction de la charge administrative et des coûts de conformité pour les prestataires.\n",
      "\n",
      "2. **Clarification des obligations de lutte contre le blanchiment et le financement du terrorisme**\n",
      "   - **Ancienne version** : Références détaillées aux articles spécifiques du code monétaire et financier.\n",
      "   - **Nouvelle version** : Simplification de la rédaction tout en maintenant les exigences essentielles.\n",
      "   - **Impact** : Maintien de la sécurité et de la conformité tout en simplifiant les obligations.\n",
      "\n",
      "3. **Suppression des exigences de communication et de gestion des réclamations**\n",
      "   - **Ancienne version** : Obligations de communication d'informations claires, exactes et non trompeuses, et de gestion des réclamations.\n",
      "   - **Nouvelle version** : Suppression de ces obligations.\n",
      "   - **Impact** : Potentiel impact négatif sur la protection des clients et la transparence.\n",
      "\n",
      "4. **Simplification de la procédure de suspension et de radiation**\n",
      "   - **Ancienne version** : Disposition permettant à l'AMF de suspendre d'office l'enregistrement d'un prestataire.\n",
      "   - **Nouvelle version** : Suppression de cette disposition, maintien des conditions de radiation sans la procédure d'avis conforme de l'ACPR.\n",
      "   - **Impact** : Simplification des procédures pour les prestataires.\n",
      "\n",
      "5. **Maintien des obligations de déclaration et de publication**\n",
      "   - **Ancienne et nouvelle versions** : Obligations de déclaration auprès de l'AMF et publication de la liste des prestataires enregistrés.\n",
      "   - **Impact** : Continuité dans la transparence et la conformité.\n",
      "\n",
      "#### Portée et Conséquences\n",
      "\n",
      "1. **Simplification et allègement des obligations**\n",
      "   - **Impact global** : Réduction des charges administratives et des coûts de conformité pour les prestataires, facilitant leur opérationnalité.\n",
      "\n",
      "2. **Maintien des exigences essentielles**\n",
      "   - **Impact global** : Assure un niveau de sécurité et de conformité suffisant, notamment en matière de lutte contre le blanchiment et le financement du terrorisme.\n",
      "\n",
      "3. **Impact sur la protection des clients**\n",
      "   - **Impact global** : La suppression des obligations de communication et de gestion des réclamations pourrait réduire la transparence et les recours disponibles pour les clients en cas de litige.\n",
      "\n",
      "#### Modifications Techniques et de Précision\n",
      "\n",
      "1. **Modification de l'autorité consultative**\n",
      "   - **Ancienne version** : AMF pouvait solliciter l'avis de l'autorité mentionnée à l'article L. 2321-1 du code de la défense.\n",
      "   - **Nouvelle version** : AMF peut solliciter l'avis de l'autorité nationale en charge de la sécurité des systèmes d'information.\n",
      "   - **Impact** : Amélioration de la clarté et de l'efficacité des consultations.\n",
      "\n",
      "2. **Seuil de détention de capital ou de droits de vote**\n",
      "   - **Ancienne version** : Seuil de 10 %.\n",
      "   - **Nouvelle version** : Seuil porté à 25 %.\n",
      "   - **Impact** : Réduction du nombre de personnes soumises à cette exigence, simplification administrative.\n",
      "\n",
      "3. **Terminologie et précision linguistique**\n",
      "   - **Ancienne version** : Termes généraux.\n",
      "   - **Nouvelle version** : Termes plus précis.\n",
      "   - **Impact** : Réduction des ambiguïtés, meilleure compréhension et application des dispositions légales.\n",
      "\n",
      "#### Conclusion\n",
      "Les modifications apportées aux articles de loi visent principalement à simplifier et clarifier les obligations réglementaires pour les prestataires de services, tout en maintenant les exigences essentielles de conformité. Ces ajustements devraient améliorer la clarté réglementaire et potentiellement alléger certaines obligations administratives, tout en maintenant un cadre rigoureux pour la sécurité et la transparence des services sur actifs numériques. Toutefois, la réduction de certaines obligations pourrait avoir un impact sur la protection des clients, nécessitant une vigilance accrue de la part des régulateurs et des prestataires.\n"
     ]
    }
   ],
   "source": [
    "print(resuult_multi)"
   ]
  }
 ],
 "metadata": {
  "kernelspec": {
   "display_name": "Python (venv)",
   "language": "python",
   "name": "venv"
  },
  "language_info": {
   "codemirror_mode": {
    "name": "ipython",
    "version": 3
   },
   "file_extension": ".py",
   "mimetype": "text/x-python",
   "name": "python",
   "nbconvert_exporter": "python",
   "pygments_lexer": "ipython3",
   "version": "3.13.1"
  }
 },
 "nbformat": 4,
 "nbformat_minor": 2
}
