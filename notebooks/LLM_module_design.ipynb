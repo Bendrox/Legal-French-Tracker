{
 "cells": [
  {
   "cell_type": "code",
   "execution_count": 51,
   "metadata": {},
   "outputs": [],
   "source": [
    "import getpass\n",
    "import os\n",
    "import tiktoken"
   ]
  },
  {
   "cell_type": "code",
   "execution_count": 52,
   "metadata": {},
   "outputs": [],
   "source": [
    "import sys\n",
    "sys.path.append(\"..\")  # Ajoute le dossier parent\n",
    "\n",
    "from credentials import Azure_OpenAI_OB_Endpoint, Azure_OpenAI_OB_Key"
   ]
  },
  {
   "cell_type": "code",
   "execution_count": 53,
   "metadata": {},
   "outputs": [],
   "source": [
    "from langchain_openai import AzureChatOpenAI\n",
    "\n",
    "llm = AzureChatOpenAI(\n",
    "    azure_endpoint= Azure_OpenAI_OB_Endpoint ,\n",
    "    openai_api_version=\"2024-02-15-preview\",\n",
    "    model_name=\"gpt-4o\",\n",
    "    openai_api_key= Azure_OpenAI_OB_Key,\n",
    "    openai_api_type=\"azure\",\n",
    "    temperature=0,\n",
    "    deployment_name=\"gpt-4o-deploy\",\n",
    "    #streaming=True,\n",
    ")"
   ]
  },
  {
   "cell_type": "code",
   "execution_count": 54,
   "metadata": {},
   "outputs": [
    {
     "name": "stdout",
     "output_type": "stream",
     "text": [
      "Nombre de tokens : 10\n"
     ]
    }
   ],
   "source": [
    "import tiktoken\n",
    "\n",
    "def count_tokens(text, model=\"gpt-4o\"):\n",
    "    # Obtenir l'encodage en fonction du modèle\n",
    "    try:\n",
    "        encoding = tiktoken.encoding_for_model(model)\n",
    "    except KeyError:\n",
    "        # Si le modèle n'est pas pris en charge, utilisez un encodage par défaut\n",
    "        encoding = tiktoken.get_encoding(\"cl100k_base\")\n",
    "    \n",
    "    # Convertir le texte en tokens\n",
    "    tokens = encoding.encode(text)\n",
    "    \n",
    "    # Retourner le nombre de tokens\n",
    "    return len(tokens)\n",
    "\n",
    "# Exemple d'utilisation\n",
    "my_text = \"Voici un exemple de texte que nous voulons analyser.\"\n",
    "token_count = count_tokens(my_text, model=\"gpt-4o\")\n",
    "print(f\"Nombre de tokens : {token_count}\")"
   ]
  },
  {
   "cell_type": "markdown",
   "metadata": {},
   "source": [
    "## 1 - Test"
   ]
  },
  {
   "cell_type": "code",
   "execution_count": 55,
   "metadata": {},
   "outputs": [],
   "source": [
    "from langchain_core.prompts import ChatPromptTemplate\n",
    "\n",
    "prompt = ChatPromptTemplate.from_messages(\n",
    "    [(\"system\",\n",
    "            \"\"\"Tu es un avocat et analyste juridique très expérimenté, tu as pour but d'analyser et commenter les changements \n",
    "            réglementaires de chaque article , tu trouveras ici l'ancienne et la nouvelle version de l'article que l on te donne. \n",
    "            Tu adopteras un language juridique précis. \n",
    "            Pour avoir du contexte , sache que ce texte est extrait du {code}\"\"\"),\n",
    "        (\"human\", \n",
    "            \"Voici l'ancienne version de l'article a analyser {old_version} et voici la nouvelle version du meme article {new_version}\")]\n",
    ")"
   ]
  },
  {
   "cell_type": "code",
   "execution_count": 56,
   "metadata": {},
   "outputs": [],
   "source": [
    "from langchain_core.output_parsers import StrOutputParser\n",
    "chain = prompt | llm | StrOutputParser()\n",
    "\n",
    "contenu_ancien = \"Les établissements de crédit, les sociétés de financement, les établissements de monnaie électronique qui fournissent des services de paiement, les établissements de paiement, les intermédiaires en opérations de banque et en services de paiement, les intermédiaires en financement participatif, les prestataires de services de financement participatif dans le cadre de leurs activités de facilitation d'octroi de prêts, les entreprises d'assurance dans le cadre de leur activité de prêts et les sociétés de gestion mentionnées au premier alinéa de l'article L. 519-2 qui recourent aux services d'intermédiaires en opérations de banque et en services de paiement doivent s'assurer que ceux-ci sont immatriculés conformément à l'article L. 519-3-1 . Les établissements de crédit, les sociétés de financement, les établissements de monnaie électronique qui fournissent des services de paiement, les établissements de paiement, les intermédiaires en financement participatif, les prestataires de services de financement participatif dans le cadre de leurs activités de facilitation d'octroi de prêts, les entreprises d'assurance dans le cadre de leur activité de prêts et les sociétés de gestion mentionnées au premier alinéa de l'article L. 519-2 qui recourent à des intermédiaires ressortissants d'un Etat membre de l'Union européenne ou d'un Etat partie à l'accord sur l'Espace économique européen autre que la France et exerçant sur le territoire français en régime de libre prestation de services ou de libre établissement s'assurent auprès de l'organisme qui tient le registre prévu au I de l'article L. 512-1 du code des assurances que ceux-ci ont effectué les formalités requises à l'article L. 519-9 du présent code.\"\n",
    "contenu_nouveau = \"Les établissements de crédit, les sociétés de financement, les établissements de monnaie électronique qui fournissent des services de paiement, les établissements de paiement, les intermédiaires en opérations de banque et en services de paiement, les intermédiaires en financement participatif, les entreprises d'assurance dans le cadre de leur activité de prêts et les sociétés de gestion mentionnées au premier alinéa de l'article L. 519-2 qui recourent aux services d'intermédiaires en opérations de banque et en services de paiement doivent s'assurer que ceux-ci sont immatriculés conformément à l'article L. 519-3-1 . Les établissements de crédit, les sociétés de financement, les établissements de monnaie électronique qui fournissent des services de paiement, les établissements de paiement, les intermédiaires en financement participatif, les entreprises d'assurance dans le cadre de leur activité de prêts et les sociétés de gestion mentionnées au premier alinéa de l'article L. 519-2 qui recourent à des intermédiaires ressortissants d'un Etat membre de l'Union européenne ou d'un Etat partie à l'accord sur l'Espace économique européen autre que la France et exerçant sur le territoire français en régime de libre prestation de services ou de libre établissement s'assurent auprès de l'organisme qui tient le registre prévu au I de l'article L. 512-1 du code des assurances que ceux-ci ont effectué les formalités requises à l'article L. 519-9 du présent code.\"\n",
    "llm_output = chain.invoke(\n",
    "    {\n",
    "        \"code\": \"Code monétaire et financier\",\n",
    "        \"old_version\": contenu_ancien,\n",
    "        \"new_version\": contenu_nouveau,\n",
    "        \"input\": \"I love programming.\",\n",
    "    }\n",
    ")"
   ]
  },
  {
   "cell_type": "code",
   "execution_count": 57,
   "metadata": {},
   "outputs": [
    {
     "name": "stdout",
     "output_type": "stream",
     "text": [
      "L'analyse comparative des deux versions de l'article révèle une modification notable. La nouvelle version de l'article a supprimé la mention des \"prestataires de services de financement participatif dans le cadre de leurs activités de facilitation d'octroi de prêts\" dans les deux alinéas.\n",
      "\n",
      "**Ancienne version :**\n",
      "1. Les établissements de crédit, les sociétés de financement, les établissements de monnaie électronique qui fournissent des services de paiement, les établissements de paiement, les intermédiaires en opérations de banque et en services de paiement, les intermédiaires en financement participatif, les prestataires de services de financement participatif dans le cadre de leurs activités de facilitation d'octroi de prêts, les entreprises d'assurance dans le cadre de leur activité de prêts et les sociétés de gestion mentionnées au premier alinéa de l'article L. 519-2 qui recourent aux services d'intermédiaires en opérations de banque et en services de paiement doivent s'assurer que ceux-ci sont immatriculés conformément à l'article L. 519-3-1.\n",
      "2. Les établissements de crédit, les sociétés de financement, les établissements de monnaie électronique qui fournissent des services de paiement, les établissements de paiement, les intermédiaires en financement participatif, les prestataires de services de financement participatif dans le cadre de leurs activités de facilitation d'octroi de prêts, les entreprises d'assurance dans le cadre de leur activité de prêts et les sociétés de gestion mentionnées au premier alinéa de l'article L. 519-2 qui recourent à des intermédiaires ressortissants d'un Etat membre de l'Union européenne ou d'un Etat partie à l'accord sur l'Espace économique européen autre que la France et exerçant sur le territoire français en régime de libre prestation de services ou de libre établissement s'assurent auprès de l'organisme qui tient le registre prévu au I de l'article L. 512-1 du code des assurances que ceux-ci ont effectué les formalités requises à l'article L. 519-9 du présent code.\n",
      "\n",
      "**Nouvelle version :**\n",
      "1. Les établissements de crédit, les sociétés de financement, les établissements de monnaie électronique qui fournissent des services de paiement, les établissements de paiement, les intermédiaires en opérations de banque et en services de paiement, les intermédiaires en financement participatif, les entreprises d'assurance dans le cadre de leur activité de prêts et les sociétés de gestion mentionnées au premier alinéa de l'article L. 519-2 qui recourent aux services d'intermédiaires en opérations de banque et en services de paiement doivent s'assurer que ceux-ci sont immatriculés conformément à l'article L. 519-3-1.\n",
      "2. Les établissements de crédit, les sociétés de financement, les établissements de monnaie électronique qui fournissent des services de paiement, les établissements de paiement, les intermédiaires en financement participatif, les entreprises d'assurance dans le cadre de leur activité de prêts et les sociétés de gestion mentionnées au premier alinéa de l'article L. 519-2 qui recourent à des intermédiaires ressortissants d'un Etat membre de l'Union européenne ou d'un Etat partie à l'accord sur l'Espace économique européen autre que la France et exerçant sur le territoire français en régime de libre prestation de services ou de libre établissement s'assurent auprès de l'organisme qui tient le registre prévu au I de l'article L. 512-1 du code des assurances que ceux-ci ont effectué les formalités requises à l'article L. 519-9 du présent code.\n",
      "\n",
      "**Commentaire juridique :**\n",
      "La suppression des \"prestataires de services de financement participatif dans le cadre de leurs activités de facilitation d'octroi de prêts\" dans la nouvelle version de l'article pourrait indiquer une volonté de simplification ou de clarification du champ d'application de l'article. Cette modification pourrait également refléter un changement dans la réglementation applicable à ces prestataires spécifiques, les excluant désormais des obligations d'immatriculation et de vérification mentionnées dans cet article. Il est essentiel pour les entités concernées de vérifier les nouvelles obligations réglementaires applicables aux prestataires de services de financement participatif pour s'assurer de leur conformité.\n"
     ]
    }
   ],
   "source": [
    "print(llm_output)"
   ]
  },
  {
   "cell_type": "markdown",
   "metadata": {},
   "source": [
    "## 2 - Function"
   ]
  },
  {
   "cell_type": "code",
   "execution_count": 58,
   "metadata": {},
   "outputs": [],
   "source": [
    "from langchain_core.prompts import ChatPromptTemplate\n",
    "from langchain_core.output_parsers import StrOutputParser"
   ]
  },
  {
   "cell_type": "code",
   "execution_count": 59,
   "metadata": {},
   "outputs": [],
   "source": [
    "def llm_legal_change_com_v1(old_version, new_version): \n",
    "    prompt = ChatPromptTemplate.from_messages([(\"system\",\n",
    "            \"\"\"\n",
    "            Tu es un avocat et analyste juridique très expérimenté, tu as pour but d'analyser et de commenter les changements \n",
    "            réglementaires de chaque article , tu trouveras ici l'ancienne et la nouvelle version de l'article que l on te donne. \n",
    "            Tu adopteras un language juridique précis. Tu n'inventeras rien et tu te baseras uniquement sur les données fournies.\n",
    "            Si tu ne sais pas ou tu ne comprends pas , dis le. \n",
    "            Inutile de reciter les textes fournis, tu ne retourneras que ton analyse.\n",
    "            \"\"\"),\n",
    "        (\"human\", \n",
    "            \"Voici l'ancienne version de l'article a analyser {old_version} et voici la nouvelle version du meme article {new_version}\")])\n",
    "    \n",
    "    chain = prompt | llm | StrOutputParser()\n",
    "    \n",
    "    llm_output = chain.invoke({\n",
    "        \"old_version\": old_version,\n",
    "        \"new_version\": new_version})\n",
    "    \n",
    "    return llm_output"
   ]
  },
  {
   "cell_type": "code",
   "execution_count": 60,
   "metadata": {},
   "outputs": [],
   "source": [
    "# Amélioration prompt avec o1\n",
    "def llm_legal_change_com_v2(old_version, new_version): \n",
    "    prompt = ChatPromptTemplate.from_messages([(\"system\",                                  \n",
    "        \"\"\"\n",
    "\tTu es un avocat et analyste juridique très expérimenté. \n",
    "    Ta mission consiste à examiner et commenter les évolutions réglementaires d’un article de loi en comparant sa version \n",
    "    antérieure avec sa version révisée.\n",
    "\n",
    "\tConsignes :\n",
    "\t1.\tUtilise un langage juridique précis.\n",
    "\t2.\tBase-toi uniquement sur les informations fournies, sans inventer ni extrapoler.\n",
    "\t3.\tSi tu ne comprends pas un point ou si les informations sont insuffisantes, signale-le clairement.\n",
    "\t4.\tNe récite pas le texte en intégralité : concentre-toi sur l’analyse et la comparaison.\n",
    "\n",
    "\tContenu à analyser :\n",
    "\t•\tAncienne version : {old_version}\n",
    "\t•\tNouvelle version : {new_version}\n",
    "\n",
    "\tObjectif :\n",
    "    Produis un commentaire juridique concis, en mettant en évidence les principaux changements, leur portée et leurs éventuelles conséquences. N’inclus dans ta réponse que l’analyse finale.\n",
    "\n",
    "            \"\"\")])\n",
    "    \n",
    "    chain = prompt | llm | StrOutputParser()\n",
    "    \n",
    "    llm_output = chain.invoke({\n",
    "        \"old_version\": old_version,\n",
    "        \"new_version\": new_version})\n",
    "    \n",
    "    return llm_output"
   ]
  },
  {
   "cell_type": "code",
   "execution_count": 75,
   "metadata": {},
   "outputs": [],
   "source": [
    "# Amélioration prompt avec o1\n",
    "def llm_legal_change_com_v3(old_version, new_version): \n",
    "    prompt = ChatPromptTemplate.from_messages([(\"system\",                                  \n",
    "        \"\"\"\n",
    "\tTu es un avocat et analyste juridique très expérimenté. \n",
    "    Ta mission consiste à examiner et commenter les évolutions réglementaires d’un article de loi en comparant sa version \n",
    "    antérieure avec sa version révisée.\n",
    "\n",
    "\tConsignes :\n",
    "\t1.\tUtilise un langage juridique précis.\n",
    "\t2.\tBase-toi uniquement sur les informations fournies, sans inventer ni extrapoler.\n",
    "\t3.\tSi tu ne comprends pas un point ou si les informations sont insuffisantes, signale-le clairement.\n",
    "\t4.\tNe récite pas le texte en intégralité : concentre-toi sur l’analyse et la comparaison.\n",
    "\n",
    "\tContenu à analyser :\n",
    "\t•\tAncienne version : {old_version}\n",
    "\t•\tNouvelle version : {new_version}\n",
    "\n",
    "\tObjectif :\n",
    "    Produis un commentaire juridique concis, en mettant en évidence les principaux changements, leur portée et leurs éventuelles conséquences. N’inclus dans ta réponse que l’analyse finale.\n",
    "\n",
    "            \"\"\")])\n",
    "    \n",
    "    chain = prompt | llm | StrOutputParser()\n",
    "    \n",
    "    llm_output = chain.invoke({\n",
    "        \"old_version\": old_version,\n",
    "        \"new_version\": new_version})\n",
    "    \n",
    "    return llm_output"
   ]
  },
  {
   "cell_type": "markdown",
   "metadata": {},
   "source": [
    "## 3 - Data prep"
   ]
  },
  {
   "cell_type": "code",
   "execution_count": 61,
   "metadata": {},
   "outputs": [],
   "source": [
    "import pandas as pd\n",
    "AML5_modifs= pd.read_excel(\"/Users/oussa/Desktop/Github_perso/Legal_FR_Tracker/data_output/Legifrance_DB_TrackChange.xlsx\")"
   ]
  },
  {
   "cell_type": "code",
   "execution_count": 62,
   "metadata": {},
   "outputs": [],
   "source": [
    "# Filter on AML text\n",
    "AML5_modifs =  AML5_modifs[AML5_modifs['Titre Article Modificateur'].str.contains(\"n°2020-1544\")| AML5_modifs['Titre Article Modificateur'].str.contains(\"n°2020-115\") ]"
   ]
  },
  {
   "cell_type": "code",
   "execution_count": null,
   "metadata": {},
   "outputs": [],
   "source": [
    "#check results\n",
    "AML5_modifs['Titre Article Modificateur'].unique()"
   ]
  },
  {
   "cell_type": "code",
   "execution_count": 64,
   "metadata": {},
   "outputs": [
    {
     "data": {
      "text/plain": [
       "array(['OK change'], dtype=object)"
      ]
     },
     "execution_count": 64,
     "metadata": {},
     "output_type": "execute_result"
    }
   ],
   "source": [
    "# Keep only changed articles in their content\n",
    "AML5_modifs = AML5_modifs[AML5_modifs['Compare contenu'] ==\"OK change\"]\n",
    "AML5_modifs['Compare contenu'].unique()"
   ]
  },
  {
   "cell_type": "code",
   "execution_count": 65,
   "metadata": {},
   "outputs": [],
   "source": [
    "# Delete KO in Old and new articles\n",
    "AML5_modifs = AML5_modifs[~AML5_modifs['Contenu_Ancien_Article'].str.contains(\"KO\", na=False)]\n",
    "AML5_modifs = AML5_modifs[~AML5_modifs['Contenu_Nouv_Vers_Article'].str.contains(\"KO\", na=False)]"
   ]
  },
  {
   "cell_type": "code",
   "execution_count": 66,
   "metadata": {},
   "outputs": [
    {
     "data": {
      "text/plain": [
       "58"
      ]
     },
     "execution_count": 66,
     "metadata": {},
     "output_type": "execute_result"
    }
   ],
   "source": [
    "len(AML5_modifs)"
   ]
  },
  {
   "cell_type": "markdown",
   "metadata": {},
   "source": [
    "## 4 - Apply function for each row"
   ]
  },
  {
   "cell_type": "code",
   "execution_count": 67,
   "metadata": {},
   "outputs": [],
   "source": [
    "#   AML5_modifs\n",
    "#   llm_legal_change_com()"
   ]
  },
  {
   "cell_type": "code",
   "execution_count": 68,
   "metadata": {},
   "outputs": [],
   "source": [
    "AML5_modifs_select = AML5_modifs.iloc[:10]"
   ]
  },
  {
   "cell_type": "markdown",
   "metadata": {},
   "source": [
    "### 4.1 - Application fonction 1"
   ]
  },
  {
   "cell_type": "code",
   "execution_count": 69,
   "metadata": {},
   "outputs": [
    {
     "name": "stderr",
     "output_type": "stream",
     "text": [
      "/var/folders/ty/2g_hgfks4nl_84mz496fmn600000gn/T/ipykernel_71405/819962179.py:1: SettingWithCopyWarning: \n",
      "A value is trying to be set on a copy of a slice from a DataFrame.\n",
      "Try using .loc[row_indexer,col_indexer] = value instead\n",
      "\n",
      "See the caveats in the documentation: https://pandas.pydata.org/pandas-docs/stable/user_guide/indexing.html#returning-a-view-versus-a-copy\n",
      "  AML5_modifs_select['LLM_Change_Analysis_1'] = AML5_modifs_select.apply(\n"
     ]
    }
   ],
   "source": [
    "AML5_modifs_select['LLM_Change_Analysis_1'] = AML5_modifs_select.apply(\n",
    "    lambda row: llm_legal_change_com_v1(row['Contenu_Ancien_Article'], row['Contenu_Nouv_Vers_Article']), \n",
    "    axis=1)"
   ]
  },
  {
   "cell_type": "code",
   "execution_count": 71,
   "metadata": {},
   "outputs": [],
   "source": [
    "AML5_modifs_select.to_excel(\"/Users/oussa/Desktop/Github_perso/Legal_FR_Tracker/data_output_ipynb/output_llm_change_analysis_v1.xlsx\")"
   ]
  },
  {
   "cell_type": "markdown",
   "metadata": {},
   "source": [
    "### 4.2 - Application fonction 2"
   ]
  },
  {
   "cell_type": "code",
   "execution_count": 72,
   "metadata": {},
   "outputs": [
    {
     "name": "stderr",
     "output_type": "stream",
     "text": [
      "/var/folders/ty/2g_hgfks4nl_84mz496fmn600000gn/T/ipykernel_71405/2587971769.py:1: SettingWithCopyWarning: \n",
      "A value is trying to be set on a copy of a slice from a DataFrame.\n",
      "Try using .loc[row_indexer,col_indexer] = value instead\n",
      "\n",
      "See the caveats in the documentation: https://pandas.pydata.org/pandas-docs/stable/user_guide/indexing.html#returning-a-view-versus-a-copy\n",
      "  AML5_modifs_select['LLM_Change_Analysis_2'] = AML5_modifs_select.apply(\n"
     ]
    }
   ],
   "source": [
    "AML5_modifs_select['LLM_Change_Analysis_2'] = AML5_modifs_select.apply( \n",
    "        lambda row: llm_legal_change_com_v2(row['Contenu_Ancien_Article'], row['Contenu_Nouv_Vers_Article']), axis=1 ) "
   ]
  },
  {
   "cell_type": "code",
   "execution_count": 73,
   "metadata": {},
   "outputs": [],
   "source": [
    "AML5_modifs_select.to_excel(\"/Users/oussa/Desktop/Github_perso/Legal_FR_Tracker/data_output_ipynb/output_llm_change_analysis_v2.xlsx\")"
   ]
  },
  {
   "cell_type": "markdown",
   "metadata": {},
   "source": [
    "### 4.3 - Application fonction 3"
   ]
  },
  {
   "cell_type": "code",
   "execution_count": 76,
   "metadata": {},
   "outputs": [
    {
     "name": "stderr",
     "output_type": "stream",
     "text": [
      "/var/folders/ty/2g_hgfks4nl_84mz496fmn600000gn/T/ipykernel_71405/2334415541.py:1: SettingWithCopyWarning: \n",
      "A value is trying to be set on a copy of a slice from a DataFrame.\n",
      "Try using .loc[row_indexer,col_indexer] = value instead\n",
      "\n",
      "See the caveats in the documentation: https://pandas.pydata.org/pandas-docs/stable/user_guide/indexing.html#returning-a-view-versus-a-copy\n",
      "  AML5_modifs_select['LLM_Change_Analysis_3'] = AML5_modifs_select.apply(\n"
     ]
    }
   ],
   "source": [
    "AML5_modifs_select['LLM_Change_Analysis_3'] = AML5_modifs_select.apply( \n",
    "        lambda row: llm_legal_change_com_v3(row['Contenu_Ancien_Article'], row['Contenu_Nouv_Vers_Article']), axis=1 ) "
   ]
  },
  {
   "cell_type": "code",
   "execution_count": 77,
   "metadata": {},
   "outputs": [],
   "source": [
    "AML5_modifs_select.to_excel(\"/Users/oussa/Desktop/Github_perso/Legal_FR_Tracker/data_output_ipynb/output_llm_change_analysis_v3.xlsx\")"
   ]
  },
  {
   "cell_type": "markdown",
   "metadata": {},
   "source": [
    "## 5 - Summarize"
   ]
  },
  {
   "cell_type": "code",
   "execution_count": 78,
   "metadata": {},
   "outputs": [],
   "source": [
    "all_llm_analysis = AML5_modifs_select['LLM_Change_Analysis_3'] "
   ]
  },
  {
   "cell_type": "code",
   "execution_count": 79,
   "metadata": {},
   "outputs": [],
   "source": [
    "all_llm_analysis = all_llm_analysis.to_string()"
   ]
  },
  {
   "cell_type": "code",
   "execution_count": 80,
   "metadata": {},
   "outputs": [
    {
     "data": {
      "text/plain": [
       "'L\\'analyse des versions antérieure et révisée de l\\'article de loi révèle plusieurs modifications notables, tant sur le fond que sur la forme, qui méritent une attention particulière.\\n\\n1. **Suppression de certaines exigences spécifiques** :\\n   - La nouvelle version a supprimé les exigences détaillées relatives aux dispositifs de sécurité, de contrôle interne, de gestion des conflits d\\'intérêts, et de systèmes informatiques résilients et sécurisés (ancien 5°). Cette suppression pourrait indiquer une simplification des critères d\\'enregistrement ou un transfert de ces exigences vers d\\'autres régulations ou directives spécifiques.\\n\\n2. **Élimination des obligations spécifiques pour les prestataires du service mentionné au 1° de l\\'article L. 54-10-2** :\\n   - Les obligations spécifiques telles que la conclusion de conventions avec les clients, l\\'établissement d\\'une politique de conservation, la restitution des actifs numériques, la ségrégation des détentions, et l\\'abstention d\\'usage des actifs numériques sans consentement (ancien 6°) ont été supprimées. Cela pourrait réduire la charge administrative et opérationnelle pour ces prestataires, mais pourrait aussi soulever des questions sur la protection des clients et la gestion des actifs numériques.\\n\\n3. **Suppression des obligations de communication et de gestion des réclamations** :\\n   - Les obligations de fournir des informations claires, exactes et non trompeuses, d\\'avertir les clients des risques, de rendre publiques les politiques tarifaires, et de mettre en œuvre une politique de gestion des réclamations (ancien paragraphe sur la communication aux clients) ont été supprimées. Cette suppression pourrait affecter la transparence et la protection des consommateurs.\\n\\n4. **Réduction des pouvoirs de l\\'Autorité des marchés financiers (AMF)** :\\n   - La nouvelle version ne mentionne plus la vérification par l\\'AMF de la sécurité des systèmes d\\'information des prestataires, ni la possibilité de solliciter l\\'avis de l\\'autorité mentionnée à l\\'article L. 2321-1 du code de la défense. Cela pourrait limiter la capacité de l\\'AMF à assurer la sécurité des systèmes d\\'information des prestataires.\\n\\n5. **Simplification de la procédure de suspension et de radiation** :\\n   - La nouvelle version conserve les dispositions relatives à la suspension et à la radiation des prestataires, mais sans les détails spécifiques sur les conditions de menace grave et imminente pour la stabilité du marché des actifs numériques. Cela pourrait simplifier la procédure, mais aussi réduire la précision des critères d\\'intervention.\\n\\n6. **Maintien des obligations de déclaration et de communication** :\\n   - Les obligations de déclaration auprès de l\\'AMF en cas de modification affectant le respect des obligations, ainsi que la possibilité pour l\\'AMF de radier les prestataires, sont maintenues. Cela assure une certaine continuité dans le contrôle et la régulation des prestataires.\\n\\nEn conclusion, la révision de l\\'article de loi semble viser une simplification des exigences et des procédures pour les prestataires de services, tout en maintenant certaines obligations de base. Toutefois, cette simplification pourrait avoir des conséquences sur la protection des consommateurs et la sécurité des systèmes d\\'information, nécessitant une vigilance accrue de la part des régulateurs et des parties prenantes.L\\'analyse des modifications apportées à l\\'article de loi révèle plusieurs changements significatifs.\\n\\n1. **Réduction de la portée réglementaire** :\\n   - **Ancienne version** : La réglementation s\\'appliquait aux prestataires de services mentionnés aux 1° à 4° de l\\'article L. 54-10-2 ainsi qu\\'aux services sur crypto-actifs au sens du règlement (UE) 2023/1114.\\n   - **Nouvelle version** : La référence aux services sur crypto-actifs au sens du règlement (UE) 2023/1114 a été supprimée. Désormais, la réglementation ne s\\'applique qu\\'aux prestataires de services mentionnés aux 1° à 4° de l\\'article L. 54-10-2.\\n\\n2. **Simplification des exigences d\\'enregistrement** :\\n   - **Ancienne version** : Les prestataires devaient être soit enregistrés par l\\'Autorité des marchés financiers, soit autorisés à fournir des services sur crypto-actifs conformément à l\\'article 59 du règlement (UE) 2023/1114.\\n   - **Nouvelle version** : L\\'exigence d\\'autorisation conformément à l\\'article 59 du règlement (UE) 2023/1114 a été supprimée. Désormais, seule l\\'enregistrement préalable par l\\'Autorité des marchés financiers est requis.\\n\\n3. **Clarification des interdictions** :\\n   - **Ancienne version** : L\\'interdiction d\\'utiliser une dénomination, une raison sociale, une publicité ou tout autre procédé laissant croire à un enregistrement ou une autorisation s\\'appliquait à toute personne n\\'ayant pas la qualité de prestataire des services enregistré ou autorisé.\\n   - **Nouvelle version** : Cette interdiction s\\'applique spécifiquement aux prestataires des services mentionnés aux 1° et 4° de l\\'article L. 54-10-2, sans mention de l\\'autorisation.\\n\\n**Portée et conséquences** :\\n- **Portée** : La nouvelle version restreint la portée de la réglementation en excluant les services sur crypto-actifs définis par le règlement (UE) 2023/1114. Elle simplifie également les exigences en matière d\\'enregistrement, en supprimant la nécessité d\\'une autorisation spécifique.\\n- **Conséquences** : Ces modifications pourraient réduire la complexité administrative pour les prestataires de services mentionnés aux 1° à 4° de l\\'article L. 54-10-2, mais elles pourraient également limiter la protection des consommateurs en excluant certains services sur crypto-actifs de la réglementation.\\n\\nEn conclusion, la nouvelle version de l\\'article de loi simplifie les exigences d\\'enregistrement et réduit la portée de la réglementation, ce qui pourrait avoir des implications à la fois positives et négatives pour les prestataires de services et les consommateurs.L\\'analyse des modifications apportées à l\\'article de loi révèle plusieurs ajustements notables, principalement dans les sections I, VI et quelques clarifications mineures dans d\\'autres sections.\\n\\n1. **Section I** :\\n   - La mention de l\\'autorité nationale en charge de la sécurité des systèmes d\\'information remplace l\\'article L. 2321-1 du code de la défense. Ce changement pourrait indiquer une volonté de centraliser ou de clarifier les responsabilités en matière de sécurité des systèmes d\\'information.\\n\\n2. **Section VI** :\\n   - Le seuil de détention de capital ou de droits de vote par des personnes physiques a été modifié de \"plus de 10 %\" à \"plus de 25 %\". Cette modification pourrait avoir des implications significatives sur le contrôle et la surveillance des prestataires, en réduisant le nombre de personnes physiques soumises à des exigences strictes d\\'honorabilité et de compétence.\\n   - Les autres obligations de cette section restent inchangées, mais cette modification du seuil de détention pourrait potentiellement réduire la charge administrative pour les prestataires tout en maintenant un niveau de contrôle adéquat.\\n\\n3. **Autres sections** :\\n   - Les sections II, III, V, VII et VIII ne montrent pas de changements substantiels dans leur contenu. Les obligations et les procédures restent globalement les mêmes, assurant la continuité des exigences réglementaires pour les prestataires de services sur actifs numériques.\\n\\n**Portée et conséquences** :\\n- **Clarification des responsabilités** : La modification de la référence à l\\'autorité nationale en charge de la sécurité des systèmes d\\'information dans la section I pourrait améliorer la clarté et l\\'efficacité de la supervision en matière de sécurité des systèmes d\\'information.\\n- **Seuil de détention de capital** : L\\'augmentation du seuil de détention de capital ou de droits de vote de 10 % à 25 % dans la section VI pourrait alléger les exigences pour certains investisseurs, tout en maintenant un cadre de surveillance rigoureux pour les principaux actionnaires.\\n- **Stabilité réglementaire** : Le maintien des autres obligations et procédures assure une stabilité réglementaire pour les prestataires, ce qui est crucial pour la confiance et la prévisibilité dans le secteur des actifs numériques.\\n\\nEn conclusion, les modifications apportées à cet article de loi semblent viser à clarifier certaines responsabilités et à ajuster les seuils de contrôle sans compromettre la rigueur de la surveillance réglementaire. Ces ajustements devraient permettre une meilleure application des règles tout en réduisant potentiellement la charge administrative pour certains acteurs du marché.L\\'analyse des versions antérieure et révisée de l\\'article de loi révèle un changement notable dans la portée des personnes concernées par l\\'interdiction de tenir des comptes ou livrets d\\'épargne anonymes. \\n\\nDans l\\'ancienne version, l\\'interdiction s\\'appliquait aux personnes mentionnées aux 1° à 7° de l\\'article L. 561-2. La nouvelle version étend cette interdiction aux personnes mentionnées aux 1° à 7° bis du même article. \\n\\nCe changement implique une extension du champ d\\'application de la loi, incluant désormais des catégories supplémentaires de personnes ou entités. La mention \"7° bis\" suggère l\\'ajout d\\'une nouvelle catégorie ou sous-catégorie dans l\\'article L. 561-2, ce qui pourrait refléter une volonté législative d\\'inclure de nouvelles entités ou professions dans le cadre de cette interdiction, potentiellement en réponse à des évolutions dans les pratiques financières ou à des besoins accrus de régulation.\\n\\nLes conséquences de cette modification sont significatives : les nouvelles entités ou personnes incluses dans le 7° bis devront se conformer à cette interdiction, ce qui pourrait nécessiter des ajustements dans leurs pratiques de gestion des comptes et livrets d\\'épargne. Cela renforce également le cadre de lutte contre l\\'anonymat dans les transactions financières, contribuant potentiellement à une meilleure traçabilité et à la prévention des activités illicites.L\\'analyse des modifications apportées à l\\'article de loi révèle plusieurs changements notables, tant sur le fond que sur la forme, qui méritent une attention particulière.\\n\\n1. **Suppression des Prestataires de Services sur Crypto-Actifs** :\\n   La nouvelle version de l\\'article a supprimé les références explicites aux prestataires de services sur crypto-actifs, qui étaient auparavant mentionnés dans les points 1° quater, 7° bis, et 7° quater. Cette suppression pourrait indiquer un changement de cadre réglementaire ou une réallocation de ces obligations à d\\'autres dispositions législatives.\\n\\n2. **Ajout des Émetteurs de Jetons** :\\n   Un ajout significatif est l\\'introduction du point 7° ter, qui inclut désormais les émetteurs de jetons ayant obtenu un visa conformément à l\\'article L. 552-4. Cela montre une reconnaissance et une régulation accrue des activités liées aux offres initiales de jetons (ICO), renforçant ainsi la surveillance des transactions en crypto-actifs.\\n\\n3. **Modification des Références Législatives** :\\n   Plusieurs références législatives ont été mises à jour pour refléter les modifications dans d\\'autres parties du code. Par exemple, les articles L. 721-7 et L. 721-18 ont été remplacés par L. 711-2 et L. 712-4 respectivement. Ces changements visent à harmoniser les références et à assurer la cohérence législative.\\n\\n4. **Clarification et Simplification** :\\n   La nouvelle version a supprimé certaines redondances et clarifié les catégories d\\'entités assujetties. Par exemple, les prestataires de services d\\'investissement et les sociétés de gestion de placements collectifs sont désormais regroupés de manière plus concise, ce qui simplifie la lecture et l\\'application de la loi.\\n\\n5. **Réduction du Nombre de Catégories** :\\n   Le nombre total de catégories d\\'entités assujetties a été réduit de 20 à 19. Cette réduction pourrait indiquer une consolidation de certaines catégories ou une réévaluation des entités nécessitant une régulation spécifique.\\n\\n6. **Exclusion de Certaines Activités** :\\n   Les personnes se livrant au commerce de métaux précieux ou de pierres précieuses, mentionnées au 11° bis de l\\'ancienne version, ne sont plus explicitement listées dans la nouvelle version. Cela pourrait signifier un changement dans la manière dont ces activités sont régulées ou une exclusion de ces activités des obligations prévues par les sections 2 à 7 du chapitre.\\n\\nEn conclusion, les modifications apportées à cet article de loi visent principalement à clarifier, simplifier et actualiser les obligations des entités assujetties. La suppression des références aux prestataires de services sur crypto-actifs et l\\'ajout des émetteurs de jetons reflètent une adaptation aux évolutions technologiques et économiques. Ces changements auront des conséquences sur la manière dont certaines entités devront se conformer aux obligations légales, nécessitant une réévaluation de leurs pratiques de conformité.L\\'analyse des versions antérieure et révisée de l\\'article de loi révèle plusieurs modifications notables.\\n\\n1. **Extension des entités concernées** :\\n   - **Ancienne version** : Les entités mentionnées aux 1° à 7° de l\\'article L. 561-2, ainsi que diverses structures financières et leurs filiales et succursales, étaient concernées.\\n   - **Nouvelle version** : Les entités concernées incluent désormais les personnes mentionnées aux 1° à 7° bis et au 7° quater de l\\'article L. 561-2, ainsi que leurs filiales et succursales. Cette extension élargit le champ d\\'application de la dérogation, incluant potentiellement de nouvelles catégories d\\'entités financières.\\n\\n2. **Ajout d\\'un nouveau paragraphe (III)** :\\n   - **Nouvelle version** : Un nouveau paragraphe III a été ajouté, permettant aux entreprises mères de groupes mentionnées au I de l\\'article L. 561-33 d\\'accéder aux informations relatives aux déclarations prévues à l\\'article L. 561-15 réalisées par les entités du groupe. Les conditions pour cet accès incluent l\\'établissement des entreprises mères dans un État membre de l\\'Union européenne, un État partie à l\\'accord sur l\\'Espace économique européen, ou un pays tiers imposant des obligations équivalentes en matière de lutte contre le blanchiment de capitaux et le financement du terrorisme. Cette disposition vise à renforcer la coordination et la supervision au sein des groupes financiers internationaux.\\n\\n3. **Conditions de divulgation des informations** :\\n   - Les conditions de divulgation des informations restent globalement similaires entre les deux versions, avec des exigences strictes sur la nécessité des informations pour la vigilance en matière de lutte contre le blanchiment des capitaux et le financement du terrorisme, et sur la protection de la vie privée et des libertés fondamentales.\\n\\n4. **Harmonisation et clarification** :\\n   - La nouvelle version semble harmoniser et clarifier les dispositions relatives à la divulgation des informations au sein des groupes financiers et des structures d\\'exercice professionnel, en précisant les entités concernées et les conditions de traitement des informations.\\n\\n**Portée et conséquences** :\\n- **Élargissement du champ d\\'application** : L\\'inclusion des nouvelles catégories d\\'entités (1° à 7° bis et 7° quater) et l\\'ajout des entreprises mères de groupes renforcent le cadre de lutte contre le blanchiment de capitaux et le financement du terrorisme, en permettant une meilleure circulation de l\\'information au sein des groupes financiers.\\n- **Renforcement de la supervision** : Le nouveau paragraphe III permet une supervision plus efficace par les entreprises mères, ce qui pourrait améliorer la conformité et la coordination des mesures de lutte contre le blanchiment de capitaux et le financement du terrorisme au sein des groupes internationaux.\\n- **Protection des données** : Les exigences de protection des données personnelles et des libertés fondamentales restent inchangées, garantissant un niveau de protection suffisant conformément aux articles 122 et 123 de la loi n° 78-17 du 6 janvier 1978.\\n\\nEn conclusion, les modifications apportées visent à renforcer le cadre réglementaire en matière de lutte contre le blanchiment de capitaux et le financement du terrorisme, en élargissant le champ d\\'application et en améliorant la coordination et la supervision au sein des groupes financiers.L\\'analyse des versions antérieure et révisée de l\\'article de loi révèle une modification notable. La version antérieure incluait explicitement les prestataires de services sur crypto-actifs au sens du règlement (UE) 2023/1114 du Parlement européen et du Conseil du 31 mai 2023 sur les marchés de crypto-actifs. Cette mention a été supprimée dans la version révisée.\\n\\nLa portée de cette modification est significative. En omettant la référence explicite aux prestataires de services sur crypto-actifs, la nouvelle version de l\\'article semble restreindre le champ d\\'application de la sanction prévue à l\\'article L. 571-4. Désormais, seules les personnes exerçant les professions de prestataires de services mentionnés aux 1° à 4° de l\\'article L. 54-10-2 sont visées.\\n\\nCette révision pourrait avoir pour conséquence de limiter la responsabilité pénale des prestataires de services sur crypto-actifs en cas de non-réponse aux demandes d\\'informations de l\\'Autorité des marchés financiers, d\\'obstruction à l\\'exercice de sa mission de contrôle ou de communication de renseignements inexacts. En effet, sans la mention explicite, ces prestataires pourraient ne plus être soumis aux mêmes obligations et sanctions que les autres prestataires de services financiers.\\n\\nEn conclusion, la suppression de la référence aux prestataires de services sur crypto-actifs dans la nouvelle version de l\\'article pourrait réduire la portée de la réglementation et les obligations de ces prestataires vis-à-vis de l\\'Autorité des marchés financiers. Cette modification pourrait nécessiter une clarification ou une révision future pour s\\'assurer que tous les acteurs pertinents des marchés financiers, y compris ceux opérant sur les crypto-actifs, sont adéquatement régulés et sanctionnés en cas de manquement.L\\'analyse des versions antérieure et révisée de l\\'article de loi révèle plusieurs modifications significatives.\\n\\n1. **Changements dans les articles applicables et leurs sources** :\\n   - **Ancienne version** : Les articles L. 54-10-1 à L. 54-10-5 et L. 572-23 à L. 572-26 étaient applicables en Nouvelle-Calédonie, tous issus de la loi n° 2019-486 du 22 mai 2019.\\n   - **Nouvelle version** : Les articles L. 54-10-1 et L. 54-10-2 restent issus de la loi n° 2019-486, mais les articles L. 54-10-3 à L. 54-10-5 sont désormais issus de l\\'ordonnance n° 2020-1544 du 9 décembre 2020, qui renforce le cadre de la lutte contre le blanchiment de capitaux et le financement du terrorisme applicable aux actifs numériques. De plus, l\\'article L. 572-24 est également issu de cette ordonnance, tandis que les articles L. 572-23, L. 572-25 et L. 572-26 restent issus de la loi n° 2019-486.\\n\\n2. **Modifications spécifiques pour l\\'application locale** :\\n   - **Ancienne version** : Seule une modification était mentionnée, remplaçant \"la Banque de France\" par \"l\\'Institut d\\'émission d\\'outre-mer\" pour l\\'application du dernier alinéa de l\\'article L. 54-10-5.\\n   - **Nouvelle version** : Plusieurs modifications spécifiques sont introduites :\\n     1. Suppression de certaines mentions dans l\\'article L. 54-10-3.\\n     2. Remplacement de références aux règlements européens par des références locales dans les articles L. 54-10-3 et L. 54-10-5.\\n     3. Adaptation des références au code de commerce par des dispositions locales équivalentes pour les articles L. 54-10-3 et L. 54-10-5.\\n     4. Conversion des montants en euros en francs CFP pour l\\'article L. 572-23.\\n     5. Conversion des montants en euros en francs CFP pour l\\'article L. 572-26.\\n\\n**Portée et conséquences** :\\n- **Harmonisation et actualisation** : La nouvelle version intègre des dispositions plus récentes et spécifiques à la lutte contre le blanchiment de capitaux et le financement du terrorisme, reflétant une mise à jour législative importante.\\n- **Adaptation locale** : Les modifications spécifiques pour l\\'application en Nouvelle-Calédonie montrent une volonté d\\'adapter les textes législatifs aux réalités locales, notamment en termes de monnaie et de références légales.\\n- **Complexité accrue** : L\\'introduction de plusieurs modifications spécifiques pourrait complexifier l\\'application des textes pour les praticiens locaux, nécessitant une attention particulière à ces adaptations.\\n\\nEn conclusion, la révision de l\\'article de loi montre une mise à jour significative et une adaptation locale accrue, visant à renforcer le cadre juridique en Nouvelle-Calédonie tout en tenant compte des spécificités régionales.L\\'analyse des modifications apportées à l\\'article de loi révèle plusieurs ajustements notables entre l\\'ancienne et la nouvelle version. Voici les principaux changements, leur portée et leurs éventuelles conséquences :\\n\\n1. **Références législatives et ordonnances** :\\n   - La nouvelle version a supprimé les références spécifiques à certaines lois et ordonnances, notamment celles résultant de la loi n° 2021-1308 du 8 octobre 2021 et de l\\'ordonnance n° 2021-958 du 19 juillet 2021. Cela simplifie la structure de l\\'article en réduisant le nombre de références législatives spécifiques, ce qui peut faciliter la compréhension et l\\'application du texte.\\n\\n2. **Applicabilité des articles** :\\n   - Les articles L. 561-2, L. 561-7, L. 561-14 et L. 561-20 sont désormais applicables dans leur rédaction résultant de l\\'ordonnance n° 2020-1544 du 9 décembre 2020. Cela indique une harmonisation des dispositions relatives à la lutte contre le blanchiment de capitaux et le financement du terrorisme, spécifiquement pour les actifs numériques.\\n\\n3. **Suppression de certaines dispositions** :\\n   - Le point 7° du III a été supprimé dans la nouvelle version. Cette suppression pourrait indiquer une simplification ou une révision des dispositions spécifiques qui étaient auparavant jugées nécessaires.\\n\\n4. **Adaptations locales** :\\n   - Les adaptations locales restent largement inchangées, mais la nouvelle version continue de préciser les remplacements des références aux codes et lois métropolitains par des dispositions locales équivalentes. Cela maintient la pertinence et l\\'applicabilité des dispositions légales en Nouvelle-Calédonie.\\n\\n5. **Suppression de références à l\\'Union européenne** :\\n   - Plusieurs références aux règlements européens et aux États membres de l\\'Union européenne ont été supprimées. Cela pourrait refléter une volonté de rendre les dispositions plus autonomes et moins dépendantes des régulations européennes, ce qui peut être pertinent dans le contexte de la Nouvelle-Calédonie.\\n\\n6. **Valeurs monétaires** :\\n   - Les valeurs monétaires exprimées en euros continuent d\\'être remplacées par leur contre-valeur en francs CFP, assurant ainsi la pertinence économique locale des dispositions.\\n\\n**Portée et conséquences** :\\n- **Simplification et clarté** : La suppression de certaines références législatives et la réduction des renvois à des ordonnances spécifiques simplifient le texte, le rendant plus accessible et plus facile à appliquer.\\n- **Harmonisation** : L\\'application des articles dans leur rédaction résultant de l\\'ordonnance n° 2020-1544 montre une harmonisation des mesures de lutte contre le blanchiment de capitaux et le financement du terrorisme, notamment pour les actifs numériques.\\n- **Autonomie locale** : La suppression des références aux règlements européens et l\\'accent mis sur les adaptations locales renforcent l\\'autonomie juridique de la Nouvelle-Calédonie, tout en maintenant une cohérence avec les objectifs nationaux de lutte contre le blanchiment et le financement du terrorisme.\\n\\nEn conclusion, les modifications apportées visent principalement à simplifier le texte, à harmoniser certaines dispositions spécifiques aux actifs numériques et à renforcer l\\'autonomie locale en matière de régulation financière et de lutte contre le blanchiment de capitaux et le financement du terrorisme.L\\'analyse des modifications entre l\\'ancienne et la nouvelle version de l\\'article de loi révèle plusieurs ajustements notables, principalement dans les références législatives et les adaptations spécifiques à la Polynésie française.\\n\\n1. **Références législatives mises à jour** :\\n   - La nouvelle version a supprimé les références à la loi n° 2021-1308 du 8 octobre 2021 et à l\\'ordonnance n° 2021-958 du 19 juillet 2021. Désormais, les articles L. 561-2, L. 561-7, L. 561-14 et L. 561-20 sont applicables dans leur rédaction résultant de l\\'ordonnance n° 2020-1544 du 9 décembre 2020.\\n   - Les articles L. 561-36, L. 561-36-2, L. 561-36-3, L. 561-37, L. 561-38, L. 562-3 à L. 562-9, L. 562-11, L. 562-12 et L. 574-3 sont maintenus dans leur rédaction résultant de l\\'ordonnance n° 2020-1342 du 4 novembre 2020.\\n\\n2. **Suppression de certaines dispositions** :\\n   - Le point 7° du III, qui faisait référence à l\\'application de l\\'article L. 561-31-2, a été supprimé dans la nouvelle version. Cela pourrait indiquer une simplification ou une révision des dispositions relatives à cet article.\\n\\n3. **Adaptations spécifiques à la Polynésie française** :\\n   - Les adaptations locales restent largement inchangées, mais la suppression du point 7° du III pourrait avoir des implications sur la manière dont certaines infractions sont traitées localement.\\n   - Les références aux règlements européens et aux traités de l\\'Union européenne ont été supprimées dans plusieurs articles, ce qui pourrait indiquer une volonté de renforcer l\\'autonomie législative de la Polynésie française par rapport aux régulations européennes.\\n\\n4. **Conséquences potentielles** :\\n   - La suppression des références à certaines ordonnances et la mise à jour des articles applicables pourraient simplifier le cadre législatif et le rendre plus cohérent.\\n   - La suppression du point 7° du III pourrait nécessiter une réévaluation des procédures locales pour traiter les infractions de fraude fiscale et autres délits financiers.\\n\\nEn conclusion, les modifications apportées visent principalement à actualiser les références législatives et à simplifier certaines dispositions spécifiques à la Polynésie française. Ces changements pourraient améliorer la clarté et l\\'efficacité du cadre législatif applicable dans cette collectivité d\\'outre-mer.'"
      ]
     },
     "execution_count": 80,
     "metadata": {},
     "output_type": "execute_result"
    }
   ],
   "source": [
    "text_variable = AML5_modifs_select['LLM_Change_Analysis_3'].str.cat()\n",
    "text_variable"
   ]
  },
  {
   "cell_type": "code",
   "execution_count": 81,
   "metadata": {},
   "outputs": [
    {
     "name": "stdout",
     "output_type": "stream",
     "text": [
      "Nombre de tokens : 5805\n"
     ]
    }
   ],
   "source": [
    "token_count = count_tokens(text_variable, model=\"gpt-4o\")\n",
    "print(f\"Nombre de tokens : {token_count}\")"
   ]
  },
  {
   "cell_type": "markdown",
   "metadata": {},
   "source": [
    "### 5.1 - Simple summarize"
   ]
  },
  {
   "cell_type": "code",
   "execution_count": 82,
   "metadata": {},
   "outputs": [],
   "source": [
    "# Amélioration prompt avec o1 + intération\n",
    "def wrap_up_simple(text_to_summarize): \n",
    "    prompt = ChatPromptTemplate.from_messages([(\"system\",                                  \n",
    "        \"\"\"\n",
    "\t\tTu es un avocat et analyste juridique très expérimenté.\n",
    "\t\tTa mission consiste à produire un résumé global des analyses réalisées sur les évolutions réglementaires de plusieurs articles de \n",
    "  \t\tloi en comparant leurs versions antérieures et révisées.\n",
    "\n",
    "\tConsignes :\n",
    "\t1.\tUtilise un langage juridique précis, clair et synthétique.\n",
    "\t2.\tAppuie-toi uniquement sur les analyses fournies pour chaque article. Ne fais aucune supposition ou extrapolation.\n",
    "\t3.\tRegroupe et hiérarchise les informations :\n",
    "\t•\tIdentifie les thématiques ou tendances communes (par exemple : renforcement des obligations, simplification de procédures, etc.).\n",
    "\t•\tMets en évidence les changements les plus significatifs et leur impact global.\n",
    "\t4.\tSi certaines analyses révèlent des ambiguïtés ou des manques d’informations, mentionne-les brièvement.\n",
    "\n",
    "\tObjectif :\n",
    " \t\tFournis un résumé synthétique mettant en lumière les évolutions majeures, les implications globales, et les tendances observées \n",
    "   \t\tà travers les différents articles. Structure ta réponse de manière organisée (par exemple : par thématique ou par impact).\n",
    "     \n",
    "    Voici le text a résumer : {text_to_summarize}\n",
    "            \"\"\")])\n",
    "    \n",
    "    chain = prompt | llm | StrOutputParser()\n",
    "    \n",
    "    llm_output = chain.invoke({\n",
    "        \"text_to_summarize\": text_to_summarize})\n",
    "    \n",
    "    return llm_output"
   ]
  },
  {
   "cell_type": "code",
   "execution_count": 83,
   "metadata": {},
   "outputs": [],
   "source": [
    "# Amélioration prompt avec o1 + intération\n",
    "def wrap_up_simple(text_to_summarize): \n",
    "    prompt = ChatPromptTemplate.from_messages([(\"system\",                                  \n",
    "        \"\"\"\n",
    "\t\tTu es un avocat et analyste juridique très expérimenté.\n",
    "\t\tTa mission consiste à produire un résumé global des analyses réalisées sur les évolutions réglementaires de plusieurs articles de \n",
    "  \t\tloi en comparant leurs versions antérieures et révisées.\n",
    "\n",
    "\tConsignes :\n",
    "\t1.\tUtilise un langage juridique précis, clair et synthétique.\n",
    "\t2.\tAppuie-toi uniquement sur les analyses fournies pour chaque article. Ne fais aucune supposition ou extrapolation.\n",
    "\t3.\tRegroupe et hiérarchise les informations :\n",
    "\t•\tIdentifie les thématiques ou tendances communes (par exemple : renforcement des obligations, simplification de procédures, etc.).\n",
    "\t•\tMets en évidence les changements les plus significatifs et leur impact global.\n",
    "\t4.\tSi certaines analyses révèlent des ambiguïtés ou des manques d’informations, mentionne-les brièvement.\n",
    "\n",
    "\tObjectif :\n",
    " \t\tFournis un résumé synthétique mettant en lumière les évolutions majeures, les implications globales, et les tendances observées \n",
    "   \t\tà travers les différents articles. Structure ta réponse de manière organisée (par exemple : par thématique ou par impact).\n",
    "     \n",
    "    Voici le text a résumer : {text_to_summarize}\n",
    "            \"\"\")])\n",
    "    \n",
    "    chain = prompt | llm | StrOutputParser()\n",
    "    \n",
    "    llm_output = chain.invoke({\n",
    "        \"text_to_summarize\": text_to_summarize})\n",
    "    \n",
    "    return llm_output"
   ]
  },
  {
   "cell_type": "code",
   "execution_count": 84,
   "metadata": {},
   "outputs": [
    {
     "name": "stdout",
     "output_type": "stream",
     "text": [
      "### Résumé des Évolutions Réglementaires\n",
      "\n",
      "#### Thématiques et Tendances Communes\n",
      "\n",
      "1. **Simplification des Exigences et Procédures**\n",
      "   - **Suppression de certaines exigences spécifiques** : Les nouvelles versions des articles de loi ont supprimé des exigences détaillées relatives aux dispositifs de sécurité, de contrôle interne, de gestion des conflits d'intérêts, et de systèmes informatiques résilients et sécurisés. Cette simplification pourrait indiquer une volonté de réduire la complexité administrative pour les prestataires de services.\n",
      "   - **Simplification des exigences d'enregistrement** : La nouvelle version a supprimé l'exigence d'autorisation conformément à l'article 59 du règlement (UE) 2023/1114, ne requérant désormais que l'enregistrement préalable par l'Autorité des marchés financiers.\n",
      "   - **Simplification de la procédure de suspension et de radiation** : Les détails spécifiques sur les conditions de menace grave et imminente pour la stabilité du marché des actifs numériques ont été supprimés, simplifiant ainsi la procédure.\n",
      "\n",
      "2. **Réduction de la Portée Réglementaire**\n",
      "   - **Réduction de la portée réglementaire** : La nouvelle version restreint la portée de la réglementation en excluant les services sur crypto-actifs définis par le règlement (UE) 2023/1114.\n",
      "   - **Suppression des Prestataires de Services sur Crypto-Actifs** : Les références explicites aux prestataires de services sur crypto-actifs ont été supprimées, ce qui pourrait indiquer un changement de cadre réglementaire ou une réallocation de ces obligations à d'autres dispositions législatives.\n",
      "\n",
      "3. **Clarification et Harmonisation**\n",
      "   - **Clarification des interdictions** : Les interdictions s'appliquent désormais spécifiquement aux prestataires des services mentionnés aux 1° et 4° de l'article L. 54-10-2, sans mention de l'autorisation.\n",
      "   - **Modification des références législatives** : Plusieurs références législatives ont été mises à jour pour refléter les modifications dans d'autres parties du code, visant à harmoniser les références et à assurer la cohérence législative.\n",
      "\n",
      "4. **Renforcement de la Supervision et de la Coordination**\n",
      "   - **Ajout des Émetteurs de Jetons** : L'introduction du point 7° ter inclut désormais les émetteurs de jetons ayant obtenu un visa, renforçant ainsi la surveillance des transactions en crypto-actifs.\n",
      "   - **Extension des entités concernées** : L'inclusion des nouvelles catégories d'entités (1° à 7° bis et 7° quater) et l'ajout des entreprises mères de groupes renforcent le cadre de lutte contre le blanchiment de capitaux et le financement du terrorisme.\n",
      "\n",
      "#### Changements Significatifs et Impact Global\n",
      "\n",
      "1. **Impact sur la Protection des Consommateurs et la Sécurité**\n",
      "   - La suppression des obligations spécifiques pour les prestataires de services et des obligations de communication et de gestion des réclamations pourrait affecter la transparence et la protection des consommateurs.\n",
      "   - La réduction des pouvoirs de l'Autorité des marchés financiers (AMF) en matière de vérification de la sécurité des systèmes d'information des prestataires pourrait limiter la capacité de l'AMF à assurer la sécurité des systèmes d'information.\n",
      "\n",
      "2. **Impact sur la Régulation des Prestataires de Services**\n",
      "   - La simplification des exigences et des procédures pourrait réduire la charge administrative et opérationnelle pour les prestataires de services, mais pourrait également soulever des questions sur la protection des clients et la gestion des actifs numériques.\n",
      "   - La réduction de la portée réglementaire et la suppression des références aux prestataires de services sur crypto-actifs pourraient limiter la responsabilité pénale de ces prestataires en cas de non-conformité.\n",
      "\n",
      "3. **Adaptation Locale et Autonomie Régionale**\n",
      "   - Les modifications spécifiques pour l'application en Nouvelle-Calédonie et en Polynésie française montrent une volonté d'adapter les textes législatifs aux réalités locales, notamment en termes de monnaie et de références légales.\n",
      "   - La suppression des références aux règlements européens et l'accent mis sur les adaptations locales renforcent l'autonomie juridique de ces régions, tout en maintenant une cohérence avec les objectifs nationaux de lutte contre le blanchiment et le financement du terrorisme.\n",
      "\n",
      "#### Ambiguïtés et Manques d’Informations\n",
      "\n",
      "- Certaines suppressions, telles que celles des obligations spécifiques pour les prestataires de services et des obligations de communication, pourraient soulever des questions sur la protection des consommateurs et la gestion des actifs numériques, nécessitant une vigilance accrue de la part des régulateurs et des parties prenantes.\n",
      "- La suppression de la référence aux prestataires de services sur crypto-actifs pourrait nécessiter une clarification ou une révision future pour s'assurer que tous les acteurs pertinents des marchés financiers sont adéquatement régulés et sanctionnés en cas de manquement.\n",
      "\n",
      "### Conclusion\n",
      "\n",
      "Les révisions des articles de loi analysés montrent une tendance générale vers la simplification des exigences et des procédures, la réduction de la portée réglementaire, et la clarification des interdictions et des responsabilités. Ces modifications visent à alléger la charge administrative pour les prestataires de services tout en maintenant un cadre de surveillance rigoureux. Toutefois, ces simplifications pourraient avoir des conséquences sur la protection des consommateurs et la sécurité des systèmes d'information, nécessitant une vigilance accrue de la part des régulateurs. Les adaptations locales renforcent l'autonomie régionale tout en assurant la pertinence des dispositions légales dans les contextes spécifiques de la Nouvelle-Calédonie et de la Polynésie française.\n"
     ]
    }
   ],
   "source": [
    "summary_simple = wrap_up_simple(text_variable)\n",
    "print(summary_simple)"
   ]
  },
  {
   "cell_type": "markdown",
   "metadata": {},
   "source": [
    "### 5.2 - Custum summarize"
   ]
  },
  {
   "cell_type": "code",
   "execution_count": 85,
   "metadata": {},
   "outputs": [],
   "source": [
    "# Amélioration prompt avec o1 + intération\n",
    "def wrap_up_multi(text_to_summarize, audience: str, detail_level:str): \n",
    "    # audience: “professionnel” ou “tout public”\n",
    "    # detail_level: “succinct” ou “détaillé”\n",
    "    prompt = ChatPromptTemplate.from_messages([(\"system\",                                  \n",
    "        \"\"\"\n",
    "\t\tPrompt amélioré avec niveaux de détail et public cible :\n",
    "\n",
    "\t\tTu es un avocat et analyste juridique très expérimenté.\n",
    "\t\tTa mission consiste à produire un résumé global des analyses réalisées sur les évolutions réglementaires de plusieurs articles de \n",
    "  \t\tloi en comparant leurs versions antérieures et révisées.\n",
    "\n",
    "\tConsignes générales :\n",
    "\t1.\tUtilise un langage juridique précis et adapté au public cible défini par la variable {audience} :\n",
    "\t•\tSi {audience} est “professionnel”, adopte un ton technique et détaillé.\n",
    "\t•\tSi {audience} est “tout public”, simplifie les termes juridiques pour les rendre accessibles tout en conservant leur précision.\n",
    " \n",
    "\t2.\tAjuste la longueur et le niveau de détail du résumé en fonction de la variable {detail_level} :\n",
    "\t•\tSi {detail_level} est “succinct”, concentre-toi uniquement sur les points clés et les impacts majeurs.\n",
    "\t•\tSi {detail_level} est “détaillé”, développe davantage les analyses, en incluant des exemples ou des explications supplémentaires lorsque pertinent.\n",
    " \n",
    "\t3.\tRegroupe et hiérarchise les informations :\n",
    "\t•\tIdentifie les thématiques ou tendances communes (par exemple : renforcement des obligations, simplification de procédures, etc.).\n",
    "\t•\tMets en évidence les changements les plus significatifs et leur impact global.\n",
    "\t4.\tSi certaines analyses révèlent des ambiguïtés ou des manques d’informations, mentionne-les brièvement.\n",
    "\n",
    "\tVariables :\n",
    "\t•\tNiveau de détail : {detail_level} (valeurs possibles : “succinct” ou “détaillé”)\n",
    "\t•\tPublic cible : {audience} (valeurs possibles : “professionnel” ou “tout public”)\n",
    "\n",
    "\tObjectif :\n",
    "\t\tFournis un résumé synthétique ou détaillé, selon le niveau demandé, mettant en lumière les évolutions majeures, \n",
    "  \t\tles implications globales, et les tendances observées à travers les différents articles. Structure ta réponse de manière organisée \n",
    "    \t(par exemple : par thématique ou par impact).\n",
    "    \n",
    "    Voici le text  : {text_to_summarize}\n",
    "            \"\"\")])\n",
    "    \n",
    "    chain = prompt | llm | StrOutputParser()\n",
    "    \n",
    "    llm_output = chain.invoke({\n",
    "        \"text_to_summarize\": text_to_summarize,\n",
    "        \"audience\": audience,\n",
    "        \"detail_level\": detail_level})\n",
    "    \n",
    "    return llm_output"
   ]
  },
  {
   "cell_type": "code",
   "execution_count": 86,
   "metadata": {},
   "outputs": [],
   "source": [
    "resuult_multi = wrap_up_multi(text_variable, 'professionnel', 'succinct')"
   ]
  },
  {
   "cell_type": "code",
   "execution_count": 87,
   "metadata": {},
   "outputs": [
    {
     "data": {
      "text/plain": [
       "\"### Résumé des Évolutions Réglementaires des Articles de Loi\\n\\n#### Variables :\\n- **Niveau de détail** : succinct\\n- **Public cible** : professionnel\\n\\n#### Thématiques et Tendances Communes\\n\\n1. **Suppression de certaines exigences spécifiques**\\n   - **Ancienne version** : Exigences détaillées sur dispositifs de sécurité, contrôle interne, gestion des conflits d'intérêts, systèmes informatiques résilients et sécurisés.\\n   - **Nouvelle version** : Suppression de ces exigences, potentiellement pour simplifier les critères d'enregistrement ou transférer ces obligations à d'autres régulations.\\n\\n2. **Élimination des obligations spécifiques pour certains prestataires**\\n   - **Ancienne version** : Obligations de conclure des conventions avec les clients, établir une politique de conservation, restituer les actifs numériques, ségrégation des détentions, et abstention d'usage des actifs numériques sans consentement.\\n   - **Nouvelle version** : Suppression de ces obligations, réduisant la charge administrative et opérationnelle, mais soulevant des questions sur la protection des clients et la gestion des actifs numériques.\\n\\n3. **Suppression des obligations de communication et de gestion des réclamations**\\n   - **Ancienne version** : Obligations de fournir des informations claires, avertir des risques, rendre publiques les politiques tarifaires, et mettre en œuvre une politique de gestion des réclamations.\\n   - **Nouvelle version** : Suppression de ces obligations, ce qui pourrait affecter la transparence et la protection des consommateurs.\\n\\n4. **Réduction des pouvoirs de l'Autorité des marchés financiers (AMF)**\\n   - **Ancienne version** : Vérification par l'AMF de la sécurité des systèmes d'information des prestataires et possibilité de solliciter l'avis de l'autorité mentionnée à l'article L. 2321-1 du code de la défense.\\n   - **Nouvelle version** : Suppression de ces mentions, limitant potentiellement la capacité de l'AMF à assurer la sécurité des systèmes d'information des prestataires.\\n\\n5. **Simplification de la procédure de suspension et de radiation**\\n   - **Ancienne version** : Détails spécifiques sur les conditions de menace grave et imminente pour la stabilité du marché des actifs numériques.\\n   - **Nouvelle version** : Simplification de la procédure, mais réduction de la précision des critères d'intervention.\\n\\n6. **Maintien des obligations de déclaration et de communication**\\n   - **Ancienne version** : Obligations de déclaration auprès de l'AMF en cas de modification affectant le respect des obligations, et possibilité pour l'AMF de radier les prestataires.\\n   - **Nouvelle version** : Maintien de ces obligations, assurant une continuité dans le contrôle et la régulation des prestataires.\\n\\n#### Portée et Conséquences\\n\\n- **Simplification des exigences et procédures** : Les modifications visent à simplifier les exigences et les procédures pour les prestataires de services, réduisant ainsi la complexité administrative.\\n- **Impact sur la protection des consommateurs** : La suppression de certaines obligations pourrait affecter la transparence et la protection des consommateurs, nécessitant une vigilance accrue de la part des régulateurs.\\n- **Réduction des pouvoirs de l'AMF** : La réduction des pouvoirs de l'AMF pourrait limiter sa capacité à assurer la sécurité des systèmes d'information des prestataires, ce qui pourrait avoir des implications sur la stabilité du marché des actifs numériques.\\n\\nEn conclusion, les révisions des articles de loi montrent une tendance vers la simplification des exigences et des procédures pour les prestataires de services, tout en maintenant certaines obligations de base. Cependant, cette simplification pourrait avoir des conséquences sur la protection des consommateurs et la sécurité des systèmes d'information, nécessitant une vigilance accrue de la part des régulateurs et des parties prenantes.\""
      ]
     },
     "execution_count": 87,
     "metadata": {},
     "output_type": "execute_result"
    }
   ],
   "source": [
    "resuult_multi"
   ]
  }
 ],
 "metadata": {
  "kernelspec": {
   "display_name": "Python (venv)",
   "language": "python",
   "name": "venv"
  },
  "language_info": {
   "codemirror_mode": {
    "name": "ipython",
    "version": 3
   },
   "file_extension": ".py",
   "mimetype": "text/x-python",
   "name": "python",
   "nbconvert_exporter": "python",
   "pygments_lexer": "ipython3",
   "version": "3.13.1"
  }
 },
 "nbformat": 4,
 "nbformat_minor": 2
}
