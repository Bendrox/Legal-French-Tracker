{
  "cells": [
    {
      "cell_type": "markdown",
      "id": "jm1eXN02dL3S",
      "metadata": {
        "id": "jm1eXN02dL3S"
      },
      "source": [
        "\n",
        "# I. Présentation de l'API LégiFrance :\n",
        "\n",
        "Au total : ~70 requêtes API classées en 6 grandes familles.\n",
        "\n",
        "\n"
      ]
    },
    {
      "cell_type": "markdown",
      "id": "rSvI8jBrCxUa",
      "metadata": {
        "id": "rSvI8jBrCxUa"
      },
      "source": [
        "\n",
        "### Familles de requêtes développées\n"
      ]
    },
    {
      "cell_type": "markdown",
      "id": "L5N3EcLwC3Yw",
      "metadata": {
        "id": "L5N3EcLwC3Yw"
      },
      "source": [
        "\n",
        "#### 1. **Consult Controller**\n",
        "- **Objectif** : Récupérer des informations spécifiques législatives ou réglementaires (textes, articles, etc.).\n",
        "- **Fonctionnalités** :\n",
        "  - Obtenir un article spécifique via son `id`.\n",
        "  - Récupérer des détails sur une loi ou un texte réglementaire précis.\n",
        "\n",
        "\n",
        "\n",
        "#### 2. **Chrono Controller**\n",
        "- **Objectif** : Accéder à l'historique et à l'évolution chronologique des textes.\n",
        "- **Fonctionnalité** :\n",
        "  - Suivre les modifications ou révisions d’un texte au fil du temps.\n",
        "\n",
        "\n",
        "\n",
        "#### 3. **List Controller**\n",
        "- **Objectif** : Fournir des listes de documents basées sur des critères spécifiques.\n",
        "- **Fonctionnalités** :\n",
        "  - Lister tous les articles d'un code particulier.\n",
        "  - Récupérer la liste des décrets associés à une loi.\n",
        "\n",
        "\n"
      ]
    },
    {
      "cell_type": "markdown",
      "id": "Vx1HOhMPC8BO",
      "metadata": {
        "id": "Vx1HOhMPC8BO"
      },
      "source": [
        "\n",
        "### Familles de requêtes non développées\n"
      ]
    },
    {
      "cell_type": "markdown",
      "id": "uczaXFI5C_-m",
      "metadata": {
        "id": "uczaXFI5C_-m"
      },
      "source": [
        "\n",
        "#### 4. **Suggest Controller**\n",
        "- **Objectif** : Fournir des suggestions basées sur une recherche partielle.\n",
        "- **Fonctionnalités** :\n",
        "  - Rechercher un texte via des mots-clés ou des fragments.\n",
        "\n",
        "\n",
        "\n",
        "#### 5. **Misc Controller**\n",
        "- **Objectif** : Récupérer des métadonnées ou des informations auxiliaires.\n",
        "- **Fonctionnalités** :\n",
        "  - Obtenir des données complémentaires sur les textes ou documents.\n",
        "\n",
        "\n",
        "\n",
        "#### 6. **Search Controller**\n",
        "- **Objectif** : Effectuer des recherches globales sur les textes, articles, codes, etc., en fonction de mots-clés ou d'autres critères.\n",
        "- **Fonctionnalités** :\n",
        "  - Rechercher des textes ou articles pertinents par mots-clés.\n",
        "  - Filtrer les résultats en fonction de critères spécifiques.\n"
      ]
    },
    {
      "cell_type": "markdown",
      "id": "xWZHsjKuwgjq",
      "metadata": {
        "id": "xWZHsjKuwgjq"
      },
      "source": [
        "### Listes to do:\n",
        "- subdiviser balise html\n",
        "- passer apres en .py\n",
        "\n",
        "Fait:\n",
        "- Développer en fonction\n",
        "- Quand long télécharger json\n",
        "- pas plus que deux boucles for (pas de moyen trouvé)\n",
        "- plus utiliser pandas\n",
        "- dataframe (flatten)\n",
        "- test sur cmf\n",
        "- ajout contenu article N vs N-1"
      ]
    },
    {
      "cell_type": "markdown",
      "id": "9Ab8bLmjUi0W",
      "metadata": {
        "id": "9Ab8bLmjUi0W"
      },
      "source": [
        "# 1 - LégiFrance API connect"
      ]
    },
    {
      "cell_type": "markdown",
      "id": "jsqGHI2E6mTf",
      "metadata": {
        "id": "jsqGHI2E6mTf"
      },
      "source": [
        "## 1.0 - Credential input"
      ]
    },
    {
      "cell_type": "code",
      "execution_count": 1,
      "id": "4chGqr7SWZBm",
      "metadata": {
        "colab": {
          "base_uri": "https://localhost:8080/"
        },
        "id": "4chGqr7SWZBm",
        "outputId": "8adc2991-e929-419e-f841-3b63357dcfad"
      },
      "outputs": [],
      "source": [
        "client_id = '2bd5c3ac-5128-4527-b74f-5d3e90e47efb'\n",
        "client_secret = 'de5cf33d-fbee-4368-8fe9-e803490fe096'"
      ]
    },
    {
      "cell_type": "code",
      "execution_count": 3,
      "id": "3e5426a6",
      "metadata": {},
      "outputs": [],
      "source": [
        "import getpass"
      ]
    },
    {
      "cell_type": "markdown",
      "id": "CO2yfs26IU3W",
      "metadata": {
        "id": "CO2yfs26IU3W"
      },
      "source": [
        "## 1.1 - API Get access token"
      ]
    },
    {
      "cell_type": "code",
      "execution_count": 2,
      "id": "cb968d0c-04f9-48e8-9e80-9a1af9715fca",
      "metadata": {
        "colab": {
          "base_uri": "https://localhost:8080/"
        },
        "id": "cb968d0c-04f9-48e8-9e80-9a1af9715fca",
        "outputId": "8347322d-536d-4b06-b71f-994f848fa1ee"
      },
      "outputs": [
        {
          "name": "stdout",
          "output_type": "stream",
          "text": [
            "3.10.12 | packaged by conda-forge | (main, Jun 23 2023, 22:41:52) [Clang 15.0.7 ]\n"
          ]
        }
      ],
      "source": [
        "import sys\n",
        "print(sys.version)"
      ]
    },
    {
      "cell_type": "code",
      "execution_count": 48,
      "id": "26fafbf0-d908-44c6-b9f4-49a51f6f565b",
      "metadata": {
        "id": "26fafbf0-d908-44c6-b9f4-49a51f6f565b"
      },
      "outputs": [],
      "source": [
        "import os\n",
        "from dotenv import load_dotenv\n",
        "import requests\n",
        "from requests_oauthlib import OAuth2Session\n",
        "import json"
      ]
    },
    {
      "cell_type": "code",
      "execution_count": 49,
      "id": "cddb7a7b",
      "metadata": {},
      "outputs": [],
      "source": [
        "def get_token():\n",
        "    token_url = 'https://sandbox-oauth.piste.gouv.fr/api/oauth/token'\n",
        "    #inject cred \n",
        "    token_data = {\n",
        "    'grant_type': 'client_credentials',\n",
        "    'client_id': client_id,\n",
        "    'client_secret': client_secret,\n",
        "    'scope': 'openid'}\n",
        "    response = requests.post(token_url, data=token_data)\n",
        "    response.raise_for_status()  # vérif  erreurs\n",
        "    # récup  jeton\n",
        "    token_info = response.json()\n",
        "    global access_token\n",
        "    access_token = token_info['access_token']\n",
        "    return access_token\n"
      ]
    },
    {
      "cell_type": "code",
      "execution_count": 50,
      "id": "4791a2dd",
      "metadata": {},
      "outputs": [
        {
          "data": {
            "text/plain": [
              "'kWOPsudicJVSWuZZ3kk2csoXU2Z6H7fMi0sKh2sEI7L4BF4TFKmPhP'"
            ]
          },
          "execution_count": 50,
          "metadata": {},
          "output_type": "execute_result"
        }
      ],
      "source": [
        "get_token()"
      ]
    },
    {
      "cell_type": "markdown",
      "id": "FP-bn9SsIjpg",
      "metadata": {
        "id": "FP-bn9SsIjpg"
      },
      "source": [
        "## 1.2 - Ping/Pong request Test"
      ]
    },
    {
      "cell_type": "code",
      "execution_count": 43,
      "id": "3qxeGRxd9gwb",
      "metadata": {
        "id": "3qxeGRxd9gwb"
      },
      "outputs": [],
      "source": [
        "import requests\n",
        "\n",
        "def ping_pong_test():\n",
        "    headers_1 = {'accept': 'text/plain', 'Authorization': 'Bearer ' + access_token}\n",
        "    output = requests.get(\"https://sandbox-api.piste.gouv.fr/dila/legifrance/lf-engine-app/consult/ping\", headers=headers_1).text\n",
        "    display(output)"
      ]
    },
    {
      "cell_type": "code",
      "execution_count": 51,
      "id": "l8UBakHKytJm",
      "metadata": {
        "colab": {
          "base_uri": "https://localhost:8080/",
          "height": 157
        },
        "id": "l8UBakHKytJm",
        "outputId": "1353e271-0a97-47fc-de1d-7eb4abc400c0"
      },
      "outputs": [
        {
          "data": {
            "text/plain": [
              "'pong'"
            ]
          },
          "metadata": {},
          "output_type": "display_data"
        }
      ],
      "source": [
        "ping_pong_test()"
      ]
    },
    {
      "cell_type": "markdown",
      "id": "h6ZgY5Uj93A_",
      "metadata": {
        "id": "h6ZgY5Uj93A_"
      },
      "source": [
        "# 2 - Requêtes - API calls\n",
        "\n"
      ]
    },
    {
      "cell_type": "markdown",
      "id": "55vGHJjoaJi7",
      "metadata": {
        "id": "55vGHJjoaJi7"
      },
      "source": [
        "### 2.1 - Contenu Article - avec Eli (Fait)\n",
        "\n",
        "\n",
        "\n"
      ]
    },
    {
      "cell_type": "markdown",
      "id": "7f3BRfNXT_au",
      "metadata": {
        "id": "7f3BRfNXT_au"
      },
      "source": [
        "\n",
        "Eli - Identifiant Européen de la Législation:\n",
        "\n",
        "- Permet d'identifier de façon unique les documents législatifs et réglementaires au sein de la base de données de Légifrance.\n",
        "\n",
        "- Déclinaison :\n",
        "\n",
        "  - /eli : Préfixe indiquant qu'il s'agit d'un identifiant ELI.\n",
        "  - /decret : Type de texte (ici un décret) peut aussi être un arrêté, une loi, ou d'autres types d'actes normatifs...\n",
        "  - /2021/7/13 : Date de publication ou adoption (13 juillet 2021 dans cet exemple).\n",
        "  - /PRMD2117108D : Numéro unique du décret\n",
        "  - /jo : Indication que le document a été publié dans le Journal Officiel.\n",
        "  - /article_1 : Référence à un article spécifique dans le document (ici l'article 1).\n"
      ]
    },
    {
      "cell_type": "code",
      "execution_count": 8,
      "id": "PZdbWQeEAGV6",
      "metadata": {
        "id": "PZdbWQeEAGV6"
      },
      "outputs": [],
      "source": [
        "def get_article_byELI(idEliOrAlias):\n",
        "  headers_2 = {\"accept\": \"application/json\",\"Content-Type\": \"application/json\", 'Authorization': 'Bearer ' + access_token}\n",
        "  data = {\"idEliOrAlias\": idEliOrAlias } # exemple: \"/eli/decret/2021/7/13/PRMD2117108D/jo/article_1\"\n",
        "  url= \"https://sandbox-api.piste.gouv.fr/dila/legifrance/lf-engine-app/consult/getArticleWithIdEliOrAlias\"\n",
        "  response = requests.post(url, headers=headers_2,json=data)\n",
        "  response_json = response.json()\n",
        "  return {\n",
        "        \"etat\": response_json['article']['textTitles'][1]['etat'],\n",
        "        \"id\": response_json['article']['id'],\n",
        "        \"titresTM\": response_json['article']['context']['titresTM'],\n",
        "        \"titreLong\": response_json['article']['textTitles'][1][\"titreLong\"],\n",
        "        \"texte\": response_json['article']['texte']\n",
        "    }\n"
      ]
    },
    {
      "cell_type": "code",
      "execution_count": 9,
      "id": "uAA64AFAAxVX",
      "metadata": {
        "colab": {
          "base_uri": "https://localhost:8080/",
          "height": 258
        },
        "id": "uAA64AFAAxVX",
        "outputId": "3e34368b-b7c4-40ff-b2d5-d0291dd81aca"
      },
      "outputs": [
        {
          "data": {
            "text/plain": [
              "{'etat': 'VIGUEUR',\n",
              " 'id': 'JORFARTI000042636235',\n",
              " 'titresTM': [],\n",
              " 'titreLong': 'Ordonnance n° 2020-1544 du 9 décembre 2020 renforçant le cadre de la lutte contre le blanchiment de capitaux et le financement du terrorisme applicable aux actifs numériques',\n",
              " 'texte': \"L'article L. 54-10-3 du code monétaire et financier est ainsi modifié : 1° Le premier alinéa est remplacé par les dispositions suivantes : « Avant d'exercer leur activité, les prestataires des services mentionnés aux 1° à 4° de l'article L. 54-10-2 établis en France ou fournissant ces services en France, sont enregistrés par l'Autorité des marchés financiers, qui vérifie si : » ; 2° Le 3° est remplacé par les dispositions suivantes : « 3° Les prestataires sont établis en France ou dans un autre Etat membre de l'Union européenne ou partie à l'accord sur l'Espace économique européen ; » 3° Après le 3°, il est inséré un 4° ainsi rédigé : « 4° Pour les services mentionnés aux 1° et 2° de l'article L. 54-10-2, elle vérifie également que les prestataires sont en mesure de se conformer à leurs obligations en matière de lutte contre le blanchiment des capitaux et le financement du terrorisme, de gel des avoirs et d'interdiction de mise à disposition par la mise en place d'une organisation et de procédures propres à assurer le respect des obligations prévues aux articles L. 561-4-1 à L. 561-5-1, L. 561-10-2 et L. 561-15 et par les règlements pris pour leur application, ainsi qu'au chapitre II du titre VI du présent livre et aux règlements européens portant mesures restrictives pris en application des articles 75 ou 215 du traité sur le fonctionnement de l'Union européenne. « Pour les prestataires des services mentionnés aux 1° et 2° de l'article L. 54-10-2 enregistrés ou immatriculés dans un autre Etat membre de l'Union européenne ou partie à l'accord sur l'Espace économique européen en application de l'article 47 de la directive (UE) 2015/849 du Parlement européen et du Conseil du 20 mai 2015 relative à la prévention de l'utilisation du système financier aux fins du blanchiment de capitaux ou du financement du terrorisme, modifiant le règlement (UE) n° 648/2012 du Parlement européen et du Conseil et abrogeant la directive 2005/60/ CE du Parlement européen et du Conseil et la directive 2006/70/ CE de la Commission, les conditions mentionnées aux 1° et 2° du présent article sont réputées remplies. » ; 4° Au cinquième alinéa, les mots : « A cette fin » sont remplacés par les mots : « Aux fins de l'enregistrement » ; 5° Après le cinquième alinéa, il est inséré un alinéa ainsi rédigé : « Les conditions dans lesquelles un service est considéré comme fourni en France sont fixées par le règlement général de l'Autorité des marchés financiers. » ; 6° Le sixième alinéa est remplacé par les dispositions suivantes : « Toute modification affectant le respect par un prestataire des services mentionnés aux 1° à 4° de l'article L. 54-10-2 des obligations mentionnées ci-dessus doit faire l'objet d'une déclaration auprès de l'Autorité des marchés financiers. » ; 7° Au c, les références : « aux 1° à 3° » sont remplacées par le mot : « ci-dessus » ; 8° Le onzième alinéa est remplacé par les dispositions suivantes : « Les prestataires concernés doivent s'adresser à l'Autorité des marchés financiers pour l'enregistrement prévu au présent article. Celle-ci assure le lien avec l'Autorité de contrôle prudentiel et de résolution pour la procédure d'avis prévue pour l'enregistrement des prestataires des services mentionnés aux 1° à 4° de l'article L. 54-10-2. »\"}"
            ]
          },
          "execution_count": 9,
          "metadata": {},
          "output_type": "execute_result"
        }
      ],
      "source": [
        "get_article_byELI(\"/eli/ordonnance/2020/12/9/ECOT2024817R/jo/article_1\") \n",
        "# exemple: /eli/decret/2021/7/13/PRMD2117108D/jo/article_1"
      ]
    },
    {
      "cell_type": "markdown",
      "id": "IdD8_qbug9TS",
      "metadata": {
        "id": "IdD8_qbug9TS"
      },
      "source": [
        "### 2.2 - Contenu texte type CODE  /consult/code (Fait - pas utilisé)\n"
      ]
    },
    {
      "cell_type": "markdown",
      "id": "cfXHAOdWmCwj",
      "metadata": {
        "id": "cfXHAOdWmCwj"
      },
      "source": [
        "Fonction : Permet d'obtenir le contenu complet d'un code juridique\n"
      ]
    },
    {
      "cell_type": "code",
      "execution_count": 10,
      "id": "c3rZ5VKbz0BZ",
      "metadata": {
        "id": "c3rZ5VKbz0BZ"
      },
      "outputs": [],
      "source": [
        "import json\n",
        "from IPython.display import HTML\n",
        "import urllib.parse\n",
        "\n",
        "def download_json(variable, filename=\"data.json\"):\n",
        "    json_str = json.dumps(variable)\n",
        "    json_encoded = urllib.parse.quote(json_str)\n",
        "    href = f'<a href=\"data:text/json;charset=utf-8,{json_encoded}\" download=\"{filename}\">Télécharger {filename}</a>'\n",
        "    return HTML(href)\n"
      ]
    },
    {
      "cell_type": "code",
      "execution_count": 11,
      "id": "ogSefF3ZZZ_Q",
      "metadata": {
        "id": "ogSefF3ZZZ_Q"
      },
      "outputs": [],
      "source": [
        "def get_code(textId,sctCid,abrogated, date):\n",
        "  headers = {\"Authorization\": \"Bearer \" + access_token , \"Content-Type\": \"application/json\" }\n",
        "  BASE_URL = \"https://sandbox-api.piste.gouv.fr/dila/legifrance/lf-engine-app/consult/code\"\n",
        "  data = {\n",
        "    \"textId\": textId,         #\"LEGITEXT000006073984\",  # Code des assurances\n",
        "    \"sctCid\": sctCid,         #\"LEGIARTI000048769089\",  # ID article\n",
        "    \"abrogated\": abrogated,   # False,                # exclure les textes abrogés\n",
        "    \"date\":date  #\"2024-11-15\",              # Date de référence\n",
        "    }\n",
        "  response = requests.post(BASE_URL, json=data, headers=headers)\n",
        "  response_json = response.json()\n",
        "  return response_json"
      ]
    },
    {
      "cell_type": "code",
      "execution_count": null,
      "id": "XDRIkkenbTAt",
      "metadata": {
        "colab": {
          "base_uri": "https://localhost:8080/",
          "height": 34
        },
        "id": "XDRIkkenbTAt",
        "outputId": "a19d71f3-fc6b-471a-e62c-7f9862776441"
      },
      "outputs": [],
      "source": [
        "get_code(\"LEGITEXT000006073984\", \"LEGIARTI000042644804\",\"False\", \"2023-04-08\" )"
      ]
    },
    {
      "cell_type": "markdown",
      "id": "kExUZaWIjS7f",
      "metadata": {
        "id": "kExUZaWIjS7f"
      },
      "source": [
        "### 2.3 - Contenu  d'un article en fonction des versions /consult/getArticleByCid (Fait)\n"
      ]
    },
    {
      "cell_type": "markdown",
      "id": "tGAZCc8uox1s",
      "metadata": {
        "id": "tGAZCc8uox1s"
      },
      "source": [
        "Objectif : Alimenter le tableau avec le contenu des articles a travers deux fonctions:\n",
        "- La première récupère le contenu de l'article a la date d'entrée en vigueur\n",
        "- La deuxieme récupère le contenu de l'article a la date de fin\n",
        "\n"
      ]
    },
    {
      "cell_type": "markdown",
      "id": "OE9PoMN3mQTw",
      "metadata": {
        "id": "OE9PoMN3mQTw"
      },
      "source": [
        "#### 2.1.3.0 - Test function & debug"
      ]
    },
    {
      "cell_type": "markdown",
      "id": "SYIh4IxBkdYW",
      "metadata": {
        "id": "SYIh4IxBkdYW"
      },
      "source": [
        "Fonction qui test la récupération de la liste des articles par leur identifiant Cid en retournant le contenu et le message status_code\n",
        "\n",
        "Exemples identifiant Cid:\n",
        "\n",
        "- LEGIARTI000028443554 https://www.legifrance.gouv.fr/codes/article_lc/LEGIARTI000028443554/2014-01-01\n",
        "\n",
        "- LEGIARTI000028443552 https://www.legifrance.gouv.fr/codes/article_lc/LEGIARTI000028443552/2014-01-01\n",
        "\n"
      ]
    },
    {
      "cell_type": "code",
      "execution_count": 12,
      "id": "ND5LPa4brHd8",
      "metadata": {
        "id": "ND5LPa4brHd8"
      },
      "outputs": [],
      "source": [
        "def getArticle_ByCid_allversions_test(article_cid):\n",
        "  API_URL = 'https://sandbox-api.piste.gouv.fr/dila/legifrance/lf-engine-app/consult/getArticleByCid'\n",
        "  headers = {'Authorization': 'Bearer ' + access_token, 'Content-Type': 'application/json'}\n",
        "  data = { 'cid': article_cid }\n",
        "  response = requests.post(API_URL, json=data, headers=headers)\n",
        "  response_json = response.json()\n",
        "  return {\"contenu\": response.json(),\n",
        "          \"reponse status code \":response.status_code }"
      ]
    },
    {
      "cell_type": "code",
      "execution_count": 13,
      "id": "JdOxqaqArLkq",
      "metadata": {
        "id": "JdOxqaqArLkq"
      },
      "outputs": [
        {
          "data": {
            "text/plain": [
              "{'contenu': {'executionTime': 0, 'listArticle': []},\n",
              " 'reponse status code ': 200}"
            ]
          },
          "execution_count": 13,
          "metadata": {},
          "output_type": "execute_result"
        }
      ],
      "source": [
        "getArticle_ByCid_allversions_test(article_cid= \"LEGIARTI000038101111\")"
      ]
    },
    {
      "cell_type": "markdown",
      "id": "OAI26IB3J72Z",
      "metadata": {
        "id": "OAI26IB3J72Z"
      },
      "source": [
        "#### 2.1.3.1 - Get the last version of an article (by Cid)"
      ]
    },
    {
      "cell_type": "code",
      "execution_count": 14,
      "id": "EGTdJHk4Agjq",
      "metadata": {
        "id": "EGTdJHk4Agjq"
      },
      "outputs": [],
      "source": [
        "from datetime import datetime\n",
        "\n",
        "def format_date(timestamp_ms):\n",
        "    timestamp_s = timestamp_ms // 1000  # Convertir millisecondes en secondes\n",
        "    return datetime.utcfromtimestamp(timestamp_s).strftime('%Y-%m-%d')\n",
        "\n",
        "def getArticle_ByCid_last_version(article_cid):\n",
        "  API_URL = 'https://sandbox-api.piste.gouv.fr/dila/legifrance/lf-engine-app/consult/getArticleByCid'\n",
        "  headers = {'Authorization': 'Bearer ' + access_token, 'Content-Type': 'application/json'}\n",
        "  data = { 'cid': article_cid }\n",
        "  response = requests.post(API_URL, json=data, headers=headers)\n",
        "  response_json = response.json()\n",
        "  return {\"Date Debut:\" : format_date(response.json()['listArticle'][0]['dateDebut']),\n",
        "          \"Date Fin:\": format_date(response.json()['listArticle'][0]['dateFin']),\n",
        "          \"Version:\": response.json()['listArticle'][0]['versionArticle'],\n",
        "          \"Texte:\": response.json()['listArticle'][0]['texte']\n",
        "          }"
      ]
    },
    {
      "cell_type": "code",
      "execution_count": 16,
      "id": "M9rqsi2M-F7b",
      "metadata": {
        "colab": {
          "base_uri": "https://localhost:8080/"
        },
        "id": "M9rqsi2M-F7b",
        "outputId": "6a5dd443-2da2-4af5-b3f0-8be1014b56b7"
      },
      "outputs": [
        {
          "data": {
            "text/plain": [
              "{'Date Debut:': '2023-04-03',\n",
              " 'Date Fin:': '2999-01-01',\n",
              " 'Version:': '1.0',\n",
              " 'Texte:': \"La demande d'agrément est accompagnée des éléments suivants : 1° La convention constitutive signée par les représentants légaux de l'ensemble des entreprises d'assurance qui commercialisent, au moment du dépôt de la demande, des produits d'assurance contre les risques climatiques en agriculture bénéficiant de l'aide prévue au deuxième alinéa de l'article L. 361-4 du code rural et de la pêche maritime ; 2° Une analyse économique de l'impact du groupement sur le marché de la couverture des risques climatiques au regard de l'intensité concurrentielle du secteur assurantiel concerné et des gains économiques attendus pour les exploitants agricoles ; 3° L'avis de l'Autorité de la concurrence mentionné au III de l'article L. 442-1-2 ; 4° Un compte-rendu exhaustif ainsi que l'ensemble des contributions écrites de la consultation publique mentionnée à l'article L. 442-1-2.\"}"
            ]
          },
          "execution_count": 16,
          "metadata": {},
          "output_type": "execute_result"
        }
      ],
      "source": [
        "getArticle_ByCid_last_version(\"LEGIARTI000047390103\")"
      ]
    },
    {
      "cell_type": "markdown",
      "id": "9XJJGLzOKKFt",
      "metadata": {
        "id": "9XJJGLzOKKFt"
      },
      "source": [
        "#### 2.1.3.2 - Get all versions of an artcile (by Cid )"
      ]
    },
    {
      "cell_type": "code",
      "execution_count": 17,
      "id": "iCWDnsv_Eu1G",
      "metadata": {
        "id": "iCWDnsv_Eu1G"
      },
      "outputs": [],
      "source": [
        "import requests\n",
        "\n",
        "def get_articles_by_cid_all_versions(article_cid):\n",
        "    API_URL = 'https://sandbox-api.piste.gouv.fr/dila/legifrance/lf-engine-app/consult/getArticleByCid'\n",
        "    headers = {'Authorization': 'Bearer ' + access_token, 'Content-Type': 'application/json'}\n",
        "    data = {'cid': article_cid}\n",
        "\n",
        "    response = requests.post(API_URL, json=data, headers=headers)\n",
        "    response_json = response.json()\n",
        "\n",
        "    # Liste des articles récupérés\n",
        "    articles = response_json.get('listArticle', [])\n",
        "\n",
        "    # Résultats formatés\n",
        "    formatted_articles = []\n",
        "    for article in articles:\n",
        "        formatted_articles.append({\n",
        "            \"Date Debut\": format_date(article.get('dateDebut')),\n",
        "            \"Date Fin\": format_date(article.get('dateFin')),\n",
        "            \"Version\": article.get('versionArticle'),\n",
        "            \"Texte\": article.get('texte')\n",
        "        })\n",
        "\n",
        "    return formatted_articles\n"
      ]
    },
    {
      "cell_type": "code",
      "execution_count": 20,
      "id": "IKglqfGMEzZ1",
      "metadata": {
        "colab": {
          "base_uri": "https://localhost:8080/"
        },
        "id": "IKglqfGMEzZ1",
        "outputId": "7fda5baa-1e78-4038-ee79-5d58e2314248"
      },
      "outputs": [
        {
          "data": {
            "text/plain": [
              "[{'Date Debut': '2023-12-31',\n",
              "  'Date Fin': '2999-01-01',\n",
              "  'Version': '4.0',\n",
              "  'Texte': \"Le taux des contributions mentionnées à l'article L. 421-4-1 est fixé par arrêté du ministre chargé des assurances dans les limites suivantes : 1° Pour la contribution des assurés, ce taux est compris entre 0 % et 2 % des primes mentionnées au 1° du même article ; 2° Pour la contribution des entreprises d'assurance, ce taux est compris entre 0 % et 1 % des primes ou cotisations mentionnées au 2° du même article L. 421-4-1 ; 3° (abrogé) ; 4° Pour la contribution des responsables d'accidents non assurés, ce taux est fixé à 10 % des indemnités restant à leur charge. Toutefois, ce taux peut être ramené à 5 % lorsque l'accident a été provoqué par un véhicule utilisé par l'Etat ou par un Etat étranger. Il est également ramené à 5 % des indemnités restant à leur propre charge pour les bénéficiaires d'une assurance avec franchise.\"},\n",
              " {'Date Debut': '2018-12-31',\n",
              "  'Date Fin': '2023-12-31',\n",
              "  'Version': '3.0',\n",
              "  'Texte': 'Le taux des contributions mentionnées à l\\'article L. 421-4-1 est fixé par arrêté du ministre chargé des assurances dans les limites suivantes : 1° Pour la contribution des assurés, ce taux est compris entre 0 % et 2 % des primes mentionnées au 1° du même article ; 2° Pour la contribution des entreprises d\\'assurance au titre de la section \" automobile ”, ce taux est compris entre 0 % et 14 % de la totalité des charges de cette section ; 3° (abrogé) ; 4° Pour la contribution des responsables d\\'accidents non assurés, ce taux est fixé à 10 % des indemnités restant à leur charge. Toutefois, ce taux peut être ramené à 5 % lorsque l\\'accident a été provoqué par un véhicule utilisé par l\\'Etat ou par un Etat étranger. Il est également ramené à 5 % des indemnités restant à leur propre charge pour les bénéficiaires d\\'une assurance avec franchise.'},\n",
              " {'Date Debut': '2018-07-01',\n",
              "  'Date Fin': '2018-12-31',\n",
              "  'Version': '2.0',\n",
              "  'Texte': 'Le taux des contributions mentionnées à l\\'article L. 421-4-1 est fixé par arrêté du ministre chargé des assurances dans les limites suivantes : 1° Pour la contribution des assurés, ce taux est compris entre 0 % et 2 % des primes mentionnées au 1° du même article ; 2° Pour la contribution des entreprises d\\'assurance au titre de la section \" automobile ”, ce taux est compris entre 0 % et 12 % de la totalité des charges de cette section ; 3° (abrogé) ; 4° Pour la contribution des responsables d\\'accidents non assurés, ce taux est fixé à 10 % des indemnités restant à leur charge. Toutefois, ce taux peut être ramené à 5 % lorsque l\\'accident a été provoqué par un véhicule utilisé par l\\'Etat ou par un Etat étranger. Il est également ramené à 5 % des indemnités restant à leur propre charge pour les bénéficiaires d\\'une assurance avec franchise.'},\n",
              " {'Date Debut': '2014-01-01',\n",
              "  'Date Fin': '2018-07-01',\n",
              "  'Version': '1.0',\n",
              "  'Texte': 'Le taux des contributions mentionnées à l\\'article L. 421-4-1 est fixé par arrêté du ministre chargé des assurances dans les limites suivantes : 1° Pour la contribution des assurés, ce taux est compris entre 0 % et 2 % des primes mentionnées au 1° du même article ; 2° Pour la contribution des entreprises d\\'assurance au titre de la section \" automobile ”, ce taux est compris entre 0 % et 12 % de la totalité des charges de cette section ; 3° Pour la contribution des entreprises d\\'assurance au titre de la section \" Opérations du fonds de garantie résultant de la défaillance d\\'entreprises d\\'assurance dommages ” prévue au 3° dudit article, ce taux est compris entre 0 % et 12 % de la totalité des charges de cette section ; 4° Pour la contribution des responsables d\\'accidents non assurés, ce taux est fixé à 10 % des indemnités restant à leur charge. Toutefois, ce taux peut être ramené à 5 % lorsque l\\'accident a été provoqué par un véhicule utilisé par l\\'Etat ou par un Etat étranger. Il est également ramené à 5 % des indemnités restant à leur propre charge pour les bénéficiaires d\\'une assurance avec franchise.'}]"
            ]
          },
          "execution_count": 20,
          "metadata": {},
          "output_type": "execute_result"
        }
      ],
      "source": [
        "get_articles_by_cid_all_versions(\"LEGIARTI000028443554\")"
      ]
    },
    {
      "cell_type": "markdown",
      "id": "Px-dZDDcKPIp",
      "metadata": {
        "id": "Px-dZDDcKPIp"
      },
      "source": [
        "#### 2.1.3.3 - Get new article content by cid and implementation date for table"
      ]
    },
    {
      "cell_type": "markdown",
      "id": "tcdQrd0PvuVF",
      "metadata": {
        "id": "tcdQrd0PvuVF"
      },
      "source": [
        "Fonction pour remplissage de la premiere colonne du tableau qui correspond a la nouvelle version de l'article.\n",
        "\n",
        "La fonction prend en entrée deux paramètres l'identifiant de l'article (Cid) et la date d'entrée en vigueur (start_date).\n",
        "\n",
        "Attention : La fonction ne fonctionne pas pour tous les articles.  "
      ]
    },
    {
      "cell_type": "code",
      "execution_count": 22,
      "id": "nf5w7896FrSC",
      "metadata": {
        "id": "nf5w7896FrSC"
      },
      "outputs": [],
      "source": [
        "import requests\n",
        "from datetime import datetime\n",
        "\n",
        "def get_article_text_by_cid_and_implementDate(article_cid, start_date):\n",
        "    API_URL = 'https://sandbox-api.piste.gouv.fr/dila/legifrance/lf-engine-app/consult/getArticleByCid'\n",
        "    headers = {'Authorization': 'Bearer ' + access_token, 'Content-Type': 'application/json'}\n",
        "    data = {'cid': article_cid}\n",
        "\n",
        "    response = requests.post(API_URL, json=data, headers=headers)\n",
        "    response_json = response.json()\n",
        "\n",
        "    # Convertir la date en millisecondes depuis l'époque Unix\n",
        "    start_date_timestamp = int(datetime.strptime(start_date, \"%Y-%m-%d\").timestamp() * 1000)\n",
        "\n",
        "    # Parcourir les articles du tableau pour trouver une correspondance\n",
        "    articles = response_json.get('listArticle', []) # listArticle output json key de la requete\n",
        "    for article in articles:\n",
        "        if article.get('dateDebut') == start_date_timestamp:\n",
        "            return article.get('texte', \"Texte non disponible\")\n",
        "\n",
        "    # Si aucun article ne correspond\n",
        "    return \"Aucun article trouvé pour la date de début donnée.\"\n"
      ]
    },
    {
      "cell_type": "code",
      "execution_count": 24,
      "id": "RV-rXJUDJXhm",
      "metadata": {
        "colab": {
          "base_uri": "https://localhost:8080/",
          "height": 120
        },
        "collapsed": true,
        "id": "RV-rXJUDJXhm",
        "outputId": "a5e17072-6401-4c37-935c-1aafe25ff688"
      },
      "outputs": [
        {
          "data": {
            "text/plain": [
              "'Aucun article trouvé pour la date de début donnée.'"
            ]
          },
          "execution_count": 24,
          "metadata": {},
          "output_type": "execute_result"
        }
      ],
      "source": [
        "get_article_text_by_cid_and_implementDate(article_cid = \"LEGIARTI000038101111\",  start_date= \"2018-07-01\")\n",
        "# Ok : \"LEGIARTI000028443554\",  \"2018-07-01\"\n",
        "# KO : \"LEGIARTI000048656110\"  \"2023-12-23\""
      ]
    },
    {
      "cell_type": "markdown",
      "id": "R48cOPBY-ajA",
      "metadata": {
        "id": "R48cOPBY-ajA"
      },
      "source": [
        "#### 2.1.3.3 - Get old article content by cid and end date for table"
      ]
    },
    {
      "cell_type": "code",
      "execution_count": 21,
      "id": "cFCOZ9GBMyKL",
      "metadata": {
        "id": "cFCOZ9GBMyKL"
      },
      "outputs": [],
      "source": [
        "import requests\n",
        "from datetime import datetime\n",
        "\n",
        "def get_article_text_by_cid_and_end_date(article_cid, end_date):\n",
        "    API_URL = 'https://sandbox-api.piste.gouv.fr/dila/legifrance/lf-engine-app/consult/getArticleByCid'\n",
        "    headers = {'Authorization': 'Bearer ' + access_token, 'Content-Type': 'application/json'}\n",
        "    data = {'cid': article_cid}\n",
        "\n",
        "    response = requests.post(API_URL, json=data, headers=headers)\n",
        "    response_json = response.json()\n",
        "\n",
        "    # Convertir la date en millisecondes depuis l'époque Unix\n",
        "    end_date_timestamp = int(datetime.strptime(end_date, \"%d-%m-%Y\").timestamp() * 1000) #(ko: %Y-%m-%d ) (ko:\"%d-%m-%Y\" )\n",
        "\n",
        "    # Parcourir les articles pour trouver une correspondance\n",
        "    articles = response_json.get('listArticle', [])\n",
        "    for article in articles:\n",
        "        if article.get('dateFin') == end_date_timestamp:\n",
        "            return article.get('texte', \"Texte non disponible\")\n",
        "\n",
        "    # Si aucun article ne correspond\n",
        "    return \"Aucun article trouvé pour la date de début donnée.\""
      ]
    },
    {
      "cell_type": "code",
      "execution_count": 22,
      "id": "WgLfevr7AXiF",
      "metadata": {
        "colab": {
          "base_uri": "https://localhost:8080/",
          "height": 35
        },
        "id": "WgLfevr7AXiF",
        "outputId": "e96d047f-64b4-4a43-e2fb-da1e43de49b0"
      },
      "outputs": [
        {
          "data": {
            "text/plain": [
              "'Aucun article trouvé pour la date de début donnée.'"
            ]
          },
          "execution_count": 22,
          "metadata": {},
          "output_type": "execute_result"
        }
      ],
      "source": [
        "get_article_text_by_cid_and_end_date(\"LEGIARTI000048243369\",\"25-10-2023\") #KO :\"LEGIARTI000046918899\",\"2023-11-01\""
      ]
    },
    {
      "cell_type": "markdown",
      "id": "yxCfK3WSq1Zt",
      "metadata": {
        "id": "yxCfK3WSq1Zt"
      },
      "source": [
        "### 2.4 - Contenu d'un dossier législatif JORF /consult/dossierLegislatif (Fait)\n",
        "\n"
      ]
    },
    {
      "cell_type": "markdown",
      "id": "mYIfYN6XrDCg",
      "metadata": {
        "id": "mYIfYN6XrDCg"
      },
      "source": [
        "Récupère le contenu d'un dossier legislatif par son identifiant.\n",
        "\n",
        "Input : Identifiant technique du dossier législatif \"id\": \"JORFDOLE000038049286\"\n",
        "\n"
      ]
    },
    {
      "cell_type": "code",
      "execution_count": 25,
      "id": "OjwleYvmBzuf",
      "metadata": {
        "id": "OjwleYvmBzuf"
      },
      "outputs": [],
      "source": [
        "import requests\n",
        "import json\n",
        "\n",
        "def dossierLegislatif(id): #JORFDOLE000038049286 \n",
        "\theaders = {'accept': 'application/json','Content-Type': 'application/json','Authorization': 'Bearer ' + access_token}\n",
        "\turl = 'https://sandbox-api.piste.gouv.fr/dila/legifrance/lf-engine-app/consult/dossierLegislatif'\n",
        "\tdata = {\"id\":id}\n",
        "\treponse = requests.post(headers = headers , url= url, json= data)\n",
        "\treponse_json = reponse.json()\n",
        "\treturn reponse_json"
      ]
    },
    {
      "cell_type": "code",
      "execution_count": 52,
      "id": "NG_0S5cCKJ6Y",
      "metadata": {
        "colab": {
          "base_uri": "https://localhost:8080/"
        },
        "id": "NG_0S5cCKJ6Y",
        "outputId": "dd3ef10f-4a89-470d-b5e7-bcbe5f261111"
      },
      "outputs": [
        {
          "data": {
            "text/plain": [
              "{'executionTime': 0, 'dereferenced': False, 'dossierLegislatif': None}"
            ]
          },
          "execution_count": 52,
          "metadata": {},
          "output_type": "execute_result"
        }
      ],
      "source": [
        "dossierLegislatif(\"JORFTEXT000030677073\")"
      ]
    },
    {
      "cell_type": "markdown",
      "id": "A1VgNyPQGs7z",
      "metadata": {
        "id": "A1VgNyPQGs7z"
      },
      "source": [
        "### 2.5 - Contenu texte fonds LEGI /consult/legiPart ( Fait )\n"
      ]
    },
    {
      "cell_type": "markdown",
      "id": "j8NQlctmGrLf",
      "metadata": {
        "id": "j8NQlctmGrLf"
      },
      "source": [
        "\n",
        "Récupère des informations précises sur des articles de loi, des codes ou d'autres textes juridiques a partir d'identifiant (\"textId\") et de sa date de vigueur:"
      ]
    },
    {
      "cell_type": "code",
      "execution_count": 26,
      "id": "j5Fhig8HL9I5",
      "metadata": {
        "id": "j5Fhig8HL9I5"
      },
      "outputs": [],
      "source": [
        "def legipart(textId, date): # LEGITEXT000006075116 2021-04-15\n",
        "  url = 'https://sandbox-api.piste.gouv.fr/dila/legifrance/lf-engine-app/consult/legiPart'\n",
        "  headers = {'accept': 'application/json','Content-Type': 'application/json', 'Authorization': 'Bearer ' + access_token}\n",
        "  data = { #\"searchedString\":\"constitution 1958\",\n",
        "        \"date\": date,\n",
        "        \"textId\":textId }\n",
        "  response = requests.post(url= url, headers =headers, json= data )\n",
        "  return response.json()"
      ]
    },
    {
      "cell_type": "code",
      "execution_count": null,
      "id": "7dSFFG1yMZbE",
      "metadata": {
        "id": "7dSFFG1yMZbE"
      },
      "outputs": [],
      "source": [
        "legipart(\"LEGIARTI000038101111\", \"2021-04-15\") "
      ]
    },
    {
      "cell_type": "markdown",
      "id": "IMppn_qND6VS",
      "metadata": {
        "id": "IMppn_qND6VS"
      },
      "source": [
        "### 2.6 - Consult JORF"
      ]
    },
    {
      "cell_type": "markdown",
      "id": "-CbWyEadEOVG",
      "metadata": {
        "id": "-CbWyEadEOVG"
      },
      "source": [
        "Pour trouver et récup JORF ordonnance\n",
        "Exemple: https://www.legifrance.gouv.fr/jorf/id/JORFTEXT000042636234\n"
      ]
    },
    {
      "cell_type": "code",
      "execution_count": 54,
      "id": "wczZNBkEES4j",
      "metadata": {
        "id": "wczZNBkEES4j"
      },
      "outputs": [],
      "source": [
        "def getJOFR(textCid :str): #JORFTEXT000042636234\n",
        "  url= 'https://sandbox-api.piste.gouv.fr/dila/legifrance/lf-engine-app/consult/jorf'\n",
        "  headers= {'accept': 'application/json',\n",
        "\t\t'Content-Type': 'application/json',\n",
        "\t\t'Authorization': 'Bearer ' + access_token}\n",
        "  data= {\"searchedString\":\"\",\"textCid\":textCid}\n",
        "  response = requests.post( headers =headers, url= url, json= data )\n",
        "  response_json = response.json()\n",
        "  return response_json"
      ]
    },
    {
      "cell_type": "code",
      "execution_count": null,
      "id": "cqte6I8wLEx_",
      "metadata": {
        "id": "cqte6I8wLEx_"
      },
      "outputs": [],
      "source": [
        "getJOFR(\"JORFTEXT000030677073\")"
      ]
    },
    {
      "cell_type": "markdown",
      "id": "geWagcxfIeEI",
      "metadata": {
        "id": "geWagcxfIeEI"
      },
      "source": [
        "### 2.7 - Contenu d'un article /consult/getArticle (Fait)\n"
      ]
    },
    {
      "cell_type": "markdown",
      "id": "LgZ-OUAhk2cf",
      "metadata": {
        "id": "LgZ-OUAhk2cf"
      },
      "source": [
        "Récupère un article par son identifiant (article id)\n",
        "\n",
        "id : ID unique de la version de l'article pour accéder directement à une version particulière (historique ou active).\n",
        "\n"
      ]
    },
    {
      "cell_type": "markdown",
      "id": "UVc3PpBmt9Jr",
      "metadata": {
        "id": "UVc3PpBmt9Jr"
      },
      "source": [
        "#### Get article and metadata\n"
      ]
    },
    {
      "cell_type": "code",
      "execution_count": 29,
      "id": "d-Lc5MK-t7n6",
      "metadata": {
        "id": "d-Lc5MK-t7n6"
      },
      "outputs": [],
      "source": [
        "def getArticle_metadata(id : str):\n",
        "  headers= {'accept': 'application/json','Content-Type': 'application/json','Authorization': 'Bearer ' + access_token}\n",
        "  url = 'https://sandbox-api.piste.gouv.fr/dila/legifrance/lf-engine-app/consult/getArticle'\n",
        "  data = {\"id\":id}\n",
        "  response= requests.post(url=url,  headers=headers, json = data)\n",
        "  return {\"num\":  response.json()[\"article\"]['num'],\n",
        "          \"etat\": response.json()[\"article\"]['etat'],\n",
        "         \"Text\" : response.json()[\"article\"]['texte']}\n"
      ]
    },
    {
      "cell_type": "code",
      "execution_count": 30,
      "id": "nfKDeOBJuel4",
      "metadata": {
        "id": "nfKDeOBJuel4"
      },
      "outputs": [
        {
          "data": {
            "text/plain": [
              "{'num': 'L421-4-1',\n",
              " 'etat': 'VIGUEUR',\n",
              " 'Text': \"Les contributions pour l'alimentation du fonds de garantie mentionnées à l'article L. 421-4 sont ainsi définies : 1° La contribution des assurés est assise sur toutes les primes ou cotisations nettes qu'ils versent aux entreprises d'assurance pour l'assurance des risques de responsabilité civile résultant d'accidents causés par les véhicules terrestres à moteur et des remorques ou semi-remorques des véhicules lorsque le risque est situé sur le territoire de la République française. Elle est perçue par les entreprises d'assurance suivant les mêmes règles et sous les mêmes garanties et sanctions que la taxe sur les conventions d'assurance prévue à l'article 991 du code général des impôts. Elle est recouvrée mensuellement par le fonds de garantie ; 2° La contribution des entreprises d'assurance est assise sur toutes les primes ou cotisations nettes qu'elles perçoivent pour l'assurance des risques de responsabilité civile résultant d'accidents causés par les véhicules terrestres à moteur et les remorques ou semi-remorques des véhicules lorsque le risque est situé sur le territoire de la République française. Elle est acquittée par les entreprises d'assurance suivant les mêmes règles et sous les mêmes garanties et sanctions que la taxe sur les conventions d'assurance prévue au même article 991. Elle est recouvrée mensuellement par le fonds de garantie ; 3° (Abrogé) ; 4° (Abrogé) ; 5° La contribution des responsables d'accidents causés par l'utilisation des véhicules définis au 1° du présent article, non bénéficiaires d'une assurance, est assise sur le montant total des indemnités mises à leur charge à titre de réparation des dommages résultant de ces accidents. Sont considérées comme bénéficiaires d'une assurance, au sens du présent article, les personnes dont la responsabilité civile est couverte par un contrat d'assurance dans les conditions prévues à l'article L. 211-1 . Un tel bénéfice ne leur est toutefois acquis, au sens du présent article, que pour la part excédant la franchise prévue éventuellement par leur contrat en application de l'article L. 121-1 . En cas d'instance judiciaire, la décision doit faire apparaître si le responsable est ou non bénéficiaire d'une assurance. La contribution est liquidée et recouvrée par les services de la direction générale des finances publiques, selon les mêmes règles, sous les mêmes garanties et sous les mêmes sanctions qu'en matière de droits d'enregistrement. Elle est perçue sur la notification faite à cette direction par le fonds de garantie. La contribution doit être acquittée dans le délai d'un mois à compter de la réclamation adressée par la direction générale des finances publiques.\"}"
            ]
          },
          "execution_count": 30,
          "metadata": {},
          "output_type": "execute_result"
        }
      ],
      "source": [
        "getArticle_metadata(\"LEGIARTI000048844359\")\n",
        "# OK: LEGIARTI000048243369, LEGIARTI000048656110 , LEGIARTI000006812142"
      ]
    },
    {
      "cell_type": "markdown",
      "id": "zkl_H5QUt18Z",
      "metadata": {
        "id": "zkl_H5QUt18Z"
      },
      "source": [
        "#### Get content of previous version of an article (function for the 2de column)\n"
      ]
    },
    {
      "cell_type": "code",
      "execution_count": 31,
      "id": "ctYphphysUfj",
      "metadata": {
        "id": "ctYphphysUfj"
      },
      "outputs": [],
      "source": [
        "def getArticle_prev_vers(id : str):\n",
        "  headers= {'accept': 'application/json','Content-Type': 'application/json','Authorization': 'Bearer ' + access_token}\n",
        "  url = 'https://sandbox-api.piste.gouv.fr/dila/legifrance/lf-engine-app/consult/getArticle'\n",
        "  data = {\"id\":id}\n",
        "  response= requests.post(url=url,  headers=headers, json = data)\n",
        "  nouvel_id= response.json()['article']['articleVersions'][-2]['id']\n",
        "  nouveau_data = {\"id\":nouvel_id}\n",
        "  response_nouvelle= requests.post(url=url,  headers=headers, json = nouveau_data)\n",
        "  response_json= response_nouvelle.json()\n",
        "  return response_json[\"article\"]['texte']"
      ]
    },
    {
      "cell_type": "code",
      "execution_count": 32,
      "id": "JLmss0udTzB8",
      "metadata": {
        "id": "JLmss0udTzB8"
      },
      "outputs": [],
      "source": [
        "import requests\n",
        "def getArticle_prev_vers(id: str):\n",
        "    headers = {\n",
        "        'accept': 'application/json',\n",
        "        'Content-Type': 'application/json',\n",
        "        'Authorization': 'Bearer ' + access_token\n",
        "    }\n",
        "    url = 'https://sandbox-api.piste.gouv.fr/dila/legifrance/lf-engine-app/consult/getArticle'\n",
        "\n",
        "    try:\n",
        "        # Requête initiale pour obtenir les versions de l'article\n",
        "        data = {\"id\": id}\n",
        "        response = requests.post(url=url, headers=headers, json=data)\n",
        "\n",
        "        # Vérification du code de statut HTTP\n",
        "        if response.status_code != 200:\n",
        "            return \"KO status_code\"\n",
        "\n",
        "        # Extraction des données de l'article\n",
        "        article = response.json().get(\"article\", {})\n",
        "        article_versions = article.get(\"articleVersions\", [])\n",
        "\n",
        "        # Vérification de l'existence d'une version précédente\n",
        "        if len(article_versions) < 2:\n",
        "            return \"KO version précédente\"\n",
        "\n",
        "        # Récupération de l'ID de la version précédente\n",
        "        nouvel_id = article_versions[-2].get(\"id\")\n",
        "        if not nouvel_id:\n",
        "            return \"KO absence ID de la version précédente \"\n",
        "\n",
        "        # Requête pour la version précédente\n",
        "        nouveau_data = {\"id\": nouvel_id}\n",
        "        response_nouvelle = requests.post(url=url, headers=headers, json=nouveau_data)\n",
        "\n",
        "        # Vérification du code de statut HTTP pour la seconde requête\n",
        "        if response_nouvelle.status_code != 200:\n",
        "            return \"KO status_code HTTP seconde requête\"\n",
        "\n",
        "        # Extraction des données de la version précédente\n",
        "        response_json = response_nouvelle.json()\n",
        "        texte = response_json.get(\"article\", {}).get(\"texte\")\n",
        "\n",
        "        # Vérification si le texte de l'article existe\n",
        "        return texte if texte else \"KO\"\n",
        "\n",
        "    except Exception as e:\n",
        "        # Gestion des exceptions (problème de connexion, JSON invalide, etc.)\n",
        "        print(f\"Erreur : {e}\")\n",
        "        return \"KO\"\n"
      ]
    },
    {
      "cell_type": "code",
      "execution_count": 72,
      "id": "1G1yNQMUtEk0",
      "metadata": {
        "colab": {
          "base_uri": "https://localhost:8080/",
          "height": 137
        },
        "id": "1G1yNQMUtEk0",
        "outputId": "fb3aca47-5da9-4bc9-e442-0e16ad39b235"
      },
      "outputs": [
        {
          "data": {
            "text/plain": [
              "\"Les contributions pour l'alimentation du fonds de garantie mentionnées à l'article L. 421-4 sont ainsi définies : 1° La contribution des assurés est assise sur toutes les primes ou cotisations nettes qu'ils versent aux entreprises d'assurance pour l'assurance des risques de responsabilité civile résultant d'accidents causés par les véhicules terrestres à moteur et des remorques ou semi-remorques des véhicules lorsque le risque est situé sur le territoire de la République française. Elle est perçue par les entreprises d'assurance suivant les mêmes règles et sous les mêmes garanties et sanctions que la taxe sur les conventions d'assurance prévue à l'article 991 du code général des impôts. Elle est recouvrée mensuellement par le fonds de garantie ; 2° La contribution des entreprises d'assurance est proportionnelle aux primes ou cotisations du dernier exercice, accessoires et rappels compris et annulations déduites, relatives à l'assurance des véhicules terrestres à moteur et des remorques ou semi-remorques des véhicules lorsque le risque est situé sur le territoire de la République française. Elle est acquittée par les entreprises d'assurance suivant les mêmes règles et sous les mêmes garanties et sanctions que la taxe sur les conventions d'assurance prévue au même article 991. Elle est recouvrée mensuellement par le fonds de garantie ; 3° (Abrogé) ; 4° (Abrogé) ; 5° La contribution des responsables d'accidents causés par l'utilisation des véhicules définis au 1° du présent article, non bénéficiaires d'une assurance, est assise sur le montant total des indemnités mises à leur charge à titre de réparation des dommages résultant de ces accidents. Sont considérées comme bénéficiaires d'une assurance, au sens du présent article, les personnes dont la responsabilité civile est couverte par un contrat d'assurance dans les conditions prévues à l'article L. 211-1 . Un tel bénéfice ne leur est toutefois acquis, au sens du présent article, que pour la part excédant la franchise prévue éventuellement par leur contrat en application de l'article L. 121-1 . En cas d'instance judiciaire, la décision doit faire apparaître si le responsable est ou non bénéficiaire d'une assurance. La contribution est liquidée et recouvrée par les services de la direction générale des finances publiques, selon les mêmes règles, sous les mêmes garanties et sous les mêmes sanctions qu'en matière de droits d'enregistrement. Elle est perçue sur la notification faite à cette direction par le fonds de garantie. La contribution doit être acquittée dans le délai d'un mois à compter de la réclamation adressée par la direction générale des finances publiques.\""
            ]
          },
          "execution_count": 72,
          "metadata": {},
          "output_type": "execute_result"
        }
      ],
      "source": [
        "getArticle_prev_vers(\"LEGIARTI000048844359\")\n",
        "# OK: LEGIARTI000048243369, LEGIARTI000048656110 , LEGIARTI000006812142"
      ]
    },
    {
      "cell_type": "markdown",
      "id": "SheyNAiHA9fO",
      "metadata": {
        "id": "SheyNAiHA9fO"
      },
      "source": [
        "#### Get content new version of an article (function for the 1srt column)\n"
      ]
    },
    {
      "cell_type": "code",
      "execution_count": 34,
      "id": "78vZdFA1A8rH",
      "metadata": {
        "id": "78vZdFA1A8rH"
      },
      "outputs": [],
      "source": [
        "def getArticle(id : str):\n",
        "  headers= {'accept': 'application/json','Content-Type': 'application/json','Authorization': 'Bearer ' + access_token}\n",
        "  url = 'https://sandbox-api.piste.gouv.fr/dila/legifrance/lf-engine-app/consult/getArticle'\n",
        "  data = {\"id\":id}\n",
        "  response= requests.post(url=url,  headers=headers, json = data)\n",
        "  return response.json()[\"article\"]['texte']\n"
      ]
    },
    {
      "cell_type": "code",
      "execution_count": 35,
      "id": "eWYpnc2dBInq",
      "metadata": {
        "colab": {
          "base_uri": "https://localhost:8080/",
          "height": 137
        },
        "id": "eWYpnc2dBInq",
        "outputId": "dee1c364-616a-4f2e-9bc3-261293350f54"
      },
      "outputs": [
        {
          "data": {
            "text/plain": [
              "\"Les contributions pour l'alimentation du fonds de garantie mentionnées à l'article L. 421-4 sont ainsi définies : 1° La contribution des assurés est assise sur toutes les primes ou cotisations nettes qu'ils versent aux entreprises d'assurance pour l'assurance des risques de responsabilité civile résultant d'accidents causés par les véhicules terrestres à moteur et des remorques ou semi-remorques des véhicules lorsque le risque est situé sur le territoire de la République française. Elle est perçue par les entreprises d'assurance suivant les mêmes règles et sous les mêmes garanties et sanctions que la taxe sur les conventions d'assurance prévue à l'article 991 du code général des impôts. Elle est recouvrée mensuellement par le fonds de garantie ; 2° La contribution des entreprises d'assurance est assise sur toutes les primes ou cotisations nettes qu'elles perçoivent pour l'assurance des risques de responsabilité civile résultant d'accidents causés par les véhicules terrestres à moteur et les remorques ou semi-remorques des véhicules lorsque le risque est situé sur le territoire de la République française. Elle est acquittée par les entreprises d'assurance suivant les mêmes règles et sous les mêmes garanties et sanctions que la taxe sur les conventions d'assurance prévue au même article 991. Elle est recouvrée mensuellement par le fonds de garantie ; 3° (Abrogé) ; 4° (Abrogé) ; 5° La contribution des responsables d'accidents causés par l'utilisation des véhicules définis au 1° du présent article, non bénéficiaires d'une assurance, est assise sur le montant total des indemnités mises à leur charge à titre de réparation des dommages résultant de ces accidents. Sont considérées comme bénéficiaires d'une assurance, au sens du présent article, les personnes dont la responsabilité civile est couverte par un contrat d'assurance dans les conditions prévues à l'article L. 211-1 . Un tel bénéfice ne leur est toutefois acquis, au sens du présent article, que pour la part excédant la franchise prévue éventuellement par leur contrat en application de l'article L. 121-1 . En cas d'instance judiciaire, la décision doit faire apparaître si le responsable est ou non bénéficiaire d'une assurance. La contribution est liquidée et recouvrée par les services de la direction générale des finances publiques, selon les mêmes règles, sous les mêmes garanties et sous les mêmes sanctions qu'en matière de droits d'enregistrement. Elle est perçue sur la notification faite à cette direction par le fonds de garantie. La contribution doit être acquittée dans le délai d'un mois à compter de la réclamation adressée par la direction générale des finances publiques.\""
            ]
          },
          "execution_count": 35,
          "metadata": {},
          "output_type": "execute_result"
        }
      ],
      "source": [
        "getArticle(\"LEGIARTI000048844359\")"
      ]
    },
    {
      "cell_type": "code",
      "execution_count": 36,
      "id": "-g1Q1n80DwOY",
      "metadata": {
        "id": "-g1Q1n80DwOY"
      },
      "outputs": [],
      "source": [
        "import requests\n",
        "\n",
        "def getArticle(id: str):\n",
        "    headers = {\n",
        "        'accept': 'application/json',\n",
        "        'Content-Type': 'application/json',\n",
        "        'Authorization': 'Bearer ' + access_token\n",
        "    }\n",
        "    url = 'https://sandbox-api.piste.gouv.fr/dila/legifrance/lf-engine-app/consult/getArticle'\n",
        "    data = {\"id\": id}\n",
        "\n",
        "    try:\n",
        "        response = requests.post(url=url, headers=headers, json=data)\n",
        "        # Vérification du statut HTTP\n",
        "        if response.status_code != 200:\n",
        "            return \"KO Status Code\"\n",
        "\n",
        "        # Extraction des données\n",
        "        article = response.json().get(\"article\", {})\n",
        "\n",
        "        # Vérification si le texte de l'article est présent\n",
        "        if \"texte\" in article:\n",
        "            return article[\"texte\"]\n",
        "        else:\n",
        "            return \"KO article pas trouvé\"\n",
        "\n",
        "    except Exception as e:\n",
        "        # Gestion des exceptions (erreur de connexion, JSON invalide, etc.)\n",
        "        print(f\"Erreur : {e}\")\n",
        "        return \"KO autre\"\n"
      ]
    },
    {
      "cell_type": "markdown",
      "id": "4JHi8f8C_sjI",
      "metadata": {
        "id": "4JHi8f8C_sjI"
      },
      "source": [
        "### 2.8 - Extrait d'une version d'un texte  /chrono/textCidAndElementCid (Fait - pas utilisé)\n",
        "\n",
        "Récupère un extrait (section ou article) d'une version spécifique d'un texte à partir des identifiants du texte (textCid) et de l'extrait section ou article: \"elementCid\"\n",
        "\n",
        "Remarque : absence de contenu d'article dans la réponse"
      ]
    },
    {
      "cell_type": "code",
      "execution_count": 37,
      "id": "tFuhfoJtO5RZ",
      "metadata": {
        "id": "tFuhfoJtO5RZ"
      },
      "outputs": [],
      "source": [
        "def textCidAndElementCid(textCid, elementCid): # text cid: LEGITEXT000006072050 Element Cid LEGIARTI000006901817\n",
        "  url = \"https://sandbox-api.piste.gouv.fr/dila/legifrance/lf-engine-app/chrono/textCidAndElementCid\"\n",
        "  headers = {\n",
        "      'accept': 'application/json',\n",
        "      'Content-Type': 'application/json',\n",
        "      'Authorization': 'Bearer ' + access_token}\n",
        "  data = { \"textCid\": textCid, # code du travail\n",
        "    \"elementCid\": elementCid # Article L2262-8\n",
        "  }\n",
        "  response = requests.post(url, headers=headers, json= data)\n",
        "  response_json= response.json()\n",
        "  return response_json"
      ]
    },
    {
      "cell_type": "code",
      "execution_count": 38,
      "id": "-x07rAnZBwgG",
      "metadata": {
        "id": "-x07rAnZBwgG"
      },
      "outputs": [],
      "source": [
        "# Test 1: \"textCid\": \"LEGITEXT000006070721\" Code Civil, \"elementCid\": \"LEGIARTI000038033084\" -> NA\n",
        "# Test 2: \"textCid\": \"LEGITEXT000006070721\" Code Civil , \"elementCid\": \"LEGIARTI000006417324\" -> NA\n",
        "# Test 3 : \"textCid\": \"LEGITEXT000006072050\" Code du Travail + Article L1221-1 \"elementCid\": \"LEGIARTI000006901817\" -> ok\n",
        "# https://www.legifrance.gouv.fr/codes/article_lc/LEGIARTI000006900839"
      ]
    },
    {
      "cell_type": "code",
      "execution_count": 39,
      "id": "CDytBSryvo_t",
      "metadata": {
        "id": "CDytBSryvo_t"
      },
      "outputs": [
        {
          "data": {
            "text/plain": [
              "{'executionTime': 0,\n",
              " 'regroupements': [{'title': '2008',\n",
              "   'versions': {'2008-05-01': {'dateDebut': 1209600000000,\n",
              "     'isEndVersion': False,\n",
              "     'articlesModificateurs': {'JORFTEXT000000465978': {'title': 'Ordonnance 2007-329 2007-03-12 JORF 13 mars 2007',\n",
              "       'id': 'JORFTEXT000000465978',\n",
              "       'nature': 'CODE',\n",
              "       'dateDebutCible': 32472144000000,\n",
              "       'actions': {'CODIFICATION': {'action': 'CODIFICATION',\n",
              "         'parents': {'LEGISCTA000006189538': {'name': 'Section 2 : Information et communication.',\n",
              "           'id': 'LEGISCTA000006189538',\n",
              "           'cid': 'LEGISCTA000006189538',\n",
              "           'cidText': 'LEGITEXT000006072050',\n",
              "           'nature': 'CODE',\n",
              "           'dateDebut': 1209600000000,\n",
              "           'articlesCibles': {'LEGIARTI000006901817': {'name': 'L2262-8',\n",
              "             'id': 'LEGIARTI000006901817',\n",
              "             'cid': 'LEGIARTI000006901817',\n",
              "             'idParent': 'LEGISCTA000006189538',\n",
              "             'cidParent': 'LEGISCTA000006189538',\n",
              "             'cidText': 'LEGITEXT000006072050',\n",
              "             'sens': None,\n",
              "             'nature': 'CODE',\n",
              "             'path': 'LEGITEXT000006072050/LEGISCTA000006112874/LEGISCTA000006132331/LEGISCTA000006145398/LEGISCTA000006160736/LEGISCTA000006177939/LEGISCTA000006189538/LEGIARTI000006901817',\n",
              "             'dateDebut': 1209600000000,\n",
              "             'dateFin': 32472144000000}},\n",
              "           'sectionsCibles': {},\n",
              "           'texteCible': None}}}}}}}},\n",
              "   'detailLoaded': True}],\n",
              " 'datePublication': '2999-01-01T00:00:00.000+0000'}"
            ]
          },
          "execution_count": 39,
          "metadata": {},
          "output_type": "execute_result"
        }
      ],
      "source": [
        "textCidAndElementCid(\"LEGITEXT000006072050\", 'LEGIARTI000006901817')"
      ]
    },
    {
      "cell_type": "markdown",
      "id": "3jLAm5WeK6bT",
      "metadata": {
        "id": "3jLAm5WeK6bT"
      },
      "source": [
        "### 2.9 - Récupère une version (plage de dates) d'un texte (textCid) et version en vigueur (date) (Fait)\n",
        "\n",
        "\n"
      ]
    },
    {
      "cell_type": "markdown",
      "id": "Ko-uldnb5ap8",
      "metadata": {
        "id": "Ko-uldnb5ap8"
      },
      "source": [
        "Exemple:\n",
        "\n",
        "- Consulter le texte spécifié par textCid (\"LEGITEXT000006070721\").\n",
        "\n",
        "- Voir les versions de ce texte entre 2015 et 2023\n"
      ]
    },
    {
      "cell_type": "markdown",
      "id": "RpyVH336PGe7",
      "metadata": {
        "id": "RpyVH336PGe7"
      },
      "source": [
        "#### 2.9.1 - Test function output status code and json file keys"
      ]
    },
    {
      "cell_type": "code",
      "execution_count": 40,
      "id": "zOSItmR8dW_a",
      "metadata": {
        "id": "zOSItmR8dW_a"
      },
      "outputs": [],
      "source": [
        "def get_text_modif_byDateslot_textCid_test(textCid, startYear, endYear): #LEGITEXT000006073984 code des assurances\n",
        "  headers = { 'accept': 'application/json', 'Content-Type': 'application/json', 'Authorization': 'Bearer ' + access_token}\n",
        "  data = {  \"endYear\": endYear,  #\"dateConsult\": \"2021-04-15\",\n",
        "  \"startYear\": startYear,\n",
        "  \"textCid\": textCid  }\n",
        "  url = 'https://sandbox-api.piste.gouv.fr/dila/legifrance/lf-engine-app/chrono/textCid'\n",
        "  response = requests.post(url, headers=headers, json=data)\n",
        "  response_json= response.json()\n",
        "  return {\"status code : \": print(response),\n",
        "  \"keys : \": response_json.keys()}"
      ]
    },
    {
      "cell_type": "code",
      "execution_count": null,
      "id": "06inPnVKjj4m",
      "metadata": {
        "id": "06inPnVKjj4m"
      },
      "outputs": [
        {
          "name": "stdout",
          "output_type": "stream",
          "text": [
            "<Response [200]>\n"
          ]
        },
        {
          "data": {
            "text/plain": [
              "{'status code : ': None,\n",
              " 'keys : ': dict_keys(['executionTime', 'regroupements', 'datePublication'])}"
            ]
          },
          "execution_count": 41,
          "metadata": {},
          "output_type": "execute_result"
        }
      ],
      "source": [
        "get_text_modif_byDateslot_textCid_test(textCid= \"LEGITEXT000006072026\",\n",
        "                                  startYear= \"2019\",\n",
        "                                  endYear= \"2021\" )"
      ]
    },
    {
      "cell_type": "markdown",
      "id": "xkhk_aMnuaIH",
      "metadata": {
        "id": "xkhk_aMnuaIH"
      },
      "source": [
        "#### 2.9.2 - Central Function to extract code content"
      ]
    },
    {
      "cell_type": "code",
      "execution_count": 81,
      "id": "RD2C4Pvoux9d",
      "metadata": {
        "id": "RD2C4Pvoux9d"
      },
      "outputs": [],
      "source": [
        "def get_text_modif_byDateslot_textCid_extract_content(textCid, startYear, endYear): #LEGITEXT000006073984 code des assurances\n",
        "  headers = { 'accept': 'application/json', 'Content-Type': 'application/json', 'Authorization': 'Bearer ' + access_token}\n",
        "  data = {  \"endYear\": endYear,  #\"dateConsult\": \"2021-04-15\",\n",
        "  \"startYear\": startYear,\n",
        "  \"textCid\": textCid  }\n",
        "  url = 'https://sandbox-api.piste.gouv.fr/dila/legifrance/lf-engine-app/chrono/textCid'\n",
        "  response = requests.post(url, headers=headers, json=data)\n",
        "  response_json= response.json()\n",
        "  return  response_json"
      ]
    },
    {
      "cell_type": "code",
      "execution_count": 100,
      "id": "pgd3R2Seu1f8",
      "metadata": {
        "id": "pgd3R2Seu1f8"
      },
      "outputs": [],
      "source": [
        "data_json_2_2_3 = get_text_modif_byDateslot_textCid_extract_content(textCid= \"LEGITEXT000006072026\",\n",
        "                                  startYear= \"2019\",\n",
        "                                  endYear= \"2021\")"
      ]
    },
    {
      "cell_type": "code",
      "execution_count": null,
      "id": "Qwjznd3c0PUZ",
      "metadata": {
        "id": "Qwjznd3c0PUZ"
      },
      "outputs": [],
      "source": [
        "data_json_2_2_3"
      ]
    },
    {
      "cell_type": "markdown",
      "id": "LWsFqdg_3Syu",
      "metadata": {
        "id": "LWsFqdg_3Syu"
      },
      "source": [
        "#### 2.9.3 - Data pipeline 1: Data Print"
      ]
    },
    {
      "cell_type": "code",
      "execution_count": 45,
      "id": "3TCk4wFg0b5D",
      "metadata": {
        "id": "3TCk4wFg0b5D"
      },
      "outputs": [
        {
          "name": "stdout",
          "output_type": "stream",
          "text": [
            "Année : 2023\n",
            "  Version du 2023-12-31:\n",
            "    Date de début cible entrée en vigueur: 2023-12-31\n",
            "    Est la dernière version : Non\n",
            "    Articles modificateurs :\n",
            "  Version du 2023-12-30:\n",
            "    Date de début cible entrée en vigueur: 2023-12-30\n",
            "    Est la dernière version : Non\n",
            "    Articles modificateurs :\n",
            "  Version du 2023-12-08:\n",
            "    Date de début cible entrée en vigueur: 2023-12-08\n",
            "    Est la dernière version : Non\n",
            "    Articles modificateurs :\n",
            "  Version du 2023-12-01:\n",
            "    Date de début cible entrée en vigueur: 2023-12-01\n",
            "    Est la dernière version : Non\n",
            "    Articles modificateurs :\n",
            "  Version du 2023-10-26:\n",
            "    Date de début cible entrée en vigueur: 2023-10-26\n",
            "    Est la dernière version : Non\n",
            "    Articles modificateurs :\n",
            "  Version du 2023-10-25:\n",
            "    Date de début cible entrée en vigueur: 2023-10-25\n",
            "    Est la dernière version : Non\n",
            "    Articles modificateurs :\n",
            "  Version du 2023-10-15:\n",
            "    Date de début cible entrée en vigueur: 2023-10-15\n",
            "    Est la dernière version : Non\n",
            "    Articles modificateurs :\n",
            "  Version du 2023-10-01:\n",
            "    Date de début cible entrée en vigueur: 2023-10-01\n",
            "    Est la dernière version : Non\n",
            "    Articles modificateurs :\n",
            "  Version du 2023-09-01:\n",
            "    Date de début cible entrée en vigueur: 2023-09-01\n",
            "    Est la dernière version : Non\n",
            "    Articles modificateurs :\n",
            "  Version du 2023-07-22:\n",
            "    Date de début cible entrée en vigueur: 2023-07-22\n",
            "    Est la dernière version : Non\n",
            "    Articles modificateurs :\n",
            "  Version du 2023-07-20:\n",
            "    Date de début cible entrée en vigueur: 2023-07-20\n",
            "    Est la dernière version : Non\n",
            "    Articles modificateurs :\n",
            "  Version du 2023-07-17:\n",
            "    Date de début cible entrée en vigueur: 2023-07-17\n",
            "    Est la dernière version : Non\n",
            "    Articles modificateurs :\n",
            "  Version du 2023-07-15:\n",
            "    Date de début cible entrée en vigueur: 2023-07-15\n",
            "    Est la dernière version : Non\n",
            "    Articles modificateurs :\n",
            "  Version du 2023-06-11:\n",
            "    Date de début cible entrée en vigueur: 2023-06-11\n",
            "    Est la dernière version : Non\n",
            "    Articles modificateurs :\n",
            "  Version du 2023-06-03:\n",
            "    Date de début cible entrée en vigueur: 2023-06-03\n",
            "    Est la dernière version : Non\n",
            "    Articles modificateurs :\n",
            "  Version du 2023-05-26:\n",
            "    Date de début cible entrée en vigueur: 2023-05-26\n",
            "    Est la dernière version : Non\n",
            "    Articles modificateurs :\n",
            "  Version du 2023-05-17:\n",
            "    Date de début cible entrée en vigueur: 2023-05-17\n",
            "    Est la dernière version : Non\n",
            "    Articles modificateurs :\n",
            "  Version du 2023-05-07:\n",
            "    Date de début cible entrée en vigueur: 2023-05-07\n",
            "    Est la dernière version : Non\n",
            "    Articles modificateurs :\n",
            "  Version du 2023-03-11:\n",
            "    Date de début cible entrée en vigueur: 2023-03-11\n",
            "    Est la dernière version : Non\n",
            "    Articles modificateurs :\n",
            "  Version du 2023-02-23:\n",
            "    Date de début cible entrée en vigueur: 2023-02-23\n",
            "    Est la dernière version : Non\n",
            "    Articles modificateurs :\n",
            "  Version du 2023-02-19:\n",
            "    Date de début cible entrée en vigueur: 2023-02-19\n",
            "    Est la dernière version : Non\n",
            "    Articles modificateurs :\n",
            "  Version du 2023-02-06:\n",
            "    Date de début cible entrée en vigueur: 2023-02-06\n",
            "    Est la dernière version : Non\n",
            "    Articles modificateurs :\n",
            "  Version du 2023-02-01:\n",
            "    Date de début cible entrée en vigueur: 2023-02-01\n",
            "    Est la dernière version : Non\n",
            "    Articles modificateurs :\n",
            "  Version du 2023-01-01:\n",
            "    Date de début cible entrée en vigueur: 2023-01-01\n",
            "    Est la dernière version : Non\n",
            "    Articles modificateurs :\n"
          ]
        }
      ],
      "source": [
        "from datetime import datetime as dt\n",
        "# Data cleaning\n",
        "annee_recherchee = \"2023\"\n",
        "resultat = \"\"\n",
        "\n",
        "# Vérifier la présence du champ 'regroupements' et l’analyser\n",
        "for group_1 in data_json_2_2_3['regroupements']:  # Parcours regroupement d'années : list de dictionnaires\n",
        "    if group_1['title'] == annee_recherchee:  # Filtre pour l'année recherchée\n",
        "        print(f\"Année : {group_1['title']}\")\n",
        "        #resultat = resultat+ group_1['title'] + \"n\"\n",
        "\n",
        "        # Parcours de chaque version de texte pour l'année courante\n",
        "        for version_date, version_data in group_1['versions'].items():\n",
        "            # Convertir le timestamp en une date lisible\n",
        "            date_debut = dt.fromtimestamp(version_data['dateDebut'] / 1000).strftime('%Y-%m-%d')\n",
        "\n",
        "            print(f\"  Version du {version_date}:\")\n",
        "            print(f\"    Date de début cible entrée en vigueur: {date_debut}\")\n",
        "            print(f\"    Est la dernière version : {'Oui' if version_data['isEndVersion'] else 'Non'}\")\n",
        "\n",
        "            # Affichage des articles modificateurs\n",
        "            print(\"    Articles modificateurs :\")\n",
        "            for article_id, article_data in version_data['articlesModificateurs'].items():\n",
        "                print(f\"      - ID : {article_id}\")\n",
        "                print(f\"        Titre : {article_data['title']}\")\n",
        "                print(f\"        Nature : {article_data['nature']}\")\n",
        "                date_debut_cible = dt.fromtimestamp(article_data['dateDebutCible'] / 1000).strftime('%Y-%m-%d')\n",
        "                print(f\"        Date de début cible : {date_debut_cible}\")\n",
        "\n",
        "                # Affichage des actions et des parents si disponibles\n",
        "                if 'actions' in article_data:\n",
        "                    for action_type, action_details in article_data['actions'].items():\n",
        "                        print(f\"        Action : {action_type}\")\n",
        "\n",
        "                        if 'parents' in action_details:\n",
        "                            print(\"        Parents :\")\n",
        "                            for parent_id, parent_data in action_details['parents'].items():\n",
        "                                print(f\"          - ID parent  : {parent_id}\")\n",
        "                                print(f\"            Nom parent : {parent_data['name']}\")\n",
        "                                print(f\"            CID parent : {parent_data['cid']}\")\n",
        "                                if 'articlesCibles' in parent_data:\n",
        "                                    print(\"            Articles cibles :\")\n",
        "                                    for cible_id, cible_data in parent_data['articlesCibles'].items():\n",
        "                                        print(f\"              - ID :{cible_id} - Article N° {cible_data['name']}\")\n",
        "                                        print(f\"                    Date de début : {dt.fromtimestamp(cible_data['dateDebut'] / 1000).strftime('%Y-%m-%d')}\")\n",
        "                                        print(f\"                    Date de fin : {dt.fromtimestamp(cible_data['dateFin'] / 1000).strftime('%Y-%m-%d')}\")\n",
        "\n"
      ]
    },
    {
      "cell_type": "markdown",
      "id": "njPlsLs8MBDY",
      "metadata": {
        "id": "njPlsLs8MBDY"
      },
      "source": [
        "#### 2.9.4 - Data pipeline 2: To pd.DataFrame"
      ]
    },
    {
      "cell_type": "code",
      "execution_count": 46,
      "id": "_359HwTVgsNC",
      "metadata": {
        "id": "_359HwTVgsNC"
      },
      "outputs": [],
      "source": [
        "from datetime import datetime\n",
        "\n",
        "def convert_timestamp(timestamp):\n",
        "    \"\"\"\n",
        "    Convertit un timestamp en millisecondes en une date lisible (YYYY-MM-DD).\n",
        "    \"\"\"\n",
        "    if timestamp is None:\n",
        "        return None\n",
        "    return datetime.utcfromtimestamp(timestamp / 1000).strftime('%Y-%m-%d')\n"
      ]
    },
    {
      "cell_type": "code",
      "execution_count": 47,
      "id": "5s8IYSaPFDmj",
      "metadata": {
        "id": "5s8IYSaPFDmj"
      },
      "outputs": [],
      "source": [
        "import pandas as pd\n",
        "def transform_json_to_dataframe(data):\n",
        "    \"\"\"\n",
        "    Transforme le JSON en DataFrame structuré avec les colonnes demandées.\n",
        "    \"\"\"\n",
        "    rows = []\n",
        "\n",
        "    for regroupement in data[\"regroupements\"]:\n",
        "        year = regroupement[\"title\"]\n",
        "        for version, version_data in regroupement[\"versions\"].items():\n",
        "            date_debut_version = convert_timestamp(version_data.get(\"dateDebut\"))\n",
        "            is_last_version = version_data.get(\"isEndVersion\", False)\n",
        "            articles_modificateurs = version_data.get(\"articlesModificateurs\", {})\n",
        "\n",
        "            for article_id, article_data in articles_modificateurs.items():\n",
        "                title_article = article_data.get(\"title\")\n",
        "                nature_article = article_data.get(\"nature\")\n",
        "                date_debut_cible_article = convert_timestamp(article_data.get(\"dateDebutCible\"))\n",
        "                actions = article_data.get(\"actions\", {})\n",
        "\n",
        "                for action_type, action_data in actions.items():\n",
        "                    parents = action_data.get(\"parents\", {})\n",
        "                    for parent_id, parent_data in parents.items():\n",
        "                        parent_name = parent_data.get(\"name\")\n",
        "                        parent_cid = parent_data.get(\"cid\")\n",
        "                        articles_cibles = parent_data.get(\"articlesCibles\", {})\n",
        "\n",
        "                        for article_cible_id, article_cible_data in articles_cibles.items():\n",
        "                            article_cible_name = article_cible_data.get(\"name\")\n",
        "                            article_cible_date_debut = convert_timestamp(article_cible_data.get(\"dateDebut\"))\n",
        "                            article_cible_date_fin = convert_timestamp(article_cible_data.get(\"dateFin\"))\n",
        "\n",
        "                            # Ajouter une ligne au tableau\n",
        "                            rows.append({\n",
        "                                \"Année\": year,\n",
        "                                \"Version du\": version,\n",
        "                                \"Date de début cible d'entrée en vigueur\": date_debut_version,\n",
        "                                \"Est la dernière version\": is_last_version,\n",
        "                                \"ID Article Modificateur\": article_id,\n",
        "                                \"Titre Article Modificateur\": title_article,\n",
        "                                \"Nature Article Modificateur\": nature_article,\n",
        "                                \"Date de début cible Article Modificateur\": date_debut_cible_article,\n",
        "                                \"Action Article Modificateur\": action_type,\n",
        "                                \"ID Parent\": parent_id,\n",
        "                                \"Nom Parent\": parent_name,\n",
        "                                \"CID Parent\": parent_cid,\n",
        "                                \"ID Article Cible\": article_cible_id,\n",
        "                                \"Titre Article Cible\": article_cible_name,\n",
        "                                \"Date de début (Article Cible)\": article_cible_date_debut,\n",
        "                                \"Date de fin (Article Cible)\": article_cible_date_fin\n",
        "                            })\n",
        "\n",
        "    return pd.DataFrame(rows)\n"
      ]
    },
    {
      "cell_type": "code",
      "execution_count": 102,
      "id": "RsgumAMc6vTA",
      "metadata": {
        "id": "RsgumAMc6vTA"
      },
      "outputs": [],
      "source": [
        "df_2_2_3 = transform_json_to_dataframe(data_json_2_2_3)"
      ]
    },
    {
      "cell_type": "code",
      "execution_count": 103,
      "id": "8mXoht2aRjcH",
      "metadata": {
        "id": "8mXoht2aRjcH"
      },
      "outputs": [],
      "source": [
        "def pandas_to_excel(df):\n",
        "  df.to_excel('output.xlsx')\n",
        "  return"
      ]
    },
    {
      "cell_type": "code",
      "execution_count": 104,
      "id": "m5mk8HdhRtUr",
      "metadata": {
        "colab": {
          "base_uri": "https://localhost:8080/",
          "height": 17
        },
        "id": "m5mk8HdhRtUr",
        "outputId": "bcb32a27-d1b6-4f43-dc6c-486bb608677e"
      },
      "outputs": [],
      "source": [
        "pandas_to_excel(df_2_2_3)"
      ]
    },
    {
      "cell_type": "markdown",
      "id": "9LTkOKDfU508",
      "metadata": {
        "id": "9LTkOKDfU508"
      },
      "source": [
        "# 3 - Concatenating all"
      ]
    },
    {
      "cell_type": "markdown",
      "id": "7QRFqJty-ta-",
      "metadata": {
        "id": "7QRFqJty-ta-"
      },
      "source": [
        "Adding new columns by applying function 1 & 2"
      ]
    },
    {
      "cell_type": "code",
      "execution_count": 105,
      "id": "9tCrSjBVU7kN",
      "metadata": {
        "id": "9tCrSjBVU7kN"
      },
      "outputs": [
        {
          "data": {
            "text/plain": [
              "Index(['Année', 'Version du', 'Date de début cible d'entrée en vigueur',\n",
              "       'Est la dernière version', 'ID Article Modificateur',\n",
              "       'Titre Article Modificateur', 'Nature Article Modificateur',\n",
              "       'Date de début cible Article Modificateur',\n",
              "       'Action Article Modificateur', 'ID Parent', 'Nom Parent', 'CID Parent',\n",
              "       'ID Article Cible', 'Titre Article Cible',\n",
              "       'Date de début (Article Cible)', 'Date de fin (Article Cible)'],\n",
              "      dtype='object')"
            ]
          },
          "execution_count": 105,
          "metadata": {},
          "output_type": "execute_result"
        }
      ],
      "source": [
        "df_2_2_3.columns"
      ]
    },
    {
      "cell_type": "code",
      "execution_count": 65,
      "id": "e0e9ad84",
      "metadata": {},
      "outputs": [],
      "source": [
        "# STEP 1: add column 1 content of new version of articles \n",
        "# Utilisation du call API getArticle\n",
        "\n",
        "def ajout_col_coutenu_NV(df):\n",
        "    df['Contenu_Nouv_Vers_Article'] = df.apply( lambda x: getArticle(x['ID Article Cible']), axis=1)\n",
        "    return display(df['Contenu_Nouv_Vers_Article'])"
      ]
    },
    {
      "cell_type": "code",
      "execution_count": null,
      "id": "554031b0",
      "metadata": {},
      "outputs": [],
      "source": [
        "# Temps d'attente important envir 10 min - 20 min\n",
        "ajout_col_coutenu_NV(df_2_2_3)"
      ]
    },
    {
      "cell_type": "code",
      "execution_count": 76,
      "id": "2006075d",
      "metadata": {},
      "outputs": [],
      "source": [
        "# STEP 2: add column 2 content of old version of articles\n",
        "# Utilisation du call API getArticle_prev_vers\n",
        "\n",
        "def ajout_col_AV(df):\n",
        "    df['Contenu_Ancien_Article'] = df.apply( lambda x: getArticle_prev_vers(x['ID Article Cible']), axis=1)\n",
        "    return display(df['Contenu_Ancien_Article']) "
      ]
    },
    {
      "cell_type": "code",
      "execution_count": 107,
      "id": "2eb00f52",
      "metadata": {},
      "outputs": [
        {
          "data": {
            "text/plain": [
              "0       I. – A droit à l'ouverture d'un compte de dépô...\n",
              "1                                   KO version précédente\n",
              "2       I. – Pour l'application de l'article L. 561-24...\n",
              "3       I.-Sont applicables en Nouvelle-Calédonie, sou...\n",
              "4       I.-Sont applicables en Polynésie française, so...\n",
              "                              ...                        \n",
              "2030    Le droit fixe dû au titre du I de l'article L....\n",
              "2031    I. – Les fonds d'investissement de proximité s...\n",
              "2032    I. – Sont applicables en Nouvelle-Calédonie le...\n",
              "2033    I. – Sont applicables en Polynésie française l...\n",
              "2034    I.-Sont applicables dans les îles Wallis et Fu...\n",
              "Name: Contenu_Ancien_Article, Length: 2035, dtype: object"
            ]
          },
          "metadata": {},
          "output_type": "display_data"
        }
      ],
      "source": [
        "# Temps d'attente important envir 20 min \n",
        "ajout_col_AV(df_2_2_3)"
      ]
    },
    {
      "cell_type": "code",
      "execution_count": 108,
      "id": "10818dbb",
      "metadata": {},
      "outputs": [],
      "source": [
        "# STEP 3: add column 3 comparing old vs new version :\n",
        "\n",
        "def compare_AV_vs_NV(df):\n",
        "    df['Compare contenu'] = df.apply(\n",
        "    lambda row: \"Contenu Similaire\" if row['Contenu_Nouv_Vers_Article'] == row['Contenu_Ancien_Article'] else \"OK change\",\n",
        "    axis=1)\n",
        "    return print(df['Compare contenu'])"
      ]
    },
    {
      "cell_type": "code",
      "execution_count": 109,
      "id": "f1f70a4a",
      "metadata": {},
      "outputs": [
        {
          "name": "stdout",
          "output_type": "stream",
          "text": [
            "0               OK change\n",
            "1               OK change\n",
            "2               OK change\n",
            "3       Contenu Similaire\n",
            "4       Contenu Similaire\n",
            "              ...        \n",
            "2030            OK change\n",
            "2031            OK change\n",
            "2032            OK change\n",
            "2033            OK change\n",
            "2034            OK change\n",
            "Name: Compare contenu, Length: 2035, dtype: object\n"
          ]
        }
      ],
      "source": [
        "compare_AV_vs_NV(df_2_2_3)"
      ]
    },
    {
      "cell_type": "code",
      "execution_count": 80,
      "id": "be08c152",
      "metadata": {},
      "outputs": [],
      "source": [
        "# Final result : exporting to excel \n",
        "pandas_to_excel(df_2_2_3)"
      ]
    }
  ],
  "metadata": {
    "colab": {
      "collapsed_sections": [
        "LWsFqdg_3Syu",
        "njPlsLs8MBDY",
        "ublc1-VTMQv3",
        "FLBGyptx4qN8",
        "shneJ3pu1JGg"
      ],
      "provenance": []
    },
    "kernelspec": {
      "display_name": "Python 3.13.1 (env)",
      "language": "python",
      "name": "mon-env"
    },
    "language_info": {
      "codemirror_mode": {
        "name": "ipython",
        "version": 3
      },
      "file_extension": ".py",
      "mimetype": "text/x-python",
      "name": "python",
      "nbconvert_exporter": "python",
      "pygments_lexer": "ipython3",
      "version": "3.13.1"
    }
  },
  "nbformat": 4,
  "nbformat_minor": 5
}
